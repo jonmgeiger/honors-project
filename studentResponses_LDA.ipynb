{
 "cells": [
  {
   "cell_type": "markdown",
   "id": "858aa1c0",
   "metadata": {},
   "source": [
    "# Analyzing Student Responses to Circuits Questions using Latent Dirichlet Allocation\n",
    "\n",
    "### Jon Geiger\n",
    "\n",
    "## I. Introduction: Topic Modeling for Student Reponses in Physics\n",
    "\n",
    "In this notebook, we will perform a machine learning analysis of student responses to a particular conceptual question about circuits in undergraduate physics. \n",
    "\n",
    "We will be using Latent Dirichlet Allocation (LDA) to pull out topics, which should represent student ideas. Much of the code and process for this analysis can be credited to Tor Odden and Allesandro Marin at the University of Oslo, who have graciously provided a Jupyter Notebook outlining the process of cleaning and modeling data from 18 years' worth of PERC proceedings (https://github.com/uio-ccse/PERC_TopicModel). Changes have been made as necessary, and certain modeling techniques have been excluded, such as the time variance of topics, as well as providing exemplary documents for each modeled topic. "
   ]
  },
  {
   "cell_type": "markdown",
   "id": "3677169a",
   "metadata": {},
   "source": [
    "## II. Data Cleaning and Preparation"
   ]
  },
  {
   "cell_type": "markdown",
   "id": "4e501f4a",
   "metadata": {},
   "source": [
    "### Importing Packages"
   ]
  },
  {
   "cell_type": "code",
   "execution_count": 1,
   "id": "7d6bf818",
   "metadata": {},
   "outputs": [
    {
     "data": {
      "text/html": [
       "<style>.container { width:90% !important; }</style>"
      ],
      "text/plain": [
       "<IPython.core.display.HTML object>"
      ]
     },
     "metadata": {},
     "output_type": "display_data"
    }
   ],
   "source": [
    "# Natural Language Processing Libraries\n",
    "import gensim\n",
    "#from gensim.parsing.preprocessing import STOPWORDS\n",
    "from gensim.corpora.dictionary import Dictionary\n",
    "from sklearn.feature_extraction.text import CountVectorizer\n",
    "#import nltk\n",
    "#from nltk.corpus import wordnet\n",
    "#from nltk import pos_tag\n",
    "#nltk.download('wordnet',quiet=True)\n",
    "#nltk.download('punkt',quiet=True)   #required by word_tokenize method\n",
    "#nltk.download('averaged_perceptron_tagger',quiet=True) #required by pos_tag method\n",
    "\n",
    "# Plotting tools\n",
    "#import pyLDAvis\n",
    "#import pyLDAvis.gensim_models  # don't skip this\n",
    "\n",
    "# Print out  all expressions\n",
    "from IPython.core.interactiveshell import InteractiveShell\n",
    "InteractiveShell.ast_node_interactivity = \"all\" #default 'last_expr'\n",
    "from IPython.core.display import display, HTML\n",
    "display(HTML(\"<style>.container { width:90% !important; }</style>\")) \n",
    "\n",
    "# Import usual data analysis tools\n",
    "import pandas as pd\n",
    "import matplotlib.pyplot as plt\n",
    "%matplotlib inline\n",
    "import numpy as np\n",
    "\n",
    "import warnings\n",
    "warnings.filterwarnings(\"ignore\", category=DeprecationWarning);"
   ]
  },
  {
   "cell_type": "markdown",
   "id": "fb51d7c4",
   "metadata": {},
   "source": [
    "### Data Cleaning"
   ]
  },
  {
   "cell_type": "code",
   "execution_count": null,
   "id": "04e21002",
   "metadata": {},
   "outputs": [],
   "source": []
  },
  {
   "cell_type": "markdown",
   "id": "237e34c4",
   "metadata": {},
   "source": [
    "### Filtering the Data"
   ]
  },
  {
   "cell_type": "code",
   "execution_count": null,
   "id": "c59caebd",
   "metadata": {},
   "outputs": [],
   "source": []
  },
  {
   "cell_type": "markdown",
   "id": "da2b5cdc",
   "metadata": {},
   "source": [
    "### Initial Investigation (Optional)"
   ]
  },
  {
   "cell_type": "code",
   "execution_count": null,
   "id": "eb6ab760",
   "metadata": {},
   "outputs": [],
   "source": []
  },
  {
   "cell_type": "markdown",
   "id": "7deec7c3",
   "metadata": {},
   "source": [
    "### Preparing for Modeling"
   ]
  },
  {
   "cell_type": "code",
   "execution_count": null,
   "id": "0b8e228c",
   "metadata": {},
   "outputs": [],
   "source": []
  },
  {
   "cell_type": "markdown",
   "id": "a9348920",
   "metadata": {},
   "source": [
    "## III. Topic Modeling"
   ]
  },
  {
   "cell_type": "markdown",
   "id": "86bc3f67",
   "metadata": {},
   "source": [
    "### Training the Model"
   ]
  },
  {
   "cell_type": "code",
   "execution_count": null,
   "id": "1ce89704",
   "metadata": {},
   "outputs": [],
   "source": []
  },
  {
   "cell_type": "markdown",
   "id": "2c9cfaec",
   "metadata": {},
   "source": [
    "### Evaluating Model Coherence"
   ]
  },
  {
   "cell_type": "code",
   "execution_count": null,
   "id": "03019800",
   "metadata": {},
   "outputs": [],
   "source": []
  },
  {
   "cell_type": "markdown",
   "id": "9a295bb8",
   "metadata": {},
   "source": [
    "### Dominant Topic in each Document (optional)"
   ]
  },
  {
   "cell_type": "code",
   "execution_count": null,
   "id": "8b24d524",
   "metadata": {},
   "outputs": [],
   "source": []
  },
  {
   "cell_type": "markdown",
   "id": "46aa35b8",
   "metadata": {},
   "source": [
    "### Representative Document for each Topic (optional)"
   ]
  },
  {
   "cell_type": "code",
   "execution_count": null,
   "id": "70caa8ba",
   "metadata": {},
   "outputs": [],
   "source": []
  }
 ],
 "metadata": {
  "kernelspec": {
   "display_name": "Python 3 (ipykernel)",
   "language": "python",
   "name": "python3"
  },
  "language_info": {
   "codemirror_mode": {
    "name": "ipython",
    "version": 3
   },
   "file_extension": ".py",
   "mimetype": "text/x-python",
   "name": "python",
   "nbconvert_exporter": "python",
   "pygments_lexer": "ipython3",
   "version": "3.9.5"
  }
 },
 "nbformat": 4,
 "nbformat_minor": 5
}
