{
 "cells": [
  {
   "cell_type": "markdown",
   "id": "858aa1c0",
   "metadata": {},
   "source": [
    "# Analyzing Student Responses to Circuits Questions using Latent Dirichlet Allocation\n",
    "\n",
    "### Jon Geiger\n",
    "\n",
    "## I. Introduction: Topic Modeling for Student Reponses in Physics\n",
    "\n",
    "In this notebook, we will perform a machine learning analysis of student responses to a particular conceptual question about circuits in undergraduate physics. \n",
    "\n",
    "We will be using Latent Dirichlet Allocation (LDA) to pull out topics, which should represent student ideas. Much of the code and process for this analysis can be credited to Tor Odden and Allesandro Marin at the University of Oslo, who have graciously provided a Jupyter Notebook outlining the process of cleaning and modeling data from 18 years' worth of PERC proceedings (https://github.com/uio-ccse/PERC_TopicModel). Changes have been made as necessary, and certain modeling techniques have been excluded, such as the time variance of topics, as well as providing exemplary documents for each modeled topic. "
   ]
  },
  {
   "cell_type": "markdown",
   "id": "3677169a",
   "metadata": {},
   "source": [
    "## II. Data Cleaning and Preparation"
   ]
  },
  {
   "cell_type": "markdown",
   "id": "4e501f4a",
   "metadata": {},
   "source": [
    "### Setting Notebook Options"
   ]
  },
  {
   "cell_type": "code",
   "execution_count": 1,
   "id": "2a43e160",
   "metadata": {},
   "outputs": [
    {
     "data": {
      "text/html": [
       "<style>.container { width:95% !important; }</style>"
      ],
      "text/plain": [
       "<IPython.core.display.HTML object>"
      ]
     },
     "metadata": {},
     "output_type": "display_data"
    }
   ],
   "source": [
    "# Print out all expressions\n",
    "from IPython.core.interactiveshell import InteractiveShell\n",
    "InteractiveShell.ast_node_interactivity = \"all\"\n",
    "# Wider Cells\n",
    "from IPython.display import display, HTML\n",
    "display(HTML(\"<style>.container { width:95% !important; }</style>\"))\n",
    "# Ignore some warnings\n",
    "import warnings\n",
    "warnings.filterwarnings(\"ignore\", category=DeprecationWarning);"
   ]
  },
  {
   "cell_type": "markdown",
   "id": "85d2179e",
   "metadata": {},
   "source": [
    "### Importing Packages"
   ]
  },
  {
   "cell_type": "code",
   "execution_count": 2,
   "id": "90882444",
   "metadata": {},
   "outputs": [
    {
     "data": {
      "text/plain": [
       "True"
      ]
     },
     "execution_count": 2,
     "metadata": {},
     "output_type": "execute_result"
    },
    {
     "data": {
      "text/plain": [
       "True"
      ]
     },
     "execution_count": 2,
     "metadata": {},
     "output_type": "execute_result"
    },
    {
     "data": {
      "text/plain": [
       "True"
      ]
     },
     "execution_count": 2,
     "metadata": {},
     "output_type": "execute_result"
    },
    {
     "data": {
      "text/plain": [
       "True"
      ]
     },
     "execution_count": 2,
     "metadata": {},
     "output_type": "execute_result"
    }
   ],
   "source": [
    "# General Packages\n",
    "import pandas as pd\n",
    "import numpy as np\n",
    "import matplotlib.pyplot as plt\n",
    "%matplotlib inline\n",
    "import re\n",
    "\n",
    "# NLP Packages\n",
    "import gensim\n",
    "from gensim.parsing.preprocessing import STOPWORDS\n",
    "from gensim.corpora import Dictionary\n",
    "\n",
    "import nltk\n",
    "from nltk.corpus import wordnet\n",
    "from nltk import pos_tag\n",
    "\n",
    "# Download NLTK data\n",
    "nltk.download('wordnet', quiet = True)\n",
    "nltk.download('punkt', quiet = True) \n",
    "nltk.download('averaged_perceptron_tagger', quiet = True)\n",
    "nltk.download('omw-1.4', quiet = True)\n",
    "\n",
    "# Custom Helper Functions\n",
    "from helper_functions import plot_freq_dist,get_top_n_words,plot_words_freq"
   ]
  },
  {
   "cell_type": "markdown",
   "id": "fb51d7c4",
   "metadata": {},
   "source": [
    "### Importing and Cleaning Data\n",
    "\n",
    "For the purposes of our investigation, we found that many student reponses included some form of the equation of Ohm's Law. These took the three distinct forms of $V=IR$, $I=V/R$, and $R=V/I$. Because all of these represent student ideas, we will treat each of them as a \"word\" in our analysis. "
   ]
  },
  {
   "cell_type": "code",
   "execution_count": 3,
   "id": "04e21002",
   "metadata": {},
   "outputs": [
    {
     "data": {
      "text/html": [
       "<div>\n",
       "<style scoped>\n",
       "    .dataframe tbody tr th:only-of-type {\n",
       "        vertical-align: middle;\n",
       "    }\n",
       "\n",
       "    .dataframe tbody tr th {\n",
       "        vertical-align: top;\n",
       "    }\n",
       "\n",
       "    .dataframe thead th {\n",
       "        text-align: right;\n",
       "    }\n",
       "</style>\n",
       "<table border=\"1\" class=\"dataframe\">\n",
       "  <thead>\n",
       "    <tr style=\"text-align: right;\">\n",
       "      <th></th>\n",
       "      <th>resp</th>\n",
       "    </tr>\n",
       "  </thead>\n",
       "  <tbody>\n",
       "    <tr>\n",
       "      <th>0</th>\n",
       "      <td>Circuit 2 has a larger battery that has a grea...</td>\n",
       "    </tr>\n",
       "    <tr>\n",
       "      <th>1</th>\n",
       "      <td>If the voltage is increased but resistance rem...</td>\n",
       "    </tr>\n",
       "    <tr>\n",
       "      <th>2</th>\n",
       "      <td>Current is equal to charge over time. Move vol...</td>\n",
       "    </tr>\n",
       "    <tr>\n",
       "      <th>3</th>\n",
       "      <td>An increase in voltage indicates an increase i...</td>\n",
       "    </tr>\n",
       "    <tr>\n",
       "      <th>4</th>\n",
       "      <td>Voltage is the change in electric potential. C...</td>\n",
       "    </tr>\n",
       "  </tbody>\n",
       "</table>\n",
       "</div>"
      ],
      "text/plain": [
       "                                                resp\n",
       "0  Circuit 2 has a larger battery that has a grea...\n",
       "1  If the voltage is increased but resistance rem...\n",
       "2  Current is equal to charge over time. Move vol...\n",
       "3  An increase in voltage indicates an increase i...\n",
       "4  Voltage is the change in electric potential. C..."
      ]
     },
     "execution_count": 3,
     "metadata": {},
     "output_type": "execute_result"
    }
   ],
   "source": [
    "df = pd.read_csv('compare_bulbs.csv', names = ['ID', 'resp'])\n",
    "df.drop(columns = ['ID'], inplace = True)\n",
    "df.head(5)"
   ]
  },
  {
   "cell_type": "code",
   "execution_count": 4,
   "id": "48a40b03",
   "metadata": {},
   "outputs": [],
   "source": [
    "def ML_process(text): \n",
    "    filt_text = text\n",
    "    \n",
    "    # Clean up equations\n",
    "    filt_text = re.sub('(V|v)\\s?=\\s?(I|i)\\s?\\*?\\s?(R|r)', 'VequalsItimesR', filt_text)\n",
    "    filt_text = re.sub('(I|i)\\s?=\\s?(V|v)\\s?/\\s?(R|r)', 'IequalsVoverR', filt_text)\n",
    "    filt_text = re.sub('(R|r)\\s?=\\s?(V|v)\\s?/\\s?(I|i)', 'RequalsVoverI', filt_text)\n",
    "    #filt_text = re.sub('\\s?=\\s?', '=', filt_text)\n",
    "    \n",
    "    # Replace variables with names outside of equations\n",
    "    filt_text = re.sub('\\s(V|v)\\s', ' voltage ', filt_text)\n",
    "    filt_text = re.sub('\\s(R|r)\\s', ' resistance ', filt_text)  \n",
    "    # can't do this with current because 'I' is a pronoun\n",
    "    \n",
    "    # Remove quotes, commas, periods, parentheses\n",
    "    filt_text = re.sub('[\",\\.\\(\\)]', '', filt_text)\n",
    "    # Remove single quotes\n",
    "    filt_text = re.sub(\"'\", '', filt_text)\n",
    "    \n",
    "    \n",
    "\n",
    "    return filt_text\n",
    "\n",
    "df['replaced'] = df.resp.map(lambda x: ML_process(x))"
   ]
  },
  {
   "cell_type": "markdown",
   "id": "9624d2f4",
   "metadata": {},
   "source": [
    "Let's process our data and look at an example of what the cleaning process did. "
   ]
  },
  {
   "cell_type": "code",
   "execution_count": 5,
   "id": "60b0ef02",
   "metadata": {},
   "outputs": [
    {
     "data": {
      "text/plain": [
       "\"More voltage leads to greater current as when rearranged, Ohm's law is I = V/R, so if V increases, I will also increase.  I manipulate the mathematical model in order to get a specific set of conditions in order to solve the problem.\""
      ]
     },
     "execution_count": 5,
     "metadata": {},
     "output_type": "execute_result"
    },
    {
     "data": {
      "text/plain": [
       "'More voltage leads to greater current as when rearranged Ohms law is IequalsVoverR so if voltage increases I will also increase  I manipulate the mathematical model in order to get a specific set of conditions in order to solve the problem'"
      ]
     },
     "execution_count": 5,
     "metadata": {},
     "output_type": "execute_result"
    }
   ],
   "source": [
    "df['resp'].loc[420]\n",
    "df['replaced'].loc[420]"
   ]
  },
  {
   "cell_type": "markdown",
   "id": "4be849fe",
   "metadata": {},
   "source": [
    "I've decided to replace any equation form of Ohm's law with a word which represents that form of the equation. In this response, the student used $I = V/R$, which I have replaced with `IequalsVoverR`. This is because if the word contains symbols, the preprocessor will eliminate it in the next steps. So, there is a one-to-one mapping between any form of the equation and a new \"word\" such as `IequalsVoverR` or `VequalsItimesR`.\n",
    "\n",
    "We can notice that it changed \"V\" to \"voltage,\" but it did not change \"I\" to \"current.\" This is because \"I\" is also a pronoun and is often indistinguishable from the variable when used in informally-written physics sentences. In fact, this student used \"I\" in the same sentence to mean two different things. With regular expressions, it's nearly impossible to distinguish whether this \"I\" refers to the person or the current. "
   ]
  },
  {
   "cell_type": "markdown",
   "id": "237e34c4",
   "metadata": {},
   "source": [
    "### Removing Stopwords, Lemmatizing, and Making Bigrams"
   ]
  },
  {
   "cell_type": "code",
   "execution_count": 6,
   "id": "c59caebd",
   "metadata": {},
   "outputs": [],
   "source": [
    "def sent_to_words(list_sentences):\n",
    "    return [gensim.utils.simple_preprocess(str(sentence), deacc=True) for sentence in list_sentences] \n",
    "\n",
    "def remove_stopwords(tokens):\n",
    "    return [[word for word in gensim.utils.simple_preprocess(str(doc)) if word not in STOPWORDS ] for doc in tokens]\n",
    "\n",
    "def get_wordnet_pos(word): #Provide a POS tag\n",
    "    \"\"\"Map POS tag to first character lemmatize() accepts\"\"\"\n",
    "    tag = pos_tag([word])[0][1][0].upper()\n",
    "    tag_dict = {\"J\": wordnet.ADJ,\n",
    "                \"N\": wordnet.NOUN,\n",
    "                \"V\": wordnet.VERB,\n",
    "                \"R\": wordnet.ADV}\n",
    "    return tag_dict.get(tag, wordnet.NOUN) #return NOUN by default\n",
    "\n",
    "def lemmatize_token(token):\n",
    "    return nltk.stem.WordNetLemmatizer().lemmatize(token, get_wordnet_pos(token))\n",
    "\n",
    "def lemmatize(token_list):\n",
    "    '''Input example: [\"he\", \"matches\", \"the\", \"profile\"]'''\n",
    "    return [lemmatize_token(token) for token in token_list]"
   ]
  },
  {
   "cell_type": "code",
   "execution_count": 7,
   "id": "5558d27c",
   "metadata": {},
   "outputs": [],
   "source": [
    "# Tokenize reponses\n",
    "data_words = sent_to_words(df['replaced'])"
   ]
  },
  {
   "cell_type": "code",
   "execution_count": 8,
   "id": "784b4d77",
   "metadata": {},
   "outputs": [],
   "source": [
    "# Remove stopwords\n",
    "data_words_nostops = remove_stopwords(data_words)"
   ]
  },
  {
   "cell_type": "code",
   "execution_count": 9,
   "id": "b855a1c3",
   "metadata": {},
   "outputs": [],
   "source": [
    "# Lemmatize\n",
    "data_words_lemmatized = [lemmatize(token_list) for token_list in data_words_nostops] "
   ]
  },
  {
   "cell_type": "code",
   "execution_count": 10,
   "id": "8e3f2afc",
   "metadata": {},
   "outputs": [],
   "source": [
    "# Make bigrams\n",
    "phrases = gensim.models.phrases.Phrases(data_words_lemmatized, min_count = 10)\n",
    "bigram = gensim.models.phrases.Phraser(phrases)\n",
    "\n",
    "def make_bigrams(list_tokenized_docs): \n",
    "    return [bigram[doc] for doc in list_tokenized_docs]\n",
    "\n",
    "data_words_bigrams = make_bigrams(data_words_lemmatized)"
   ]
  },
  {
   "cell_type": "code",
   "execution_count": null,
   "id": "fbb2cba8",
   "metadata": {},
   "outputs": [],
   "source": []
  },
  {
   "cell_type": "markdown",
   "id": "016cd35e",
   "metadata": {},
   "source": [
    "The response from above has now become the following: "
   ]
  },
  {
   "cell_type": "code",
   "execution_count": 11,
   "id": "9e522e27",
   "metadata": {},
   "outputs": [
    {
     "name": "stdout",
     "output_type": "stream",
     "text": [
      "Original: \n",
      "More voltage leads to greater current as when rearranged, Ohm's law is I = V/R, so if V increases, I will also increase.  I manipulate the mathematical model in order to get a specific set of conditions in order to solve the problem.\n",
      "\n",
      "Cleaned & Replaced: \n",
      "More voltage leads to greater current as when rearranged Ohms law is IequalsVoverR so if voltage increases I will also increase  I manipulate the mathematical model in order to get a specific set of conditions in order to solve the problem\n",
      "\n",
      "Tokenized: \n",
      "['more', 'voltage', 'leads', 'to', 'greater', 'current', 'as', 'when', 'rearranged', 'ohms', 'law', 'is', 'iequalsvoverr', 'so', 'if', 'voltage', 'increases', 'will', 'also', 'increase', 'manipulate', 'the', 'mathematical', 'model', 'in', 'order', 'to', 'get', 'specific', 'set', 'of', 'conditions', 'in', 'order', 'to', 'solve', 'the', 'problem']\n",
      "\n",
      "No Stops: \n",
      "['voltage', 'leads', 'greater', 'current', 'rearranged', 'ohms', 'law', 'iequalsvoverr', 'voltage', 'increases', 'increase', 'manipulate', 'mathematical', 'model', 'order', 'specific', 'set', 'conditions', 'order', 'solve', 'problem']\n",
      "\n",
      "Lemmatized: \n",
      "['voltage', 'lead', 'great', 'current', 'rearrange', 'ohm', 'law', 'iequalsvoverr', 'voltage', 'increase', 'increase', 'manipulate', 'mathematical', 'model', 'order', 'specific', 'set', 'condition', 'order', 'solve', 'problem']\n",
      "\n",
      "Bigrams: \n",
      "['voltage', 'lead', 'great', 'current', 'rearrange', 'ohm_law', 'iequalsvoverr', 'voltage', 'increase', 'increase', 'manipulate', 'mathematical', 'model', 'order', 'specific', 'set', 'condition', 'order', 'solve', 'problem']\n"
     ]
    }
   ],
   "source": [
    "print(\"Original: \\n\", df['resp'].loc[420], sep = \"\")\n",
    "print()\n",
    "print(\"Cleaned & Replaced: \\n\", df['replaced'].loc[420], sep = \"\")\n",
    "print()\n",
    "print(\"Tokenized: \\n\", data_words[420], sep = \"\")\n",
    "print()\n",
    "print(\"No Stops: \\n\", data_words_nostops[420], sep = \"\")\n",
    "print()\n",
    "print(\"Lemmatized: \\n\", data_words_lemmatized[420], sep = \"\")\n",
    "print()\n",
    "print(\"Bigrams: \\n\", data_words_bigrams[420], sep = \"\")"
   ]
  },
  {
   "cell_type": "markdown",
   "id": "da2b5cdc",
   "metadata": {},
   "source": [
    "### Plotting top words in all documents"
   ]
  },
  {
   "cell_type": "code",
   "execution_count": 12,
   "id": "eb6ab760",
   "metadata": {},
   "outputs": [
    {
     "name": "stdout",
     "output_type": "stream",
     "text": [
      "Total words: \u001b[1m8038\u001b[0m, unique words: \u001b[1m870\u001b[0m\n"
     ]
    }
   ],
   "source": [
    "corpus = [ w for doc in data_words_bigrams for w in doc ]\n",
    "print('Total words: \\033[1m%d\\033[0m, unique words: \\033[1m%d\\033[0m' % (len(corpus), len(set(corpus))))"
   ]
  },
  {
   "cell_type": "code",
   "execution_count": 13,
   "id": "3df06628",
   "metadata": {},
   "outputs": [
    {
     "data": {
      "image/png": "[encoded data removed]",
      "text/plain": [
       "<Figure size 1080x360 with 1 Axes>"
      ]
     },
     "metadata": {
      "needs_background": "light"
     },
     "output_type": "display_data"
    },
    {
     "data": {
      "image/png": "[encoded data removed]",
      "text/plain": [
       "<Figure size 576x360 with 1 Axes>"
      ]
     },
     "metadata": {
      "needs_background": "light"
     },
     "output_type": "display_data"
    }
   ],
   "source": [
    "[words, freq, ids] = get_top_n_words(corpus, n_top_words=None)\n",
    "fig = plot_freq_dist(freq)\n",
    "fig, ax = plot_words_freq(words, freq)"
   ]
  },
  {
   "cell_type": "markdown",
   "id": "7deec7c3",
   "metadata": {},
   "source": [
    "### Choosing our Filtering Parameters\n",
    "\n",
    "We want to filter out the extremely common and uncommon words, so we will change values of `no_above` and `no_below` to see which words are removed using different values. "
   ]
  },
  {
   "cell_type": "markdown",
   "id": "77da9708",
   "metadata": {},
   "source": [
    "#### Testing the `no_above` Threshold"
   ]
  },
  {
   "cell_type": "code",
   "execution_count": 14,
   "id": "e42d276f",
   "metadata": {},
   "outputs": [
    {
     "name": "stdout",
     "output_type": "stream",
     "text": [
      "Dictionary with \u001b[1mno_above=1\u001b[0m contains \u001b[1m870\u001b[0m unique words\n",
      "\n",
      "Dictionary filtered with \u001b[1mno_above=1.00\u001b[0m contains \u001b[1m870\u001b[0m unique words. \u001b[1m0 words\u001b[0m removed:\n",
      " [] \n",
      "\n",
      "Dictionary filtered with \u001b[1mno_above=0.90\u001b[0m contains \u001b[1m870\u001b[0m unique words. \u001b[1m0 words\u001b[0m removed:\n",
      " [] \n",
      "\n",
      "Dictionary filtered with \u001b[1mno_above=0.80\u001b[0m contains \u001b[1m869\u001b[0m unique words. \u001b[1m1 words\u001b[0m removed:\n",
      " ['voltage'] \n",
      "\n",
      "Dictionary filtered with \u001b[1mno_above=0.70\u001b[0m contains \u001b[1m868\u001b[0m unique words. \u001b[1m1 words\u001b[0m removed:\n",
      " ['current'] \n",
      "\n",
      "Dictionary filtered with \u001b[1mno_above=0.60\u001b[0m contains \u001b[1m868\u001b[0m unique words. \u001b[1m0 words\u001b[0m removed:\n",
      " [] \n",
      "\n",
      "Dictionary filtered with \u001b[1mno_above=0.50\u001b[0m contains \u001b[1m868\u001b[0m unique words. \u001b[1m0 words\u001b[0m removed:\n",
      " [] \n",
      "\n",
      "Dictionary filtered with \u001b[1mno_above=0.40\u001b[0m contains \u001b[1m868\u001b[0m unique words. \u001b[1m0 words\u001b[0m removed:\n",
      " [] \n",
      "\n",
      "Dictionary filtered with \u001b[1mno_above=0.30\u001b[0m contains \u001b[1m867\u001b[0m unique words. \u001b[1m1 words\u001b[0m removed:\n",
      " ['increase'] \n",
      "\n",
      "Dictionary filtered with \u001b[1mno_above=0.20\u001b[0m contains \u001b[1m857\u001b[0m unique words. \u001b[1m10 words\u001b[0m removed:\n",
      " ['battery', 'circuit', 'electron', 'flow', 'great', 'high', 'lead', 'mean', 'resistance', 'think'] \n",
      "\n",
      "Dictionary filtered with \u001b[1mno_above=0.10\u001b[0m contains \u001b[1m847\u001b[0m unique words. \u001b[1m10 words\u001b[0m removed:\n",
      " ['bulb', 'change', 'charge', 'energy', 'faster', 'large', 'like', 'potential_difference', 'push', 'water'] \n",
      "\n"
     ]
    }
   ],
   "source": [
    "import copy\n",
    "\n",
    "no_above_values = [0.9, 0.8, 0.7, 0.6, 0.5, 0.4, 0.3, 0.2, 0.1]\n",
    "\n",
    "# NO ABOVE filtering object\n",
    "id2word_unfiltered_above = gensim.corpora.Dictionary(data_words_bigrams) #Needed for a bug\n",
    "id2word_unfiltered_above.filter_extremes(no_below=0, no_above=1, keep_n=100000)\n",
    "print(\"Dictionary with \\033[1mno_above=1\\033[0m contains \\033[1m%d\\033[0m unique words\\n\" % (len(id2word_unfiltered_above)))\n",
    "\n",
    "# Initial Filtering\n",
    "no_above = 1.0\n",
    "id2word = gensim.corpora.Dictionary(data_words_bigrams)\n",
    "id2word.filter_extremes(no_below=0, no_above=no_above, keep_n=100000)\n",
    "diff_set = set(list(id2word_unfiltered_above.values())) - set(list(id2word.values()))\n",
    "print(\"Dictionary filtered with \\033[1mno_above=%.2f\\033[0m contains \\033[1m%d\\033[0m unique words. \\033[1m%d words\\033[0m removed:\\n %s \\n\" % \n",
    "      (no_above, len(id2word), len(diff_set), sorted(diff_set)))\n",
    "\n",
    "\n",
    "# Other Values of no_above\n",
    "for val in no_above_values: \n",
    "    no_below = 0\n",
    "    no_above = val\n",
    "    id2word_prev = copy.deepcopy(id2word)\n",
    "    id2word.filter_extremes(no_below=no_below, no_above=no_above, keep_n=100000) #NB: no problem filtering again on no_above\n",
    "    diff_set = set(list(id2word_prev.values())) - set(list(id2word.values()))\n",
    "    print(\"Dictionary filtered with \\033[1mno_above=%.2f\\033[0m contains \\033[1m%d\\033[0m unique words. \\033[1m%d words\\033[0m removed:\\n %s \\n\" % \n",
    "          (no_above, len(id2word), len(diff_set), sorted(diff_set)))\n"
   ]
  },
  {
   "cell_type": "markdown",
   "id": "a7f41b90",
   "metadata": {},
   "source": [
    "#### Testing the `no_below` Threshold"
   ]
  },
  {
   "cell_type": "code",
   "execution_count": 15,
   "id": "0b8e228c",
   "metadata": {},
   "outputs": [
    {
     "name": "stdout",
     "output_type": "stream",
     "text": [
      "Dictionary with \u001b[1mno_below=1\u001b[0m contains \u001b[1m847\u001b[0m unique words\n",
      "\n",
      "Dictionary filtered with \u001b[1mno_below=1.00\u001b[0m contains \u001b[1m847\u001b[0m unique words. \u001b[1m0 words\u001b[0m removed:\n",
      " [] \n",
      "\n",
      "Dictionary filtered with \u001b[1mno_below=2.00\u001b[0m contains \u001b[1m401\u001b[0m unique words. \u001b[1m446 words\u001b[0m removed:\n",
      " ['aa', 'absorbed', 'accept', 'accumulate', 'accumulation', 'accurately', 'achieves', 'actual', 'adjust', 'aircraft', 'aka', 'akin', 'alarm', 'algebra', 'algebraically', 'alleviate', 'amp', 'analogous', 'anyways', 'apology', 'application', 'applies', 'arrow', 'ask', 'assign', 'attack', 'attempt', 'average', 'back', 'badly', 'bae', 'bateries', 'batter', 'bbbbbbbbb', 'bc', 'bear', 'bed', 'begin', 'bit', 'blub', 'boost', 'bottle', 'boy', 'breach', 'break', 'bridge', 'brightening', 'brightest', 'brought', 'brunk', 'buld', 'burn', 'burning', 'buzzing', 'cabin', 'cancel', 'cap', 'catch', 'caught', 'cave', 'cell', 'chance', 'charger', 'check', 'chemical', 'circulate', 'circut', 'class', 'classify', 'clear', 'cliff', 'close', 'closer', 'collectively', 'color', 'combine', 'comparable', 'comparison', 'compelling', 'compensates', 'complete', 'compress', 'conceptualize', 'concrete', 'condition', 'confess', 'consequence', 'consider', 'contain', 'container', 'context', 'continue', 'control', 'convert', 'correct', 'correspond', 'course', 'craft', 'crank', 'crate', 'crcuit', 'credit', 'damn', 'deal', 'deduce', 'definition', 'degree', 'demand', 'denote', 'depict', 'design', 'device', 'diagram', 'differential', 'differnce', 'dipole', 'disappear', 'distribute', 'divide', 'door', 'dr', 'drastically', 'drill', 'driven', 'dry', 'dryer', 'eagerness', 'eats', 'ed', 'effective', 'effectively', 'efficiently', 'electical', 'election', 'electromotive', 'elevate', 'emit', 'emits', 'encourage', 'engery', 'engine', 'enhances', 'entire', 'envision', 'epe', 'equalize', 'escalator', 'especially', 'establish', 'euqation', 'evaluation', 'event', 'evokes', 'exert', 'exist', 'exit', 'expensive', 'experience', 'explain', 'extent', 'external', 'face', 'far', 'favorite', 'fed', 'fill', 'final', 'find', 'finger', 'fit', 'flowcurrent', 'flux', 'fly', 'forcefully', 'fraction', 'fuel', 'garden', 'gas', 'generally', 'generator', 'gpe', 'grate', 'grav', 'grow', 'hair', 'hallway', 'hand', 'happen', 'happens', 'happy', 'hight', 'highway', 'hiker', 'hit', 'holy', 'honestly', 'huge', 'hull', 'hypothetically', 'icurrent', 'idk', 'ill', 'impetus', 'implies', 'impressed', 'inclined', 'increseas', 'indicative', 'indicator', 'induce', 'information', 'input', 'inte', 'intend', 'intensity', 'intermediately', 'internal', 'interval', 'intrinsic', 'intuitive', 'intuitively', 'ion', 'isolate', 'itll', 'iv', 'ja', 'joule', 'kachow', 'katie', 'keep', 'kenitic', 'keyt', 'kid', 'kinda', 'kinematics', 'kirchhoff', 'leaf', 'lecture', 'likely', 'liken', 'likewise', 'linear', 'little', 'location', 'lower', 'ma', 'macroscopic', 'magically', 'magitude', 'manipulate', 'match', 'mathematical', 'mathmatically', 'matter', 'max', 'maximum', 'mcqueen', 'measurement', 'mechanic', 'medium', 'melt', 'mental', 'metaphor', 'method', 'mist', 'mister', 'mix', 'mobilize', 'moe', 'motion', 'mroe', 'mv', 'naturally', 'nd', 'near', 'neg', 'net', 'non', 'note', 'notice', 'nqrhol', 'nqv', 'nqva', 'nqvrhol', 'obstacle', 'obtain', 'obvious', 'offer', 'open', 'opening', 'opinion', 'organize', 'original', 'originate', 'outdoor', 'parallel', 'parameter', 'parrallel', 'path', 'pe', 'people', 'personal', 'physically', 'place', 'play', 'pool', 'porpotional', 'position', 'potentially', 'practice', 'prevent', 'prior', 'process', 'project', 'propel', 'propensity', 'proportion', 'proton', 'prove', 'proven', 'pulse', 'pushy', 'raise', 'ramp', 'randomly', 'range', 'rawr', 'reach', 'react', 'reaction', 'real', 'realistically', 'reality', 'realize', 'reason', 'regular', 'relieve', 'remember', 'remote', 'replace', 'repulse', 'requirement', 'resisance', 'resistence', 'resistivity', 'resolve', 'response', 'return', 'rhol', 'rid', 'rotate', 'roughly', 'rule', 'rupture', 'saw', 'say', 'scenerio', 'school', 'sectional', 'see', 'sence', 'sent', 'shine', 'short', 'show', 'sign', 'signifies', 'silver', 'simple', 'sims', 'sit', 'situation', 'slide', 'slows', 'snow', 'specifically', 'specify', 'splitting', 'square', 'static', 'step', 'stone', 'stop', 'stoppped', 'student', 'subject', 'successfully', 'superheros', 'suppose', 'surely', 'surge', 'switch', 'system', 'systme', 'take', 'taught', 'teacher', 'teem', 'temperature', 'tend', 'tendency', 'tends', 'theoretically', 'thickness', 'throw', 'tight', 'topic', 'track', 'transform', 'transport', 'trouble', 'trust', 'tv', 'unbalanced', 'understood', 'uniform', 'unstable', 'uphill', 'upin', 'upper', 'ups', 'useful', 'usually', 'utilization', 'utilized', 'vacuum', 'validity', 'vbigger', 'versus', 'vertical', 'vf', 'violent', 'visual', 'visualization', 'vo', 'voltagethe', 'vottage', 'wave', 'weak', 'weaker', 'weight', 'wheel', 'world', 'worry', 'yes', 'zero'] \n",
      "\n",
      "Dictionary filtered with \u001b[1mno_below=3.00\u001b[0m contains \u001b[1m268\u001b[0m unique words. \u001b[1m133 words\u001b[0m removed:\n",
      " ['accelerate', 'account', 'accurate', 'actually', 'addition', 'additionally', 'additive', 'affected', 'air', 'arrange', 'associate', 'attract', 'attraction', 'away', 'becasue', 'becuase', 'best', 'block', 'boulder', 'bright', 'built', 'calculate', 'chemically', 'clearly', 'component', 'concept', 'conceptually', 'consequently', 'correlate', 'correlation', 'coulomb', 'cover', 'curve', 'dam', 'deltav', 'depend', 'dependent', 'described', 'determines', 'dimmer', 'draw', 'drawn', 'earth', 'easily', 'equilibrium', 'equivalent', 'exactly', 'excite', 'extra', 'farther', 'feel', 'filament', 'follow', 'formula', 'free', 'gain', 'gap', 'general', 'glow', 'good', 'grows', 'half', 'hard', 'hole', 'id', 'ideal', 'image', 'immediately', 'indicates', 'inside', 'intuition', 'inversely', 'item', 'job', 'ke', 'knowledge', 'leave', 'level', 'lift', 'longer', 'magnet', 'mind', 'motivates', 'multiple', 'multiply', 'narrow', 'numerator', 'outside', 'past', 'period', 'person', 'plate', 'pressurize', 'pretty', 'put', 'quick', 'ratio', 'receive', 'relates', 'relation', 'relative', 'representation', 'restrict', 'ri', 'rise', 'road', 'role', 'satisfy', 'separate', 'shove', 'simply', 'slope', 'slow', 'speak', 'spray', 'spread', 'spring', 'stable', 'store', 'sum', 'support', 'tank', 'test', 'throughput', 'traffic', 'type', 'ultimately', 'v', 'valley', 'volume', 'well', 'word', 'yield'] \n",
      "\n",
      "Dictionary filtered with \u001b[1mno_below=4.00\u001b[0m contains \u001b[1m209\u001b[0m unique words. \u001b[1m59 words\u001b[0m removed:\n",
      " ['accord', 'achieve', 'additional', 'amperage', 'base', 'build', 'carry', 'common', 'conclude', 'conventional', 'copper', 'cross', 'define', 'density', 'determine', 'drift', 'drive', 'effect', 'exists', 'figure', 'gravitational', 'ground', 'held', 'impact', 'indicate', 'lake', 'learn', 'length', 'line', 'main', 'mass', 'math', 'mentally', 'metal', 'new', 'number', 'personally', 'physic', 'physical', 'product', 'property', 'quantity', 'quicker', 'require', 'rush', 'scenario', 'set', 'side', 'simulation', 'single', 'steep', 'steepness', 'strongly', 'sure', 'thats', 'therefor', 'translate', 'volt', 'youre'] \n",
      "\n",
      "Dictionary filtered with \u001b[1mno_below=5.00\u001b[0m contains \u001b[1m169\u001b[0m unique words. \u001b[1m40 words\u001b[0m removed:\n",
      " ['acceleration', 'affect', 'available', 'believe', 'capacity', 'carrier', 'compensate', 'different', 'direct', 'distance', 'easy', 'fact', 'guess', 'head', 'identical', 'isnt', 'kept', 'kind', 'let', 'magnitude', 'opposite', 'output', 'overall', 'powerful', 'problem', 'proportionality', 'question', 'relate', 'section', 'shoot', 'size', 'sort', 'space', 'specific', 'start', 'stream', 'tell', 'total', 'unit', 'view'] \n",
      "\n",
      "Dictionary filtered with \u001b[1mno_below=6.00\u001b[0m contains \u001b[1m146\u001b[0m unique words. \u001b[1m23 words\u001b[0m removed:\n",
      " ['ability', 'apply', 'assume', 'balance', 'basically', 'corresponds', 'delta', 'direction', 'doesnt', 'essentially', 'field', 'form', 'hold', 'idea', 'lot', 'material', 'mountain', 'phet', 'rearrange', 'requalsvoveri', 'solve', 'true', 'wont'] \n",
      "\n",
      "Dictionary filtered with \u001b[1mno_below=7.00\u001b[0m contains \u001b[1m128\u001b[0m unique words. \u001b[1m18 words\u001b[0m removed:\n",
      " ['ball', 'compare', 'conductor', 'connect', 'decrease', 'example', 'have', 'movement', 'pass', 'passing', 'picture', 'quickly', 'release', 'similarly', 'strength', 'supply', 'thing', 'tube'] \n",
      "\n",
      "Dictionary filtered with \u001b[1mno_below=8.00\u001b[0m contains \u001b[1m110\u001b[0m unique words. \u001b[1m18 words\u001b[0m removed:\n",
      " ['act', 'allow', 'car', 'electricity', 'fall', 'generate', 'get', 'help', 'long', 'object', 'proportionally', 'provide', 'pump', 'state', 'thought', 'twice', 'velocity', 'waterfall'] \n",
      "\n",
      "Dictionary filtered with \u001b[1mno_below=9.00\u001b[0m contains \u001b[1m96\u001b[0m unique words. \u001b[1m14 words\u001b[0m removed:\n",
      " ['come', 'directly', 'dont', 'fast', 'light', 'measure', 'remain', 'remains', 'river', 'roll', 'source', 'term', 'value', 'variable'] \n",
      "\n",
      "Dictionary filtered with \u001b[1mno_below=10.00\u001b[0m contains \u001b[1m83\u001b[0m unique words. \u001b[1m13 words\u001b[0m removed:\n",
      " ['allows', 'double', 'hose', 'maintain', 'particle', 'produce', 'pull', 'related', 'relationship', 'represent', 'series', 'steeper', 'try'] \n",
      "\n",
      "Dictionary filtered with \u001b[1mno_below=11.00\u001b[0m contains \u001b[1m74\u001b[0m unique words. \u001b[1m9 words\u001b[0m removed:\n",
      " ['able', 'area', 'drift_velocity', 'electric', 'harder', 'negative', 'small', 'there', 'turn'] \n",
      "\n",
      "Dictionary filtered with \u001b[1mno_below=12.00\u001b[0m contains \u001b[1m65\u001b[0m unique words. \u001b[1m9 words\u001b[0m removed:\n",
      " ['certain', 'creates', 'gravity', 'im', 'model', 'pas', 'positive', 'run', 'similar'] \n",
      "\n",
      "Dictionary filtered with \u001b[1mno_below=13.00\u001b[0m contains \u001b[1m60\u001b[0m unique words. \u001b[1m5 words\u001b[0m removed:\n",
      " ['analogy', 'order', 'second', 'travel', 'understand'] \n",
      "\n",
      "Dictionary filtered with \u001b[1mno_below=14.00\u001b[0m contains \u001b[1m59\u001b[0m unique words. \u001b[1m1 words\u001b[0m removed:\n",
      " ['visualize'] \n",
      "\n",
      "Dictionary filtered with \u001b[1mno_below=15.00\u001b[0m contains \u001b[1m55\u001b[0m unique words. \u001b[1m4 words\u001b[0m removed:\n",
      " ['add', 'fix', 'hill', 'light_bulb'] \n",
      "\n",
      "Dictionary filtered with \u001b[1mno_below=16.00\u001b[0m contains \u001b[1m49\u001b[0m unique words. \u001b[1m6 words\u001b[0m removed:\n",
      " ['drop', 'electrical', 'end', 'equal', 'lightbulb', 'look'] \n",
      "\n",
      "Dictionary filtered with \u001b[1mno_below=17.00\u001b[0m contains \u001b[1m47\u001b[0m unique words. \u001b[1m2 words\u001b[0m removed:\n",
      " ['create', 'meaning'] \n",
      "\n",
      "Dictionary filtered with \u001b[1mno_below=18.00\u001b[0m contains \u001b[1m42\u001b[0m unique words. \u001b[1m5 words\u001b[0m removed:\n",
      " ['give', 'need', 'pipe', 'want', 'work'] \n",
      "\n",
      "Dictionary filtered with \u001b[1mno_below=19.00\u001b[0m contains \u001b[1m38\u001b[0m unique words. \u001b[1m4 words\u001b[0m removed:\n",
      " ['case', 'iequalsvoverr', 'imagine', 'point'] \n",
      "\n",
      "Dictionary filtered with \u001b[1mno_below=20.00\u001b[0m contains \u001b[1m36\u001b[0m unique words. \u001b[1m2 words\u001b[0m removed:\n",
      " ['height', 'terminal'] \n",
      "\n",
      "Dictionary filtered with \u001b[1mno_below=21.00\u001b[0m contains \u001b[1m31\u001b[0m unique words. \u001b[1m5 words\u001b[0m removed:\n",
      " ['brightness', 'make', 'make_sense', 'rate', 'way'] \n",
      "\n",
      "Dictionary filtered with \u001b[1mno_below=22.00\u001b[0m contains \u001b[1m28\u001b[0m unique words. \u001b[1m3 words\u001b[0m removed:\n",
      " ['directly_proportional', 'move', 'sense'] \n",
      "\n",
      "Dictionary filtered with \u001b[1mno_below=23.00\u001b[0m contains \u001b[1m26\u001b[0m unique words. \u001b[1m2 words\u001b[0m removed:\n",
      " ['electric_field', 'know'] \n",
      "\n",
      "Dictionary filtered with \u001b[1mno_below=24.00\u001b[0m contains \u001b[1m24\u001b[0m unique words. \u001b[1m2 words\u001b[0m removed:\n",
      " ['low', 'result'] \n",
      "\n",
      "Dictionary filtered with \u001b[1mno_below=25.00\u001b[0m contains \u001b[1m20\u001b[0m unique words. \u001b[1m4 words\u001b[0m removed:\n",
      " ['constant', 'strong', 'time', 'use'] \n",
      "\n",
      "Dictionary filtered with \u001b[1mno_below=26.00\u001b[0m contains \u001b[1m18\u001b[0m unique words. \u001b[1m2 words\u001b[0m removed:\n",
      " ['mental_model', 'speed'] \n",
      "\n",
      "Dictionary filtered with \u001b[1mno_below=27.00\u001b[0m contains \u001b[1m17\u001b[0m unique words. \u001b[1m1 words\u001b[0m removed:\n",
      " ['proportional'] \n",
      "\n",
      "Dictionary filtered with \u001b[1mno_below=28.00\u001b[0m contains \u001b[1m16\u001b[0m unique words. \u001b[1m1 words\u001b[0m removed:\n",
      " ['stay'] \n",
      "\n",
      "Dictionary filtered with \u001b[1mno_below=29.00\u001b[0m contains \u001b[1m16\u001b[0m unique words. \u001b[1m0 words\u001b[0m removed:\n",
      " [] \n",
      "\n"
     ]
    }
   ],
   "source": [
    "no_below_values = [i for i in range(2, 30)]# 3, 4, 5, 6, 7, 8, 9, 10, 11, 12, 13, 1]\n",
    "\n",
    "# NO BELOW filtering object\n",
    "id2word_unfiltered_below = gensim.corpora.Dictionary(data_words_bigrams) #Needed for a bug\n",
    "id2word_unfiltered_below.filter_extremes(no_below=1, no_above=no_above, keep_n=100000)\n",
    "print(\"Dictionary with \\033[1mno_below=1\\033[0m contains \\033[1m%d\\033[0m unique words\\n\" % (len(id2word_unfiltered_below)))\n",
    "\n",
    "\n",
    "\n",
    "# Initial filtering \n",
    "no_below = 1\n",
    "id2word = gensim.corpora.Dictionary(data_words_bigrams)\n",
    "id2word.filter_extremes(no_below=no_below, no_above=no_above, keep_n=100000)\n",
    "diff_set = set(list(id2word_unfiltered_below.values())) - set(list(id2word.values()))\n",
    "print(\"Dictionary filtered with \\033[1mno_below=%.2f\\033[0m contains \\033[1m%d\\033[0m unique words. \\033[1m%d words\\033[0m removed:\\n %s \\n\" % \n",
    "      (no_below, len(id2word), len(diff_set), sorted(diff_set)))\n",
    "\n",
    "\n",
    "# Other values of no_below\n",
    "\n",
    "for val in no_below_values: \n",
    "    no_above = 1\n",
    "    no_below = val\n",
    "    id2word_prev = copy.deepcopy(id2word)\n",
    "    id2word.filter_extremes(no_below=no_below, no_above=no_above, keep_n=100000) #NB: no problem filtering again on no_above\n",
    "    diff_set = set(list(id2word_prev.values())) - set(list(id2word.values()))\n",
    "    print(\"Dictionary filtered with \\033[1mno_below=%.2f\\033[0m contains \\033[1m%d\\033[0m unique words. \\033[1m%d words\\033[0m removed:\\n %s \\n\" % \n",
    "          (no_below, len(id2word), len(diff_set), sorted(diff_set)))"
   ]
  },
  {
   "cell_type": "markdown",
   "id": "325ad593",
   "metadata": {},
   "source": [
    "We will choose a `no_above` value of 1 (for now) and a `no_below` value of 3. \n",
    "\n",
    "For our `no_above` value, we are choosing not to exclude the most common words (current and voltage) because we are trying to characterize student ideas about current and voltage. If we can relate these words to other terms, perhaps we can extract some useful information. \n",
    "\n",
    "For our `no_below` value, we want to include as many words as possible which might lead us toward ideas which students have. We can notice that `no_below=4.00` excludes words such as \"mass,\" \"density,\" \"length,\" \"steep,\" and \"property.\" All of these terms are not directly related to the problem, but provide insight into student ideas. Thus, since we do not want to remove these values, we choose `no_below=3.00`. "
   ]
  },
  {
   "cell_type": "markdown",
   "id": "e48d715a",
   "metadata": {},
   "source": [
    "### Creating our Bag of Words\n",
    "\n",
    "We will now create the bag of words corpus which will be fed to our LDA model in the next section, using the thresholds defined in the previous part. "
   ]
  },
  {
   "cell_type": "code",
   "execution_count": 16,
   "id": "da799a97",
   "metadata": {},
   "outputs": [
    {
     "name": "stdout",
     "output_type": "stream",
     "text": [
      "Unfiltered Dictionary contains \u001b[1m870\u001b[0m unique words\n",
      "\n",
      "Applying \u001b[1mno_above=1 and no_below=3 removes 579 words\u001b[0m:\n",
      " ['aa', 'absorbed', 'accelerate', 'accept', 'account', 'accumulate', 'accumulation', 'accurate', 'accurately', 'achieves', 'actual', 'actually', 'addition', 'additionally', 'additive', 'adjust', 'affected', 'air', 'aircraft', 'aka', 'akin', 'alarm', 'algebra', 'algebraically', 'alleviate', 'amp', 'analogous', 'anyways', 'apology', 'application', 'applies', 'arrange', 'arrow', 'ask', 'assign', 'associate', 'attack', 'attempt', 'attract', 'attraction', 'average', 'away', 'back', 'badly', 'bae', 'bateries', 'batter', 'bbbbbbbbb', 'bc', 'bear', 'becasue', 'becuase', 'bed', 'begin', 'best', 'bit', 'block', 'blub', 'boost', 'bottle', 'boulder', 'boy', 'breach', 'break', 'bridge', 'bright', 'brightening', 'brightest', 'brought', 'brunk', 'built', 'buld', 'burn', 'burning', 'buzzing', 'cabin', 'calculate', 'cancel', 'cap', 'catch', 'caught', 'cave', 'cell', 'chance', 'charger', 'check', 'chemical', 'chemically', 'circulate', 'circut', 'class', 'classify', 'clear', 'clearly', 'cliff', 'close', 'closer', 'collectively', 'color', 'combine', 'comparable', 'comparison', 'compelling', 'compensates', 'complete', 'component', 'compress', 'concept', 'conceptualize', 'conceptually', 'concrete', 'condition', 'confess', 'consequence', 'consequently', 'consider', 'contain', 'container', 'context', 'continue', 'control', 'convert', 'correct', 'correlate', 'correlation', 'correspond', 'coulomb', 'course', 'cover', 'craft', 'crank', 'crate', 'crcuit', 'credit', 'curve', 'dam', 'damn', 'deal', 'deduce', 'definition', 'degree', 'deltav', 'demand', 'denote', 'depend', 'dependent', 'depict', 'described', 'design', 'determines', 'device', 'diagram', 'differential', 'differnce', 'dimmer', 'dipole', 'disappear', 'distribute', 'divide', 'door', 'dr', 'drastically', 'draw', 'drawn', 'drill', 'driven', 'dry', 'dryer', 'eagerness', 'earth', 'easily', 'eats', 'ed', 'effective', 'effectively', 'efficiently', 'electical', 'election', 'electromotive', 'elevate', 'emit', 'emits', 'encourage', 'engery', 'engine', 'enhances', 'entire', 'envision', 'epe', 'equalize', 'equilibrium', 'equivalent', 'escalator', 'especially', 'establish', 'euqation', 'evaluation', 'event', 'evokes', 'exactly', 'excite', 'exert', 'exist', 'exit', 'expensive', 'experience', 'explain', 'extent', 'external', 'extra', 'face', 'far', 'farther', 'favorite', 'fed', 'feel', 'filament', 'fill', 'final', 'find', 'finger', 'fit', 'flowcurrent', 'flux', 'fly', 'follow', 'forcefully', 'formula', 'fraction', 'free', 'fuel', 'gain', 'gap', 'garden', 'gas', 'general', 'generally', 'generator', 'glow', 'good', 'gpe', 'grate', 'grav', 'grow', 'grows', 'hair', 'half', 'hallway', 'hand', 'happen', 'happens', 'happy', 'hard', 'hight', 'highway', 'hiker', 'hit', 'hole', 'holy', 'honestly', 'huge', 'hull', 'hypothetically', 'icurrent', 'id', 'ideal', 'idk', 'ill', 'image', 'immediately', 'impetus', 'implies', 'impressed', 'inclined', 'increseas', 'indicates', 'indicative', 'indicator', 'induce', 'information', 'input', 'inside', 'inte', 'intend', 'intensity', 'intermediately', 'internal', 'interval', 'intrinsic', 'intuition', 'intuitive', 'intuitively', 'inversely', 'ion', 'isolate', 'item', 'itll', 'iv', 'ja', 'job', 'joule', 'kachow', 'katie', 'ke', 'keep', 'kenitic', 'keyt', 'kid', 'kinda', 'kinematics', 'kirchhoff', 'knowledge', 'leaf', 'leave', 'lecture', 'level', 'lift', 'likely', 'liken', 'likewise', 'linear', 'little', 'location', 'longer', 'lower', 'ma', 'macroscopic', 'magically', 'magitude', 'magnet', 'manipulate', 'match', 'mathematical', 'mathmatically', 'matter', 'max', 'maximum', 'mcqueen', 'measurement', 'mechanic', 'medium', 'melt', 'mental', 'metaphor', 'method', 'mind', 'mist', 'mister', 'mix', 'mobilize', 'moe', 'motion', 'motivates', 'mroe', 'multiple', 'multiply', 'mv', 'narrow', 'naturally', 'nd', 'near', 'neg', 'net', 'non', 'note', 'notice', 'nqrhol', 'nqv', 'nqva', 'nqvrhol', 'numerator', 'obstacle', 'obtain', 'obvious', 'offer', 'open', 'opening', 'opinion', 'organize', 'original', 'originate', 'outdoor', 'outside', 'parallel', 'parameter', 'parrallel', 'past', 'path', 'pe', 'people', 'period', 'person', 'personal', 'physically', 'place', 'plate', 'play', 'pool', 'porpotional', 'position', 'potentially', 'practice', 'pressurize', 'pretty', 'prevent', 'prior', 'process', 'project', 'propel', 'propensity', 'proportion', 'proton', 'prove', 'proven', 'pulse', 'pushy', 'put', 'quick', 'raise', 'ramp', 'randomly', 'range', 'ratio', 'rawr', 'reach', 'react', 'reaction', 'real', 'realistically', 'reality', 'realize', 'reason', 'receive', 'regular', 'relates', 'relation', 'relative', 'relieve', 'remember', 'remote', 'replace', 'representation', 'repulse', 'requirement', 'resisance', 'resistence', 'resistivity', 'resolve', 'response', 'restrict', 'return', 'rhol', 'ri', 'rid', 'rise', 'road', 'role', 'rotate', 'roughly', 'rule', 'rupture', 'satisfy', 'saw', 'say', 'scenerio', 'school', 'sectional', 'see', 'sence', 'sent', 'separate', 'shine', 'short', 'shove', 'show', 'sign', 'signifies', 'silver', 'simple', 'simply', 'sims', 'sit', 'situation', 'slide', 'slope', 'slow', 'slows', 'snow', 'speak', 'specifically', 'specify', 'splitting', 'spray', 'spread', 'spring', 'square', 'stable', 'static', 'step', 'stone', 'stop', 'stoppped', 'store', 'student', 'subject', 'successfully', 'sum', 'superheros', 'support', 'suppose', 'surely', 'surge', 'switch', 'system', 'systme', 'take', 'tank', 'taught', 'teacher', 'teem', 'temperature', 'tend', 'tendency', 'tends', 'test', 'theoretically', 'thickness', 'throughput', 'throw', 'tight', 'topic', 'track', 'traffic', 'transform', 'transport', 'trouble', 'trust', 'tv', 'type', 'ultimately', 'unbalanced', 'understood', 'uniform', 'unstable', 'uphill', 'upin', 'upper', 'ups', 'useful', 'usually', 'utilization', 'utilized', 'v', 'vacuum', 'validity', 'valley', 'vbigger', 'versus', 'vertical', 'vf', 'violent', 'visual', 'visualization', 'vo', 'voltagethe', 'volume', 'vottage', 'wave', 'weak', 'weaker', 'weight', 'well', 'wheel', 'word', 'world', 'worry', 'yes', 'yield', 'zero'] \n",
      "\n",
      "Filtered Dictionary contains \u001b[1m291\u001b[0m unique words\n",
      "\n"
     ]
    },
    {
     "data": {
      "image/png": "[encoded data removed]",
      "text/plain": [
       "<Figure size 576x360 with 1 Axes>"
      ]
     },
     "metadata": {
      "needs_background": "light"
     },
     "output_type": "display_data"
    },
    {
     "data": {
      "text/plain": [
       "(<Figure size 576x360 with 1 Axes>,\n",
       " <AxesSubplot:title={'center':'Top words in corpus (291 total words)'}, xlabel='Top words', ylabel='Number of occurrences (log scale)'>)"
      ]
     },
     "execution_count": 16,
     "metadata": {},
     "output_type": "execute_result"
    }
   ],
   "source": [
    "no_above = 1\n",
    "no_below = 3\n",
    "\n",
    "id2word_unfiltered = gensim.corpora.Dictionary(data_words_bigrams) #Needed for a bug\n",
    "print(\"Unfiltered Dictionary contains \\033[1m{}\\033[0m unique words\".format(len(id2word_unfiltered)))\n",
    "\n",
    "id2word = gensim.corpora.Dictionary(data_words_bigrams)\n",
    "id2word.filter_extremes(no_below=no_below, no_above=no_above, keep_n=100000)\n",
    "\n",
    "#Effect of using no_above\n",
    "diff_set = set(list(id2word_unfiltered.values())) - set(list(id2word.values()))\n",
    "print(\"\\nApplying \\033[1mno_above={} and no_below={} removes {} words\\033[0m:\\n {} \\n\".format(no_above, no_below, len(diff_set), sorted(diff_set)))\n",
    "\n",
    "id2word.filter_extremes(no_below=no_below, no_above=no_above, keep_n=100000) #NB: no problem filtering again on no_above\n",
    "print(\"Filtered Dictionary contains \\033[1m{}\\033[0m unique words\\n\".format(len(id2word)))\n",
    "\n",
    "#Create BoW\n",
    "bow_corpus = [id2word.doc2bow(doc) for doc in data_words_bigrams]\n",
    "\n",
    "#Get most frequent words from id2word Dictionary\n",
    "#There is a bug with csf: https://github.com/RaRe-Technologies/gensim/issues/2574\n",
    "[ids, freq] = zip(*sorted(id2word.cfs.items(), key=lambda x: x[1], reverse=True))\n",
    "words = [id2word_unfiltered[id] for id in ids]  #have to use id2word_unfiltered to retrieve words from ids!!\n",
    "\n",
    "# Plot distribution\n",
    "plot_words_freq(words, freq, 20, ylim=None)"
   ]
  },
  {
   "cell_type": "markdown",
   "id": "72ac7a05",
   "metadata": {},
   "source": [
    "These filtering parameters are not necessarily chosen optimally, but rather by intuition of what may yield good topics. Note that choosing different filtering parameters may drastically impact the topics produced by the LDA model."
   ]
  },
  {
   "cell_type": "markdown",
   "id": "a9348920",
   "metadata": {},
   "source": [
    "## III. Topic Modeling"
   ]
  },
  {
   "cell_type": "markdown",
   "id": "86bc3f67",
   "metadata": {},
   "source": [
    "### Training the Model"
   ]
  },
  {
   "cell_type": "code",
   "execution_count": null,
   "id": "1ce89704",
   "metadata": {},
   "outputs": [],
   "source": []
  },
  {
   "cell_type": "markdown",
   "id": "2c9cfaec",
   "metadata": {},
   "source": [
    "### Evaluating Model Coherence"
   ]
  },
  {
   "cell_type": "code",
   "execution_count": null,
   "id": "03019800",
   "metadata": {},
   "outputs": [],
   "source": []
  },
  {
   "cell_type": "markdown",
   "id": "9a295bb8",
   "metadata": {},
   "source": [
    "### Dominant Topic in each Document (optional)"
   ]
  },
  {
   "cell_type": "code",
   "execution_count": null,
   "id": "8b24d524",
   "metadata": {},
   "outputs": [],
   "source": []
  },
  {
   "cell_type": "markdown",
   "id": "46aa35b8",
   "metadata": {},
   "source": [
    "### Representative Document for each Topic (optional)"
   ]
  },
  {
   "cell_type": "code",
   "execution_count": null,
   "id": "70caa8ba",
   "metadata": {},
   "outputs": [],
   "source": []
  }
 ],
 "metadata": {
  "kernelspec": {
   "display_name": "Python [conda env:.conda-LDA]",
   "language": "python",
   "name": "conda-env-.conda-LDA-py"
  },
  "language_info": {
   "codemirror_mode": {
    "name": "ipython",
    "version": 3
   },
   "file_extension": ".py",
   "mimetype": "text/x-python",
   "name": "python",
   "nbconvert_exporter": "python",
   "pygments_lexer": "ipython3",
   "version": "3.9.7"
  }
 },
 "nbformat": 4,
 "nbformat_minor": 5
}
