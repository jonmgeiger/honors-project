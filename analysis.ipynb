{
 "cells": [
  {
   "cell_type": "markdown",
   "id": "858aa1c0",
   "metadata": {},
   "source": [
    "# Analyzing Student Responses to Circuits Questions using Latent Dirichlet Allocation\n",
    "\n",
    "### Jon Geiger\n",
    "\n",
    "## I. Introduction: Topic Modeling for Student Reponses in Physics\n",
    "\n",
    "In this notebook, we will perform a machine learning analysis of student responses to a particular conceptual question about circuits in undergraduate physics. \n",
    "\n",
    "We will be using Latent Dirichlet Allocation (LDA) to pull out topics, which should represent student ideas. Much of the code and process for this analysis can be credited to Tor Odden and Allesandro Marin at the University of Oslo, who have graciously provided a Jupyter Notebook outlining the process of cleaning and modeling data from 18 years' worth of PERC proceedings (https://github.com/uio-ccse/PERC_TopicModel). Changes have been made as necessary, and certain modeling techniques have been excluded, such as the time variance of topics, as well as providing exemplary documents for each modeled topic. "
   ]
  },
  {
   "cell_type": "markdown",
   "id": "3677169a",
   "metadata": {},
   "source": [
    "## II. Data Cleaning and Preparation"
   ]
  },
  {
   "cell_type": "markdown",
   "id": "4e501f4a",
   "metadata": {},
   "source": [
    "### Setting Notebook Options"
   ]
  },
  {
   "cell_type": "code",
   "execution_count": 1,
   "id": "2a43e160",
   "metadata": {},
   "outputs": [
    {
     "data": {
      "text/html": [
       "<style>.container { width:95% !important; }</style>"
      ],
      "text/plain": [
       "<IPython.core.display.HTML object>"
      ]
     },
     "metadata": {},
     "output_type": "display_data"
    }
   ],
   "source": [
    "# Print out all expressions\n",
    "from IPython.core.interactiveshell import InteractiveShell\n",
    "InteractiveShell.ast_node_interactivity = \"all\"\n",
    "# Wider Cells\n",
    "from IPython.display import display, HTML\n",
    "display(HTML(\"<style>.container { width:95% !important; }</style>\"))\n",
    "# Ignore some warnings\n",
    "import warnings\n",
    "warnings.filterwarnings(\"ignore\", category=DeprecationWarning);"
   ]
  },
  {
   "cell_type": "markdown",
   "id": "85d2179e",
   "metadata": {},
   "source": [
    "### Importing Packages"
   ]
  },
  {
   "cell_type": "code",
   "execution_count": 15,
   "id": "90882444",
   "metadata": {},
   "outputs": [
    {
     "data": {
      "text/plain": [
       "True"
      ]
     },
     "execution_count": 15,
     "metadata": {},
     "output_type": "execute_result"
    },
    {
     "data": {
      "text/plain": [
       "True"
      ]
     },
     "execution_count": 15,
     "metadata": {},
     "output_type": "execute_result"
    },
    {
     "data": {
      "text/plain": [
       "True"
      ]
     },
     "execution_count": 15,
     "metadata": {},
     "output_type": "execute_result"
    },
    {
     "data": {
      "text/plain": [
       "True"
      ]
     },
     "execution_count": 15,
     "metadata": {},
     "output_type": "execute_result"
    }
   ],
   "source": [
    "%matplotlib inline\n",
    "\n",
    "# General Packages\n",
    "import pandas as pd\n",
    "import numpy as np\n",
    "import matplotlib.pyplot as plt\n",
    "import re\n",
    "import pickle as pkl\n",
    "import copy\n",
    "\n",
    "# NLP Packages\n",
    "import gensim\n",
    "from gensim.parsing.preprocessing import STOPWORDS\n",
    "from gensim.corpora import Dictionary\n",
    "from gensim.models import LdaModel\n",
    "from gensim.models import CoherenceModel\n",
    "\n",
    "import nltk\n",
    "from nltk.corpus import wordnet\n",
    "from nltk import pos_tag\n",
    "\n",
    "# Download NLTK data\n",
    "nltk.download('wordnet', quiet = True)\n",
    "nltk.download('punkt', quiet = True) \n",
    "nltk.download('averaged_perceptron_tagger', quiet = True)\n",
    "nltk.download('omw-1.4', quiet = True)\n",
    "\n",
    "# Custom Helper Functions\n",
    "import sys  \n",
    "sys.path.insert(0, 'scripts')\n",
    "from helper_functions import plot_freq_dist,get_top_n_words,plot_words_freq"
   ]
  },
  {
   "cell_type": "markdown",
   "id": "fb51d7c4",
   "metadata": {},
   "source": [
    "### Importing and Cleaning Data\n",
    "\n",
    "For the purposes of our investigation, we found that many student reponses included some form of the equation of Ohm's Law. These took the three distinct forms of $V=IR$, $I=V/R$, and $R=V/I$. While we could replace each of these equations with a \"word\" representation such as `VequalsItimesR` or `IequalsVoverR`, we found that this did not contribute much to the final topic distributions. Additionally, because these equations are domain-specific, we would require different data cleaning steps if we were to tackle problems from, say, Heat & Temperature or Momentum."
   ]
  },
  {
   "cell_type": "code",
   "execution_count": 3,
   "id": "04e21002",
   "metadata": {},
   "outputs": [
    {
     "data": {
      "text/html": [
       "<div>\n",
       "<style scoped>\n",
       "    .dataframe tbody tr th:only-of-type {\n",
       "        vertical-align: middle;\n",
       "    }\n",
       "\n",
       "    .dataframe tbody tr th {\n",
       "        vertical-align: top;\n",
       "    }\n",
       "\n",
       "    .dataframe thead th {\n",
       "        text-align: right;\n",
       "    }\n",
       "</style>\n",
       "<table border=\"1\" class=\"dataframe\">\n",
       "  <thead>\n",
       "    <tr style=\"text-align: right;\">\n",
       "      <th></th>\n",
       "      <th>resp</th>\n",
       "    </tr>\n",
       "  </thead>\n",
       "  <tbody>\n",
       "    <tr>\n",
       "      <th>0</th>\n",
       "      <td>Circuit 2 has a larger battery that has a grea...</td>\n",
       "    </tr>\n",
       "    <tr>\n",
       "      <th>1</th>\n",
       "      <td>If the voltage is increased but resistance rem...</td>\n",
       "    </tr>\n",
       "    <tr>\n",
       "      <th>2</th>\n",
       "      <td>Current is equal to charge over time. Move vol...</td>\n",
       "    </tr>\n",
       "    <tr>\n",
       "      <th>3</th>\n",
       "      <td>An increase in voltage indicates an increase i...</td>\n",
       "    </tr>\n",
       "    <tr>\n",
       "      <th>4</th>\n",
       "      <td>Voltage is the change in electric potential. C...</td>\n",
       "    </tr>\n",
       "  </tbody>\n",
       "</table>\n",
       "</div>"
      ],
      "text/plain": [
       "                                                resp\n",
       "0  Circuit 2 has a larger battery that has a grea...\n",
       "1  If the voltage is increased but resistance rem...\n",
       "2  Current is equal to charge over time. Move vol...\n",
       "3  An increase in voltage indicates an increase i...\n",
       "4  Voltage is the change in electric potential. C..."
      ]
     },
     "execution_count": 3,
     "metadata": {},
     "output_type": "execute_result"
    }
   ],
   "source": [
    "df = pd.read_csv('data/compare_bulbs.csv', names = ['ID', 'resp'])\n",
    "df.drop(columns = ['ID'], inplace = True)\n",
    "df.head(5)"
   ]
  },
  {
   "cell_type": "code",
   "execution_count": 4,
   "id": "48a40b03",
   "metadata": {},
   "outputs": [],
   "source": [
    "def ML_process(text): \n",
    "    filt_text = text\n",
    "    \n",
    "    # Clean up equations\n",
    "    # filt_text = re.sub('(V|v)\\s?=\\s?(I|i)\\s?\\*?\\s?(R|r)', 'VequalsItimesR', filt_text)\n",
    "    # filt_text = re.sub('(I|i)\\s?=\\s?(V|v)\\s?/\\s?(R|r)', 'IequalsVoverR', filt_text)\n",
    "    # filt_text = re.sub('(R|r)\\s?=\\s?(V|v)\\s?/\\s?(I|i)', 'RequalsVoverI', filt_text)\n",
    "    #filt_text = re.sub('\\s?=\\s?', '=', filt_text)\n",
    "    \n",
    "    # Replace variables with names outside of equations\n",
    "    # filt_text = re.sub('\\s(V|v)\\s', ' voltage ', filt_text)\n",
    "    # filt_text = re.sub('\\s(R|r)\\s', ' resistance ', filt_text)  \n",
    "    # can't do this with current because 'I' is a pronoun\n",
    "    \n",
    "    # Remove quotes, commas, periods, parentheses\n",
    "    filt_text = re.sub('[\",\\.\\(\\)/]', '', filt_text)\n",
    "    # Remove single quotes\n",
    "    filt_text = re.sub(\"'\", '', filt_text)\n",
    "    \n",
    "    \n",
    "\n",
    "    return filt_text\n",
    "\n",
    "df['replaced'] = df.resp.map(lambda x: ML_process(x))"
   ]
  },
  {
   "cell_type": "markdown",
   "id": "9624d2f4",
   "metadata": {},
   "source": [
    "Let's process our data and look at an example of what the cleaning process did. "
   ]
  },
  {
   "cell_type": "code",
   "execution_count": 5,
   "id": "60b0ef02",
   "metadata": {},
   "outputs": [
    {
     "data": {
      "text/plain": [
       "\"More voltage leads to greater current as when rearranged, Ohm's law is I = V/R, so if V increases, I will also increase.  I manipulate the mathematical model in order to get a specific set of conditions in order to solve the problem.\""
      ]
     },
     "execution_count": 5,
     "metadata": {},
     "output_type": "execute_result"
    },
    {
     "data": {
      "text/plain": [
       "'More voltage leads to greater current as when rearranged Ohms law is I = VR so if V increases I will also increase  I manipulate the mathematical model in order to get a specific set of conditions in order to solve the problem'"
      ]
     },
     "execution_count": 5,
     "metadata": {},
     "output_type": "execute_result"
    }
   ],
   "source": [
    "respnum = 420\n",
    "df['resp'].loc[respnum]\n",
    "df['replaced'].loc[respnum]"
   ]
  },
  {
   "cell_type": "markdown",
   "id": "4be849fe",
   "metadata": {},
   "source": [
    "All we've done here is replace the punctuation in the sentence: the commas, apostrophes, and periods have been removed. We can notice that because this writing is informal, students will often refer to things like \"Current\" and \"Voltage\" as \"I\" and \"V,\" respectively, which leads to these words getting eliminated in the next cleaning steps. While we could go through and replace \"R\" with resistance and \"V\" with voltage (we can't do this with \"I\" because it's also a frequently used pronoun), this also does not add much to the final topic distributions because those words end up being so common that they are eliminated when we filter out the most and least common words. \n",
    "\n"
   ]
  },
  {
   "cell_type": "markdown",
   "id": "237e34c4",
   "metadata": {},
   "source": [
    "### Removing Stopwords, Lemmatizing, and Making Bigrams"
   ]
  },
  {
   "cell_type": "code",
   "execution_count": 6,
   "id": "c59caebd",
   "metadata": {},
   "outputs": [],
   "source": [
    "def sent_to_words(list_sentences):\n",
    "    return [gensim.utils.simple_preprocess(str(sentence), deacc=True) for sentence in list_sentences] \n",
    "\n",
    "def remove_stopwords(tokens):\n",
    "    return [[word for word in gensim.utils.simple_preprocess(str(doc)) if word not in STOPWORDS ] for doc in tokens]\n",
    "\n",
    "def get_wordnet_pos(word): #Provide a POS tag\n",
    "    \"\"\"Map POS tag to first character lemmatize() accepts\"\"\"\n",
    "    tag = pos_tag([word])[0][1][0].upper()\n",
    "    tag_dict = {\"J\": wordnet.ADJ,\n",
    "                \"N\": wordnet.NOUN,\n",
    "                \"V\": wordnet.VERB,\n",
    "                \"R\": wordnet.ADV}\n",
    "    return tag_dict.get(tag, wordnet.NOUN) #return NOUN by default\n",
    "\n",
    "def lemmatize_token(token):\n",
    "    return nltk.stem.WordNetLemmatizer().lemmatize(token, get_wordnet_pos(token))\n",
    "\n",
    "def lemmatize(token_list):\n",
    "    '''Input example: [\"he\", \"matches\", \"the\", \"profile\"]'''\n",
    "    return [lemmatize_token(token) for token in token_list]"
   ]
  },
  {
   "cell_type": "code",
   "execution_count": 7,
   "id": "5558d27c",
   "metadata": {},
   "outputs": [],
   "source": [
    "# Tokenize reponses\n",
    "data_words = sent_to_words(df['replaced'])"
   ]
  },
  {
   "cell_type": "code",
   "execution_count": 8,
   "id": "784b4d77",
   "metadata": {},
   "outputs": [],
   "source": [
    "# Remove stopwords\n",
    "data_words_nostops = remove_stopwords(data_words)"
   ]
  },
  {
   "cell_type": "code",
   "execution_count": 9,
   "id": "b855a1c3",
   "metadata": {},
   "outputs": [],
   "source": [
    "# Lemmatize\n",
    "data_words_lemmatized = [lemmatize(token_list) for token_list in data_words_nostops] "
   ]
  },
  {
   "cell_type": "code",
   "execution_count": 10,
   "id": "8e3f2afc",
   "metadata": {},
   "outputs": [],
   "source": [
    "# Make bigrams\n",
    "phrases = gensim.models.phrases.Phrases(data_words_lemmatized, min_count = 10)\n",
    "bigram = gensim.models.phrases.Phraser(phrases)\n",
    "\n",
    "def make_bigrams(list_tokenized_docs): \n",
    "    return [bigram[doc] for doc in list_tokenized_docs]\n",
    "\n",
    "data_words_bigrams = make_bigrams(data_words_lemmatized)"
   ]
  },
  {
   "cell_type": "markdown",
   "id": "016cd35e",
   "metadata": {},
   "source": [
    "The response from above has now become the following: "
   ]
  },
  {
   "cell_type": "code",
   "execution_count": 11,
   "id": "9e522e27",
   "metadata": {},
   "outputs": [
    {
     "name": "stdout",
     "output_type": "stream",
     "text": [
      "Original: \n",
      "More voltage leads to greater current as when rearranged, Ohm's law is I = V/R, so if V increases, I will also increase.  I manipulate the mathematical model in order to get a specific set of conditions in order to solve the problem.\n",
      "\n",
      "Cleaned & Replaced: \n",
      "More voltage leads to greater current as when rearranged Ohms law is I = VR so if V increases I will also increase  I manipulate the mathematical model in order to get a specific set of conditions in order to solve the problem\n",
      "\n",
      "Tokenized: \n",
      "['more', 'voltage', 'leads', 'to', 'greater', 'current', 'as', 'when', 'rearranged', 'ohms', 'law', 'is', 'vr', 'so', 'if', 'increases', 'will', 'also', 'increase', 'manipulate', 'the', 'mathematical', 'model', 'in', 'order', 'to', 'get', 'specific', 'set', 'of', 'conditions', 'in', 'order', 'to', 'solve', 'the', 'problem']\n",
      "\n",
      "No Stops: \n",
      "['voltage', 'leads', 'greater', 'current', 'rearranged', 'ohms', 'law', 'vr', 'increases', 'increase', 'manipulate', 'mathematical', 'model', 'order', 'specific', 'set', 'conditions', 'order', 'solve', 'problem']\n",
      "\n",
      "Lemmatized: \n",
      "['voltage', 'lead', 'great', 'current', 'rearrange', 'ohm', 'law', 'vr', 'increase', 'increase', 'manipulate', 'mathematical', 'model', 'order', 'specific', 'set', 'condition', 'order', 'solve', 'problem']\n",
      "\n",
      "Bigrams: \n",
      "['voltage', 'lead', 'great', 'current', 'rearrange', 'ohm_law', 'vr', 'increase', 'increase', 'manipulate', 'mathematical', 'model', 'order', 'specific', 'set', 'condition', 'order', 'solve', 'problem']\n"
     ]
    }
   ],
   "source": [
    "print(\"Original: \\n\", df['resp'].loc[respnum], sep = \"\")\n",
    "print()\n",
    "print(\"Cleaned & Replaced: \\n\", df['replaced'].loc[respnum], sep = \"\")\n",
    "print()\n",
    "print(\"Tokenized: \\n\", data_words[respnum], sep = \"\")\n",
    "print()\n",
    "print(\"No Stops: \\n\", data_words_nostops[respnum], sep = \"\")\n",
    "print()\n",
    "print(\"Lemmatized: \\n\", data_words_lemmatized[respnum], sep = \"\")\n",
    "print()\n",
    "print(\"Bigrams: \\n\", data_words_bigrams[respnum], sep = \"\")"
   ]
  },
  {
   "cell_type": "markdown",
   "id": "da2b5cdc",
   "metadata": {},
   "source": [
    "### Plotting top words in all documents"
   ]
  },
  {
   "cell_type": "code",
   "execution_count": 12,
   "id": "eb6ab760",
   "metadata": {},
   "outputs": [
    {
     "name": "stdout",
     "output_type": "stream",
     "text": [
      "Total words: \u001b[1m7952\u001b[0m, unique words: \u001b[1m885\u001b[0m\n"
     ]
    }
   ],
   "source": [
    "corpus = [ w for doc in data_words_bigrams for w in doc ]\n",
    "print('Total words: \\033[1m%d\\033[0m, unique words: \\033[1m%d\\033[0m' % (len(corpus), len(set(corpus))))"
   ]
  },
  {
   "cell_type": "code",
   "execution_count": 13,
   "id": "3df06628",
   "metadata": {},
   "outputs": [
    {
     "data": {
      "image/png": "[encoded data removed]",
      "text/plain": [
       "<Figure size 1080x360 with 1 Axes>"
      ]
     },
     "metadata": {
      "needs_background": "light"
     },
     "output_type": "display_data"
    },
    {
     "data": {
      "image/png": "[encoded data removed]",
      "text/plain": [
       "<Figure size 576x360 with 1 Axes>"
      ]
     },
     "metadata": {
      "needs_background": "light"
     },
     "output_type": "display_data"
    }
   ],
   "source": [
    "[words, freq, ids] = get_top_n_words(corpus, n_top_words=None)\n",
    "fig = plot_freq_dist(freq)\n",
    "fig, ax = plot_words_freq(words, freq)"
   ]
  },
  {
   "cell_type": "markdown",
   "id": "7deec7c3",
   "metadata": {},
   "source": [
    "### Choosing our Filtering Parameters\n",
    "\n",
    "We want to filter out the extremely common and uncommon words, so we will change values of `no_above` and `no_below` to see which words are removed using different values. "
   ]
  },
  {
   "cell_type": "markdown",
   "id": "77da9708",
   "metadata": {},
   "source": [
    "#### Testing the `no_above` Threshold"
   ]
  },
  {
   "cell_type": "code",
   "execution_count": 16,
   "id": "e42d276f",
   "metadata": {},
   "outputs": [
    {
     "name": "stdout",
     "output_type": "stream",
     "text": [
      "Dictionary with \u001b[1mno_above=1\u001b[0m contains \u001b[1m885\u001b[0m unique words\n",
      "\n",
      "Dictionary filtered with \u001b[1mno_above=1.00\u001b[0m contains \u001b[1m885\u001b[0m unique words. \u001b[1m0 words\u001b[0m removed:\n",
      " [] \n",
      "\n",
      "Dictionary filtered with \u001b[1mno_above=0.90\u001b[0m contains \u001b[1m885\u001b[0m unique words. \u001b[1m0 words\u001b[0m removed:\n",
      " [] \n",
      "\n",
      "Dictionary filtered with \u001b[1mno_above=0.80\u001b[0m contains \u001b[1m885\u001b[0m unique words. \u001b[1m0 words\u001b[0m removed:\n",
      " [] \n",
      "\n",
      "Dictionary filtered with \u001b[1mno_above=0.70\u001b[0m contains \u001b[1m883\u001b[0m unique words. \u001b[1m2 words\u001b[0m removed:\n",
      " ['current', 'voltage'] \n",
      "\n",
      "Dictionary filtered with \u001b[1mno_above=0.60\u001b[0m contains \u001b[1m883\u001b[0m unique words. \u001b[1m0 words\u001b[0m removed:\n",
      " [] \n",
      "\n",
      "Dictionary filtered with \u001b[1mno_above=0.50\u001b[0m contains \u001b[1m883\u001b[0m unique words. \u001b[1m0 words\u001b[0m removed:\n",
      " [] \n",
      "\n",
      "Dictionary filtered with \u001b[1mno_above=0.40\u001b[0m contains \u001b[1m883\u001b[0m unique words. \u001b[1m0 words\u001b[0m removed:\n",
      " [] \n",
      "\n",
      "Dictionary filtered with \u001b[1mno_above=0.30\u001b[0m contains \u001b[1m882\u001b[0m unique words. \u001b[1m1 words\u001b[0m removed:\n",
      " ['increase'] \n",
      "\n",
      "Dictionary filtered with \u001b[1mno_above=0.20\u001b[0m contains \u001b[1m872\u001b[0m unique words. \u001b[1m10 words\u001b[0m removed:\n",
      " ['battery', 'circuit', 'electron', 'flow', 'great', 'high', 'lead', 'mean', 'resistance', 'think'] \n",
      "\n",
      "Dictionary filtered with \u001b[1mno_above=0.10\u001b[0m contains \u001b[1m861\u001b[0m unique words. \u001b[1m11 words\u001b[0m removed:\n",
      " ['bulb', 'change', 'charge', 'constant', 'energy', 'faster', 'large', 'like', 'potential_difference', 'push', 'water'] \n",
      "\n"
     ]
    }
   ],
   "source": [
    "no_above_values = [0.9, 0.8, 0.7, 0.6, 0.5, 0.4, 0.3, 0.2, 0.1]\n",
    "\n",
    "# NO ABOVE filtering object\n",
    "id2word_unfiltered_above = gensim.corpora.Dictionary(data_words_bigrams) #Needed for a bug\n",
    "id2word_unfiltered_above.filter_extremes(no_below=0, no_above=1, keep_n=100000)\n",
    "print(\"Dictionary with \\033[1mno_above=1\\033[0m contains \\033[1m%d\\033[0m unique words\\n\" % (len(id2word_unfiltered_above)))\n",
    "\n",
    "# Initial Filtering\n",
    "no_above = 1.0\n",
    "id2word = gensim.corpora.Dictionary(data_words_bigrams)\n",
    "id2word.filter_extremes(no_below=0, no_above=no_above, keep_n=100000)\n",
    "diff_set = set(list(id2word_unfiltered_above.values())) - set(list(id2word.values()))\n",
    "print(\"Dictionary filtered with \\033[1mno_above=%.2f\\033[0m contains \\033[1m%d\\033[0m unique words. \\033[1m%d words\\033[0m removed:\\n %s \\n\" % \n",
    "      (no_above, len(id2word), len(diff_set), sorted(diff_set)))\n",
    "\n",
    "\n",
    "# Other Values of no_above\n",
    "for val in no_above_values: \n",
    "    no_below = 0\n",
    "    no_above = val\n",
    "    id2word_prev = copy.deepcopy(id2word)\n",
    "    id2word.filter_extremes(no_below=no_below, no_above=no_above, keep_n=100000) #NB: no problem filtering again on no_above\n",
    "    diff_set = set(list(id2word_prev.values())) - set(list(id2word.values()))\n",
    "    print(\"Dictionary filtered with \\033[1mno_above=%.2f\\033[0m contains \\033[1m%d\\033[0m unique words. \\033[1m%d words\\033[0m removed:\\n %s \\n\" % \n",
    "          (no_above, len(id2word), len(diff_set), sorted(diff_set)))\n"
   ]
  },
  {
   "cell_type": "markdown",
   "id": "a7f41b90",
   "metadata": {},
   "source": [
    "#### Testing the `no_below` Threshold"
   ]
  },
  {
   "cell_type": "code",
   "execution_count": 17,
   "id": "0b8e228c",
   "metadata": {
    "scrolled": true
   },
   "outputs": [
    {
     "name": "stdout",
     "output_type": "stream",
     "text": [
      "Dictionary with \u001b[1mno_below=1\u001b[0m contains \u001b[1m861\u001b[0m unique words\n",
      "\n",
      "Dictionary filtered with \u001b[1mno_below=1.00\u001b[0m contains \u001b[1m861\u001b[0m unique words. \u001b[1m0 words\u001b[0m removed:\n",
      " [] \n",
      "\n",
      "Dictionary filtered with \u001b[1mno_below=2.00\u001b[0m contains \u001b[1m399\u001b[0m unique words. \u001b[1m462 words\u001b[0m removed:\n",
      " ['aa', 'absorbed', 'accept', 'accumulate', 'accumulation', 'accurately', 'achieves', 'actual', 'adjust', 'aircraft', 'aka', 'akin', 'alarm', 'algebra', 'algebraically', 'alleviate', 'amp', 'analogous', 'anyways', 'apology', 'application', 'applies', 'arrow', 'ask', 'assign', 'attack', 'attempt', 'average', 'back', 'badly', 'bae', 'ballssecond', 'bateries', 'batter', 'batterysource', 'bbbbbbbbb', 'bear', 'bed', 'begin', 'bit', 'blub', 'boost', 'bottle', 'boy', 'breach', 'break', 'bridge', 'brightening', 'brightest', 'brought', 'brunk', 'buld', 'burn', 'burning', 'buzzing', 'cabin', 'cancel', 'cap', 'catch', 'caught', 'cave', 'cell', 'chance', 'charger', 'check', 'chemical', 'circulate', 'circut', 'class', 'classify', 'clear', 'cliff', 'cliffmountain', 'cliffmountains', 'close', 'closer', 'collectively', 'color', 'combine', 'comparable', 'comparison', 'compelling', 'compensates', 'complete', 'compress', 'conceptualize', 'concrete', 'condition', 'confess', 'consequence', 'consider', 'contain', 'container', 'context', 'continue', 'control', 'convert', 'correct', 'correspond', 'course', 'craft', 'crank', 'crate', 'crcuit', 'credit', 'currentfaster', 'damn', 'deal', 'deduce', 'definition', 'degree', 'demand', 'denote', 'depict', 'design', 'device', 'diagram', 'differential', 'differnce', 'dipole', 'disappear', 'distribute', 'divide', 'door', 'dr', 'drastically', 'drill', 'driven', 'dry', 'dryer', 'eagerness', 'earth', 'earthpush', 'eats', 'ed', 'effective', 'effectively', 'efficiently', 'electical', 'election', 'electromotive', 'elevatedlowered', 'emit', 'emits', 'encourage', 'engery', 'engine', 'enhances', 'entire', 'envision', 'epe', 'equalize', 'escalator', 'especially', 'establish', 'euqation', 'evaluation', 'event', 'evokes', 'exert', 'exist', 'exit', 'expensive', 'experience', 'explain', 'extent', 'external', 'face', 'far', 'favorite', 'fed', 'fill', 'final', 'find', 'finger', 'fit', 'flux', 'fly', 'forcefully', 'fq', 'fraction', 'fuel', 'garden', 'gas', 'generally', 'generator', 'gpe', 'grate', 'grav', 'grow', 'hair', 'hallway', 'hand', 'happen', 'happens', 'happy', 'hight', 'highway', 'hiker', 'hit', 'holy', 'honestly', 'huge', 'hull', 'hypothetically', 'icurrent', 'idk', 'ill', 'impetus', 'implies', 'impressed', 'inclined', 'increseas', 'indicative', 'indicator', 'induce', 'information', 'input', 'inte', 'intend', 'intensity', 'intermediately', 'internal', 'interval', 'intrinsic', 'intuitive', 'intuitively', 'ion', 'isolate', 'itll', 'iv', 'ja', 'joule', 'kachow', 'katie', 'keep', 'kenitic', 'keyt', 'kid', 'kinda', 'kinematics', 'kirchhoff', 'leaf', 'lecture', 'likely', 'liken', 'likewise', 'linear', 'little', 'location', 'ma', 'macroscopic', 'magically', 'magitude', 'manipulate', 'match', 'mathematical', 'mathmatically', 'matter', 'max', 'maximum', 'mcqueen', 'measurement', 'mechanic', 'medium', 'melt', 'mental', 'metaphor', 'method', 'mist', 'mister', 'mix', 'mobilize', 'moe', 'motion', 'mroe', 'mv', 'narrow', 'narrowlarge', 'naturally', 'nd', 'near', 'neg', 'net', 'non', 'note', 'notice', 'nqv', 'nqva', 'nqvrhol', 'objectamount', 'obstacle', 'obtain', 'obvious', 'offer', 'open', 'opening', 'opinion', 'organize', 'original', 'originate', 'outdoor', 'parameter', 'parrallel', 'path', 'pe', 'people', 'personal', 'physically', 'place', 'play', 'pool', 'porpotional', 'position', 'potentially', 'practice', 'prevent', 'prior', 'process', 'project', 'propel', 'propensity', 'proportion', 'proton', 'prove', 'proven', 'pullingpushing', 'pullpush', 'pulse', 'pushy', 'qt', 'raise', 'ramp', 'randomly', 'range', 'rawr', 'reach', 'react', 'reaction', 'real', 'realistically', 'reality', 'realize', 'reason', 'regular', 'relieve', 'remember', 'remote', 'replace', 'repulse', 'requirement', 'resisance', 'resistence', 'resistivity', 'resolve', 'response', 'return', 'rhola', 'rid', 'rotate', 'roughly', 'rule', 'rupture', 'saw', 'say', 'scenerio', 'school', 'sectional', 'see', 'sence', 'sent', 'seriesparallel', 'shine', 'short', 'show', 'sign', 'signifies', 'silver', 'simple', 'sims', 'sit', 'situation', 'slide', 'slows', 'snow', 'sourceforce', 'specifically', 'specify', 'splitting', 'square', 'static', 'step', 'stone', 'stop', 'stoppped', 'student', 'subject', 'successfully', 'superheros', 'suppose', 'surely', 'surge', 'switch', 'system', 'systme', 'take', 'taught', 'teacher', 'teem', 'temperature', 'tend', 'tendency', 'tends', 'theoretically', 'thickness', 'throw', 'tight', 'topic', 'track', 'transform', 'transport', 'trouble', 'trust', 'tv', 'unbalanced', 'understood', 'uniform', 'unstable', 'uphill', 'upin', 'upper', 'ups', 'uq', 'useful', 'usually', 'utilization', 'utilized', 'vacuum', 'validity', 'vbigger', 'versus', 'vertical', 'vf', 'violent', 'visual', 'visualization', 'vl', 'vlength', 'vnqrhol', 'vo', 'voltagethe', 'vottage', 'watercurrent', 'wave', 'weak', 'weaker', 'weight', 'wheel', 'world', 'worry', 'yes', 'zero'] \n",
      "\n",
      "Dictionary filtered with \u001b[1mno_below=3.00\u001b[0m contains \u001b[1m265\u001b[0m unique words. \u001b[1m134 words\u001b[0m removed:\n",
      " ['accelerate', 'account', 'accurate', 'actually', 'addition', 'additionally', 'additive', 'affected', 'air', 'arrange', 'associate', 'attract', 'attraction', 'away', 'bc', 'becasue', 'becuase', 'best', 'block', 'boulder', 'bright', 'built', 'calculate', 'chemically', 'clearly', 'component', 'concept', 'conceptually', 'consequently', 'correlate', 'correlation', 'coulomb', 'cover', 'curve', 'dam', 'deltav', 'depend', 'dependent', 'described', 'determines', 'dimmer', 'draw', 'drawn', 'easily', 'equilibrium', 'equivalent', 'exactly', 'excite', 'extra', 'farther', 'feel', 'filament', 'flowcurrent', 'follow', 'formula', 'free', 'gain', 'gap', 'general', 'glow', 'good', 'grows', 'half', 'hard', 'hole', 'id', 'ideal', 'image', 'immediately', 'indicates', 'inside', 'intuition', 'inversely', 'item', 'job', 'ke', 'knowledge', 'leave', 'length', 'level', 'lift', 'longer', 'magnet', 'mind', 'motivates', 'multiple', 'multiply', 'numerator', 'outside', 'past', 'period', 'person', 'plate', 'pressurize', 'pretty', 'put', 'quick', 'ratio', 'receive', 'relates', 'relation', 'relative', 'representation', 'restrict', 'ri', 'rise', 'road', 'role', 'satisfy', 'separate', 'shove', 'simply', 'slope', 'slow', 'speak', 'spray', 'spread', 'spring', 'stable', 'store', 'sum', 'support', 'tank', 'test', 'throughput', 'traffic', 'type', 'ultimately', 'v', 'valley', 'volume', 'well', 'word', 'yield'] \n",
      "\n",
      "Dictionary filtered with \u001b[1mno_below=4.00\u001b[0m contains \u001b[1m207\u001b[0m unique words. \u001b[1m58 words\u001b[0m removed:\n",
      " ['accord', 'achieve', 'additional', 'amperage', 'base', 'build', 'carry', 'common', 'conclude', 'conventional', 'copper', 'cross', 'define', 'density', 'determine', 'drift', 'drive', 'effect', 'exists', 'figure', 'gravitational', 'ground', 'held', 'impact', 'indicate', 'lake', 'learn', 'line', 'main', 'mass', 'math', 'mentally', 'metal', 'new', 'number', 'personally', 'physic', 'physical', 'product', 'property', 'quantity', 'quicker', 'require', 'rush', 'scenario', 'set', 'side', 'simulation', 'single', 'steep', 'steepness', 'strongly', 'sure', 'thats', 'therefor', 'translate', 'volt', 'youre'] \n",
      "\n",
      "Dictionary filtered with \u001b[1mno_below=5.00\u001b[0m contains \u001b[1m167\u001b[0m unique words. \u001b[1m40 words\u001b[0m removed:\n",
      " ['acceleration', 'affect', 'available', 'believe', 'capacity', 'carrier', 'compensate', 'different', 'direct', 'distance', 'easy', 'fact', 'guess', 'head', 'identical', 'isnt', 'kept', 'kind', 'let', 'magnitude', 'opposite', 'output', 'overall', 'powerful', 'problem', 'proportionality', 'question', 'relate', 'section', 'shoot', 'size', 'sort', 'space', 'specific', 'start', 'stream', 'tell', 'total', 'unit', 'view'] \n",
      "\n",
      "Dictionary filtered with \u001b[1mno_below=6.00\u001b[0m contains \u001b[1m145\u001b[0m unique words. \u001b[1m22 words\u001b[0m removed:\n",
      " ['ability', 'apply', 'assume', 'balance', 'basically', 'corresponds', 'delta', 'direction', 'doesnt', 'essentially', 'field', 'form', 'hold', 'idea', 'lot', 'material', 'mountain', 'phet', 'rearrange', 'solve', 'true', 'wont'] \n",
      "\n",
      "Dictionary filtered with \u001b[1mno_below=7.00\u001b[0m contains \u001b[1m126\u001b[0m unique words. \u001b[1m19 words\u001b[0m removed:\n",
      " ['ball', 'compare', 'conductor', 'connect', 'decrease', 'example', 'have', 'movement', 'pass', 'passing', 'picture', 'quickly', 'release', 'similarly', 'strength', 'supply', 'thing', 'tube', 'vi'] \n",
      "\n",
      "Dictionary filtered with \u001b[1mno_below=8.00\u001b[0m contains \u001b[1m106\u001b[0m unique words. \u001b[1m20 words\u001b[0m removed:\n",
      " ['act', 'allow', 'car', 'electricity', 'fall', 'generate', 'get', 'help', 'long', 'object', 'proportionally', 'provide', 'pull', 'pump', 'source', 'state', 'thought', 'twice', 'velocity', 'waterfall'] \n",
      "\n",
      "Dictionary filtered with \u001b[1mno_below=9.00\u001b[0m contains \u001b[1m91\u001b[0m unique words. \u001b[1m15 words\u001b[0m removed:\n",
      " ['come', 'directly', 'dont', 'fast', 'light', 'measure', 'particle', 'remain', 'remains', 'river', 'roll', 'series', 'term', 'value', 'variable'] \n",
      "\n",
      "Dictionary filtered with \u001b[1mno_below=10.00\u001b[0m contains \u001b[1m81\u001b[0m unique words. \u001b[1m10 words\u001b[0m removed:\n",
      " ['allows', 'double', 'hose', 'maintain', 'produce', 'related', 'relationship', 'represent', 'steeper', 'try'] \n",
      "\n",
      "Dictionary filtered with \u001b[1mno_below=11.00\u001b[0m contains \u001b[1m72\u001b[0m unique words. \u001b[1m9 words\u001b[0m removed:\n",
      " ['able', 'area', 'drift_velocity', 'electric', 'harder', 'negative', 'small', 'there', 'turn'] \n",
      "\n",
      "Dictionary filtered with \u001b[1mno_below=12.00\u001b[0m contains \u001b[1m62\u001b[0m unique words. \u001b[1m10 words\u001b[0m removed:\n",
      " ['certain', 'creates', 'gravity', 'im', 'model', 'pas', 'positive', 'run', 'second', 'similar'] \n",
      "\n",
      "Dictionary filtered with \u001b[1mno_below=13.00\u001b[0m contains \u001b[1m58\u001b[0m unique words. \u001b[1m4 words\u001b[0m removed:\n",
      " ['analogy', 'order', 'travel', 'understand'] \n",
      "\n",
      "Dictionary filtered with \u001b[1mno_below=14.00\u001b[0m contains \u001b[1m57\u001b[0m unique words. \u001b[1m1 words\u001b[0m removed:\n",
      " ['visualize'] \n",
      "\n",
      "Dictionary filtered with \u001b[1mno_below=15.00\u001b[0m contains \u001b[1m53\u001b[0m unique words. \u001b[1m4 words\u001b[0m removed:\n",
      " ['add', 'fix', 'hill', 'light_bulb'] \n",
      "\n",
      "Dictionary filtered with \u001b[1mno_below=16.00\u001b[0m contains \u001b[1m47\u001b[0m unique words. \u001b[1m6 words\u001b[0m removed:\n",
      " ['drop', 'electrical', 'end', 'equal', 'lightbulb', 'look'] \n",
      "\n",
      "Dictionary filtered with \u001b[1mno_below=17.00\u001b[0m contains \u001b[1m45\u001b[0m unique words. \u001b[1m2 words\u001b[0m removed:\n",
      " ['create', 'meaning'] \n",
      "\n",
      "Dictionary filtered with \u001b[1mno_below=18.00\u001b[0m contains \u001b[1m40\u001b[0m unique words. \u001b[1m5 words\u001b[0m removed:\n",
      " ['give', 'need', 'pipe', 'want', 'work'] \n",
      "\n",
      "Dictionary filtered with \u001b[1mno_below=19.00\u001b[0m contains \u001b[1m37\u001b[0m unique words. \u001b[1m3 words\u001b[0m removed:\n",
      " ['case', 'imagine', 'point'] \n",
      "\n",
      "Dictionary filtered with \u001b[1mno_below=20.00\u001b[0m contains \u001b[1m35\u001b[0m unique words. \u001b[1m2 words\u001b[0m removed:\n",
      " ['height', 'terminal'] \n",
      "\n",
      "Dictionary filtered with \u001b[1mno_below=21.00\u001b[0m contains \u001b[1m30\u001b[0m unique words. \u001b[1m5 words\u001b[0m removed:\n",
      " ['brightness', 'make', 'make_sense', 'rate', 'way'] \n",
      "\n",
      "Dictionary filtered with \u001b[1mno_below=22.00\u001b[0m contains \u001b[1m27\u001b[0m unique words. \u001b[1m3 words\u001b[0m removed:\n",
      " ['directly_proportional', 'move', 'sense'] \n",
      "\n",
      "Dictionary filtered with \u001b[1mno_below=23.00\u001b[0m contains \u001b[1m25\u001b[0m unique words. \u001b[1m2 words\u001b[0m removed:\n",
      " ['electric_field', 'know'] \n",
      "\n",
      "Dictionary filtered with \u001b[1mno_below=24.00\u001b[0m contains \u001b[1m23\u001b[0m unique words. \u001b[1m2 words\u001b[0m removed:\n",
      " ['low', 'result'] \n",
      "\n",
      "Dictionary filtered with \u001b[1mno_below=25.00\u001b[0m contains \u001b[1m20\u001b[0m unique words. \u001b[1m3 words\u001b[0m removed:\n",
      " ['strong', 'time', 'use'] \n",
      "\n",
      "Dictionary filtered with \u001b[1mno_below=26.00\u001b[0m contains \u001b[1m17\u001b[0m unique words. \u001b[1m3 words\u001b[0m removed:\n",
      " ['mental_model', 'speed', 'vr'] \n",
      "\n",
      "Dictionary filtered with \u001b[1mno_below=27.00\u001b[0m contains \u001b[1m16\u001b[0m unique words. \u001b[1m1 words\u001b[0m removed:\n",
      " ['proportional'] \n",
      "\n",
      "Dictionary filtered with \u001b[1mno_below=28.00\u001b[0m contains \u001b[1m15\u001b[0m unique words. \u001b[1m1 words\u001b[0m removed:\n",
      " ['stay'] \n",
      "\n",
      "Dictionary filtered with \u001b[1mno_below=29.00\u001b[0m contains \u001b[1m15\u001b[0m unique words. \u001b[1m0 words\u001b[0m removed:\n",
      " [] \n",
      "\n"
     ]
    }
   ],
   "source": [
    "no_below_values = [i for i in range(2, 30)]# 3, 4, 5, 6, 7, 8, 9, 10, 11, 12, 13, 1]\n",
    "\n",
    "# NO BELOW filtering object\n",
    "id2word_unfiltered_below = gensim.corpora.Dictionary(data_words_bigrams) #Needed for a bug\n",
    "id2word_unfiltered_below.filter_extremes(no_below=1, no_above=no_above, keep_n=100000)\n",
    "print(\"Dictionary with \\033[1mno_below=1\\033[0m contains \\033[1m%d\\033[0m unique words\\n\" % (len(id2word_unfiltered_below)))\n",
    "\n",
    "\n",
    "\n",
    "# Initial filtering \n",
    "no_below = 1\n",
    "id2word = gensim.corpora.Dictionary(data_words_bigrams)\n",
    "id2word.filter_extremes(no_below=no_below, no_above=no_above, keep_n=100000)\n",
    "diff_set = set(list(id2word_unfiltered_below.values())) - set(list(id2word.values()))\n",
    "print(\"Dictionary filtered with \\033[1mno_below=%.2f\\033[0m contains \\033[1m%d\\033[0m unique words. \\033[1m%d words\\033[0m removed:\\n %s \\n\" % \n",
    "      (no_below, len(id2word), len(diff_set), sorted(diff_set)))\n",
    "\n",
    "\n",
    "# Other values of no_below\n",
    "\n",
    "for val in no_below_values: \n",
    "    no_above = 1\n",
    "    no_below = val\n",
    "    id2word_prev = copy.deepcopy(id2word)\n",
    "    id2word.filter_extremes(no_below=no_below, no_above=no_above, keep_n=100000) #NB: no problem filtering again on no_above\n",
    "    diff_set = set(list(id2word_prev.values())) - set(list(id2word.values()))\n",
    "    print(\"Dictionary filtered with \\033[1mno_below=%.2f\\033[0m contains \\033[1m%d\\033[0m unique words. \\033[1m%d words\\033[0m removed:\\n %s \\n\" % \n",
    "          (no_below, len(id2word), len(diff_set), sorted(diff_set)))"
   ]
  },
  {
   "cell_type": "markdown",
   "id": "325ad593",
   "metadata": {},
   "source": [
    "We will choose a `no_above` value of 1 (for now) and a `no_below` value of 3. \n",
    "\n",
    "For our `no_above` value, we will choose to exclude the most common words (current and voltage) because if we do not, they will be the most predominant words in each topic, thus skewing the distributions in the LDA model. Because we are trying to characterize student ideas about current and voltage, it's not necessary that we include these terms. If we can relate these words to other terms, perhaps we can extract some useful information. \n",
    "\n",
    "For our `no_below` value, we want to include as many words as possible which might lead us toward ideas which students have. We can notice that `no_below=4.00` excludes words such as \"mass,\" \"density,\" \"length,\" \"steep,\" and \"property.\" All of these terms are not directly related to the problem, but provide insight into student ideas. Thus, since we do not want to remove these values, we choose `no_below=3.00`. "
   ]
  },
  {
   "cell_type": "markdown",
   "id": "e48d715a",
   "metadata": {},
   "source": [
    "### Creating our Bag of Words\n",
    "\n",
    "We will now create the bag of words corpus which will be fed to our LDA model in the next section, using the thresholds defined in the previous part. "
   ]
  },
  {
   "cell_type": "code",
   "execution_count": 18,
   "id": "da799a97",
   "metadata": {
    "scrolled": true
   },
   "outputs": [
    {
     "name": "stdout",
     "output_type": "stream",
     "text": [
      "Unfiltered Dictionary contains \u001b[1m885\u001b[0m unique words\n",
      "\n",
      "Applying \u001b[1mno_above=0.5 and no_below=3 removes 598 words\u001b[0m:\n",
      " ['aa', 'absorbed', 'accelerate', 'accept', 'account', 'accumulate', 'accumulation', 'accurate', 'accurately', 'achieves', 'actual', 'actually', 'addition', 'additionally', 'additive', 'adjust', 'affected', 'air', 'aircraft', 'aka', 'akin', 'alarm', 'algebra', 'algebraically', 'alleviate', 'amp', 'analogous', 'anyways', 'apology', 'application', 'applies', 'arrange', 'arrow', 'ask', 'assign', 'associate', 'attack', 'attempt', 'attract', 'attraction', 'average', 'away', 'back', 'badly', 'bae', 'ballssecond', 'bateries', 'batter', 'batterysource', 'bbbbbbbbb', 'bc', 'bear', 'becasue', 'becuase', 'bed', 'begin', 'best', 'bit', 'block', 'blub', 'boost', 'bottle', 'boulder', 'boy', 'breach', 'break', 'bridge', 'bright', 'brightening', 'brightest', 'brought', 'brunk', 'built', 'buld', 'burn', 'burning', 'buzzing', 'cabin', 'calculate', 'cancel', 'cap', 'catch', 'caught', 'cave', 'cell', 'chance', 'charger', 'check', 'chemical', 'chemically', 'circulate', 'circut', 'class', 'classify', 'clear', 'clearly', 'cliff', 'cliffmountain', 'cliffmountains', 'close', 'closer', 'collectively', 'color', 'combine', 'comparable', 'comparison', 'compelling', 'compensates', 'complete', 'component', 'compress', 'concept', 'conceptualize', 'conceptually', 'concrete', 'condition', 'confess', 'consequence', 'consequently', 'consider', 'contain', 'container', 'context', 'continue', 'control', 'convert', 'correct', 'correlate', 'correlation', 'correspond', 'coulomb', 'course', 'cover', 'craft', 'crank', 'crate', 'crcuit', 'credit', 'current', 'currentfaster', 'curve', 'dam', 'damn', 'deal', 'deduce', 'definition', 'degree', 'deltav', 'demand', 'denote', 'depend', 'dependent', 'depict', 'described', 'design', 'determines', 'device', 'diagram', 'differential', 'differnce', 'dimmer', 'dipole', 'disappear', 'distribute', 'divide', 'door', 'dr', 'drastically', 'draw', 'drawn', 'drill', 'driven', 'dry', 'dryer', 'eagerness', 'earth', 'earthpush', 'easily', 'eats', 'ed', 'effective', 'effectively', 'efficiently', 'electical', 'election', 'electromotive', 'elevatedlowered', 'emit', 'emits', 'encourage', 'engery', 'engine', 'enhances', 'entire', 'envision', 'epe', 'equalize', 'equilibrium', 'equivalent', 'escalator', 'especially', 'establish', 'euqation', 'evaluation', 'event', 'evokes', 'exactly', 'excite', 'exert', 'exist', 'exit', 'expensive', 'experience', 'explain', 'extent', 'external', 'extra', 'face', 'far', 'farther', 'favorite', 'fed', 'feel', 'filament', 'fill', 'final', 'find', 'finger', 'fit', 'flowcurrent', 'flux', 'fly', 'follow', 'forcefully', 'formula', 'fq', 'fraction', 'free', 'fuel', 'gain', 'gap', 'garden', 'gas', 'general', 'generally', 'generator', 'glow', 'good', 'gpe', 'grate', 'grav', 'grow', 'grows', 'hair', 'half', 'hallway', 'hand', 'happen', 'happens', 'happy', 'hard', 'hight', 'highway', 'hiker', 'hit', 'hole', 'holy', 'honestly', 'huge', 'hull', 'hypothetically', 'icurrent', 'id', 'ideal', 'idk', 'ill', 'image', 'immediately', 'impetus', 'implies', 'impressed', 'inclined', 'increseas', 'indicates', 'indicative', 'indicator', 'induce', 'information', 'input', 'inside', 'inte', 'intend', 'intensity', 'intermediately', 'internal', 'interval', 'intrinsic', 'intuition', 'intuitive', 'intuitively', 'inversely', 'ion', 'isolate', 'item', 'itll', 'iv', 'ja', 'job', 'joule', 'kachow', 'katie', 'ke', 'keep', 'kenitic', 'keyt', 'kid', 'kinda', 'kinematics', 'kirchhoff', 'knowledge', 'leaf', 'leave', 'lecture', 'length', 'level', 'lift', 'likely', 'liken', 'likewise', 'linear', 'little', 'location', 'longer', 'ma', 'macroscopic', 'magically', 'magitude', 'magnet', 'manipulate', 'match', 'mathematical', 'mathmatically', 'matter', 'max', 'maximum', 'mcqueen', 'measurement', 'mechanic', 'medium', 'melt', 'mental', 'metaphor', 'method', 'mind', 'mist', 'mister', 'mix', 'mobilize', 'moe', 'motion', 'motivates', 'mroe', 'multiple', 'multiply', 'mv', 'narrow', 'narrowlarge', 'naturally', 'nd', 'near', 'neg', 'net', 'non', 'note', 'notice', 'nqv', 'nqva', 'nqvrhol', 'numerator', 'objectamount', 'obstacle', 'obtain', 'obvious', 'offer', 'open', 'opening', 'opinion', 'organize', 'original', 'originate', 'outdoor', 'outside', 'parameter', 'parrallel', 'past', 'path', 'pe', 'people', 'period', 'person', 'personal', 'physically', 'place', 'plate', 'play', 'pool', 'porpotional', 'position', 'potentially', 'practice', 'pressurize', 'pretty', 'prevent', 'prior', 'process', 'project', 'propel', 'propensity', 'proportion', 'proton', 'prove', 'proven', 'pullingpushing', 'pullpush', 'pulse', 'pushy', 'put', 'qt', 'quick', 'raise', 'ramp', 'randomly', 'range', 'ratio', 'rawr', 'reach', 'react', 'reaction', 'real', 'realistically', 'reality', 'realize', 'reason', 'receive', 'regular', 'relates', 'relation', 'relative', 'relieve', 'remember', 'remote', 'replace', 'representation', 'repulse', 'requirement', 'resisance', 'resistence', 'resistivity', 'resolve', 'response', 'restrict', 'return', 'rhola', 'ri', 'rid', 'rise', 'road', 'role', 'rotate', 'roughly', 'rule', 'rupture', 'satisfy', 'saw', 'say', 'scenerio', 'school', 'sectional', 'see', 'sence', 'sent', 'separate', 'seriesparallel', 'shine', 'short', 'shove', 'show', 'sign', 'signifies', 'silver', 'simple', 'simply', 'sims', 'sit', 'situation', 'slide', 'slope', 'slow', 'slows', 'snow', 'sourceforce', 'speak', 'specifically', 'specify', 'splitting', 'spray', 'spread', 'spring', 'square', 'stable', 'static', 'step', 'stone', 'stop', 'stoppped', 'store', 'student', 'subject', 'successfully', 'sum', 'superheros', 'support', 'suppose', 'surely', 'surge', 'switch', 'system', 'systme', 'take', 'tank', 'taught', 'teacher', 'teem', 'temperature', 'tend', 'tendency', 'tends', 'test', 'theoretically', 'thickness', 'throughput', 'throw', 'tight', 'topic', 'track', 'traffic', 'transform', 'transport', 'trouble', 'trust', 'tv', 'type', 'ultimately', 'unbalanced', 'understood', 'uniform', 'unstable', 'uphill', 'upin', 'upper', 'ups', 'uq', 'useful', 'usually', 'utilization', 'utilized', 'v', 'vacuum', 'validity', 'valley', 'vbigger', 'versus', 'vertical', 'vf', 'violent', 'visual', 'visualization', 'vl', 'vlength', 'vnqrhol', 'vo', 'voltage', 'voltagethe', 'volume', 'vottage', 'watercurrent', 'wave', 'weak', 'weaker', 'weight', 'well', 'wheel', 'word', 'world', 'worry', 'yes', 'yield', 'zero'] \n",
      "\n",
      "Filtered Dictionary contains \u001b[1m287\u001b[0m unique words\n",
      "\n"
     ]
    },
    {
     "data": {
      "image/png": "[encoded data removed]",
      "text/plain": [
       "<Figure size 576x360 with 1 Axes>"
      ]
     },
     "metadata": {
      "needs_background": "light"
     },
     "output_type": "display_data"
    },
    {
     "data": {
      "text/plain": [
       "(<Figure size 576x360 with 1 Axes>,\n",
       " <AxesSubplot:title={'center':'Top words in corpus (287 total words)'}, xlabel='Top words', ylabel='Number of occurrences (log scale)'>)"
      ]
     },
     "execution_count": 18,
     "metadata": {},
     "output_type": "execute_result"
    }
   ],
   "source": [
    "no_above = 0.5\n",
    "no_below = 3\n",
    "\n",
    "id2word_unfiltered = gensim.corpora.Dictionary(data_words_bigrams) #Needed for a bug\n",
    "print(\"Unfiltered Dictionary contains \\033[1m{}\\033[0m unique words\".format(len(id2word_unfiltered)))\n",
    "\n",
    "id2word = gensim.corpora.Dictionary(data_words_bigrams)\n",
    "id2word.filter_extremes(no_below=no_below, no_above=no_above, keep_n=100000)\n",
    "\n",
    "#Effect of using no_above\n",
    "diff_set = set(list(id2word_unfiltered.values())) - set(list(id2word.values()))\n",
    "print(\"\\nApplying \\033[1mno_above={} and no_below={} removes {} words\\033[0m:\\n {} \\n\".format(no_above, no_below, len(diff_set), sorted(diff_set)))\n",
    "\n",
    "id2word.filter_extremes(no_below=no_below, no_above=no_above, keep_n=100000) #NB: no problem filtering again on no_above\n",
    "print(\"Filtered Dictionary contains \\033[1m{}\\033[0m unique words\\n\".format(len(id2word)))\n",
    "\n",
    "#Create BoW\n",
    "bow_corpus = [id2word.doc2bow(doc) for doc in data_words_bigrams]\n",
    "\n",
    "#Get most frequent words from id2word Dictionary\n",
    "#There is a bug with csf: https://github.com/RaRe-Technologies/gensim/issues/2574\n",
    "[ids, freq] = zip(*sorted(id2word.cfs.items(), key=lambda x: x[1], reverse=True))\n",
    "words = [id2word_unfiltered[id] for id in ids]  #have to use id2word_unfiltered to retrieve words from ids!!\n",
    "\n",
    "# Plot distribution\n",
    "plot_words_freq(words, freq, 20, ylim=None)"
   ]
  },
  {
   "cell_type": "markdown",
   "id": "72ac7a05",
   "metadata": {},
   "source": [
    "These filtering parameters are not necessarily chosen optimally, but rather by intuition of what may yield good topics. Note that choosing different filtering parameters may drastically impact the topics produced by the LDA model."
   ]
  },
  {
   "cell_type": "markdown",
   "id": "a9348920",
   "metadata": {},
   "source": [
    "## III. Topic Modeling"
   ]
  },
  {
   "cell_type": "markdown",
   "id": "86bc3f67",
   "metadata": {},
   "source": [
    "### Training the Model"
   ]
  },
  {
   "cell_type": "code",
   "execution_count": 26,
   "id": "b676653f",
   "metadata": {},
   "outputs": [],
   "source": [
    "topic_numbers = [3, 4, 5, 6, 7, 8, 9, 10]"
   ]
  },
  {
   "cell_type": "code",
   "execution_count": 27,
   "id": "1ce89704",
   "metadata": {},
   "outputs": [],
   "source": [
    "# %%time \n",
    "# \n",
    "# lda_models = [LdaModel(corpus=bow_corpus, \n",
    "#                        id2word=id2word, \n",
    "#                        num_topics=num,\n",
    "#                        alpha='auto',\n",
    "#                        passes=100, \n",
    "#                        random_state=12) \n",
    "#               for num in topic_numbers]"
   ]
  },
  {
   "cell_type": "code",
   "execution_count": 28,
   "id": "b1a64d7a",
   "metadata": {},
   "outputs": [],
   "source": [
    "# pkl.dump(lda_models, open('lda_models_3-10.pkl', 'wb'))"
   ]
  },
  {
   "cell_type": "code",
   "execution_count": 29,
   "id": "2dc5dc3b",
   "metadata": {},
   "outputs": [],
   "source": [
    "lda_models = pkl.load(open('pickles/compare_bulbs_3-10.pkl', 'rb'))"
   ]
  },
  {
   "cell_type": "code",
   "execution_count": 30,
   "id": "f4e07d30",
   "metadata": {
    "scrolled": false
   },
   "outputs": [
    {
     "name": "stdout",
     "output_type": "stream",
     "text": [
      "3 topics: \n",
      "\n"
     ]
    },
    {
     "data": {
      "text/plain": [
       "[(0,\n",
       "  '0.070*\"water\" + 0.052*\"flow\" + 0.044*\"think\" + 0.035*\"push\" + 0.031*\"large\" + 0.031*\"pressure\" + 0.030*\"electron\" + 0.028*\"great\" + 0.025*\"like\" + 0.023*\"battery\"'),\n",
       " (1,\n",
       "  '0.061*\"high\" + 0.057*\"electron\" + 0.041*\"charge\" + 0.038*\"great\" + 0.037*\"mean\" + 0.033*\"potential\" + 0.029*\"faster\" + 0.026*\"potential_difference\" + 0.023*\"flow\" + 0.023*\"energy\"'),\n",
       " (2,\n",
       "  '0.138*\"increase\" + 0.058*\"resistance\" + 0.052*\"circuit\" + 0.039*\"battery\" + 0.031*\"bulb\" + 0.025*\"constant\" + 0.023*\"lead\" + 0.021*\"power\" + 0.019*\"brighter\" + 0.017*\"ohm_law\"')]"
      ]
     },
     "execution_count": 30,
     "metadata": {},
     "output_type": "execute_result"
    },
    {
     "name": "stdout",
     "output_type": "stream",
     "text": [
      "\n",
      "\n",
      "\n",
      "\n",
      "4 topics: \n",
      "\n"
     ]
    },
    {
     "data": {
      "text/plain": [
       "[(0,\n",
       "  '0.072*\"water\" + 0.050*\"flow\" + 0.041*\"think\" + 0.037*\"great\" + 0.035*\"energy\" + 0.034*\"pressure\" + 0.034*\"large\" + 0.029*\"battery\" + 0.027*\"electron\" + 0.025*\"like\"'),\n",
       " (1,\n",
       "  '0.058*\"electron\" + 0.048*\"force\" + 0.040*\"circuit\" + 0.035*\"mean\" + 0.031*\"high\" + 0.031*\"push\" + 0.030*\"like\" + 0.028*\"faster\" + 0.025*\"think\" + 0.025*\"big\"'),\n",
       " (2,\n",
       "  '0.055*\"high\" + 0.049*\"charge\" + 0.038*\"increase\" + 0.037*\"electron\" + 0.035*\"great\" + 0.030*\"potential_difference\" + 0.029*\"lead\" + 0.028*\"mean\" + 0.028*\"flow\" + 0.027*\"battery\"'),\n",
       " (3,\n",
       "  '0.151*\"increase\" + 0.068*\"resistance\" + 0.053*\"circuit\" + 0.036*\"bulb\" + 0.034*\"battery\" + 0.031*\"constant\" + 0.024*\"brighter\" + 0.024*\"lead\" + 0.023*\"equation\" + 0.021*\"ohm_law\"')]"
      ]
     },
     "execution_count": 30,
     "metadata": {},
     "output_type": "execute_result"
    },
    {
     "name": "stdout",
     "output_type": "stream",
     "text": [
      "\n",
      "\n",
      "\n",
      "\n",
      "5 topics: \n",
      "\n"
     ]
    },
    {
     "data": {
      "text/plain": [
       "[(0,\n",
       "  '0.090*\"water\" + 0.053*\"large\" + 0.053*\"flow\" + 0.044*\"think\" + 0.042*\"energy\" + 0.040*\"pressure\" + 0.028*\"like\" + 0.026*\"great\" + 0.023*\"push\" + 0.023*\"electron\"'),\n",
       " (1,\n",
       "  '0.074*\"electron\" + 0.057*\"force\" + 0.044*\"great\" + 0.041*\"high\" + 0.038*\"big\" + 0.033*\"mean\" + 0.031*\"faster\" + 0.027*\"potential\" + 0.023*\"push\" + 0.022*\"think\"'),\n",
       " (2,\n",
       "  '0.053*\"increase\" + 0.052*\"high\" + 0.050*\"charge\" + 0.039*\"electron\" + 0.033*\"great\" + 0.031*\"battery\" + 0.029*\"lead\" + 0.027*\"flow\" + 0.027*\"mean\" + 0.026*\"potential_difference\"'),\n",
       " (3,\n",
       "  '0.081*\"battery\" + 0.069*\"circuit\" + 0.069*\"power\" + 0.048*\"bulb\" + 0.043*\"increase\" + 0.036*\"brighter\" + 0.029*\"think\" + 0.028*\"push\" + 0.024*\"lead\" + 0.022*\"double\"'),\n",
       " (4,\n",
       "  '0.163*\"increase\" + 0.083*\"resistance\" + 0.048*\"circuit\" + 0.041*\"constant\" + 0.027*\"equation\" + 0.024*\"mean\" + 0.024*\"bulb\" + 0.024*\"ir\" + 0.022*\"ohm_law\" + 0.022*\"change\"')]"
      ]
     },
     "execution_count": 30,
     "metadata": {},
     "output_type": "execute_result"
    },
    {
     "name": "stdout",
     "output_type": "stream",
     "text": [
      "\n",
      "\n",
      "\n",
      "\n",
      "6 topics: \n",
      "\n"
     ]
    },
    {
     "data": {
      "text/plain": [
       "[(0,\n",
       "  '0.076*\"large\" + 0.062*\"energy\" + 0.045*\"great\" + 0.042*\"flow\" + 0.038*\"battery\" + 0.036*\"think\" + 0.032*\"electron\" + 0.028*\"potential\" + 0.027*\"potential_difference\" + 0.023*\"mean\"'),\n",
       " (1,\n",
       "  '0.072*\"high\" + 0.065*\"electron\" + 0.049*\"force\" + 0.049*\"great\" + 0.043*\"mean\" + 0.030*\"potential\" + 0.029*\"circuit\" + 0.027*\"low\" + 0.027*\"faster\" + 0.024*\"charge\"'),\n",
       " (2,\n",
       "  '0.056*\"charge\" + 0.053*\"increase\" + 0.043*\"electron\" + 0.039*\"high\" + 0.030*\"faster\" + 0.030*\"lead\" + 0.029*\"battery\" + 0.029*\"great\" + 0.028*\"flow\" + 0.028*\"potential_difference\"'),\n",
       " (3,\n",
       "  '0.080*\"power\" + 0.069*\"circuit\" + 0.062*\"battery\" + 0.052*\"increase\" + 0.050*\"bulb\" + 0.045*\"push\" + 0.041*\"brighter\" + 0.027*\"think\" + 0.021*\"resistance\" + 0.020*\"great\"'),\n",
       " (4,\n",
       "  '0.177*\"increase\" + 0.082*\"resistance\" + 0.043*\"circuit\" + 0.043*\"constant\" + 0.029*\"equation\" + 0.025*\"bulb\" + 0.025*\"ohm_law\" + 0.024*\"lead\" + 0.023*\"ir\" + 0.021*\"change\"'),\n",
       " (5,\n",
       "  '0.190*\"water\" + 0.082*\"pressure\" + 0.054*\"like\" + 0.052*\"flow\" + 0.044*\"pipe\" + 0.044*\"think\" + 0.027*\"increase\" + 0.026*\"pump\" + 0.026*\"push\" + 0.023*\"faster\"')]"
      ]
     },
     "execution_count": 30,
     "metadata": {},
     "output_type": "execute_result"
    },
    {
     "name": "stdout",
     "output_type": "stream",
     "text": [
      "\n",
      "\n",
      "\n",
      "\n",
      "7 topics: \n",
      "\n"
     ]
    },
    {
     "data": {
      "text/plain": [
       "[(0,\n",
       "  '0.067*\"energy\" + 0.059*\"large\" + 0.046*\"flow\" + 0.046*\"battery\" + 0.044*\"electron\" + 0.037*\"think\" + 0.033*\"great\" + 0.027*\"circuit\" + 0.027*\"potential\" + 0.026*\"potential_difference\"'),\n",
       " (1,\n",
       "  '0.057*\"great\" + 0.052*\"mean\" + 0.051*\"high\" + 0.048*\"electron\" + 0.045*\"power\" + 0.034*\"brighter\" + 0.033*\"bulb\" + 0.031*\"think\" + 0.030*\"circuit\" + 0.029*\"flow\"'),\n",
       " (2,\n",
       "  '0.055*\"increase\" + 0.053*\"high\" + 0.044*\"lead\" + 0.032*\"flow\" + 0.030*\"potential_difference\" + 0.026*\"wire\" + 0.026*\"hill\" + 0.026*\"electron\" + 0.024*\"resistor\" + 0.022*\"order\"'),\n",
       " (3,\n",
       "  '0.064*\"battery\" + 0.063*\"push\" + 0.048*\"circuit\" + 0.047*\"increase\" + 0.043*\"big\" + 0.029*\"electron\" + 0.026*\"flow\" + 0.024*\"force\" + 0.024*\"resistance\" + 0.020*\"add\"'),\n",
       " (4,\n",
       "  '0.188*\"increase\" + 0.086*\"resistance\" + 0.060*\"circuit\" + 0.040*\"constant\" + 0.032*\"bulb\" + 0.029*\"equation\" + 0.025*\"ir\" + 0.023*\"change\" + 0.023*\"stay\" + 0.023*\"ohm_law\"'),\n",
       " (5,\n",
       "  '0.181*\"water\" + 0.063*\"like\" + 0.059*\"pressure\" + 0.050*\"flow\" + 0.042*\"pipe\" + 0.038*\"think\" + 0.036*\"increase\" + 0.025*\"battery\" + 0.025*\"pump\" + 0.024*\"double\"'),\n",
       " (6,\n",
       "  '0.058*\"charge\" + 0.054*\"high\" + 0.043*\"great\" + 0.042*\"electron\" + 0.036*\"push\" + 0.035*\"faster\" + 0.034*\"mean\" + 0.032*\"increase\" + 0.025*\"electric_potential\" + 0.021*\"potential_difference\"')]"
      ]
     },
     "execution_count": 30,
     "metadata": {},
     "output_type": "execute_result"
    },
    {
     "name": "stdout",
     "output_type": "stream",
     "text": [
      "\n",
      "\n",
      "\n",
      "\n",
      "8 topics: \n",
      "\n"
     ]
    },
    {
     "data": {
      "text/plain": [
       "[(0,\n",
       "  '0.120*\"water\" + 0.080*\"flow\" + 0.063*\"think\" + 0.045*\"pressure\" + 0.040*\"energy\" + 0.036*\"electron\" + 0.030*\"pipe\" + 0.029*\"like\" + 0.027*\"large\" + 0.024*\"potential\"'),\n",
       " (1,\n",
       "  '0.060*\"power\" + 0.055*\"circuit\" + 0.049*\"force\" + 0.048*\"electron\" + 0.045*\"directly_proportional\" + 0.033*\"think\" + 0.031*\"mean\" + 0.030*\"resistance\" + 0.028*\"high\" + 0.025*\"flow\"'),\n",
       " (2,\n",
       "  '0.098*\"increase\" + 0.053*\"lead\" + 0.049*\"battery\" + 0.048*\"high\" + 0.043*\"electron\" + 0.029*\"flow\" + 0.027*\"potential_difference\" + 0.026*\"wire\" + 0.026*\"difference\" + 0.023*\"energy\"'),\n",
       " (3,\n",
       "  '0.145*\"battery\" + 0.060*\"great\" + 0.055*\"circuit\" + 0.034*\"increase\" + 0.034*\"add\" + 0.032*\"think\" + 0.028*\"case\" + 0.026*\"way\" + 0.021*\"flow\" + 0.021*\"source\"'),\n",
       " (4,\n",
       "  '0.176*\"increase\" + 0.096*\"resistance\" + 0.049*\"bulb\" + 0.049*\"circuit\" + 0.042*\"constant\" + 0.030*\"equation\" + 0.028*\"ir\" + 0.027*\"brighter\" + 0.026*\"change\" + 0.025*\"stay\"'),\n",
       " (5,\n",
       "  '0.084*\"circuit\" + 0.075*\"like\" + 0.052*\"battery\" + 0.045*\"pump\" + 0.045*\"double\" + 0.042*\"increase\" + 0.033*\"cause\" + 0.031*\"water\" + 0.027*\"vr\" + 0.024*\"waterfall\"'),\n",
       " (6,\n",
       "  '0.062*\"charge\" + 0.056*\"push\" + 0.048*\"large\" + 0.048*\"great\" + 0.048*\"mean\" + 0.041*\"potential_difference\" + 0.037*\"increase\" + 0.032*\"electron\" + 0.028*\"electric_field\" + 0.025*\"faster\"'),\n",
       " (7,\n",
       "  '0.097*\"high\" + 0.049*\"potential\" + 0.047*\"great\" + 0.045*\"electron\" + 0.031*\"hill\" + 0.029*\"faster\" + 0.025*\"low\" + 0.022*\"charge\" + 0.019*\"speed\" + 0.019*\"mean\"')]"
      ]
     },
     "execution_count": 30,
     "metadata": {},
     "output_type": "execute_result"
    },
    {
     "name": "stdout",
     "output_type": "stream",
     "text": [
      "\n",
      "\n",
      "\n",
      "\n",
      "9 topics: \n",
      "\n"
     ]
    },
    {
     "data": {
      "text/plain": [
       "[(0,\n",
       "  '0.084*\"battery\" + 0.080*\"energy\" + 0.067*\"great\" + 0.038*\"circuit\" + 0.032*\"think\" + 0.030*\"potential_difference\" + 0.028*\"potential\" + 0.026*\"electric_potential\" + 0.024*\"large\" + 0.021*\"strong\"'),\n",
       " (1,\n",
       "  '0.101*\"bulb\" + 0.095*\"power\" + 0.083*\"high\" + 0.070*\"resistance\" + 0.057*\"brighter\" + 0.056*\"directly_proportional\" + 0.043*\"mean\" + 0.032*\"great\" + 0.030*\"lead\" + 0.029*\"circuit\"'),\n",
       " (2,\n",
       "  '0.067*\"increase\" + 0.057*\"lead\" + 0.049*\"high\" + 0.049*\"electron\" + 0.043*\"battery\" + 0.043*\"flow\" + 0.041*\"potential_difference\" + 0.033*\"think\" + 0.026*\"wire\" + 0.022*\"drop\"'),\n",
       " (3,\n",
       "  '0.071*\"battery\" + 0.070*\"big\" + 0.063*\"circuit\" + 0.037*\"add\" + 0.035*\"think\" + 0.033*\"power\" + 0.032*\"increase\" + 0.030*\"like\" + 0.026*\"push\" + 0.026*\"brighter\"'),\n",
       " (4,\n",
       "  '0.232*\"increase\" + 0.099*\"resistance\" + 0.055*\"circuit\" + 0.051*\"constant\" + 0.036*\"equation\" + 0.030*\"ir\" + 0.027*\"ohm_law\" + 0.027*\"change\" + 0.026*\"vr\" + 0.024*\"stay\"'),\n",
       " (5,\n",
       "  '0.144*\"water\" + 0.109*\"pressure\" + 0.065*\"like\" + 0.063*\"pipe\" + 0.058*\"think\" + 0.046*\"increase\" + 0.036*\"pump\" + 0.035*\"flow\" + 0.032*\"push\" + 0.021*\"faster\"'),\n",
       " (6,\n",
       "  '0.063*\"charge\" + 0.053*\"mean\" + 0.051*\"electron\" + 0.042*\"large\" + 0.042*\"push\" + 0.041*\"high\" + 0.041*\"great\" + 0.033*\"potential_difference\" + 0.028*\"force\" + 0.028*\"circuit\"'),\n",
       " (7,\n",
       "  '0.068*\"high\" + 0.045*\"electron\" + 0.042*\"great\" + 0.039*\"hill\" + 0.036*\"faster\" + 0.034*\"potential\" + 0.032*\"want\" + 0.027*\"low\" + 0.025*\"speed\" + 0.023*\"charge\"'),\n",
       " (8,\n",
       "  '0.110*\"water\" + 0.079*\"flow\" + 0.058*\"electron\" + 0.036*\"increase\" + 0.034*\"river\" + 0.030*\"like\" + 0.029*\"gravity\" + 0.028*\"hose\" + 0.027*\"think\" + 0.026*\"fall\"')]"
      ]
     },
     "execution_count": 30,
     "metadata": {},
     "output_type": "execute_result"
    },
    {
     "name": "stdout",
     "output_type": "stream",
     "text": [
      "\n",
      "\n",
      "\n",
      "\n",
      "10 topics: \n",
      "\n"
     ]
    },
    {
     "data": {
      "text/plain": [
       "[(0,\n",
       "  '0.066*\"energy\" + 0.058*\"think\" + 0.054*\"battery\" + 0.050*\"circuit\" + 0.049*\"great\" + 0.037*\"large\" + 0.034*\"difference\" + 0.028*\"flow\" + 0.025*\"potential\" + 0.023*\"like\"'),\n",
       " (1,\n",
       "  '0.107*\"force\" + 0.102*\"electron\" + 0.076*\"mean\" + 0.051*\"potential_difference\" + 0.047*\"push\" + 0.040*\"circuit\" + 0.035*\"great\" + 0.033*\"faster\" + 0.024*\"resistance\" + 0.024*\"directly_proportional\"'),\n",
       " (2,\n",
       "  '0.105*\"lead\" + 0.067*\"electron\" + 0.061*\"potential_difference\" + 0.055*\"high\" + 0.055*\"increase\" + 0.036*\"wire\" + 0.033*\"flow\" + 0.032*\"battery\" + 0.030*\"drop\" + 0.025*\"energy\"'),\n",
       " (3,\n",
       "  '0.368*\"increase\" + 0.079*\"resistance\" + 0.068*\"constant\" + 0.050*\"circuit\" + 0.050*\"ir\" + 0.034*\"stay\" + 0.028*\"lead\" + 0.015*\"turn\" + 0.013*\"source\" + 0.013*\"long\"'),\n",
       " (4,\n",
       "  '0.092*\"increase\" + 0.065*\"resistance\" + 0.056*\"bulb\" + 0.049*\"circuit\" + 0.042*\"brighter\" + 0.036*\"battery\" + 0.036*\"equation\" + 0.034*\"power\" + 0.029*\"mean\" + 0.029*\"ohm_law\"'),\n",
       " (5,\n",
       "  '0.090*\"circuit\" + 0.067*\"vr\" + 0.058*\"pump\" + 0.057*\"double\" + 0.046*\"battery\" + 0.042*\"waterfall\" + 0.038*\"like\" + 0.038*\"brightness\" + 0.030*\"make_sense\" + 0.029*\"resistance\"'),\n",
       " (6,\n",
       "  '0.089*\"charge\" + 0.052*\"mean\" + 0.039*\"battery\" + 0.037*\"push\" + 0.032*\"high\" + 0.030*\"energy\" + 0.030*\"large\" + 0.028*\"electric_potential\" + 0.025*\"great\" + 0.024*\"circuit\"'),\n",
       " (7,\n",
       "  '0.108*\"high\" + 0.060*\"great\" + 0.050*\"potential\" + 0.042*\"electron\" + 0.037*\"faster\" + 0.036*\"low\" + 0.036*\"hill\" + 0.026*\"charge\" + 0.024*\"circuit\" + 0.022*\"difference\"'),\n",
       " (8,\n",
       "  '0.119*\"big\" + 0.061*\"flow\" + 0.050*\"large\" + 0.048*\"gravity\" + 0.042*\"battery\" + 0.038*\"electron\" + 0.030*\"proportional\" + 0.029*\"fall\" + 0.026*\"resistance\" + 0.024*\"speed\"'),\n",
       " (9,\n",
       "  '0.152*\"water\" + 0.085*\"flow\" + 0.067*\"pressure\" + 0.063*\"think\" + 0.043*\"like\" + 0.039*\"push\" + 0.036*\"pipe\" + 0.027*\"great\" + 0.027*\"electron\" + 0.025*\"increase\"')]"
      ]
     },
     "execution_count": 30,
     "metadata": {},
     "output_type": "execute_result"
    },
    {
     "name": "stdout",
     "output_type": "stream",
     "text": [
      "\n",
      "\n",
      "\n",
      "\n"
     ]
    }
   ],
   "source": [
    "for ind, val in enumerate(topic_numbers): \n",
    "    print(val, \"topics:\", \"\\n\")\n",
    "    lda_models[ind].show_topics(num_words=10, \n",
    "                                num_topics = val)\n",
    "    print(\"\\n\\n\\n\")"
   ]
  },
  {
   "cell_type": "markdown",
   "id": "2c9cfaec",
   "metadata": {},
   "source": [
    "### Evaluating Model Coherence"
   ]
  },
  {
   "cell_type": "code",
   "execution_count": 31,
   "id": "03019800",
   "metadata": {},
   "outputs": [],
   "source": [
    "coherences = [CoherenceModel(model = model, \n",
    "                             texts = data_words_bigrams, \n",
    "                             dictionary = id2word, \n",
    "                             coherence = 'c_v').get_coherence()\n",
    "              for model in lda_models]"
   ]
  },
  {
   "cell_type": "code",
   "execution_count": 32,
   "id": "605036d0",
   "metadata": {},
   "outputs": [
    {
     "name": "stdout",
     "output_type": "stream",
     "text": [
      "Coherence of model with 3 topics: 0.4624821002177489 \n",
      "\n",
      "Coherence of model with 4 topics: 0.44896074898627686 \n",
      "\n",
      "Coherence of model with 5 topics: 0.4625408941484136 \n",
      "\n",
      "Coherence of model with 6 topics: 0.4545947105475539 \n",
      "\n",
      "Coherence of model with 7 topics: 0.41926448306461944 \n",
      "\n",
      "Coherence of model with 8 topics: 0.4111275113328625 \n",
      "\n",
      "Coherence of model with 9 topics: 0.4175545843611398 \n",
      "\n",
      "Coherence of model with 10 topics: 0.42018663923405536 \n",
      "\n"
     ]
    }
   ],
   "source": [
    "for ind, val in enumerate(topic_numbers): \n",
    "    print(\"Coherence of model with {} topics:\".format(val), \n",
    "          coherences[ind], \"\\n\")"
   ]
  },
  {
   "cell_type": "markdown",
   "id": "46aa35b8",
   "metadata": {},
   "source": [
    "### Representative Responses for each Topic\n",
    "\n",
    "We'll choose the number of topics automatically according to whichever topic number yielded the highest coherence value."
   ]
  },
  {
   "cell_type": "code",
   "execution_count": 33,
   "id": "c40f7001",
   "metadata": {},
   "outputs": [
    {
     "name": "stdout",
     "output_type": "stream",
     "text": [
      "For this analysis, we choose the 5 topic model, with a coherence of 0.4625408941484136\n"
     ]
    }
   ],
   "source": [
    "best_ind = np.argmax(coherences) # Choose the model which maximizes coherence\n",
    "# best_ind = 2\n",
    "\n",
    "num_topics = topic_numbers[best_ind]\n",
    "lda_model = lda_models[best_ind]\n",
    "\n",
    "print(\"For this analysis, we choose the {} topic model, with a coherence of {}\".format(num_topics, coherences[best_ind]))"
   ]
  },
  {
   "cell_type": "code",
   "execution_count": 34,
   "id": "97d4d960",
   "metadata": {},
   "outputs": [
    {
     "data": {
      "text/plain": [
       "2"
      ]
     },
     "execution_count": 34,
     "metadata": {},
     "output_type": "execute_result"
    }
   ],
   "source": [
    "best_ind"
   ]
  },
  {
   "cell_type": "code",
   "execution_count": 35,
   "id": "71be0661",
   "metadata": {},
   "outputs": [],
   "source": [
    "def get_weight_in_doc(ldamodel, corpus, doc_num, fill=0):\n",
    "    \"\"\" Get the weigth for each topic in a document\n",
    "    Inputs: ldamodel, corpus, doc_num, fill (value when topic was not found)\n",
    "    Output: list of tuples [(<topic number>, <topic weight>)]\n",
    "    \"\"\"\n",
    "    num_topics = ldamodel.num_topics\n",
    "    weights = [fill] * num_topics\n",
    "    # Get a list of tuples with the detected topics and weights\n",
    "    row = ldamodel[corpus][doc_num]\n",
    "    # Process the output to return a list of weights\n",
    "    tw = list(zip(*row))\n",
    "    for topic in range(num_topics):\n",
    "        if topic in tw[0]:\n",
    "            ind = tw[0].index(topic)\n",
    "            weights[topic] = tw[1][ind]\n",
    "    return weights\n",
    "\n",
    "def get_weight_per_doc(ldamodel, corpus):\n",
    "    \"\"\" Get a document by topic weight Dataframe \n",
    "    Inputs: ldamodel, corpus\n",
    "    \"\"\"\n",
    "    num_topics = ldamodel.num_topics\n",
    "    dataframe = pd.DataFrame(np.zeros((len(corpus),num_topics)), columns=list(range(num_topics)))\n",
    "    dataframe.index.name = 'Topic weights'\n",
    "    for i, row in dataframe.iterrows():\n",
    "        dataframe.iloc[i] = pd.Series(get_weight_in_doc(ldamodel, corpus, i))\n",
    "    return dataframe\n",
    "\n",
    "weights = get_weight_per_doc(lda_model, bow_corpus)\n",
    "\n",
    "df_weighted = pd.concat([df, weights], axis = 1)"
   ]
  },
  {
   "cell_type": "code",
   "execution_count": 36,
   "id": "b8b393fd",
   "metadata": {},
   "outputs": [
    {
     "data": {
      "text/html": [
       "<div>\n",
       "<style scoped>\n",
       "    .dataframe tbody tr th:only-of-type {\n",
       "        vertical-align: middle;\n",
       "    }\n",
       "\n",
       "    .dataframe tbody tr th {\n",
       "        vertical-align: top;\n",
       "    }\n",
       "\n",
       "    .dataframe thead th {\n",
       "        text-align: right;\n",
       "    }\n",
       "</style>\n",
       "<table border=\"1\" class=\"dataframe\">\n",
       "  <thead>\n",
       "    <tr style=\"text-align: right;\">\n",
       "      <th></th>\n",
       "      <th>resp</th>\n",
       "      <th>replaced</th>\n",
       "      <th>0</th>\n",
       "      <th>1</th>\n",
       "      <th>2</th>\n",
       "      <th>3</th>\n",
       "      <th>4</th>\n",
       "    </tr>\n",
       "  </thead>\n",
       "  <tbody>\n",
       "    <tr>\n",
       "      <th>0</th>\n",
       "      <td>Circuit 2 has a larger battery that has a grea...</td>\n",
       "      <td>Circuit 2 has a larger battery that has a grea...</td>\n",
       "      <td>0.471262</td>\n",
       "      <td>0.000000</td>\n",
       "      <td>0.182775</td>\n",
       "      <td>0.336412</td>\n",
       "      <td>0.000000</td>\n",
       "    </tr>\n",
       "    <tr>\n",
       "      <th>1</th>\n",
       "      <td>If the voltage is increased but resistance rem...</td>\n",
       "      <td>If the voltage is increased but resistance rem...</td>\n",
       "      <td>0.000000</td>\n",
       "      <td>0.000000</td>\n",
       "      <td>0.011220</td>\n",
       "      <td>0.000000</td>\n",
       "      <td>0.970128</td>\n",
       "    </tr>\n",
       "    <tr>\n",
       "      <th>2</th>\n",
       "      <td>Current is equal to charge over time. Move vol...</td>\n",
       "      <td>Current is equal to charge over time Move volt...</td>\n",
       "      <td>0.000000</td>\n",
       "      <td>0.312728</td>\n",
       "      <td>0.664570</td>\n",
       "      <td>0.000000</td>\n",
       "      <td>0.010863</td>\n",
       "    </tr>\n",
       "    <tr>\n",
       "      <th>3</th>\n",
       "      <td>An increase in voltage indicates an increase i...</td>\n",
       "      <td>An increase in voltage indicates an increase i...</td>\n",
       "      <td>0.011598</td>\n",
       "      <td>0.000000</td>\n",
       "      <td>0.271025</td>\n",
       "      <td>0.000000</td>\n",
       "      <td>0.699866</td>\n",
       "    </tr>\n",
       "    <tr>\n",
       "      <th>4</th>\n",
       "      <td>Voltage is the change in electric potential. C...</td>\n",
       "      <td>Voltage is the change in electric potential Cu...</td>\n",
       "      <td>0.000000</td>\n",
       "      <td>0.000000</td>\n",
       "      <td>0.975137</td>\n",
       "      <td>0.000000</td>\n",
       "      <td>0.000000</td>\n",
       "    </tr>\n",
       "  </tbody>\n",
       "</table>\n",
       "</div>"
      ],
      "text/plain": [
       "                                                resp  \\\n",
       "0  Circuit 2 has a larger battery that has a grea...   \n",
       "1  If the voltage is increased but resistance rem...   \n",
       "2  Current is equal to charge over time. Move vol...   \n",
       "3  An increase in voltage indicates an increase i...   \n",
       "4  Voltage is the change in electric potential. C...   \n",
       "\n",
       "                                            replaced         0         1  \\\n",
       "0  Circuit 2 has a larger battery that has a grea...  0.471262  0.000000   \n",
       "1  If the voltage is increased but resistance rem...  0.000000  0.000000   \n",
       "2  Current is equal to charge over time Move volt...  0.000000  0.312728   \n",
       "3  An increase in voltage indicates an increase i...  0.011598  0.000000   \n",
       "4  Voltage is the change in electric potential Cu...  0.000000  0.000000   \n",
       "\n",
       "          2         3         4  \n",
       "0  0.182775  0.336412  0.000000  \n",
       "1  0.011220  0.000000  0.970128  \n",
       "2  0.664570  0.000000  0.010863  \n",
       "3  0.271025  0.000000  0.699866  \n",
       "4  0.975137  0.000000  0.000000  "
      ]
     },
     "execution_count": 36,
     "metadata": {},
     "output_type": "execute_result"
    }
   ],
   "source": [
    "df_weighted.head(5)"
   ]
  },
  {
   "cell_type": "code",
   "execution_count": 37,
   "id": "70caa8ba",
   "metadata": {
    "scrolled": false
   },
   "outputs": [
    {
     "name": "stdout",
     "output_type": "stream",
     "text": [
      "Topic 0: 0.090*\"water\" + 0.053*\"large\" + 0.053*\"flow\" + 0.044*\"think\" + 0.042*\"energy\" + 0.040*\"pressure\" + 0.028*\"like\" + 0.026*\"great\" + 0.023*\"push\" + 0.023*\"electron\"\n"
     ]
    },
    {
     "data": {
      "text/html": [
       "<table border=\"1\" class=\"dataframe\">\n",
       "  <thead>\n",
       "    <tr style=\"text-align: right;\">\n",
       "      <th></th>\n",
       "      <th>resp</th>\n",
       "      <th>0</th>\n",
       "      <th>1</th>\n",
       "      <th>2</th>\n",
       "      <th>3</th>\n",
       "      <th>4</th>\n",
       "    </tr>\n",
       "  </thead>\n",
       "  <tbody>\n",
       "    <tr>\n",
       "      <th>219</th>\n",
       "      <td>I use the metal model of a river or lake filled with water. Water flows through a river like current flows through circuits. If you think of potential difference in terms of a river or lake, when one end of the river is higher than the other the water flows more and with more current. There is a greater gravitational potential difference between the two river ends. It is the same with electricity, when the electric potential is greater, more current can flow. More electron are allowed to flow.</td>\n",
       "      <td>0.991588</td>\n",
       "      <td>0.0</td>\n",
       "      <td>0.0</td>\n",
       "      <td>0.0</td>\n",
       "      <td>0.0</td>\n",
       "    </tr>\n",
       "    <tr>\n",
       "      <th>460</th>\n",
       "      <td>More voltage leads to more current, because if there is more potential (or, less accurately, pressure) for electron flow, and the resistance remains constant, more electrons will flow. An analogy would be putting your finger over a hose to create a pressurized stream. If you then crank the water up, more water will spray out, and it will spray out faster. I don't understand exactly what the question means by mental models, besides the water hose analogy given. My apologies if this isn't what was intended.</td>\n",
       "      <td>0.989432</td>\n",
       "      <td>0.0</td>\n",
       "      <td>0.0</td>\n",
       "      <td>0.0</td>\n",
       "      <td>0.0</td>\n",
       "    </tr>\n",
       "    <tr>\n",
       "      <th>401</th>\n",
       "      <td>I think more voltage leads to more current because larger the change voltage the stronger the electric current. I use the mental model of a pressurized container or aircraft. If this aircraft is in an area of  different pressure, and if there is a hull breach the air inside the craft will equalize outside. Depending on how much pressure there is compared to the outside it can be especially violent and quick. The difference in pressure in the example is the voltage, and the bigger the difference the stronger and more violent the cabin will equalize.</td>\n",
       "      <td>0.985066</td>\n",
       "      <td>0.0</td>\n",
       "      <td>0.0</td>\n",
       "      <td>0.0</td>\n",
       "      <td>0.0</td>\n",
       "    </tr>\n",
       "  </tbody>\n",
       "</table>"
      ],
      "text/plain": [
       "<IPython.core.display.HTML object>"
      ]
     },
     "metadata": {},
     "output_type": "display_data"
    },
    {
     "name": "stdout",
     "output_type": "stream",
     "text": [
      "\n",
      "\n",
      "\n",
      "Topic 1: 0.074*\"electron\" + 0.057*\"force\" + 0.044*\"great\" + 0.041*\"high\" + 0.038*\"big\" + 0.033*\"mean\" + 0.031*\"faster\" + 0.027*\"potential\" + 0.023*\"push\" + 0.022*\"think\"\n"
     ]
    },
    {
     "data": {
      "text/html": [
       "<table border=\"1\" class=\"dataframe\">\n",
       "  <thead>\n",
       "    <tr style=\"text-align: right;\">\n",
       "      <th></th>\n",
       "      <th>resp</th>\n",
       "      <th>0</th>\n",
       "      <th>1</th>\n",
       "      <th>2</th>\n",
       "      <th>3</th>\n",
       "      <th>4</th>\n",
       "    </tr>\n",
       "  </thead>\n",
       "  <tbody>\n",
       "    <tr>\n",
       "      <th>101</th>\n",
       "      <td>More voltage leads to more current because it has a higher potential. Think about the electrons like holding something off the ground. The object wants to be on the ground because it is pulled by gravity, giving it potential. This is the same for the electrons. The electrons want to be near the positive terminal so they too have potential. The more potential (the higher off the ground) means the more force there is pulling it to where it wants to be, which means there must be more electrons to flow.</td>\n",
       "      <td>0.0</td>\n",
       "      <td>0.990241</td>\n",
       "      <td>0.0</td>\n",
       "      <td>0.0</td>\n",
       "      <td>0.0</td>\n",
       "    </tr>\n",
       "    <tr>\n",
       "      <th>144</th>\n",
       "      <td>Since voltage basically \"pulls\" electrons across the area of different potentials, more voltage basically results in a harder pull, and therefore the electrons speed up more. Since current is just a measure of how many electrons (or other charger carrier) move through an area every second, faster electrons will result in a higher current. Therefore, more voltage equals more current.</td>\n",
       "      <td>0.0</td>\n",
       "      <td>0.986311</td>\n",
       "      <td>0.0</td>\n",
       "      <td>0.0</td>\n",
       "      <td>0.0</td>\n",
       "    </tr>\n",
       "    <tr>\n",
       "      <th>313</th>\n",
       "      <td>Because more voltage means a higher difference in potential (essentially, a longer 'fall', if comparing it to potential energy due to gravity), the electrons/particles will be moving faster at the end of the fall. Current is proportional to the speed of the electrons/particles moving, so faster movement correlates to a higher current.</td>\n",
       "      <td>0.0</td>\n",
       "      <td>0.984965</td>\n",
       "      <td>0.0</td>\n",
       "      <td>0.0</td>\n",
       "      <td>0.0</td>\n",
       "    </tr>\n",
       "  </tbody>\n",
       "</table>"
      ],
      "text/plain": [
       "<IPython.core.display.HTML object>"
      ]
     },
     "metadata": {},
     "output_type": "display_data"
    },
    {
     "name": "stdout",
     "output_type": "stream",
     "text": [
      "\n",
      "\n",
      "\n",
      "Topic 2: 0.053*\"increase\" + 0.052*\"high\" + 0.050*\"charge\" + 0.039*\"electron\" + 0.033*\"great\" + 0.031*\"battery\" + 0.029*\"lead\" + 0.027*\"flow\" + 0.027*\"mean\" + 0.026*\"potential_difference\"\n"
     ]
    },
    {
     "data": {
      "text/html": [
       "<table border=\"1\" class=\"dataframe\">\n",
       "  <thead>\n",
       "    <tr style=\"text-align: right;\">\n",
       "      <th></th>\n",
       "      <th>resp</th>\n",
       "      <th>0</th>\n",
       "      <th>1</th>\n",
       "      <th>2</th>\n",
       "      <th>3</th>\n",
       "      <th>4</th>\n",
       "    </tr>\n",
       "  </thead>\n",
       "  <tbody>\n",
       "    <tr>\n",
       "      <th>157</th>\n",
       "      <td>More voltage leads to more current because there exists a potential difference across the battery that must be matched through the circuit. This difference \"pushes\" the free electrons through the wire and resistor, creating what we call current. Since delta V must be matched between the battery and circuit, else a build up of charge resulting, more voltage must indicate more current if the resistance remains the same (this, again though, is by Ohm's Law). The relationship between voltage and current can also be understood through the context of electric fields and forces. The electric potential difference denoted on a battery is chemically generated by work done on electrons such that an electric dipole is generated. This dipole creates a net electric field around the circuit, which pushes already (randomly) moving electrons in a general direction - this creates drift velocity. The faster this drift velocity - as a result of a stronger E-field corresponding to more voltage - the more electrons pass through a certain cross section of the wire in a given amount of time. This is the very definition of current (delta Q / delta t). Ultimately, a greater voltage corresponds with a greater magnitude electric field. A greater magnitude electric field yields a larger drift velocity, which in turn increases the amount of charge that passes through a cross section of the circuit in any given amount of time - effectively, it increases the current (brightening the bulb).</td>\n",
       "      <td>0.0</td>\n",
       "      <td>0.0</td>\n",
       "      <td>0.996672</td>\n",
       "      <td>0.0</td>\n",
       "      <td>0.0</td>\n",
       "    </tr>\n",
       "    <tr>\n",
       "      <th>39</th>\n",
       "      <td>The way that I think about this is that in order for the battery to maintain a certain potential difference between its terminals, it needs to generate an electric field that will \"push\" charges. In order to make the potential difference greater, this field needs to be stronger, which means it will \"push\" harder. Consequently, a stronger push means charges are going to move faster, and since current is the amount of charge moving past per unit time, faster moving charges means greater current.</td>\n",
       "      <td>0.0</td>\n",
       "      <td>0.0</td>\n",
       "      <td>0.993111</td>\n",
       "      <td>0.0</td>\n",
       "      <td>0.0</td>\n",
       "    </tr>\n",
       "    <tr>\n",
       "      <th>56</th>\n",
       "      <td>The role of a battery is to maintain a fixed electric potential difference between its terminals. If the voltage of the battery increases, the potential difference that the battery must maintain increases. So, the battery must push more charge through it to maintain the voltage. Current is the amount of charge that flows per unit time. If the total amount of charge has increased, the current has also increased. I am visualizing the battery itself, and connecting the fact that increasing the voltage also increases the capacity of a battery to chemically react and release electrons.</td>\n",
       "      <td>0.0</td>\n",
       "      <td>0.0</td>\n",
       "      <td>0.992508</td>\n",
       "      <td>0.0</td>\n",
       "      <td>0.0</td>\n",
       "    </tr>\n",
       "  </tbody>\n",
       "</table>"
      ],
      "text/plain": [
       "<IPython.core.display.HTML object>"
      ]
     },
     "metadata": {},
     "output_type": "display_data"
    },
    {
     "name": "stdout",
     "output_type": "stream",
     "text": [
      "\n",
      "\n",
      "\n",
      "Topic 3: 0.081*\"battery\" + 0.069*\"circuit\" + 0.069*\"power\" + 0.048*\"bulb\" + 0.043*\"increase\" + 0.036*\"brighter\" + 0.029*\"think\" + 0.028*\"push\" + 0.024*\"lead\" + 0.022*\"double\"\n"
     ]
    },
    {
     "data": {
      "text/html": [
       "<table border=\"1\" class=\"dataframe\">\n",
       "  <thead>\n",
       "    <tr style=\"text-align: right;\">\n",
       "      <th></th>\n",
       "      <th>resp</th>\n",
       "      <th>0</th>\n",
       "      <th>1</th>\n",
       "      <th>2</th>\n",
       "      <th>3</th>\n",
       "      <th>4</th>\n",
       "    </tr>\n",
       "  </thead>\n",
       "  <tbody>\n",
       "    <tr>\n",
       "      <th>339</th>\n",
       "      <td>I think about this in two ways. First in Circuit 1and 2 the Resistence is the same since they are Identical batteries. Since Circuit 2 has a second battery added it doubles the voltage. Since R is the same the I is force to increase. and Increasing the Current increases the power. The way I think about the Current increasing is one battery is producing a certain amount of current which so if you add another battery it will be looking at its V and the R producing more of a current. the total Current can be found by adding the two together.</td>\n",
       "      <td>0.0</td>\n",
       "      <td>0.0</td>\n",
       "      <td>0.0</td>\n",
       "      <td>0.988944</td>\n",
       "      <td>0.0</td>\n",
       "    </tr>\n",
       "    <tr>\n",
       "      <th>112</th>\n",
       "      <td>In this scenario I think of the Voltage as the amount of current crossing a resistor. Although voltage does not flow like current the higher the voltage the more current will flow across the resistor because of ohm's law. As far as picturing the bulb brighter or dimmer, it is intuitive in my opinion that a brighter bulb represents more power and therefore more current. I also like to think of it as a lot of electrons flying through the filament in the buld making it glow and emit light.</td>\n",
       "      <td>0.0</td>\n",
       "      <td>0.0</td>\n",
       "      <td>0.0</td>\n",
       "      <td>0.987049</td>\n",
       "      <td>0.0</td>\n",
       "    </tr>\n",
       "    <tr>\n",
       "      <th>328</th>\n",
       "      <td>Well since there is more power that goes through bulb 2, it should be brighter. I think of the electricity that goes through the circuits, and how powerful each one is. Circuit 1 has less voltage so I think of a small amount of electricity, while circuit 2 has fast, power surge of electricity.</td>\n",
       "      <td>0.0</td>\n",
       "      <td>0.0</td>\n",
       "      <td>0.0</td>\n",
       "      <td>0.982573</td>\n",
       "      <td>0.0</td>\n",
       "    </tr>\n",
       "  </tbody>\n",
       "</table>"
      ],
      "text/plain": [
       "<IPython.core.display.HTML object>"
      ]
     },
     "metadata": {},
     "output_type": "display_data"
    },
    {
     "name": "stdout",
     "output_type": "stream",
     "text": [
      "\n",
      "\n",
      "\n",
      "Topic 4: 0.163*\"increase\" + 0.083*\"resistance\" + 0.048*\"circuit\" + 0.041*\"constant\" + 0.027*\"equation\" + 0.024*\"mean\" + 0.024*\"bulb\" + 0.024*\"ir\" + 0.022*\"ohm_law\" + 0.022*\"change\"\n"
     ]
    },
    {
     "data": {
      "text/html": [
       "<table border=\"1\" class=\"dataframe\">\n",
       "  <thead>\n",
       "    <tr style=\"text-align: right;\">\n",
       "      <th></th>\n",
       "      <th>resp</th>\n",
       "      <th>0</th>\n",
       "      <th>1</th>\n",
       "      <th>2</th>\n",
       "      <th>3</th>\n",
       "      <th>4</th>\n",
       "    </tr>\n",
       "  </thead>\n",
       "  <tbody>\n",
       "    <tr>\n",
       "      <th>280</th>\n",
       "      <td>Because the resistance is the same in both circuit 1 and circuit 2, when the voltage is increased (as in circuit 2) the current must also proportionally increase, and thus the lightbulb will be brighter when voltage is increased. I just think about this in terms of the equation, so for example lets say the voltage in circuit 1 is V and the voltage in circuit 2 is 2V, and so the equation for the current in circuit 1 would be (V/R)=I and to get to circuit 2 you're basically just multiplying both sides by 2 (and keeping R constant) and you end up with (2V/R)=2I, and so the current proportionally increases with the voltage(the brightness of the bulb is dependent on the current flowing through it, so when the current increases, the brightness also increases).</td>\n",
       "      <td>0.0</td>\n",
       "      <td>0.0</td>\n",
       "      <td>0.0</td>\n",
       "      <td>0.0</td>\n",
       "      <td>0.992943</td>\n",
       "    </tr>\n",
       "    <tr>\n",
       "      <th>99</th>\n",
       "      <td>Ohm's law states that the electrical current (I) flowing in an circuit is proportional to the voltage (V) and inversely proportional to the resistance (R). Therefore, if the voltage is increased, the current will increase provided the resistance of the circuit does not change. In a linear circuit of fixed resistance, if we increase the voltage, the current goes up, and similarly, if we decrease the voltage, the current goes down. This means that if the voltage is high the current is high, and if the voltage is low the current is low.</td>\n",
       "      <td>0.0</td>\n",
       "      <td>0.0</td>\n",
       "      <td>0.0</td>\n",
       "      <td>0.0</td>\n",
       "      <td>0.990879</td>\n",
       "    </tr>\n",
       "    <tr>\n",
       "      <th>411</th>\n",
       "      <td>A higher voltage would result in a higher current, proven by rearranging the equation V=IR. I usually think about it in terms of the equation, sometime drawing arrows for each of the variable indicating how a change in one value affects the other. For this case I look at V and draw an up arrow, then can conclude that if R is constant, I must also increase.</td>\n",
       "      <td>0.0</td>\n",
       "      <td>0.0</td>\n",
       "      <td>0.0</td>\n",
       "      <td>0.0</td>\n",
       "      <td>0.987108</td>\n",
       "    </tr>\n",
       "  </tbody>\n",
       "</table>"
      ],
      "text/plain": [
       "<IPython.core.display.HTML object>"
      ]
     },
     "metadata": {},
     "output_type": "display_data"
    },
    {
     "name": "stdout",
     "output_type": "stream",
     "text": [
      "\n",
      "\n",
      "\n"
     ]
    }
   ],
   "source": [
    "def pretty_print(df):\n",
    "    return display(HTML(df.to_html().replace(\"\\\\n\",\"<br>\")))\n",
    "\n",
    "num_responses_displayed = 3\n",
    "\n",
    "for t in range(num_topics): \n",
    "    print('Topic {}: {}'.format(t, lda_model.print_topics(num_words=10)[t][1]))\n",
    "    pretty_print(df_weighted.sort_values(by=t, ascending=False).loc[:, df_weighted.columns!='replaced'][:num_responses_displayed])\n",
    "    print('\\n\\n')    "
   ]
  },
  {
   "cell_type": "markdown",
   "id": "5ffdc59e",
   "metadata": {},
   "source": [
    "### Interpretation of Topics as Student Ideas\n",
    "\n",
    "From the topic outputs above, it seems like we can extract a few distinct student ideas: \n",
    "\n",
    "0. \"Water flows through a river like current flows through circuits\"\n",
    "\n",
    "1. \"More voltage means a higher difference in potential,\" which can be thought of like potential energy\n",
    "\n",
    "2. Batteries create a fixed voltage/potential difference, and increasing voltage increases \"electron flow\"\n",
    "\n",
    "3. Adding a battery increases voltage, which increases current\n",
    "\n",
    "4. Ohm's Law says that Voltage is proportional to Current, so increasing the voltage should increase the current.\n",
    "    "
   ]
  },
  {
   "cell_type": "code",
   "execution_count": null,
   "id": "456714e2",
   "metadata": {},
   "outputs": [],
   "source": []
  },
  {
   "cell_type": "code",
   "execution_count": null,
   "id": "2bafa39b",
   "metadata": {},
   "outputs": [],
   "source": []
  }
 ],
 "metadata": {
  "interpreter": {
   "hash": "b1387b5b854ca26737d2f7e25194acc64b4eb89730b66cdda8ec7b69c06b90e6"
  },
  "kernelspec": {
   "display_name": "Python [conda env:.conda-LDA]",
   "language": "python",
   "name": "python3"
  },
  "language_info": {
   "codemirror_mode": {
    "name": "ipython",
    "version": 3
   },
   "file_extension": ".py",
   "mimetype": "text/x-python",
   "name": "python",
   "nbconvert_exporter": "python",
   "pygments_lexer": "ipython3",
   "version": "3.9.7"
  },
  "toc-autonumbering": false,
  "toc-showcode": false,
  "toc-showmarkdowntxt": false
 },
 "nbformat": 4,
 "nbformat_minor": 5
}
