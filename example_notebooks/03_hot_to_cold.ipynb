{
 "cells": [
  {
   "cell_type": "markdown",
   "metadata": {},
   "source": [
    "# LDA Analysis, Case Study 3: Heat\n",
    "\n",
    "We will be exploring an LDA analysis of the \"Heat Transfers from Hot to Cold\" question, which asks : \n",
    "\n",
    "> *You may have heard that “heat” or “thermal energy” transfers from hot to cold objects, and not the other way around. Why is this the case? How do you make sense of this phenomenon?*\n"
   ]
  },
  {
   "cell_type": "markdown",
   "metadata": {},
   "source": [
    "## I. Imports"
   ]
  },
  {
   "cell_type": "code",
   "execution_count": 1,
   "metadata": {},
   "outputs": [
    {
     "data": {
      "text/html": [
       "<style>.container { width:95% !important; }</style>"
      ],
      "text/plain": [
       "<IPython.core.display.HTML object>"
      ]
     },
     "metadata": {},
     "output_type": "display_data"
    },
    {
     "data": {
      "text/html": [
       "<style>.container { width:95% !important; }</style>"
      ],
      "text/plain": [
       "<IPython.core.display.HTML object>"
      ]
     },
     "metadata": {},
     "output_type": "display_data"
    }
   ],
   "source": [
    "# Print out all expressions\n",
    "from IPython.core.interactiveshell import InteractiveShell\n",
    "InteractiveShell.ast_node_interactivity = \"all\"\n",
    "# Wider Cells\n",
    "from IPython.display import display, HTML\n",
    "display(HTML(\"<style>.container { width:95% !important; }</style>\"))\n",
    "# Ignore some warnings\n",
    "import warnings\n",
    "warnings.filterwarnings(\"ignore\", category=DeprecationWarning);\n",
    "\n",
    "# General Packages\n",
    "import pandas as pd\n",
    "import numpy as np\n",
    "import matplotlib.pyplot as plt\n",
    "import re as re\n",
    "import pickle as pkl\n",
    "import copy\n",
    "\n",
    "import sys  \n",
    "sys.path.insert(0, '..')\n",
    "from scripts.lda_model import *"
   ]
  },
  {
   "cell_type": "markdown",
   "metadata": {},
   "source": [
    "## II. Data Import and Restructuring"
   ]
  },
  {
   "cell_type": "code",
   "execution_count": 2,
   "metadata": {},
   "outputs": [
    {
     "data": {
      "text/html": [
       "<div>\n",
       "<style scoped>\n",
       "    .dataframe tbody tr th:only-of-type {\n",
       "        vertical-align: middle;\n",
       "    }\n",
       "\n",
       "    .dataframe tbody tr th {\n",
       "        vertical-align: top;\n",
       "    }\n",
       "\n",
       "    .dataframe thead th {\n",
       "        text-align: right;\n",
       "    }\n",
       "</style>\n",
       "<table border=\"1\" class=\"dataframe\">\n",
       "  <thead>\n",
       "    <tr style=\"text-align: right;\">\n",
       "      <th></th>\n",
       "      <th>resp</th>\n",
       "    </tr>\n",
       "  </thead>\n",
       "  <tbody>\n",
       "    <tr>\n",
       "      <th>0</th>\n",
       "      <td>Heat moves from a place of high to low, and sp...</td>\n",
       "    </tr>\n",
       "    <tr>\n",
       "      <th>1</th>\n",
       "      <td>Heat exists, cold is just the lack of heat. He...</td>\n",
       "    </tr>\n",
       "    <tr>\n",
       "      <th>2</th>\n",
       "      <td>Energy must be transferred. Nothing is being t...</td>\n",
       "    </tr>\n",
       "    <tr>\n",
       "      <th>3</th>\n",
       "      <td>This makes sense, because everything is moving...</td>\n",
       "    </tr>\n",
       "    <tr>\n",
       "      <th>4</th>\n",
       "      <td>When thermal energy transfers from hot to cold...</td>\n",
       "    </tr>\n",
       "  </tbody>\n",
       "</table>\n",
       "</div>"
      ],
      "text/plain": [
       "                                                resp\n",
       "0  Heat moves from a place of high to low, and sp...\n",
       "1  Heat exists, cold is just the lack of heat. He...\n",
       "2  Energy must be transferred. Nothing is being t...\n",
       "3  This makes sense, because everything is moving...\n",
       "4  When thermal energy transfers from hot to cold..."
      ]
     },
     "execution_count": 2,
     "metadata": {},
     "output_type": "execute_result"
    }
   ],
   "source": [
    "df = pd.read_csv('../data/heat_and_temperature.csv', names = ['num', 'ID', 'drop', 'resp'])\n",
    "df.drop(columns = ['num', 'ID', 'drop'], inplace = True)\n",
    "df.head(5)"
   ]
  },
  {
   "cell_type": "markdown",
   "metadata": {},
   "source": [
    "## III. LDA Modeling\n",
    "\n",
    "The following code will take the data processed above and convert it into a usable format for the LDA model. Before we start modeling, though, we need to set some parameters for our particular data. "
   ]
  },
  {
   "cell_type": "code",
   "execution_count": 3,
   "metadata": {},
   "outputs": [],
   "source": [
    "bigrams =               text_to_bigrams(df)\n",
    "corpus =                bigrams_to_corpus(bigrams)"
   ]
  },
  {
   "cell_type": "markdown",
   "metadata": {},
   "source": [
    "Let's take a look at some plots of the words used in the collection of student responses. "
   ]
  },
  {
   "cell_type": "code",
   "execution_count": 4,
   "metadata": {},
   "outputs": [
    {
     "name": "stdout",
     "output_type": "stream",
     "text": [
      "Total words: \u001b[1m2610\u001b[0m, unique words: \u001b[1m422\u001b[0m\n"
     ]
    },
    {
     "data": {
      "image/png": "[encoded data removed]",
      "text/plain": [
       "<Figure size 1080x360 with 1 Axes>"
      ]
     },
     "metadata": {
      "needs_background": "light"
     },
     "output_type": "display_data"
    },
    {
     "data": {
      "image/png": "[encoded data removed]",
      "text/plain": [
       "<Figure size 576x360 with 1 Axes>"
      ]
     },
     "metadata": {
      "needs_background": "light"
     },
     "output_type": "display_data"
    }
   ],
   "source": [
    "plot_words(corpus)"
   ]
  },
  {
   "cell_type": "markdown",
   "metadata": {},
   "source": [
    "Let's now figure out the best thresholds for removing the most and least common words. A `no_above` threshold of 70% would remove words used in at least 70% of documents, and a `no_below` threshold of 3 would remove words used in only two or fewer documents. "
   ]
  },
  {
   "cell_type": "code",
   "execution_count": 5,
   "metadata": {},
   "outputs": [
    {
     "name": "stdout",
     "output_type": "stream",
     "text": [
      "\n",
      "NO ABOVE THRESHOLDS\n",
      "\n",
      "\n",
      "Dictionary with \u001b[1mno_above=1\u001b[0m contains \u001b[1m422\u001b[0m unique words\n",
      "\n",
      "Dictionary filtered with \u001b[1mno_above=1.00\u001b[0m contains \u001b[1m422\u001b[0m unique words. \u001b[1m0 words\u001b[0m removed:\n",
      " [] \n",
      "\n",
      "Dictionary filtered with \u001b[1mno_above=0.90\u001b[0m contains \u001b[1m422\u001b[0m unique words. \u001b[1m0 words\u001b[0m removed:\n",
      " [] \n",
      "\n",
      "Dictionary filtered with \u001b[1mno_above=0.80\u001b[0m contains \u001b[1m422\u001b[0m unique words. \u001b[1m0 words\u001b[0m removed:\n",
      " [] \n",
      "\n",
      "Dictionary filtered with \u001b[1mno_above=0.70\u001b[0m contains \u001b[1m422\u001b[0m unique words. \u001b[1m0 words\u001b[0m removed:\n",
      " [] \n",
      "\n",
      "Dictionary filtered with \u001b[1mno_above=0.60\u001b[0m contains \u001b[1m421\u001b[0m unique words. \u001b[1m1 words\u001b[0m removed:\n",
      " ['energy'] \n",
      "\n",
      "Dictionary filtered with \u001b[1mno_above=0.50\u001b[0m contains \u001b[1m419\u001b[0m unique words. \u001b[1m2 words\u001b[0m removed:\n",
      " ['cold', 'object'] \n",
      "\n",
      "Dictionary filtered with \u001b[1mno_above=0.40\u001b[0m contains \u001b[1m417\u001b[0m unique words. \u001b[1m2 words\u001b[0m removed:\n",
      " ['heat', 'transfer'] \n",
      "\n",
      "Dictionary filtered with \u001b[1mno_above=0.30\u001b[0m contains \u001b[1m415\u001b[0m unique words. \u001b[1m2 words\u001b[0m removed:\n",
      " ['hot', 'thermal'] \n",
      "\n",
      "Dictionary filtered with \u001b[1mno_above=0.20\u001b[0m contains \u001b[1m415\u001b[0m unique words. \u001b[1m0 words\u001b[0m removed:\n",
      " [] \n",
      "\n",
      "Dictionary filtered with \u001b[1mno_above=0.10\u001b[0m contains \u001b[1m404\u001b[0m unique words. \u001b[1m11 words\u001b[0m removed:\n",
      " ['entropy', 'equilibrium', 'high', 'hotter', 'lack', 'low', 'move', 'particle', 'state', 'thing', 'way'] \n",
      "\n",
      "\n",
      "\n",
      "NO BELOW THRESHOLDS\n",
      "\n",
      "\n",
      "Dictionary with \u001b[1mno_below=1\u001b[0m contains \u001b[1m404\u001b[0m unique words\n",
      "\n",
      "Dictionary filtered with \u001b[1mno_below=1.00\u001b[0m contains \u001b[1m404\u001b[0m unique words. \u001b[1m0 words\u001b[0m removed:\n",
      " [] \n",
      "\n",
      "Dictionary filtered with \u001b[1mno_below=2.00\u001b[0m contains \u001b[1m167\u001b[0m unique words. \u001b[1m237 words\u001b[0m removed:\n",
      " ['absorbed', 'accord', 'account', 'act', 'actually', 'additionally', 'affect', 'allegory', 'allow', 'anti', 'assume', 'attempt', 'basically', 'bc', 'bounce', 'break', 'bring', 'bump', 'bumping', 'chance', 'chem', 'closer', 'component', 'concentrate', 'consolidate', 'contains', 'convection', 'correlate', 'corresponds', 'creates', 'cup', 'darkness', 'deal', 'deficit', 'define', 'definition', 'definitively', 'dense', 'density', 'describe', 'description', 'determine', 'difference', 'difficult', 'direction', 'dispenses', 'dissipates', 'dissipation', 'donates', 'door', 'dye', 'electricity', 'electron', 'emit', 'emptier', 'end', 'enegy', 'energyheat', 'entire', 'entirely', 'environment', 'eobjects', 'equalibrium', 'equation', 'equi', 'erengy', 'ethheat', 'even', 'example', 'excites', 'explanation', 'extension', 'fact', 'factor', 'fall', 'far', 'farther', 'favorable', 'feel', 'few', 'fulfills', 'fuller', 'generally', 'glass', 'govern', 'gravitational', 'happen', 'heatthermal', 'hight', 'hit', 'hold', 'inaccurate', 'incoherently', 'indicate', 'indicates', 'inherently', 'insufficient', 'intensity', 'interact', 'interaction', 'intuitively', 'irradiation', 'irreversibility', 'irreversible', 'joule', 'ke', 'label', 'lead', 'leaf', 'let', 'light', 'likewise', 'location', 'logic', 'long', 'loos', 'loss', 'lot', 'macro', 'macrostate', 'macrostates', 'magnitude', 'maintain', 'manage', 'manifest', 'material', 'max', 'maximizes', 'maximum', 'maybe', 'measurement', 'meet', 'microscopic', 'microstates', 'middle', 'million', 'mind', 'minimize', 'molecular', 'momentum', 'money', 'moreoever', 'movetransfer', 'movingvibrating', 'necessarily', 'objecty', 'opportunity', 'originate', 'osmosis', 'otherthe', 'partition', 'pas', 'path', 'percieved', 'period', 'person', 'perspective', 'photon', 'point', 'poor', 'pretty', 'principle', 'probability', 'produce', 'proper', 'property', 'pull', 'put', 'qreversiblet', 'question', 'quick', 'radiates', 'random', 'rapid', 'rarely', 'reaction', 'rebound', 'receive', 'reduce', 'refers', 'region', 'relate', 'remove', 'resource', 'rich', 'room', 'scalar', 'seek', 'set', 'settle', 'similar', 'similarly', 'single', 'situation', 'small', 'sort', 'spontaneously', 'statistical', 'status', 'stay', 'strong', 'stuff', 'substance', 'suck', 'surroundings', 'term', 'theory', 'thereof', 'thermally', 'thermodynamic', 'thinner', 'total', 'tough', 'traditional', 'train', 'transferable', 'trend', 'understand', 'unidirectional', 'uniform', 'unit', 'unlike', 'unstable', 'use', 'value', 'velocity', 'versa', 'vi', 'vibrates', 'vibrational', 'warmth', 'weird', 'wont', 'work', 'yes', 'youll', 'youre'] \n",
      "\n",
      "Dictionary filtered with \u001b[1mno_below=3.00\u001b[0m contains \u001b[1m115\u001b[0m unique words. \u001b[1m52 words\u001b[0m removed:\n",
      " ['active', 'add', 'air', 'atomic', 'becasue', 'believe', 'block', 'brought', 'common', 'concept', 'conserve', 'consider', 'course', 'decrease', 'diffusion', 'disperse', 'disperses', 'dont', 'equally', 'eventually', 'exists', 'explain', 'explains', 'external', 'gradient', 'im', 'imagine', 'information', 'instead', 'loose', 'lose', 'measurable', 'naturally', 'one', 'part', 'potential', 'presence', 'pressure', 'process', 'reverse', 'say', 'source', 'space', 'specifically', 'spot', 'take', 'tell', 'thats', 'there', 'touch', 'true', 'world'] \n",
      "\n",
      "Dictionary filtered with \u001b[1mno_below=4.00\u001b[0m contains \u001b[1m79\u001b[0m unique words. \u001b[1m36 words\u001b[0m removed:\n",
      " ['approach', 'attain', 'balance', 'cause', 'change', 'collision', 'come', 'conservation', 'destroyed', 'different', 'distribution', 'essentially', 'excite', 'fast', 'follow', 'form', 'general', 'get', 'happens', 'have', 'idea', 'impossible', 'know', 'large', 'likely', 'occurs', 'phenomenon', 'physical', 'release', 'represent', 'require', 'sure', 'surround', 'universe', 'vibration', 'water'] \n",
      "\n",
      "Dictionary filtered with \u001b[1mno_below=5.00\u001b[0m contains \u001b[1m62\u001b[0m unique words. \u001b[1m17 words\u001b[0m removed:\n",
      " ['average', 'away', 'create', 'doesnt', 'easy', 'great', 'inside', 'isnt', 'number', 'order', 'pass', 'positive', 'share', 'simply', 'speed', 'stable', 'warmer'] \n",
      "\n",
      "Dictionary filtered with \u001b[1mno_below=6.00\u001b[0m contains \u001b[1m48\u001b[0m unique words. \u001b[1m14 words\u001b[0m removed:\n",
      " ['close', 'coldness', 'cooler', 'flow', 'heating', 'level', 'natural', 'need', 'place', 'possible', 'probable', 'quantity', 'result', 'system'] \n",
      "\n",
      "Dictionary filtered with \u001b[1mno_below=7.00\u001b[0m contains \u001b[1m35\u001b[0m unique words. \u001b[1m13 words\u001b[0m removed:\n",
      " ['achieve', 'collide', 'concentration', 'contact', 'faster', 'give', 'make', 'mean', 'negative', 'tendency', 'time', 'vibrate', 'wouldnt'] \n",
      "\n",
      "Dictionary filtered with \u001b[1mno_below=8.00\u001b[0m contains \u001b[1m28\u001b[0m unique words. \u001b[1m7 words\u001b[0m removed:\n",
      " ['area', 'basic', 'equipartition', 'measure', 'travel', 'try', 'want'] \n",
      "\n",
      "Dictionary filtered with \u001b[1mno_below=9.00\u001b[0m contains \u001b[1m21\u001b[0m unique words. \u001b[1m7 words\u001b[0m removed:\n",
      " ['gain', 'go', 'increase', 'like', 'molecule', 'think', 'warm'] \n",
      "\n"
     ]
    }
   ],
   "source": [
    "display_words_removed_at_thresholds(bigrams)"
   ]
  },
  {
   "cell_type": "markdown",
   "metadata": {},
   "source": [
    "You can now set the desired threshold values based on this particular data set. "
   ]
  },
  {
   "cell_type": "code",
   "execution_count": 6,
   "metadata": {},
   "outputs": [],
   "source": [
    "no_above = 0.3\n",
    "no_below = 2"
   ]
  },
  {
   "cell_type": "code",
   "execution_count": 7,
   "metadata": {},
   "outputs": [],
   "source": [
    "bow, id2word= create_bow(corpus, bigrams, no_above, no_below, \n",
    "                         display_removed_words = False)"
   ]
  },
  {
   "cell_type": "markdown",
   "metadata": {},
   "source": [
    "We can now proceed with the actual modeling process. Here, you can set a number of topics desired for the model, as well as the number of responses to display for each topic. By default, the number of responses displayed is three, but that can be overridden by setting a value. "
   ]
  },
  {
   "cell_type": "code",
   "execution_count": 16,
   "metadata": {},
   "outputs": [],
   "source": [
    "num_topics = 4\n",
    "num_responses_displayed = 5"
   ]
  },
  {
   "cell_type": "code",
   "execution_count": 17,
   "metadata": {
    "scrolled": false
   },
   "outputs": [
    {
     "name": "stdout",
     "output_type": "stream",
     "text": [
      "Coherence of model with 4 topics: 0.3333936403267398\n",
      "\n",
      "\n"
     ]
    },
    {
     "data": {
      "text/plain": [
       "[(0,\n",
       "  '0.101*\"thing\" + 0.045*\"hotter\" + 0.036*\"temperature\" + 0.030*\"colder\" + 0.025*\"cool\" + 0.024*\"sense\" + 0.023*\"particle\" + 0.022*\"tend\" + 0.019*\"kinetic\" + 0.019*\"equilibrium\"'),\n",
       " (1,\n",
       "  '0.078*\"high\" + 0.068*\"particle\" + 0.065*\"low\" + 0.040*\"spread\" + 0.037*\"move\" + 0.035*\"entropy\" + 0.033*\"movement\" + 0.030*\"state\" + 0.021*\"concentration\" + 0.016*\"lack\"'),\n",
       " (2,\n",
       "  '0.045*\"entropy\" + 0.036*\"molecule\" + 0.034*\"lack\" + 0.025*\"equilibrium\" + 0.023*\"atom\" + 0.022*\"hotter\" + 0.021*\"want\" + 0.020*\"way\" + 0.019*\"gain\" + 0.018*\"reach\"'),\n",
       " (3,\n",
       "  '0.068*\"equilibrium\" + 0.033*\"go\" + 0.030*\"colder\" + 0.030*\"reach\" + 0.030*\"make_sense\" + 0.029*\"entropy\" + 0.028*\"way\" + 0.025*\"state\" + 0.023*\"thermodynamics\" + 0.023*\"law\"')]"
      ]
     },
     "execution_count": 17,
     "metadata": {},
     "output_type": "execute_result"
    }
   ],
   "source": [
    "model = LDA_model(bow, id2word, bigrams, \n",
    "                  num_topics = num_topics)\n",
    "model.show_topics(num_words = 10, \n",
    "                  num_topics = num_topics)"
   ]
  },
  {
   "cell_type": "code",
   "execution_count": 18,
   "metadata": {
    "scrolled": false
   },
   "outputs": [
    {
     "name": "stdout",
     "output_type": "stream",
     "text": [
      "Topic 0: 0.101*\"thing\" + 0.045*\"hotter\" + 0.036*\"temperature\" + 0.030*\"colder\" + 0.025*\"cool\" + 0.024*\"sense\" + 0.023*\"particle\" + 0.022*\"tend\" + 0.019*\"kinetic\" + 0.019*\"equilibrium\"\n"
     ]
    },
    {
     "data": {
      "text/html": [
       "<table border=\"1\" class=\"dataframe\">\n",
       "  <thead>\n",
       "    <tr style=\"text-align: right;\">\n",
       "      <th></th>\n",
       "      <th>resp</th>\n",
       "      <th>0</th>\n",
       "      <th>1</th>\n",
       "      <th>2</th>\n",
       "      <th>3</th>\n",
       "    </tr>\n",
       "  </thead>\n",
       "  <tbody>\n",
       "    <tr>\n",
       "      <th>76</th>\n",
       "      <td>The laws of thermodynamics/entropy state that the most probable macro state is one where energy is evenly distributed throughout the system. Heat/thermal energy is a measure of the kinetic energy of each particle in a material, and things get hotter as they gain more energy. If an object is brought into contact with another object of different temperature, the hotter one will transfer some energy until they are the same temperature.</td>\n",
       "      <td>0.991457</td>\n",
       "      <td>0.0</td>\n",
       "      <td>0.0</td>\n",
       "      <td>0.0</td>\n",
       "    </tr>\n",
       "    <tr>\n",
       "      <th>174</th>\n",
       "      <td>If every particle in contact with others has an equal chance of minimizing its thermal energy, transfers of thermal energy over time will cause heat to be (very close to being) evenly distributed over these particles. This means that it is more probable that hot objects will transfer heat to cold objects to attain this even distribution rather than cold objects getting colder by making hot objects hotter.</td>\n",
       "      <td>0.990961</td>\n",
       "      <td>0.0</td>\n",
       "      <td>0.0</td>\n",
       "      <td>0.0</td>\n",
       "    </tr>\n",
       "    <tr>\n",
       "      <th>69</th>\n",
       "      <td>Thermal energy is just a measure of the movement of the atoms inside an object, and it would make sense that the faster moving atoms is more likely to move/transfer to another spot than the slower moving atoms.</td>\n",
       "      <td>0.988221</td>\n",
       "      <td>0.0</td>\n",
       "      <td>0.0</td>\n",
       "      <td>0.0</td>\n",
       "    </tr>\n",
       "    <tr>\n",
       "      <th>4</th>\n",
       "      <td>When thermal energy transfers from hot to cold objects, it results in an \"evening out\" of the energy levels in the universe. Given enough time, the temperatures of the objects will tend to become equal. This is just an extension of the general principle that things tend to fall into equilibrium.</td>\n",
       "      <td>0.987256</td>\n",
       "      <td>0.0</td>\n",
       "      <td>0.0</td>\n",
       "      <td>0.0</td>\n",
       "    </tr>\n",
       "    <tr>\n",
       "      <th>181</th>\n",
       "      <td>Because everything in the entire universe has a tendency to cool when there is no external factors.  Energy is conserved, and heating things requires an increase in energy, whereas cooling things doesn't</td>\n",
       "      <td>0.987255</td>\n",
       "      <td>0.0</td>\n",
       "      <td>0.0</td>\n",
       "      <td>0.0</td>\n",
       "    </tr>\n",
       "  </tbody>\n",
       "</table>"
      ],
      "text/plain": [
       "<IPython.core.display.HTML object>"
      ]
     },
     "metadata": {},
     "output_type": "display_data"
    },
    {
     "name": "stdout",
     "output_type": "stream",
     "text": [
      "\n",
      "\n",
      "\n",
      "Topic 1: 0.078*\"high\" + 0.068*\"particle\" + 0.065*\"low\" + 0.040*\"spread\" + 0.037*\"move\" + 0.035*\"entropy\" + 0.033*\"movement\" + 0.030*\"state\" + 0.021*\"concentration\" + 0.016*\"lack\"\n"
     ]
    },
    {
     "data": {
      "text/html": [
       "<table border=\"1\" class=\"dataframe\">\n",
       "  <thead>\n",
       "    <tr style=\"text-align: right;\">\n",
       "      <th></th>\n",
       "      <th>resp</th>\n",
       "      <th>0</th>\n",
       "      <th>1</th>\n",
       "      <th>2</th>\n",
       "      <th>3</th>\n",
       "    </tr>\n",
       "  </thead>\n",
       "  <tbody>\n",
       "    <tr>\n",
       "      <th>58</th>\n",
       "      <td>It's the same as diffusion: particles will move from areas of high concentration to low concentration to try to spread things out in a system. We can think of energy particles (there's no such thing of course) that want to flow from where there is a lot heat to where there is less thermal energy. The proper explanation (instead of an allegory) is entropy tending to want a higher number of basic states, which is achieved by the equipartition of energy (or something like that).</td>\n",
       "      <td>0.0</td>\n",
       "      <td>0.995262</td>\n",
       "      <td>0.0</td>\n",
       "      <td>0.0</td>\n",
       "    </tr>\n",
       "    <tr>\n",
       "      <th>0</th>\n",
       "      <td>Heat moves from a place of high to low, and specifically it is heat energy that moves from a place of high energy to low energy. Because \"cold\" is just a term to indicate lack of heat, the term isn't necessarily used. <br><br>Heat moves from hot to cold objects because a system always tries to attain uniform equilibria, where all parts of the system have an equal amount of heat. This is why heat disperses.</td>\n",
       "      <td>0.0</td>\n",
       "      <td>0.992659</td>\n",
       "      <td>0.0</td>\n",
       "      <td>0.0</td>\n",
       "    </tr>\n",
       "    <tr>\n",
       "      <th>165</th>\n",
       "      <td>Heat transfers from hot to cold because a system tends to move toward having the most basic states, or the greatest entropy. Since thermal equilibrium is the most probable state of the system, hot objects give energy to cold objects. Temperature is a measure of the thermal energy of something, so the hotter object has greater energy. Therefore, since the entropy of the system tends to increase, the system moves toward equipartitioning of energy.</td>\n",
       "      <td>0.0</td>\n",
       "      <td>0.992232</td>\n",
       "      <td>0.0</td>\n",
       "      <td>0.0</td>\n",
       "    </tr>\n",
       "    <tr>\n",
       "      <th>160</th>\n",
       "      <td>Heat or thermal energy is a measure of energy, which cannot be created or destroyed, only transferred. We know that energy moves along gradients, from high concentration to low concentration. A hot object would have a high concentration of thermal energy, so it would transfer down it's gradient to a cold object, an area of low heat concentration.</td>\n",
       "      <td>0.0</td>\n",
       "      <td>0.991752</td>\n",
       "      <td>0.0</td>\n",
       "      <td>0.0</td>\n",
       "    </tr>\n",
       "    <tr>\n",
       "      <th>9</th>\n",
       "      <td>This fulfills the law of entropy. Heat tends to spread to the state of least energy or with the highest amount of basic states. Therefore, heat will spread in a way that creates the greatest number of basic states by travelling from hot to cold.</td>\n",
       "      <td>0.0</td>\n",
       "      <td>0.991210</td>\n",
       "      <td>0.0</td>\n",
       "      <td>0.0</td>\n",
       "    </tr>\n",
       "  </tbody>\n",
       "</table>"
      ],
      "text/plain": [
       "<IPython.core.display.HTML object>"
      ]
     },
     "metadata": {},
     "output_type": "display_data"
    },
    {
     "name": "stdout",
     "output_type": "stream",
     "text": [
      "\n",
      "\n",
      "\n",
      "Topic 2: 0.045*\"entropy\" + 0.036*\"molecule\" + 0.034*\"lack\" + 0.025*\"equilibrium\" + 0.023*\"atom\" + 0.022*\"hotter\" + 0.021*\"want\" + 0.020*\"way\" + 0.019*\"gain\" + 0.018*\"reach\"\n"
     ]
    },
    {
     "data": {
      "text/html": [
       "<table border=\"1\" class=\"dataframe\">\n",
       "  <thead>\n",
       "    <tr style=\"text-align: right;\">\n",
       "      <th></th>\n",
       "      <th>resp</th>\n",
       "      <th>0</th>\n",
       "      <th>1</th>\n",
       "      <th>2</th>\n",
       "      <th>3</th>\n",
       "    </tr>\n",
       "  </thead>\n",
       "  <tbody>\n",
       "    <tr>\n",
       "      <th>26</th>\n",
       "      <td>\"Cold\" as a phenomenon is simply a lack of heat. Thermal energy is the vibration of atoms and molecules, so thermal energy transferring to another object is just the vibrations of one set of molecules making another set of molecules vibrate faster. The energy of the hotter object is \"absorbed\" by the colder object.</td>\n",
       "      <td>0.0</td>\n",
       "      <td>0.0</td>\n",
       "      <td>0.989487</td>\n",
       "      <td>0.0</td>\n",
       "    </tr>\n",
       "    <tr>\n",
       "      <th>148</th>\n",
       "      <td>This can be explained through equipartition of energy. The hotter object has more (thermal) energy than colder objects. Additionally, each part of the system (in this case the hot and cold objects) tends to have an equal share of the system's energy. With this information, we know that some of the energy from the hotter object will be transferred to the colder object so that they are both at the same temperature.</td>\n",
       "      <td>0.0</td>\n",
       "      <td>0.0</td>\n",
       "      <td>0.989486</td>\n",
       "      <td>0.0</td>\n",
       "    </tr>\n",
       "    <tr>\n",
       "      <th>61</th>\n",
       "      <td>all things want to be at lower energy level because that is more stable (easier to maintain) so heat will transfer to colder objects because the hotter object wants to reach a more \"stable\" state.</td>\n",
       "      <td>0.0</td>\n",
       "      <td>0.0</td>\n",
       "      <td>0.987763</td>\n",
       "      <td>0.0</td>\n",
       "    </tr>\n",
       "    <tr>\n",
       "      <th>73</th>\n",
       "      <td>Due to the equipartition of energy and law of entropy, it makes sense that given the opportunity for energy to decrease, it will. I think of this in a gravitational potential energy way-Being hot is unstable, so the object 'wants' to remove its heat to become more stable.</td>\n",
       "      <td>0.0</td>\n",
       "      <td>0.0</td>\n",
       "      <td>0.986670</td>\n",
       "      <td>0.0</td>\n",
       "    </tr>\n",
       "    <tr>\n",
       "      <th>98</th>\n",
       "      <td>Since systems always want to go towards equilibrium, the equilibrium is the state with the lowest energy equally distributed so it seems that energy would want to get smaller rather than larger.</td>\n",
       "      <td>0.0</td>\n",
       "      <td>0.0</td>\n",
       "      <td>0.985363</td>\n",
       "      <td>0.0</td>\n",
       "    </tr>\n",
       "  </tbody>\n",
       "</table>"
      ],
      "text/plain": [
       "<IPython.core.display.HTML object>"
      ]
     },
     "metadata": {},
     "output_type": "display_data"
    },
    {
     "name": "stdout",
     "output_type": "stream",
     "text": [
      "\n",
      "\n",
      "\n",
      "Topic 3: 0.068*\"equilibrium\" + 0.033*\"go\" + 0.030*\"colder\" + 0.030*\"reach\" + 0.030*\"make_sense\" + 0.029*\"entropy\" + 0.028*\"way\" + 0.025*\"state\" + 0.023*\"thermodynamics\" + 0.023*\"law\"\n"
     ]
    },
    {
     "data": {
      "text/html": [
       "<table border=\"1\" class=\"dataframe\">\n",
       "  <thead>\n",
       "    <tr style=\"text-align: right;\">\n",
       "      <th></th>\n",
       "      <th>resp</th>\n",
       "      <th>0</th>\n",
       "      <th>1</th>\n",
       "      <th>2</th>\n",
       "      <th>3</th>\n",
       "    </tr>\n",
       "  </thead>\n",
       "  <tbody>\n",
       "    <tr>\n",
       "      <th>113</th>\n",
       "      <td>The system always tends toward the equilibrium state, the stable state. Also, according to the second law of thermodynamics, the entropy of a closed system towards equilibrium has a positive entropy.</td>\n",
       "      <td>0.0</td>\n",
       "      <td>0.0</td>\n",
       "      <td>0.0</td>\n",
       "      <td>0.988071</td>\n",
       "    </tr>\n",
       "    <tr>\n",
       "      <th>97</th>\n",
       "      <td>You can't transfer energy from a colder object to a hotter object (spontaneously), this would break the second law of thermodynamics. It also makes sense that energy would travel to an area where there is less energy, for equal distribution of energy, as governed by increased entropy.</td>\n",
       "      <td>0.0</td>\n",
       "      <td>0.0</td>\n",
       "      <td>0.0</td>\n",
       "      <td>0.987093</td>\n",
       "    </tr>\n",
       "    <tr>\n",
       "      <th>179</th>\n",
       "      <td>This is the case because they need to attain the same temperature to reach equilibrium. If the cold object were to give heat to the hot object, the cold object would become even colder and the hot object even hotter. The warmer object gives off heat to a colder object so they both meet in the middle.</td>\n",
       "      <td>0.0</td>\n",
       "      <td>0.0</td>\n",
       "      <td>0.0</td>\n",
       "      <td>0.985941</td>\n",
       "    </tr>\n",
       "    <tr>\n",
       "      <th>90</th>\n",
       "      <td>This makes sense because \"coldness\" is simply a lack of energy. Moreoever, entropy states that heat wants to have a most basic state. The heat therefore goes to where it can most even out, i.e. hot goes to less hot.</td>\n",
       "      <td>0.0</td>\n",
       "      <td>0.0</td>\n",
       "      <td>0.0</td>\n",
       "      <td>0.985941</td>\n",
       "    </tr>\n",
       "    <tr>\n",
       "      <th>94</th>\n",
       "      <td>This is the case because \"heat\" is the vibration of the molecules, so the hotter something is the faster it vibrates. So, the faster vibrating object passes the \"thermal energy\" to the colder object that is vibrating slower.</td>\n",
       "      <td>0.0</td>\n",
       "      <td>0.0</td>\n",
       "      <td>0.0</td>\n",
       "      <td>0.985941</td>\n",
       "    </tr>\n",
       "  </tbody>\n",
       "</table>"
      ],
      "text/plain": [
       "<IPython.core.display.HTML object>"
      ]
     },
     "metadata": {},
     "output_type": "display_data"
    },
    {
     "name": "stdout",
     "output_type": "stream",
     "text": [
      "\n",
      "\n",
      "\n"
     ]
    }
   ],
   "source": [
    "display_n_responses(df, num_responses_displayed, model, corpus, bow)"
   ]
  },
  {
   "cell_type": "markdown",
   "metadata": {},
   "source": [
    "Potential Ideas from LDA: \n",
    "\n",
    "0. Thermal energy = fast-moving atoms, and temperature increases as thermal energy increases\n",
    "1. Heat diffuses (perhaps like a gas, high concentration to low concentration)\n",
    "2. ? (Hot states are unstable?) (Energy is equally distributed?)\n",
    "3. Systems tend toward equilibrium"
   ]
  },
  {
   "cell_type": "code",
   "execution_count": null,
   "metadata": {},
   "outputs": [],
   "source": []
  }
 ],
 "metadata": {
  "interpreter": {
   "hash": "b1387b5b854ca26737d2f7e25194acc64b4eb89730b66cdda8ec7b69c06b90e6"
  },
  "kernelspec": {
   "display_name": "Python [conda env:.conda-LDA]",
   "language": "python",
   "name": "conda-env-.conda-LDA-py"
  },
  "language_info": {
   "codemirror_mode": {
    "name": "ipython",
    "version": 3
   },
   "file_extension": ".py",
   "mimetype": "text/x-python",
   "name": "python",
   "nbconvert_exporter": "python",
   "pygments_lexer": "ipython3",
   "version": "3.9.7"
  }
 },
 "nbformat": 4,
 "nbformat_minor": 2
}
