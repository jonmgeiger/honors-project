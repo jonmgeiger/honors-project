{
 "cells": [
  {
   "cell_type": "markdown",
   "metadata": {},
   "source": [
    "# LDA Analysis, Case Study 1: Circuits\n",
    "\n",
    "We will be exploring an LDA analysis of the \"Compare Bulbs in Series, Revised\" question, which asks students to compare the brightness of two bulbs when a battery is added in series. "
   ]
  },
  {
   "cell_type": "markdown",
   "metadata": {},
   "source": [
    "## I. Imports"
   ]
  },
  {
   "cell_type": "code",
   "execution_count": 1,
   "metadata": {},
   "outputs": [
    {
     "data": {
      "text/html": [
       "<style>.container { width:95% !important; }</style>"
      ],
      "text/plain": [
       "<IPython.core.display.HTML object>"
      ]
     },
     "metadata": {},
     "output_type": "display_data"
    },
    {
     "data": {
      "text/html": [
       "<style>.container { width:95% !important; }</style>"
      ],
      "text/plain": [
       "<IPython.core.display.HTML object>"
      ]
     },
     "metadata": {},
     "output_type": "display_data"
    }
   ],
   "source": [
    "# Print out all expressions\n",
    "from IPython.core.interactiveshell import InteractiveShell\n",
    "InteractiveShell.ast_node_interactivity = \"all\"\n",
    "# Wider Cells\n",
    "from IPython.display import display, HTML\n",
    "display(HTML(\"<style>.container { width:95% !important; }</style>\"))\n",
    "# Ignore some warnings\n",
    "import warnings\n",
    "warnings.filterwarnings(\"ignore\", category=DeprecationWarning);\n",
    "\n",
    "# General Packages\n",
    "import pandas as pd\n",
    "import numpy as np\n",
    "import matplotlib.pyplot as plt\n",
    "import re as re\n",
    "import pickle as pkl\n",
    "import copy\n",
    "\n",
    "# NLP Packages\n",
    "# import gensim\n",
    "# from gensim.parsing.preprocessing import STOPWORDS\n",
    "# from gensim.corpora import Dictionary\n",
    "# from gensim.models import LdaModel\n",
    "# from gensim.models import CoherenceModel\n",
    "\n",
    "# import nltk\n",
    "# from nltk.corpus import wordnet\n",
    "# from nltk import pos_tag\n",
    "\n",
    "# Download NLTK data\n",
    "# nltk.download('wordnet', quiet = True)\n",
    "# nltk.download('punkt', quiet = True) \n",
    "# nltk.download('averaged_perceptron_tagger', quiet = True)\n",
    "# nltk.download('omw-1.4', quiet = True)\n",
    "\n",
    "import sys  \n",
    "sys.path.insert(0, '..')\n",
    "from scripts.lda_model import *"
   ]
  },
  {
   "cell_type": "markdown",
   "metadata": {},
   "source": [
    "## II. Data Import and Restructuring"
   ]
  },
  {
   "cell_type": "code",
   "execution_count": 2,
   "metadata": {},
   "outputs": [
    {
     "data": {
      "text/html": [
       "<div>\n",
       "<style scoped>\n",
       "    .dataframe tbody tr th:only-of-type {\n",
       "        vertical-align: middle;\n",
       "    }\n",
       "\n",
       "    .dataframe tbody tr th {\n",
       "        vertical-align: top;\n",
       "    }\n",
       "\n",
       "    .dataframe thead th {\n",
       "        text-align: right;\n",
       "    }\n",
       "</style>\n",
       "<table border=\"1\" class=\"dataframe\">\n",
       "  <thead>\n",
       "    <tr style=\"text-align: right;\">\n",
       "      <th></th>\n",
       "      <th>resp</th>\n",
       "    </tr>\n",
       "  </thead>\n",
       "  <tbody>\n",
       "    <tr>\n",
       "      <th>0</th>\n",
       "      <td>Circuit 2 has a larger battery that has a grea...</td>\n",
       "    </tr>\n",
       "    <tr>\n",
       "      <th>1</th>\n",
       "      <td>If the voltage is increased but resistance rem...</td>\n",
       "    </tr>\n",
       "    <tr>\n",
       "      <th>2</th>\n",
       "      <td>Current is equal to charge over time. Move vol...</td>\n",
       "    </tr>\n",
       "    <tr>\n",
       "      <th>3</th>\n",
       "      <td>An increase in voltage indicates an increase i...</td>\n",
       "    </tr>\n",
       "    <tr>\n",
       "      <th>4</th>\n",
       "      <td>Voltage is the change in electric potential. C...</td>\n",
       "    </tr>\n",
       "  </tbody>\n",
       "</table>\n",
       "</div>"
      ],
      "text/plain": [
       "                                                resp\n",
       "0  Circuit 2 has a larger battery that has a grea...\n",
       "1  If the voltage is increased but resistance rem...\n",
       "2  Current is equal to charge over time. Move vol...\n",
       "3  An increase in voltage indicates an increase i...\n",
       "4  Voltage is the change in electric potential. C..."
      ]
     },
     "execution_count": 2,
     "metadata": {},
     "output_type": "execute_result"
    }
   ],
   "source": [
    "df = pd.read_csv('../data/compare_bulbs.csv', names = ['ID', 'resp'])\n",
    "df.drop(columns = ['ID'], inplace = True)\n",
    "df.head(5)"
   ]
  },
  {
   "cell_type": "markdown",
   "metadata": {},
   "source": [
    "## III. LDA Modeling\n",
    "\n",
    "The following code will take the data processed above and convert it into a usable format for the LDA model. Before we start modeling, though, we need to set some parameters for our particular data. "
   ]
  },
  {
   "cell_type": "code",
   "execution_count": 3,
   "metadata": {},
   "outputs": [],
   "source": [
    "bigrams =               text_to_bigrams(df)\n",
    "corpus =                bigrams_to_corpus(bigrams)"
   ]
  },
  {
   "cell_type": "markdown",
   "metadata": {},
   "source": [
    "Let's take a look at some plots of the words used in the collection of student responses. "
   ]
  },
  {
   "cell_type": "code",
   "execution_count": 4,
   "metadata": {},
   "outputs": [
    {
     "name": "stdout",
     "output_type": "stream",
     "text": [
      "Total words: \u001b[1m7952\u001b[0m, unique words: \u001b[1m885\u001b[0m\n"
     ]
    },
    {
     "data": {
      "image/png": "[encoded data removed]",
      "text/plain": [
       "<Figure size 1080x360 with 1 Axes>"
      ]
     },
     "metadata": {
      "needs_background": "light"
     },
     "output_type": "display_data"
    },
    {
     "data": {
      "image/png": "[encoded data removed]",
      "text/plain": [
       "<Figure size 576x360 with 1 Axes>"
      ]
     },
     "metadata": {
      "needs_background": "light"
     },
     "output_type": "display_data"
    }
   ],
   "source": [
    "plot_words(corpus)"
   ]
  },
  {
   "cell_type": "markdown",
   "metadata": {},
   "source": [
    "Let's now figure out the best thresholds for removing the most and least common words. A `no_above` threshold of 70% would remove words used in at least 70% of documents, and a `no_below` threshold of 3 would remove words used in only two or fewer documents. "
   ]
  },
  {
   "cell_type": "code",
   "execution_count": 5,
   "metadata": {},
   "outputs": [
    {
     "name": "stdout",
     "output_type": "stream",
     "text": [
      "\n",
      "NO ABOVE THRESHOLDS\n",
      "\n",
      "\n",
      "Dictionary with \u001b[1mno_above=1\u001b[0m contains \u001b[1m885\u001b[0m unique words\n",
      "\n",
      "Dictionary filtered with \u001b[1mno_above=1.00\u001b[0m contains \u001b[1m885\u001b[0m unique words. \u001b[1m0 words\u001b[0m removed:\n",
      " [] \n",
      "\n",
      "Dictionary filtered with \u001b[1mno_above=0.90\u001b[0m contains \u001b[1m885\u001b[0m unique words. \u001b[1m0 words\u001b[0m removed:\n",
      " [] \n",
      "\n",
      "Dictionary filtered with \u001b[1mno_above=0.80\u001b[0m contains \u001b[1m885\u001b[0m unique words. \u001b[1m0 words\u001b[0m removed:\n",
      " [] \n",
      "\n",
      "Dictionary filtered with \u001b[1mno_above=0.70\u001b[0m contains \u001b[1m883\u001b[0m unique words. \u001b[1m2 words\u001b[0m removed:\n",
      " ['current', 'voltage'] \n",
      "\n",
      "Dictionary filtered with \u001b[1mno_above=0.60\u001b[0m contains \u001b[1m883\u001b[0m unique words. \u001b[1m0 words\u001b[0m removed:\n",
      " [] \n",
      "\n",
      "Dictionary filtered with \u001b[1mno_above=0.50\u001b[0m contains \u001b[1m883\u001b[0m unique words. \u001b[1m0 words\u001b[0m removed:\n",
      " [] \n",
      "\n",
      "Dictionary filtered with \u001b[1mno_above=0.40\u001b[0m contains \u001b[1m883\u001b[0m unique words. \u001b[1m0 words\u001b[0m removed:\n",
      " [] \n",
      "\n",
      "Dictionary filtered with \u001b[1mno_above=0.30\u001b[0m contains \u001b[1m882\u001b[0m unique words. \u001b[1m1 words\u001b[0m removed:\n",
      " ['increase'] \n",
      "\n",
      "Dictionary filtered with \u001b[1mno_above=0.20\u001b[0m contains \u001b[1m872\u001b[0m unique words. \u001b[1m10 words\u001b[0m removed:\n",
      " ['battery', 'circuit', 'electron', 'flow', 'great', 'high', 'lead', 'mean', 'resistance', 'think'] \n",
      "\n",
      "Dictionary filtered with \u001b[1mno_above=0.10\u001b[0m contains \u001b[1m861\u001b[0m unique words. \u001b[1m11 words\u001b[0m removed:\n",
      " ['bulb', 'change', 'charge', 'constant', 'energy', 'faster', 'large', 'like', 'potential_difference', 'push', 'water'] \n",
      "\n",
      "\n",
      "\n",
      "NO BELOW THRESHOLDS\n",
      "\n",
      "\n",
      "Dictionary with \u001b[1mno_below=1\u001b[0m contains \u001b[1m861\u001b[0m unique words\n",
      "\n",
      "Dictionary filtered with \u001b[1mno_below=1.00\u001b[0m contains \u001b[1m861\u001b[0m unique words. \u001b[1m0 words\u001b[0m removed:\n",
      " [] \n",
      "\n",
      "Dictionary filtered with \u001b[1mno_below=2.00\u001b[0m contains \u001b[1m399\u001b[0m unique words. \u001b[1m462 words\u001b[0m removed:\n",
      " ['aa', 'absorbed', 'accept', 'accumulate', 'accumulation', 'accurately', 'achieves', 'actual', 'adjust', 'aircraft', 'aka', 'akin', 'alarm', 'algebra', 'algebraically', 'alleviate', 'amp', 'analogous', 'anyways', 'apology', 'application', 'applies', 'arrow', 'ask', 'assign', 'attack', 'attempt', 'average', 'back', 'badly', 'bae', 'ballssecond', 'bateries', 'batter', 'batterysource', 'bbbbbbbbb', 'bear', 'bed', 'begin', 'bit', 'blub', 'boost', 'bottle', 'boy', 'breach', 'break', 'bridge', 'brightening', 'brightest', 'brought', 'brunk', 'buld', 'burn', 'burning', 'buzzing', 'cabin', 'cancel', 'cap', 'catch', 'caught', 'cave', 'cell', 'chance', 'charger', 'check', 'chemical', 'circulate', 'circut', 'class', 'classify', 'clear', 'cliff', 'cliffmountain', 'cliffmountains', 'close', 'closer', 'collectively', 'color', 'combine', 'comparable', 'comparison', 'compelling', 'compensates', 'complete', 'compress', 'conceptualize', 'concrete', 'condition', 'confess', 'consequence', 'consider', 'contain', 'container', 'context', 'continue', 'control', 'convert', 'correct', 'correspond', 'course', 'craft', 'crank', 'crate', 'crcuit', 'credit', 'currentfaster', 'damn', 'deal', 'deduce', 'definition', 'degree', 'demand', 'denote', 'depict', 'design', 'device', 'diagram', 'differential', 'differnce', 'dipole', 'disappear', 'distribute', 'divide', 'door', 'dr', 'drastically', 'drill', 'driven', 'dry', 'dryer', 'eagerness', 'earth', 'earthpush', 'eats', 'ed', 'effective', 'effectively', 'efficiently', 'electical', 'election', 'electromotive', 'elevatedlowered', 'emit', 'emits', 'encourage', 'engery', 'engine', 'enhances', 'entire', 'envision', 'epe', 'equalize', 'escalator', 'especially', 'establish', 'euqation', 'evaluation', 'event', 'evokes', 'exert', 'exist', 'exit', 'expensive', 'experience', 'explain', 'extent', 'external', 'face', 'far', 'favorite', 'fed', 'fill', 'final', 'find', 'finger', 'fit', 'flux', 'fly', 'forcefully', 'fq', 'fraction', 'fuel', 'garden', 'gas', 'generally', 'generator', 'gpe', 'grate', 'grav', 'grow', 'hair', 'hallway', 'hand', 'happen', 'happens', 'happy', 'hight', 'highway', 'hiker', 'hit', 'holy', 'honestly', 'huge', 'hull', 'hypothetically', 'icurrent', 'idk', 'ill', 'impetus', 'implies', 'impressed', 'inclined', 'increseas', 'indicative', 'indicator', 'induce', 'information', 'input', 'inte', 'intend', 'intensity', 'intermediately', 'internal', 'interval', 'intrinsic', 'intuitive', 'intuitively', 'ion', 'isolate', 'itll', 'iv', 'ja', 'joule', 'kachow', 'katie', 'keep', 'kenitic', 'keyt', 'kid', 'kinda', 'kinematics', 'kirchhoff', 'leaf', 'lecture', 'likely', 'liken', 'likewise', 'linear', 'little', 'location', 'ma', 'macroscopic', 'magically', 'magitude', 'manipulate', 'match', 'mathematical', 'mathmatically', 'matter', 'max', 'maximum', 'mcqueen', 'measurement', 'mechanic', 'medium', 'melt', 'mental', 'metaphor', 'method', 'mist', 'mister', 'mix', 'mobilize', 'moe', 'motion', 'mroe', 'mv', 'narrow', 'narrowlarge', 'naturally', 'nd', 'near', 'neg', 'net', 'non', 'note', 'notice', 'nqv', 'nqva', 'nqvrhol', 'objectamount', 'obstacle', 'obtain', 'obvious', 'offer', 'open', 'opening', 'opinion', 'organize', 'original', 'originate', 'outdoor', 'parameter', 'parrallel', 'path', 'pe', 'people', 'personal', 'physically', 'place', 'play', 'pool', 'porpotional', 'position', 'potentially', 'practice', 'prevent', 'prior', 'process', 'project', 'propel', 'propensity', 'proportion', 'proton', 'prove', 'proven', 'pullingpushing', 'pullpush', 'pulse', 'pushy', 'qt', 'raise', 'ramp', 'randomly', 'range', 'rawr', 'reach', 'react', 'reaction', 'real', 'realistically', 'reality', 'realize', 'reason', 'regular', 'relieve', 'remember', 'remote', 'replace', 'repulse', 'requirement', 'resisance', 'resistence', 'resistivity', 'resolve', 'response', 'return', 'rhola', 'rid', 'rotate', 'roughly', 'rule', 'rupture', 'saw', 'say', 'scenerio', 'school', 'sectional', 'see', 'sence', 'sent', 'seriesparallel', 'shine', 'short', 'show', 'sign', 'signifies', 'silver', 'simple', 'sims', 'sit', 'situation', 'slide', 'slows', 'snow', 'sourceforce', 'specifically', 'specify', 'splitting', 'square', 'static', 'step', 'stone', 'stop', 'stoppped', 'student', 'subject', 'successfully', 'superheros', 'suppose', 'surely', 'surge', 'switch', 'system', 'systme', 'take', 'taught', 'teacher', 'teem', 'temperature', 'tend', 'tendency', 'tends', 'theoretically', 'thickness', 'throw', 'tight', 'topic', 'track', 'transform', 'transport', 'trouble', 'trust', 'tv', 'unbalanced', 'understood', 'uniform', 'unstable', 'uphill', 'upin', 'upper', 'ups', 'uq', 'useful', 'usually', 'utilization', 'utilized', 'vacuum', 'validity', 'vbigger', 'versus', 'vertical', 'vf', 'violent', 'visual', 'visualization', 'vl', 'vlength', 'vnqrhol', 'vo', 'voltagethe', 'vottage', 'watercurrent', 'wave', 'weak', 'weaker', 'weight', 'wheel', 'world', 'worry', 'yes', 'zero'] \n",
      "\n",
      "Dictionary filtered with \u001b[1mno_below=3.00\u001b[0m contains \u001b[1m265\u001b[0m unique words. \u001b[1m134 words\u001b[0m removed:\n",
      " ['accelerate', 'account', 'accurate', 'actually', 'addition', 'additionally', 'additive', 'affected', 'air', 'arrange', 'associate', 'attract', 'attraction', 'away', 'bc', 'becasue', 'becuase', 'best', 'block', 'boulder', 'bright', 'built', 'calculate', 'chemically', 'clearly', 'component', 'concept', 'conceptually', 'consequently', 'correlate', 'correlation', 'coulomb', 'cover', 'curve', 'dam', 'deltav', 'depend', 'dependent', 'described', 'determines', 'dimmer', 'draw', 'drawn', 'easily', 'equilibrium', 'equivalent', 'exactly', 'excite', 'extra', 'farther', 'feel', 'filament', 'flowcurrent', 'follow', 'formula', 'free', 'gain', 'gap', 'general', 'glow', 'good', 'grows', 'half', 'hard', 'hole', 'id', 'ideal', 'image', 'immediately', 'indicates', 'inside', 'intuition', 'inversely', 'item', 'job', 'ke', 'knowledge', 'leave', 'length', 'level', 'lift', 'longer', 'magnet', 'mind', 'motivates', 'multiple', 'multiply', 'numerator', 'outside', 'past', 'period', 'person', 'plate', 'pressurize', 'pretty', 'put', 'quick', 'ratio', 'receive', 'relates', 'relation', 'relative', 'representation', 'restrict', 'ri', 'rise', 'road', 'role', 'satisfy', 'separate', 'shove', 'simply', 'slope', 'slow', 'speak', 'spray', 'spread', 'spring', 'stable', 'store', 'sum', 'support', 'tank', 'test', 'throughput', 'traffic', 'type', 'ultimately', 'v', 'valley', 'volume', 'well', 'word', 'yield'] \n",
      "\n",
      "Dictionary filtered with \u001b[1mno_below=4.00\u001b[0m contains \u001b[1m207\u001b[0m unique words. \u001b[1m58 words\u001b[0m removed:\n",
      " ['accord', 'achieve', 'additional', 'amperage', 'base', 'build', 'carry', 'common', 'conclude', 'conventional', 'copper', 'cross', 'define', 'density', 'determine', 'drift', 'drive', 'effect', 'exists', 'figure', 'gravitational', 'ground', 'held', 'impact', 'indicate', 'lake', 'learn', 'line', 'main', 'mass', 'math', 'mentally', 'metal', 'new', 'number', 'personally', 'physic', 'physical', 'product', 'property', 'quantity', 'quicker', 'require', 'rush', 'scenario', 'set', 'side', 'simulation', 'single', 'steep', 'steepness', 'strongly', 'sure', 'thats', 'therefor', 'translate', 'volt', 'youre'] \n",
      "\n",
      "Dictionary filtered with \u001b[1mno_below=5.00\u001b[0m contains \u001b[1m167\u001b[0m unique words. \u001b[1m40 words\u001b[0m removed:\n",
      " ['acceleration', 'affect', 'available', 'believe', 'capacity', 'carrier', 'compensate', 'different', 'direct', 'distance', 'easy', 'fact', 'guess', 'head', 'identical', 'isnt', 'kept', 'kind', 'let', 'magnitude', 'opposite', 'output', 'overall', 'powerful', 'problem', 'proportionality', 'question', 'relate', 'section', 'shoot', 'size', 'sort', 'space', 'specific', 'start', 'stream', 'tell', 'total', 'unit', 'view'] \n",
      "\n",
      "Dictionary filtered with \u001b[1mno_below=6.00\u001b[0m contains \u001b[1m145\u001b[0m unique words. \u001b[1m22 words\u001b[0m removed:\n",
      " ['ability', 'apply', 'assume', 'balance', 'basically', 'corresponds', 'delta', 'direction', 'doesnt', 'essentially', 'field', 'form', 'hold', 'idea', 'lot', 'material', 'mountain', 'phet', 'rearrange', 'solve', 'true', 'wont'] \n",
      "\n",
      "Dictionary filtered with \u001b[1mno_below=7.00\u001b[0m contains \u001b[1m126\u001b[0m unique words. \u001b[1m19 words\u001b[0m removed:\n",
      " ['ball', 'compare', 'conductor', 'connect', 'decrease', 'example', 'have', 'movement', 'pass', 'passing', 'picture', 'quickly', 'release', 'similarly', 'strength', 'supply', 'thing', 'tube', 'vi'] \n",
      "\n",
      "Dictionary filtered with \u001b[1mno_below=8.00\u001b[0m contains \u001b[1m106\u001b[0m unique words. \u001b[1m20 words\u001b[0m removed:\n",
      " ['act', 'allow', 'car', 'electricity', 'fall', 'generate', 'get', 'help', 'long', 'object', 'proportionally', 'provide', 'pull', 'pump', 'source', 'state', 'thought', 'twice', 'velocity', 'waterfall'] \n",
      "\n",
      "Dictionary filtered with \u001b[1mno_below=9.00\u001b[0m contains \u001b[1m91\u001b[0m unique words. \u001b[1m15 words\u001b[0m removed:\n",
      " ['come', 'directly', 'dont', 'fast', 'light', 'measure', 'particle', 'remain', 'remains', 'river', 'roll', 'series', 'term', 'value', 'variable'] \n",
      "\n"
     ]
    }
   ],
   "source": [
    "display_words_removed_at_thresholds(bigrams)"
   ]
  },
  {
   "cell_type": "markdown",
   "metadata": {},
   "source": [
    "You can now set the desired threshold values based on this particular data set. "
   ]
  },
  {
   "cell_type": "code",
   "execution_count": 6,
   "metadata": {},
   "outputs": [],
   "source": [
    "no_above = 0.5\n",
    "no_below = 3"
   ]
  },
  {
   "cell_type": "code",
   "execution_count": 7,
   "metadata": {},
   "outputs": [],
   "source": [
    "bow, id2word= create_bow(corpus, bigrams, no_above, no_below, \n",
    "                         display_removed_words = False)"
   ]
  },
  {
   "cell_type": "markdown",
   "metadata": {},
   "source": [
    "We can now proceed with the actual modeling process. Here, you can set a number of topics desired for the model, as well as the number of responses to display for each topic. By default, the number of responses displayed is three, but that can be overridden by setting a value. "
   ]
  },
  {
   "cell_type": "code",
   "execution_count": 8,
   "metadata": {},
   "outputs": [],
   "source": [
    "num_topics = 5\n",
    "num_responses_displayed = 3"
   ]
  },
  {
   "cell_type": "markdown",
   "metadata": {},
   "source": [
    "We'll now create the model and display representative student responses. By default, the number of responses displayed is three, but that can be changed in the first line of the code chunk."
   ]
  },
  {
   "cell_type": "code",
   "execution_count": 9,
   "metadata": {},
   "outputs": [
    {
     "name": "stdout",
     "output_type": "stream",
     "text": [
      "Coherence of model with 5 topics: 0.4625408941484136\n",
      "\n",
      "\n"
     ]
    },
    {
     "data": {
      "text/plain": [
       "[(0,\n",
       "  '0.090*\"water\" + 0.053*\"large\" + 0.053*\"flow\" + 0.044*\"think\" + 0.042*\"energy\" + 0.040*\"pressure\" + 0.028*\"like\" + 0.026*\"great\" + 0.023*\"push\" + 0.023*\"electron\"'),\n",
       " (1,\n",
       "  '0.074*\"electron\" + 0.057*\"force\" + 0.044*\"great\" + 0.041*\"high\" + 0.038*\"big\" + 0.033*\"mean\" + 0.031*\"faster\" + 0.027*\"potential\" + 0.023*\"push\" + 0.022*\"think\"'),\n",
       " (2,\n",
       "  '0.053*\"increase\" + 0.052*\"high\" + 0.050*\"charge\" + 0.039*\"electron\" + 0.033*\"great\" + 0.031*\"battery\" + 0.029*\"lead\" + 0.027*\"flow\" + 0.027*\"mean\" + 0.026*\"potential_difference\"'),\n",
       " (3,\n",
       "  '0.081*\"battery\" + 0.069*\"circuit\" + 0.069*\"power\" + 0.048*\"bulb\" + 0.043*\"increase\" + 0.036*\"brighter\" + 0.029*\"think\" + 0.028*\"push\" + 0.024*\"lead\" + 0.022*\"double\"'),\n",
       " (4,\n",
       "  '0.163*\"increase\" + 0.083*\"resistance\" + 0.048*\"circuit\" + 0.041*\"constant\" + 0.027*\"equation\" + 0.024*\"mean\" + 0.024*\"bulb\" + 0.024*\"ir\" + 0.022*\"ohm_law\" + 0.022*\"change\"')]"
      ]
     },
     "execution_count": 9,
     "metadata": {},
     "output_type": "execute_result"
    }
   ],
   "source": [
    "model = LDA_model(bow, id2word, bigrams, \n",
    "                  num_topics = num_topics)\n",
    "model.show_topics(num_words = 10, \n",
    "                  num_topics = num_topics)"
   ]
  },
  {
   "cell_type": "code",
   "execution_count": 10,
   "metadata": {},
   "outputs": [
    {
     "name": "stdout",
     "output_type": "stream",
     "text": [
      "Topic 0: 0.090*\"water\" + 0.053*\"large\" + 0.053*\"flow\" + 0.044*\"think\" + 0.042*\"energy\" + 0.040*\"pressure\" + 0.028*\"like\" + 0.026*\"great\" + 0.023*\"push\" + 0.023*\"electron\"\n"
     ]
    },
    {
     "data": {
      "text/html": [
       "<table border=\"1\" class=\"dataframe\">\n",
       "  <thead>\n",
       "    <tr style=\"text-align: right;\">\n",
       "      <th></th>\n",
       "      <th>resp</th>\n",
       "      <th>0</th>\n",
       "      <th>1</th>\n",
       "      <th>2</th>\n",
       "      <th>3</th>\n",
       "      <th>4</th>\n",
       "    </tr>\n",
       "  </thead>\n",
       "  <tbody>\n",
       "    <tr>\n",
       "      <th>219</th>\n",
       "      <td>I use the metal model of a river or lake filled with water. Water flows through a river like current flows through circuits. If you think of potential difference in terms of a river or lake, when one end of the river is higher than the other the water flows more and with more current. There is a greater gravitational potential difference between the two river ends. It is the same with electricity, when the electric potential is greater, more current can flow. More electron are allowed to flow.</td>\n",
       "      <td>0.991588</td>\n",
       "      <td>0.0</td>\n",
       "      <td>0.0</td>\n",
       "      <td>0.0</td>\n",
       "      <td>0.0</td>\n",
       "    </tr>\n",
       "    <tr>\n",
       "      <th>460</th>\n",
       "      <td>More voltage leads to more current, because if there is more potential (or, less accurately, pressure) for electron flow, and the resistance remains constant, more electrons will flow. An analogy would be putting your finger over a hose to create a pressurized stream. If you then crank the water up, more water will spray out, and it will spray out faster. I don't understand exactly what the question means by mental models, besides the water hose analogy given. My apologies if this isn't what was intended.</td>\n",
       "      <td>0.989432</td>\n",
       "      <td>0.0</td>\n",
       "      <td>0.0</td>\n",
       "      <td>0.0</td>\n",
       "      <td>0.0</td>\n",
       "    </tr>\n",
       "    <tr>\n",
       "      <th>401</th>\n",
       "      <td>I think more voltage leads to more current because larger the change voltage the stronger the electric current. I use the mental model of a pressurized container or aircraft. If this aircraft is in an area of  different pressure, and if there is a hull breach the air inside the craft will equalize outside. Depending on how much pressure there is compared to the outside it can be especially violent and quick. The difference in pressure in the example is the voltage, and the bigger the difference the stronger and more violent the cabin will equalize.</td>\n",
       "      <td>0.985066</td>\n",
       "      <td>0.0</td>\n",
       "      <td>0.0</td>\n",
       "      <td>0.0</td>\n",
       "      <td>0.0</td>\n",
       "    </tr>\n",
       "  </tbody>\n",
       "</table>"
      ],
      "text/plain": [
       "<IPython.core.display.HTML object>"
      ]
     },
     "metadata": {},
     "output_type": "display_data"
    },
    {
     "name": "stdout",
     "output_type": "stream",
     "text": [
      "\n",
      "\n",
      "\n",
      "Topic 1: 0.074*\"electron\" + 0.057*\"force\" + 0.044*\"great\" + 0.041*\"high\" + 0.038*\"big\" + 0.033*\"mean\" + 0.031*\"faster\" + 0.027*\"potential\" + 0.023*\"push\" + 0.022*\"think\"\n"
     ]
    },
    {
     "data": {
      "text/html": [
       "<table border=\"1\" class=\"dataframe\">\n",
       "  <thead>\n",
       "    <tr style=\"text-align: right;\">\n",
       "      <th></th>\n",
       "      <th>resp</th>\n",
       "      <th>0</th>\n",
       "      <th>1</th>\n",
       "      <th>2</th>\n",
       "      <th>3</th>\n",
       "      <th>4</th>\n",
       "    </tr>\n",
       "  </thead>\n",
       "  <tbody>\n",
       "    <tr>\n",
       "      <th>101</th>\n",
       "      <td>More voltage leads to more current because it has a higher potential. Think about the electrons like holding something off the ground. The object wants to be on the ground because it is pulled by gravity, giving it potential. This is the same for the electrons. The electrons want to be near the positive terminal so they too have potential. The more potential (the higher off the ground) means the more force there is pulling it to where it wants to be, which means there must be more electrons to flow.</td>\n",
       "      <td>0.0</td>\n",
       "      <td>0.990241</td>\n",
       "      <td>0.0</td>\n",
       "      <td>0.0</td>\n",
       "      <td>0.0</td>\n",
       "    </tr>\n",
       "    <tr>\n",
       "      <th>144</th>\n",
       "      <td>Since voltage basically \"pulls\" electrons across the area of different potentials, more voltage basically results in a harder pull, and therefore the electrons speed up more. Since current is just a measure of how many electrons (or other charger carrier) move through an area every second, faster electrons will result in a higher current. Therefore, more voltage equals more current.</td>\n",
       "      <td>0.0</td>\n",
       "      <td>0.986311</td>\n",
       "      <td>0.0</td>\n",
       "      <td>0.0</td>\n",
       "      <td>0.0</td>\n",
       "    </tr>\n",
       "    <tr>\n",
       "      <th>313</th>\n",
       "      <td>Because more voltage means a higher difference in potential (essentially, a longer 'fall', if comparing it to potential energy due to gravity), the electrons/particles will be moving faster at the end of the fall. Current is proportional to the speed of the electrons/particles moving, so faster movement correlates to a higher current.</td>\n",
       "      <td>0.0</td>\n",
       "      <td>0.984965</td>\n",
       "      <td>0.0</td>\n",
       "      <td>0.0</td>\n",
       "      <td>0.0</td>\n",
       "    </tr>\n",
       "  </tbody>\n",
       "</table>"
      ],
      "text/plain": [
       "<IPython.core.display.HTML object>"
      ]
     },
     "metadata": {},
     "output_type": "display_data"
    },
    {
     "name": "stdout",
     "output_type": "stream",
     "text": [
      "\n",
      "\n",
      "\n",
      "Topic 2: 0.053*\"increase\" + 0.052*\"high\" + 0.050*\"charge\" + 0.039*\"electron\" + 0.033*\"great\" + 0.031*\"battery\" + 0.029*\"lead\" + 0.027*\"flow\" + 0.027*\"mean\" + 0.026*\"potential_difference\"\n"
     ]
    },
    {
     "data": {
      "text/html": [
       "<table border=\"1\" class=\"dataframe\">\n",
       "  <thead>\n",
       "    <tr style=\"text-align: right;\">\n",
       "      <th></th>\n",
       "      <th>resp</th>\n",
       "      <th>0</th>\n",
       "      <th>1</th>\n",
       "      <th>2</th>\n",
       "      <th>3</th>\n",
       "      <th>4</th>\n",
       "    </tr>\n",
       "  </thead>\n",
       "  <tbody>\n",
       "    <tr>\n",
       "      <th>157</th>\n",
       "      <td>More voltage leads to more current because there exists a potential difference across the battery that must be matched through the circuit. This difference \"pushes\" the free electrons through the wire and resistor, creating what we call current. Since delta V must be matched between the battery and circuit, else a build up of charge resulting, more voltage must indicate more current if the resistance remains the same (this, again though, is by Ohm's Law). The relationship between voltage and current can also be understood through the context of electric fields and forces. The electric potential difference denoted on a battery is chemically generated by work done on electrons such that an electric dipole is generated. This dipole creates a net electric field around the circuit, which pushes already (randomly) moving electrons in a general direction - this creates drift velocity. The faster this drift velocity - as a result of a stronger E-field corresponding to more voltage - the more electrons pass through a certain cross section of the wire in a given amount of time. This is the very definition of current (delta Q / delta t). Ultimately, a greater voltage corresponds with a greater magnitude electric field. A greater magnitude electric field yields a larger drift velocity, which in turn increases the amount of charge that passes through a cross section of the circuit in any given amount of time - effectively, it increases the current (brightening the bulb).</td>\n",
       "      <td>0.0</td>\n",
       "      <td>0.0</td>\n",
       "      <td>0.996672</td>\n",
       "      <td>0.0</td>\n",
       "      <td>0.0</td>\n",
       "    </tr>\n",
       "    <tr>\n",
       "      <th>39</th>\n",
       "      <td>The way that I think about this is that in order for the battery to maintain a certain potential difference between its terminals, it needs to generate an electric field that will \"push\" charges. In order to make the potential difference greater, this field needs to be stronger, which means it will \"push\" harder. Consequently, a stronger push means charges are going to move faster, and since current is the amount of charge moving past per unit time, faster moving charges means greater current.</td>\n",
       "      <td>0.0</td>\n",
       "      <td>0.0</td>\n",
       "      <td>0.993111</td>\n",
       "      <td>0.0</td>\n",
       "      <td>0.0</td>\n",
       "    </tr>\n",
       "    <tr>\n",
       "      <th>56</th>\n",
       "      <td>The role of a battery is to maintain a fixed electric potential difference between its terminals. If the voltage of the battery increases, the potential difference that the battery must maintain increases. So, the battery must push more charge through it to maintain the voltage. Current is the amount of charge that flows per unit time. If the total amount of charge has increased, the current has also increased. I am visualizing the battery itself, and connecting the fact that increasing the voltage also increases the capacity of a battery to chemically react and release electrons.</td>\n",
       "      <td>0.0</td>\n",
       "      <td>0.0</td>\n",
       "      <td>0.992508</td>\n",
       "      <td>0.0</td>\n",
       "      <td>0.0</td>\n",
       "    </tr>\n",
       "  </tbody>\n",
       "</table>"
      ],
      "text/plain": [
       "<IPython.core.display.HTML object>"
      ]
     },
     "metadata": {},
     "output_type": "display_data"
    },
    {
     "name": "stdout",
     "output_type": "stream",
     "text": [
      "\n",
      "\n",
      "\n",
      "Topic 3: 0.081*\"battery\" + 0.069*\"circuit\" + 0.069*\"power\" + 0.048*\"bulb\" + 0.043*\"increase\" + 0.036*\"brighter\" + 0.029*\"think\" + 0.028*\"push\" + 0.024*\"lead\" + 0.022*\"double\"\n"
     ]
    },
    {
     "data": {
      "text/html": [
       "<table border=\"1\" class=\"dataframe\">\n",
       "  <thead>\n",
       "    <tr style=\"text-align: right;\">\n",
       "      <th></th>\n",
       "      <th>resp</th>\n",
       "      <th>0</th>\n",
       "      <th>1</th>\n",
       "      <th>2</th>\n",
       "      <th>3</th>\n",
       "      <th>4</th>\n",
       "    </tr>\n",
       "  </thead>\n",
       "  <tbody>\n",
       "    <tr>\n",
       "      <th>339</th>\n",
       "      <td>I think about this in two ways. First in Circuit 1and 2 the Resistence is the same since they are Identical batteries. Since Circuit 2 has a second battery added it doubles the voltage. Since R is the same the I is force to increase. and Increasing the Current increases the power. The way I think about the Current increasing is one battery is producing a certain amount of current which so if you add another battery it will be looking at its V and the R producing more of a current. the total Current can be found by adding the two together.</td>\n",
       "      <td>0.0</td>\n",
       "      <td>0.0</td>\n",
       "      <td>0.0</td>\n",
       "      <td>0.988944</td>\n",
       "      <td>0.0</td>\n",
       "    </tr>\n",
       "    <tr>\n",
       "      <th>112</th>\n",
       "      <td>In this scenario I think of the Voltage as the amount of current crossing a resistor. Although voltage does not flow like current the higher the voltage the more current will flow across the resistor because of ohm's law. As far as picturing the bulb brighter or dimmer, it is intuitive in my opinion that a brighter bulb represents more power and therefore more current. I also like to think of it as a lot of electrons flying through the filament in the buld making it glow and emit light.</td>\n",
       "      <td>0.0</td>\n",
       "      <td>0.0</td>\n",
       "      <td>0.0</td>\n",
       "      <td>0.987049</td>\n",
       "      <td>0.0</td>\n",
       "    </tr>\n",
       "    <tr>\n",
       "      <th>328</th>\n",
       "      <td>Well since there is more power that goes through bulb 2, it should be brighter. I think of the electricity that goes through the circuits, and how powerful each one is. Circuit 1 has less voltage so I think of a small amount of electricity, while circuit 2 has fast, power surge of electricity.</td>\n",
       "      <td>0.0</td>\n",
       "      <td>0.0</td>\n",
       "      <td>0.0</td>\n",
       "      <td>0.982573</td>\n",
       "      <td>0.0</td>\n",
       "    </tr>\n",
       "  </tbody>\n",
       "</table>"
      ],
      "text/plain": [
       "<IPython.core.display.HTML object>"
      ]
     },
     "metadata": {},
     "output_type": "display_data"
    },
    {
     "name": "stdout",
     "output_type": "stream",
     "text": [
      "\n",
      "\n",
      "\n",
      "Topic 4: 0.163*\"increase\" + 0.083*\"resistance\" + 0.048*\"circuit\" + 0.041*\"constant\" + 0.027*\"equation\" + 0.024*\"mean\" + 0.024*\"bulb\" + 0.024*\"ir\" + 0.022*\"ohm_law\" + 0.022*\"change\"\n"
     ]
    },
    {
     "data": {
      "text/html": [
       "<table border=\"1\" class=\"dataframe\">\n",
       "  <thead>\n",
       "    <tr style=\"text-align: right;\">\n",
       "      <th></th>\n",
       "      <th>resp</th>\n",
       "      <th>0</th>\n",
       "      <th>1</th>\n",
       "      <th>2</th>\n",
       "      <th>3</th>\n",
       "      <th>4</th>\n",
       "    </tr>\n",
       "  </thead>\n",
       "  <tbody>\n",
       "    <tr>\n",
       "      <th>280</th>\n",
       "      <td>Because the resistance is the same in both circuit 1 and circuit 2, when the voltage is increased (as in circuit 2) the current must also proportionally increase, and thus the lightbulb will be brighter when voltage is increased. I just think about this in terms of the equation, so for example lets say the voltage in circuit 1 is V and the voltage in circuit 2 is 2V, and so the equation for the current in circuit 1 would be (V/R)=I and to get to circuit 2 you're basically just multiplying both sides by 2 (and keeping R constant) and you end up with (2V/R)=2I, and so the current proportionally increases with the voltage(the brightness of the bulb is dependent on the current flowing through it, so when the current increases, the brightness also increases).</td>\n",
       "      <td>0.0</td>\n",
       "      <td>0.0</td>\n",
       "      <td>0.0</td>\n",
       "      <td>0.0</td>\n",
       "      <td>0.992943</td>\n",
       "    </tr>\n",
       "    <tr>\n",
       "      <th>99</th>\n",
       "      <td>Ohm's law states that the electrical current (I) flowing in an circuit is proportional to the voltage (V) and inversely proportional to the resistance (R). Therefore, if the voltage is increased, the current will increase provided the resistance of the circuit does not change. In a linear circuit of fixed resistance, if we increase the voltage, the current goes up, and similarly, if we decrease the voltage, the current goes down. This means that if the voltage is high the current is high, and if the voltage is low the current is low.</td>\n",
       "      <td>0.0</td>\n",
       "      <td>0.0</td>\n",
       "      <td>0.0</td>\n",
       "      <td>0.0</td>\n",
       "      <td>0.990879</td>\n",
       "    </tr>\n",
       "    <tr>\n",
       "      <th>411</th>\n",
       "      <td>A higher voltage would result in a higher current, proven by rearranging the equation V=IR. I usually think about it in terms of the equation, sometime drawing arrows for each of the variable indicating how a change in one value affects the other. For this case I look at V and draw an up arrow, then can conclude that if R is constant, I must also increase.</td>\n",
       "      <td>0.0</td>\n",
       "      <td>0.0</td>\n",
       "      <td>0.0</td>\n",
       "      <td>0.0</td>\n",
       "      <td>0.987108</td>\n",
       "    </tr>\n",
       "  </tbody>\n",
       "</table>"
      ],
      "text/plain": [
       "<IPython.core.display.HTML object>"
      ]
     },
     "metadata": {},
     "output_type": "display_data"
    },
    {
     "name": "stdout",
     "output_type": "stream",
     "text": [
      "\n",
      "\n",
      "\n"
     ]
    }
   ],
   "source": [
    "display_n_responses(df, num_responses_displayed, model, corpus, bow)"
   ]
  },
  {
   "cell_type": "code",
   "execution_count": null,
   "metadata": {},
   "outputs": [],
   "source": []
  }
 ],
 "metadata": {
  "interpreter": {
   "hash": "b1387b5b854ca26737d2f7e25194acc64b4eb89730b66cdda8ec7b69c06b90e6"
  },
  "kernelspec": {
   "display_name": "Python [conda env:.conda-LDA]",
   "language": "python",
   "name": "conda-env-.conda-LDA-py"
  },
  "language_info": {
   "codemirror_mode": {
    "name": "ipython",
    "version": 3
   },
   "file_extension": ".py",
   "mimetype": "text/x-python",
   "name": "python",
   "nbconvert_exporter": "python",
   "pygments_lexer": "ipython3",
   "version": "3.9.7"
  }
 },
 "nbformat": 4,
 "nbformat_minor": 2
}
