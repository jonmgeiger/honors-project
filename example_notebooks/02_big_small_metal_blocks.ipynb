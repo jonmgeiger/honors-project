{
 "cells": [
  {
   "cell_type": "markdown",
   "metadata": {},
   "source": [
    "# LDA Analysis, Case Study 2: Temperature\n",
    "\n",
    "We will be exploring an LDA analysis of the \"Big/Small Metal Blocks\" question, which asks students to compare the explain their reasoning on why two blocks of different masses, when plunged into water for five seconds, would change temperature by a different amount. In particular, the question is: \n",
    "\n",
    "> *Imagine you have two room-temperature blocks made of the same metal, but one has more mass than the other. You drop the blocks into equal volumes of 5-degrees-C water, count to five, and then dump them out onto a table. You measure the temperature of both blocks, and the less massive one is colder than the more massive one. That’s because the mass of an object matters for how much its temperature changes.*\n",
    "> \n",
    "> *What we want to know is why that makes sense or doesn’t make sense to you: Why is it that a less massive block changes its temperature more than a more massive block made of the same material and at the same starting temperature?*"
   ]
  },
  {
   "cell_type": "markdown",
   "metadata": {},
   "source": [
    "## I. Imports"
   ]
  },
  {
   "cell_type": "code",
   "execution_count": 1,
   "metadata": {},
   "outputs": [
    {
     "data": {
      "text/html": [
       "<style>.container { width:95% !important; }</style>"
      ],
      "text/plain": [
       "<IPython.core.display.HTML object>"
      ]
     },
     "metadata": {},
     "output_type": "display_data"
    },
    {
     "data": {
      "text/html": [
       "<style>.container { width:95% !important; }</style>"
      ],
      "text/plain": [
       "<IPython.core.display.HTML object>"
      ]
     },
     "metadata": {},
     "output_type": "display_data"
    }
   ],
   "source": [
    "# Print out all expressions\n",
    "from IPython.core.interactiveshell import InteractiveShell\n",
    "InteractiveShell.ast_node_interactivity = \"all\"\n",
    "# Wider Cells\n",
    "from IPython.display import display, HTML\n",
    "display(HTML(\"<style>.container { width:95% !important; }</style>\"))\n",
    "# Ignore some warnings\n",
    "import warnings\n",
    "warnings.filterwarnings(\"ignore\", category=DeprecationWarning);\n",
    "\n",
    "# General Packages\n",
    "import pandas as pd\n",
    "import numpy as np\n",
    "import matplotlib.pyplot as plt\n",
    "import re as re\n",
    "import pickle as pkl\n",
    "import copy\n",
    "\n",
    "import sys  \n",
    "sys.path.insert(0, '..')\n",
    "from scripts.lda_model import *"
   ]
  },
  {
   "cell_type": "markdown",
   "metadata": {},
   "source": [
    "## II. Data Import and Restructuring"
   ]
  },
  {
   "cell_type": "code",
   "execution_count": 2,
   "metadata": {},
   "outputs": [
    {
     "data": {
      "text/html": [
       "<div>\n",
       "<style scoped>\n",
       "    .dataframe tbody tr th:only-of-type {\n",
       "        vertical-align: middle;\n",
       "    }\n",
       "\n",
       "    .dataframe tbody tr th {\n",
       "        vertical-align: top;\n",
       "    }\n",
       "\n",
       "    .dataframe thead th {\n",
       "        text-align: right;\n",
       "    }\n",
       "</style>\n",
       "<table border=\"1\" class=\"dataframe\">\n",
       "  <thead>\n",
       "    <tr style=\"text-align: right;\">\n",
       "      <th></th>\n",
       "      <th>resp</th>\n",
       "    </tr>\n",
       "  </thead>\n",
       "  <tbody>\n",
       "    <tr>\n",
       "      <th>0</th>\n",
       "      <td>A less massive block changes its temperature m...</td>\n",
       "    </tr>\n",
       "    <tr>\n",
       "      <th>1</th>\n",
       "      <td>The more massive block has more molecules movi...</td>\n",
       "    </tr>\n",
       "    <tr>\n",
       "      <th>2</th>\n",
       "      <td>There are fewer molecules that need to have th...</td>\n",
       "    </tr>\n",
       "    <tr>\n",
       "      <th>3</th>\n",
       "      <td>This makes sense to me because the more mass o...</td>\n",
       "    </tr>\n",
       "    <tr>\n",
       "      <th>4</th>\n",
       "      <td>Thermal energy is stored in the vibrations of ...</td>\n",
       "    </tr>\n",
       "  </tbody>\n",
       "</table>\n",
       "</div>"
      ],
      "text/plain": [
       "                                                resp\n",
       "0  A less massive block changes its temperature m...\n",
       "1  The more massive block has more molecules movi...\n",
       "2  There are fewer molecules that need to have th...\n",
       "3  This makes sense to me because the more mass o...\n",
       "4  Thermal energy is stored in the vibrations of ..."
      ]
     },
     "execution_count": 2,
     "metadata": {},
     "output_type": "execute_result"
    }
   ],
   "source": [
    "df = pd.read_csv('../data/heat_and_temperature.csv', names = ['num', 'ID', 'resp', 'drop'])\n",
    "df.drop(columns = ['num', 'ID', 'drop'], inplace = True)\n",
    "df.head(5)"
   ]
  },
  {
   "cell_type": "markdown",
   "metadata": {},
   "source": [
    "## III. LDA Modeling\n",
    "\n",
    "The following code will take the data processed above and convert it into a usable format for the LDA model. Before we start modeling, though, we need to set some parameters for our particular data. "
   ]
  },
  {
   "cell_type": "code",
   "execution_count": 3,
   "metadata": {},
   "outputs": [],
   "source": [
    "bigrams =               text_to_bigrams(df)\n",
    "corpus =                bigrams_to_corpus(bigrams)"
   ]
  },
  {
   "cell_type": "markdown",
   "metadata": {},
   "source": [
    "Let's take a look at some plots of the words used in the collection of student responses. "
   ]
  },
  {
   "cell_type": "code",
   "execution_count": 4,
   "metadata": {},
   "outputs": [
    {
     "name": "stdout",
     "output_type": "stream",
     "text": [
      "Total words: \u001b[1m2498\u001b[0m, unique words: \u001b[1m358\u001b[0m\n"
     ]
    },
    {
     "data": {
      "image/png": "[encoded data removed]",
      "text/plain": [
       "<Figure size 1080x360 with 1 Axes>"
      ]
     },
     "metadata": {
      "needs_background": "light"
     },
     "output_type": "display_data"
    },
    {
     "data": {
      "image/png": "[encoded data removed]",
      "text/plain": [
       "<Figure size 576x360 with 1 Axes>"
      ]
     },
     "metadata": {
      "needs_background": "light"
     },
     "output_type": "display_data"
    }
   ],
   "source": [
    "plot_words(corpus)"
   ]
  },
  {
   "cell_type": "markdown",
   "metadata": {},
   "source": [
    "Let's now figure out the best thresholds for removing the most and least common words. A `no_above` threshold of 70% would remove words used in at least 70% of documents, and a `no_below` threshold of 3 would remove words used in only two or fewer documents. "
   ]
  },
  {
   "cell_type": "code",
   "execution_count": 5,
   "metadata": {},
   "outputs": [
    {
     "name": "stdout",
     "output_type": "stream",
     "text": [
      "\n",
      "NO ABOVE THRESHOLDS\n",
      "\n",
      "\n",
      "Dictionary with \u001b[1mno_above=1\u001b[0m contains \u001b[1m358\u001b[0m unique words\n",
      "\n",
      "Dictionary filtered with \u001b[1mno_above=1.00\u001b[0m contains \u001b[1m358\u001b[0m unique words. \u001b[1m0 words\u001b[0m removed:\n",
      " [] \n",
      "\n",
      "Dictionary filtered with \u001b[1mno_above=0.90\u001b[0m contains \u001b[1m358\u001b[0m unique words. \u001b[1m0 words\u001b[0m removed:\n",
      " [] \n",
      "\n",
      "Dictionary filtered with \u001b[1mno_above=0.80\u001b[0m contains \u001b[1m358\u001b[0m unique words. \u001b[1m0 words\u001b[0m removed:\n",
      " [] \n",
      "\n",
      "Dictionary filtered with \u001b[1mno_above=0.70\u001b[0m contains \u001b[1m358\u001b[0m unique words. \u001b[1m0 words\u001b[0m removed:\n",
      " [] \n",
      "\n",
      "Dictionary filtered with \u001b[1mno_above=0.60\u001b[0m contains \u001b[1m357\u001b[0m unique words. \u001b[1m1 words\u001b[0m removed:\n",
      " ['block'] \n",
      "\n",
      "Dictionary filtered with \u001b[1mno_above=0.50\u001b[0m contains \u001b[1m354\u001b[0m unique words. \u001b[1m3 words\u001b[0m removed:\n",
      " ['change', 'energy', 'temperature'] \n",
      "\n",
      "Dictionary filtered with \u001b[1mno_above=0.40\u001b[0m contains \u001b[1m352\u001b[0m unique words. \u001b[1m2 words\u001b[0m removed:\n",
      " ['mass', 'massive'] \n",
      "\n",
      "Dictionary filtered with \u001b[1mno_above=0.30\u001b[0m contains \u001b[1m352\u001b[0m unique words. \u001b[1m0 words\u001b[0m removed:\n",
      " [] \n",
      "\n",
      "Dictionary filtered with \u001b[1mno_above=0.20\u001b[0m contains \u001b[1m349\u001b[0m unique words. \u001b[1m3 words\u001b[0m removed:\n",
      " ['heat', 'material', 'small'] \n",
      "\n",
      "Dictionary filtered with \u001b[1mno_above=0.10\u001b[0m contains \u001b[1m335\u001b[0m unique words. \u001b[1m14 words\u001b[0m removed:\n",
      " ['faster', 'great', 'large', 'make_sense', 'mean', 'object', 'particle', 'surface_area', 'take', 'thermal', 'time', 'transfer', 'volume', 'water'] \n",
      "\n",
      "\n",
      "\n",
      "NO BELOW THRESHOLDS\n",
      "\n",
      "\n",
      "Dictionary with \u001b[1mno_below=1\u001b[0m contains \u001b[1m335\u001b[0m unique words\n",
      "\n",
      "Dictionary filtered with \u001b[1mno_below=1.00\u001b[0m contains \u001b[1m335\u001b[0m unique words. \u001b[1m0 words\u001b[0m removed:\n",
      " [] \n",
      "\n",
      "Dictionary filtered with \u001b[1mno_below=2.00\u001b[0m contains \u001b[1m141\u001b[0m unique words. \u001b[1m194 words\u001b[0m removed:\n",
      " ['abouts', 'absorbed', 'absorbsreleases', 'account', 'achieve', 'actuality', 'adjust', 'affect', 'allow', 'alter', 'appear', 'apply', 'associate', 'assume', 'away', 'basic', 'becuase', 'believe', 'bock', 'body', 'boil', 'boltzmann', 'box', 'bring', 'cahnge', 'call', 'car', 'celsius', 'center', 'come', 'compensate', 'concept', 'conclude', 'condition', 'conduct', 'connect', 'consider', 'contact', 'contain', 'coolmove', 'crash', 'deal', 'deeper', 'define', 'defines', 'definition', 'deltat', 'dense', 'dependent', 'dictate', 'difference', 'dimension', 'discover', 'dissipate', 'distributes', 'domino', 'dont', 'duality', 'dunked', 'easily', 'end', 'enter', 'entire', 'entirely', 'environment', 'equally', 'equiibrium', 'equipartition', 'escape', 'evidence', 'explanation', 'external', 'far', 'fluid', 'food', 'fully', 'glass', 'gradient', 'harbor', 'heatcool', 'hit', 'huge', 'illustrates', 'im', 'imagine', 'incoherent', 'initially', 'input', 'insulates', 'intensive', 'interacts', 'interior', 'internal', 'inversely', 'involves', 'jg', 'kept', 'lake', 'largely', 'leave', 'left', 'light', 'likely', 'likewise', 'logic', 'long', 'lot', 'macroscopic', 'macrostate', 'macrostates', 'massif', 'mde', 'measurement', 'medium', 'mental', 'microwave', 'momentum', 'move', 'movingvibrating', 'nc', 'normally', 'observe', 'occurs', 'opposite', 'output', 'outside', 'packed', 'part', 'particleatom', 'particlesatoms', 'particular', 'pas', 'play', 'point', 'possible', 'pot', 'power', 'probably', 'prompt', 'propagate', 'proper', 'proportionally', 'qmc', 'quantity', 'question', 'radiates', 'rae', 'ration', 'readily', 'reading', 'reduce', 'reduces', 'reflect', 'relate', 'relates', 'relationship', 'reside', 'resistance', 'retains', 'rise', 'role', 'roughly', 'say', 'shape', 'significantly', 'solid', 'sorry', 'square', 'stability', 'stefan', 'stop', 'subject', 'subsequently', 'surely', 'temperatre', 'tempreture', 'therefor', 'thermodynamic', 'tightly', 'translate', 'truck', 'try', 'underlie', 'understand', 'varies', 'vibration', 'vibrational', 'way', 'weighs', 'well', 'whichever', 'window', 'wont', 'yes'] \n",
      "\n",
      "Dictionary filtered with \u001b[1mno_below=3.00\u001b[0m contains \u001b[1m95\u001b[0m unique words. \u001b[1m46 words\u001b[0m removed:\n",
      " ['affected', 'balance', 'carry', 'collision', 'depends', 'directly', 'divide', 'effect', 'equivalent', 'exchange', 'expose', 'extensive', 'feel', 'go', 'heavier', 'idea', 'inertia', 'inside', 'interact', 'lead', 'leaf', 'lighter', 'loose', 'loses', 'mc', 'motion', 'observation', 'period', 'property', 'quickly', 'rapidly', 'reason', 'release', 'remove', 'resistant', 'retain', 'room', 'size', 'slowly', 'speed', 'sure', 'surround', 'thermally', 'travel', 'weight', 'work'] \n",
      "\n",
      "Dictionary filtered with \u001b[1mno_below=4.00\u001b[0m contains \u001b[1m65\u001b[0m unique words. \u001b[1m30 words\u001b[0m removed:\n",
      " ['aka', 'area', 'begin', 'case', 'convert', 'delta', 'density', 'entropy', 'equation', 'guess', 'happens', 'harder', 'impact', 'ke', 'know', 'law', 'lesser', 'metal', 'number', 'percentage', 'related', 'second', 'similar', 'submerge', 'substance', 'surface', 'surroundings', 'term', 'there', 'thing'] \n",
      "\n",
      "Dictionary filtered with \u001b[1mno_below=5.00\u001b[0m contains \u001b[1m42\u001b[0m unique words. \u001b[1m23 words\u001b[0m removed:\n",
      " ['absorb', 'base', 'cause', 'cold', 'cube', 'decrease', 'degree', 'different', 'easy', 'equal', 'equilibrium', 'hold', 'like', 'loss', 'make', 'meaning', 'order', 'place', 'quicker', 'relative', 'result', 'spread', 'state'] \n",
      "\n",
      "Dictionary filtered with \u001b[1mno_below=6.00\u001b[0m contains \u001b[1m37\u001b[0m unique words. \u001b[1m5 words\u001b[0m removed:\n",
      " ['able', 'certain', 'doesnt', 'measure', 'ratio'] \n",
      "\n",
      "Dictionary filtered with \u001b[1mno_below=7.00\u001b[0m contains \u001b[1m30\u001b[0m unique words. \u001b[1m7 words\u001b[0m removed:\n",
      " ['distribute', 'drop', 'raise', 'start', 'store', 'think', 'unit'] \n",
      "\n",
      "Dictionary filtered with \u001b[1mno_below=8.00\u001b[0m contains \u001b[1m25\u001b[0m unique words. \u001b[1m5 words\u001b[0m removed:\n",
      " ['contains', 'give', 'matter', 'proportional', 'temp'] \n",
      "\n",
      "Dictionary filtered with \u001b[1mno_below=9.00\u001b[0m contains \u001b[1m21\u001b[0m unique words. \u001b[1m4 words\u001b[0m removed:\n",
      " ['compare', 'increase', 'slow', 'total'] \n",
      "\n"
     ]
    }
   ],
   "source": [
    "display_words_removed_at_thresholds(bigrams)"
   ]
  },
  {
   "cell_type": "markdown",
   "metadata": {},
   "source": [
    "You can now set the desired threshold values based on this particular data set. "
   ]
  },
  {
   "cell_type": "code",
   "execution_count": 52,
   "metadata": {},
   "outputs": [],
   "source": [
    "no_above = 0.4\n",
    "no_below = 2"
   ]
  },
  {
   "cell_type": "code",
   "execution_count": 53,
   "metadata": {},
   "outputs": [],
   "source": [
    "bow, id2word= create_bow(corpus, bigrams, no_above, no_below, \n",
    "                         display_removed_words = False)"
   ]
  },
  {
   "cell_type": "markdown",
   "metadata": {},
   "source": [
    "We can now proceed with the actual modeling process. Here, you can set a number of topics desired for the model, as well as the number of responses to display for each topic. By default, the number of responses displayed is three, but that can be overridden by setting a value. "
   ]
  },
  {
   "cell_type": "code",
   "execution_count": 60,
   "metadata": {},
   "outputs": [],
   "source": [
    "num_topics = 5\n",
    "num_responses_displayed = 5"
   ]
  },
  {
   "cell_type": "code",
   "execution_count": 61,
   "metadata": {
    "scrolled": false
   },
   "outputs": [
    {
     "name": "stdout",
     "output_type": "stream",
     "text": [
      "Coherence of model with 5 topics: 0.3161429908269643\n",
      "\n",
      "\n"
     ]
    },
    {
     "data": {
      "text/plain": [
       "[(0,\n",
       "  '0.105*\"high\" + 0.080*\"molecule\" + 0.063*\"big\" + 0.045*\"easy\" + 0.037*\"slow\" + 0.034*\"mean\" + 0.029*\"low\" + 0.028*\"cool\" + 0.027*\"quicker\" + 0.023*\"matter\"'),\n",
       " (1,\n",
       "  '0.052*\"surface_area\" + 0.050*\"heat\" + 0.047*\"small\" + 0.034*\"volume\" + 0.031*\"water\" + 0.031*\"particle\" + 0.029*\"thermal\" + 0.026*\"large\" + 0.024*\"unit\" + 0.024*\"few\"'),\n",
       " (2,\n",
       "  '0.117*\"object\" + 0.066*\"heat\" + 0.050*\"atom\" + 0.048*\"require\" + 0.047*\"specific_heat\" + 0.039*\"capacity\" + 0.039*\"heat_capacity\" + 0.036*\"sense\" + 0.035*\"mean\" + 0.033*\"material\"'),\n",
       " (3,\n",
       "  '0.087*\"particle\" + 0.069*\"material\" + 0.060*\"small\" + 0.039*\"make_sense\" + 0.038*\"object\" + 0.038*\"faster\" + 0.038*\"great\" + 0.033*\"average\" + 0.031*\"thermal\" + 0.024*\"need\"'),\n",
       " (4,\n",
       "  '0.089*\"large\" + 0.066*\"thermal\" + 0.063*\"take\" + 0.048*\"time\" + 0.047*\"great\" + 0.043*\"water\" + 0.040*\"small\" + 0.032*\"volume\" + 0.031*\"heat\" + 0.030*\"atom\"')]"
      ]
     },
     "execution_count": 61,
     "metadata": {},
     "output_type": "execute_result"
    }
   ],
   "source": [
    "model = LDA_model(bow, id2word, bigrams, \n",
    "                  num_topics = num_topics)\n",
    "model.show_topics(num_words = 10, \n",
    "                  num_topics = num_topics)"
   ]
  },
  {
   "cell_type": "code",
   "execution_count": 62,
   "metadata": {},
   "outputs": [
    {
     "name": "stdout",
     "output_type": "stream",
     "text": [
      "Topic 0: 0.105*\"high\" + 0.080*\"molecule\" + 0.063*\"big\" + 0.045*\"easy\" + 0.037*\"slow\" + 0.034*\"mean\" + 0.029*\"low\" + 0.028*\"cool\" + 0.027*\"quicker\" + 0.023*\"matter\"\n"
     ]
    },
    {
     "data": {
      "text/html": [
       "<table border=\"1\" class=\"dataframe\">\n",
       "  <thead>\n",
       "    <tr style=\"text-align: right;\">\n",
       "      <th></th>\n",
       "      <th>resp</th>\n",
       "      <th>0</th>\n",
       "      <th>1</th>\n",
       "      <th>2</th>\n",
       "      <th>3</th>\n",
       "      <th>4</th>\n",
       "    </tr>\n",
       "  </thead>\n",
       "  <tbody>\n",
       "    <tr>\n",
       "      <th>54</th>\n",
       "      <td>A more massive block has more mass of that higher temperature, which means it will take longer for it to cool down; there is more matter to cool. The less massive block has less matter at that higher temperature, so it cools quicker.</td>\n",
       "      <td>0.973032</td>\n",
       "      <td>0.000000</td>\n",
       "      <td>0.000000</td>\n",
       "      <td>0.000000</td>\n",
       "      <td>0.000000</td>\n",
       "    </tr>\n",
       "    <tr>\n",
       "      <th>31</th>\n",
       "      <td>More mass means that there is more material to \"convert\" to lower temperature, so it will take more time for the temperature of the higher mass block to lower compared to the lower mass block.</td>\n",
       "      <td>0.970135</td>\n",
       "      <td>0.000000</td>\n",
       "      <td>0.000000</td>\n",
       "      <td>0.000000</td>\n",
       "      <td>0.000000</td>\n",
       "    </tr>\n",
       "    <tr>\n",
       "      <th>26</th>\n",
       "      <td>Though the temperature of each block is the same, the TOTAL energy in the more massive block is higher, since there's more mass to be kept at a given temperature. Energy leaves each block at the same rate, so the block with more energy to begin with has more energy at the end.</td>\n",
       "      <td>0.961965</td>\n",
       "      <td>0.000000</td>\n",
       "      <td>0.010118</td>\n",
       "      <td>0.000000</td>\n",
       "      <td>0.000000</td>\n",
       "    </tr>\n",
       "    <tr>\n",
       "      <th>97</th>\n",
       "      <td>The more massive block likely did not reach as high of a temperature as the less massive block in the first place. The amount of energy it takes to raise the temperature of a more massive block is higher. As a result, when we take it out, we observe less of a change in temperature.</td>\n",
       "      <td>0.961965</td>\n",
       "      <td>0.000000</td>\n",
       "      <td>0.010119</td>\n",
       "      <td>0.000000</td>\n",
       "      <td>0.000000</td>\n",
       "    </tr>\n",
       "    <tr>\n",
       "      <th>42</th>\n",
       "      <td>A more massive block changes its temperature slower because there's more material for the surrounding fluid to change its temperature.</td>\n",
       "      <td>0.935492</td>\n",
       "      <td>0.016537</td>\n",
       "      <td>0.017161</td>\n",
       "      <td>0.015043</td>\n",
       "      <td>0.015766</td>\n",
       "    </tr>\n",
       "  </tbody>\n",
       "</table>"
      ],
      "text/plain": [
       "<IPython.core.display.HTML object>"
      ]
     },
     "metadata": {},
     "output_type": "display_data"
    },
    {
     "name": "stdout",
     "output_type": "stream",
     "text": [
      "\n",
      "\n",
      "\n",
      "Topic 1: 0.052*\"surface_area\" + 0.050*\"heat\" + 0.047*\"small\" + 0.034*\"volume\" + 0.031*\"water\" + 0.031*\"particle\" + 0.029*\"thermal\" + 0.026*\"large\" + 0.024*\"unit\" + 0.024*\"few\"\n"
     ]
    },
    {
     "data": {
      "text/html": [
       "<table border=\"1\" class=\"dataframe\">\n",
       "  <thead>\n",
       "    <tr style=\"text-align: right;\">\n",
       "      <th></th>\n",
       "      <th>resp</th>\n",
       "      <th>0</th>\n",
       "      <th>1</th>\n",
       "      <th>2</th>\n",
       "      <th>3</th>\n",
       "      <th>4</th>\n",
       "    </tr>\n",
       "  </thead>\n",
       "  <tbody>\n",
       "    <tr>\n",
       "      <th>4</th>\n",
       "      <td>Thermal energy is stored in the vibrations of the particles making up a solid. The amount of thermal energy stored per unit mass of a solid at a given temperature varies based on the material, but the thermal energy per unit mass is always proportional to the temperature. Therefore, if the same amount of thermal energy leaves each block of metal in the 5 second period, this will result in a greater loss of thermal energy per unit mass in the lower mass block than the higher mass block, and therefore a greater drop in temperature. (In actuality, the lower mass block will probably lose less energy because it probably has a lower surface area. However, total energy loss is proportional to surface area, and so due to the square cube law the mass of the block will decrease faster proportionally than the surface area, resulting in more energy lost per unit mass even if the smaller surface area is taken into account.)</td>\n",
       "      <td>0.0</td>\n",
       "      <td>0.994837</td>\n",
       "      <td>0.0</td>\n",
       "      <td>0.0</td>\n",
       "      <td>0.0</td>\n",
       "    </tr>\n",
       "    <tr>\n",
       "      <th>127</th>\n",
       "      <td>A less massive block has fewer units of matter for which thermal energy can be distributed. As such, because both are the same material, the rate of energy transfer is going to be roughly the same.<br>The less massive block, however, with its fewer units of matter, has fewer units of heat energy, and so a loss of the same amount of energy (roughly) results in a greater decrease in temperature for the less massive block.</td>\n",
       "      <td>0.0</td>\n",
       "      <td>0.987617</td>\n",
       "      <td>0.0</td>\n",
       "      <td>0.0</td>\n",
       "      <td>0.0</td>\n",
       "    </tr>\n",
       "    <tr>\n",
       "      <th>55</th>\n",
       "      <td>This idea does make sense to me, although I'm not sure I have the proper reasoning for it. Based off the definition of temperature, in terms of measuring the KE of the particles, a more massive block has more particles that need to cool down in order for the average KE of the particles to be lower. This is why a block with less mass can cool down faster.</td>\n",
       "      <td>0.0</td>\n",
       "      <td>0.987617</td>\n",
       "      <td>0.0</td>\n",
       "      <td>0.0</td>\n",
       "      <td>0.0</td>\n",
       "    </tr>\n",
       "    <tr>\n",
       "      <th>21</th>\n",
       "      <td>A less massive block has a faster rate of temperature change because there is an equal amount of total kinetic energy for the particles in both blocks, but in the less massive block, there are fewer particles, so each particle has more energy compared to a particle in the more massive block. More energy means that in collisions with the water molecules, more energy is transferred at a faster rate.</td>\n",
       "      <td>0.0</td>\n",
       "      <td>0.986941</td>\n",
       "      <td>0.0</td>\n",
       "      <td>0.0</td>\n",
       "      <td>0.0</td>\n",
       "    </tr>\n",
       "    <tr>\n",
       "      <th>149</th>\n",
       "      <td>A more massive bock of the same material will have a greater surface area. This will allow more of the water particles to interact with the surface and the metal will transfer heat to the water. Likewise, the larger cube will be submerged deeper in the water and thus have more of the water to lose its heat to</td>\n",
       "      <td>0.0</td>\n",
       "      <td>0.986941</td>\n",
       "      <td>0.0</td>\n",
       "      <td>0.0</td>\n",
       "      <td>0.0</td>\n",
       "    </tr>\n",
       "  </tbody>\n",
       "</table>"
      ],
      "text/plain": [
       "<IPython.core.display.HTML object>"
      ]
     },
     "metadata": {},
     "output_type": "display_data"
    },
    {
     "name": "stdout",
     "output_type": "stream",
     "text": [
      "\n",
      "\n",
      "\n",
      "Topic 2: 0.117*\"object\" + 0.066*\"heat\" + 0.050*\"atom\" + 0.048*\"require\" + 0.047*\"specific_heat\" + 0.039*\"capacity\" + 0.039*\"heat_capacity\" + 0.036*\"sense\" + 0.035*\"mean\" + 0.033*\"material\"\n"
     ]
    },
    {
     "data": {
      "text/html": [
       "<table border=\"1\" class=\"dataframe\">\n",
       "  <thead>\n",
       "    <tr style=\"text-align: right;\">\n",
       "      <th></th>\n",
       "      <th>resp</th>\n",
       "      <th>0</th>\n",
       "      <th>1</th>\n",
       "      <th>2</th>\n",
       "      <th>3</th>\n",
       "      <th>4</th>\n",
       "    </tr>\n",
       "  </thead>\n",
       "  <tbody>\n",
       "    <tr>\n",
       "      <th>23</th>\n",
       "      <td>It make sense because the more massive block has more mass, more atoms, so the block with more atoms has more energy than the block with less atoms if all their atoms have the same energy each. The only thing it doesn't state though is the shape of the objects and if their surface areas are proportional for conducting heat.</td>\n",
       "      <td>0.0</td>\n",
       "      <td>0.0</td>\n",
       "      <td>0.980795</td>\n",
       "      <td>0.0</td>\n",
       "      <td>0.0</td>\n",
       "    </tr>\n",
       "    <tr>\n",
       "      <th>84</th>\n",
       "      <td>This does not entirely make sense to me. The only possible explanation I could imagine is that is involves the way heat or thermal energy interacts with objects and that an object with more mass means that more things must interact with that heat thus making it slower to cool.</td>\n",
       "      <td>0.0</td>\n",
       "      <td>0.0</td>\n",
       "      <td>0.980795</td>\n",
       "      <td>0.0</td>\n",
       "      <td>0.0</td>\n",
       "    </tr>\n",
       "    <tr>\n",
       "      <th>102</th>\n",
       "      <td>A less massive block changes its temperature more because it has a lower heat capacity (which is an extensive property). Lower heat capacity from smaller mass means it takes less energy to increase temperature.</td>\n",
       "      <td>0.0</td>\n",
       "      <td>0.0</td>\n",
       "      <td>0.977069</td>\n",
       "      <td>0.0</td>\n",
       "      <td>0.0</td>\n",
       "    </tr>\n",
       "    <tr>\n",
       "      <th>57</th>\n",
       "      <td>Normally, I relate it to specific heat. But if I were to guess at the underlying cause, then I would assume that for more massive blocks, the collisions between materials transfers less kinetic energy than for less massive blocks. Either that, or there are less collisions overall.</td>\n",
       "      <td>0.0</td>\n",
       "      <td>0.0</td>\n",
       "      <td>0.974606</td>\n",
       "      <td>0.0</td>\n",
       "      <td>0.0</td>\n",
       "    </tr>\n",
       "    <tr>\n",
       "      <th>181</th>\n",
       "      <td>Because temperature is a measure of how much the atoms in an object are moving.  More mass = more atoms, which means that it will take longer for all the atoms to cool/move slower.</td>\n",
       "      <td>0.0</td>\n",
       "      <td>0.0</td>\n",
       "      <td>0.971551</td>\n",
       "      <td>0.0</td>\n",
       "      <td>0.0</td>\n",
       "    </tr>\n",
       "  </tbody>\n",
       "</table>"
      ],
      "text/plain": [
       "<IPython.core.display.HTML object>"
      ]
     },
     "metadata": {},
     "output_type": "display_data"
    },
    {
     "name": "stdout",
     "output_type": "stream",
     "text": [
      "\n",
      "\n",
      "\n",
      "Topic 3: 0.087*\"particle\" + 0.069*\"material\" + 0.060*\"small\" + 0.039*\"make_sense\" + 0.038*\"object\" + 0.038*\"faster\" + 0.038*\"great\" + 0.033*\"average\" + 0.031*\"thermal\" + 0.024*\"need\"\n"
     ]
    },
    {
     "data": {
      "text/html": [
       "<table border=\"1\" class=\"dataframe\">\n",
       "  <thead>\n",
       "    <tr style=\"text-align: right;\">\n",
       "      <th></th>\n",
       "      <th>resp</th>\n",
       "      <th>0</th>\n",
       "      <th>1</th>\n",
       "      <th>2</th>\n",
       "      <th>3</th>\n",
       "      <th>4</th>\n",
       "    </tr>\n",
       "  </thead>\n",
       "  <tbody>\n",
       "    <tr>\n",
       "      <th>48</th>\n",
       "      <td>same material, meaning it has the same properties, yet one with the more mass need more time to have its  temp decreased as the other one.<br>Delta Q = m c delta T --&gt; same delta Q, same c but larger m --&gt; smaller  delta T</td>\n",
       "      <td>0.0</td>\n",
       "      <td>0.0</td>\n",
       "      <td>0.0</td>\n",
       "      <td>0.981552</td>\n",
       "      <td>0.0</td>\n",
       "    </tr>\n",
       "    <tr>\n",
       "      <th>35</th>\n",
       "      <td>The less massive block would change more, and faster than the more massive one because there is less material, less mass that it is working to change. The system is trying to reach equilibrium, so a smaller object will be affected more in terms of temperature than a larger object.</td>\n",
       "      <td>0.0</td>\n",
       "      <td>0.0</td>\n",
       "      <td>0.0</td>\n",
       "      <td>0.978290</td>\n",
       "      <td>0.0</td>\n",
       "    </tr>\n",
       "    <tr>\n",
       "      <th>12</th>\n",
       "      <td>This makes sense to me because it seems like the same amount of energy would be transferred to both blocks, but the energy per particle or per mass would be less in the more massive block because the same energy is spread out more. Temperature is related to entropy which is related to the number of particles.</td>\n",
       "      <td>0.0</td>\n",
       "      <td>0.0</td>\n",
       "      <td>0.0</td>\n",
       "      <td>0.976184</td>\n",
       "      <td>0.0</td>\n",
       "    </tr>\n",
       "    <tr>\n",
       "      <th>187</th>\n",
       "      <td>if temperature is a measurement of the average energy of particles in an object then in order to change the average of an object with more particles it will take more energy to change the average temperature because you will have to change the energy of more particles</td>\n",
       "      <td>0.0</td>\n",
       "      <td>0.0</td>\n",
       "      <td>0.0</td>\n",
       "      <td>0.973626</td>\n",
       "      <td>0.0</td>\n",
       "    </tr>\n",
       "    <tr>\n",
       "      <th>143</th>\n",
       "      <td>It has more material that needs to change temperature. This makes it more resistant to external temperatures. A smaller amount of material is more impacted by temperature changes than a larger amount of material.</td>\n",
       "      <td>0.0</td>\n",
       "      <td>0.0</td>\n",
       "      <td>0.0</td>\n",
       "      <td>0.973626</td>\n",
       "      <td>0.0</td>\n",
       "    </tr>\n",
       "  </tbody>\n",
       "</table>"
      ],
      "text/plain": [
       "<IPython.core.display.HTML object>"
      ]
     },
     "metadata": {},
     "output_type": "display_data"
    },
    {
     "name": "stdout",
     "output_type": "stream",
     "text": [
      "\n",
      "\n",
      "\n",
      "Topic 4: 0.089*\"large\" + 0.066*\"thermal\" + 0.063*\"take\" + 0.048*\"time\" + 0.047*\"great\" + 0.043*\"water\" + 0.040*\"small\" + 0.032*\"volume\" + 0.031*\"heat\" + 0.030*\"atom\"\n"
     ]
    },
    {
     "data": {
      "text/html": [
       "<table border=\"1\" class=\"dataframe\">\n",
       "  <thead>\n",
       "    <tr style=\"text-align: right;\">\n",
       "      <th></th>\n",
       "      <th>resp</th>\n",
       "      <th>0</th>\n",
       "      <th>1</th>\n",
       "      <th>2</th>\n",
       "      <th>3</th>\n",
       "      <th>4</th>\n",
       "    </tr>\n",
       "  </thead>\n",
       "  <tbody>\n",
       "    <tr>\n",
       "      <th>110</th>\n",
       "      <td>It makes sense to me that a less massive block would change temperature more rapidly because the smaller block at the same temperature stores less energy than the larger block of the same temperature but both blocks transfer thermal energy to their surroundings at similar rates, so the smaller block with less thermal energy to begin with will loose a larger percentage of its thermal energy</td>\n",
       "      <td>0.0</td>\n",
       "      <td>0.0</td>\n",
       "      <td>0.0</td>\n",
       "      <td>0.0</td>\n",
       "      <td>0.985995</td>\n",
       "    </tr>\n",
       "    <tr>\n",
       "      <th>67</th>\n",
       "      <td>If left in the water for a long enough time, the blocks would reach the same temperature, but because they were only submerged in the cold water for 5 seconds, the less massive block came out colder than the more massive block.  This is because it takes more energy to change the temperature of a more massive block. It is similar to how it takes longer for a large pot of water to boil than a small pot.</td>\n",
       "      <td>0.0</td>\n",
       "      <td>0.0</td>\n",
       "      <td>0.0</td>\n",
       "      <td>0.0</td>\n",
       "      <td>0.984166</td>\n",
       "    </tr>\n",
       "    <tr>\n",
       "      <th>111</th>\n",
       "      <td>If the two blocks are of the same material, they must be of the same density. If one is more massive this requires that it be larger in volume. Since the block is placed in a colder environment, its energy will be \"taken\" slowly. The larger block loses less energy in the same time because of its larger volume.</td>\n",
       "      <td>0.0</td>\n",
       "      <td>0.0</td>\n",
       "      <td>0.0</td>\n",
       "      <td>0.0</td>\n",
       "      <td>0.983059</td>\n",
       "    </tr>\n",
       "    <tr>\n",
       "      <th>98</th>\n",
       "      <td>The total thermal energy of the more massive block is larger since it contains more material that has a certain temperature. Since water can only transfer so much entropy in a certain amount of time, the larger changes its temperature less in the same amount of time.</td>\n",
       "      <td>0.0</td>\n",
       "      <td>0.0</td>\n",
       "      <td>0.0</td>\n",
       "      <td>0.0</td>\n",
       "      <td>0.981786</td>\n",
       "    </tr>\n",
       "    <tr>\n",
       "      <th>49</th>\n",
       "      <td>It makes sense because the larger mass has more are for the temperature to reside in so when there's a change, it will take longer for it to change since the larger mass takes more room. Just like how microwaving food takes longer for food with more mass.</td>\n",
       "      <td>0.0</td>\n",
       "      <td>0.0</td>\n",
       "      <td>0.0</td>\n",
       "      <td>0.0</td>\n",
       "      <td>0.976487</td>\n",
       "    </tr>\n",
       "  </tbody>\n",
       "</table>"
      ],
      "text/plain": [
       "<IPython.core.display.HTML object>"
      ]
     },
     "metadata": {},
     "output_type": "display_data"
    },
    {
     "name": "stdout",
     "output_type": "stream",
     "text": [
      "\n",
      "\n",
      "\n"
     ]
    }
   ],
   "source": [
    "display_n_responses(df, num_responses_displayed, model, corpus, bow)"
   ]
  },
  {
   "cell_type": "markdown",
   "metadata": {},
   "source": [
    "Potential Ideas from LDA: \n",
    "\n",
    "0. More matter/mass ---> more energy, more resistant to change (thermal inertia?)\n",
    "1. Something about the kinetic energy of the particles\n",
    "2. Higher heat capacity / specific heat means longer time to cool down\n",
    "3. Energy is \"spread out\" across more material in the larger block\n",
    "4. Temperature is \"stored\" in mass or volume"
   ]
  },
  {
   "cell_type": "code",
   "execution_count": null,
   "metadata": {},
   "outputs": [],
   "source": []
  }
 ],
 "metadata": {
  "interpreter": {
   "hash": "b1387b5b854ca26737d2f7e25194acc64b4eb89730b66cdda8ec7b69c06b90e6"
  },
  "kernelspec": {
   "display_name": "Python [conda env:.conda-LDA]",
   "language": "python",
   "name": "conda-env-.conda-LDA-py"
  },
  "language_info": {
   "codemirror_mode": {
    "name": "ipython",
    "version": 3
   },
   "file_extension": ".py",
   "mimetype": "text/x-python",
   "name": "python",
   "nbconvert_exporter": "python",
   "pygments_lexer": "ipython3",
   "version": "3.9.7"
  }
 },
 "nbformat": 4,
 "nbformat_minor": 2
}
