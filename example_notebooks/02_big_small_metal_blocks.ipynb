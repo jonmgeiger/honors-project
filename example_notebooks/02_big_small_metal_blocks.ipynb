{
 "cells": [
  {
   "cell_type": "markdown",
   "metadata": {},
   "source": [
    "# LDA Analysis, Case Study 2: Temperature\n",
    "\n",
    "We will be exploring an LDA analysis of the \"Big/Small Metal Blocks\" question, which asks students to compare the explain their reasoning on why two blocks of different masses, when plunged into water for five seconds, would change temperature by a different amount. In particular, the question is: \n",
    "\n",
    "> *Imagine you have two room-temperature blocks made of the same metal, but one has more mass than the other. You drop the blocks into equal volumes of 5-degrees-C water, count to five, and then dump them out onto a table. You measure the temperature of both blocks, and the less massive one is colder than the more massive one. That’s because the mass of an object matters for how much its temperature changes.*\n",
    "> \n",
    "> *What we want to know is why that makes sense or doesn’t make sense to you: Why is it that a less massive block changes its temperature more than a more massive block made of the same material and at the same starting temperature?*"
   ]
  },
  {
   "cell_type": "markdown",
   "metadata": {},
   "source": [
    "## I. Imports"
   ]
  },
  {
   "cell_type": "code",
   "execution_count": 1,
   "metadata": {},
   "outputs": [
    {
     "data": {
      "text/html": [
       "<style>.container { width:95% !important; }</style>"
      ],
      "text/plain": [
       "<IPython.core.display.HTML object>"
      ]
     },
     "metadata": {},
     "output_type": "display_data"
    },
    {
     "data": {
      "text/html": [
       "<style>.container { width:95% !important; }</style>"
      ],
      "text/plain": [
       "<IPython.core.display.HTML object>"
      ]
     },
     "metadata": {},
     "output_type": "display_data"
    }
   ],
   "source": [
    "# Print out all expressions\n",
    "from IPython.core.interactiveshell import InteractiveShell\n",
    "InteractiveShell.ast_node_interactivity = \"all\"\n",
    "# Wider Cells\n",
    "from IPython.display import display, HTML\n",
    "display(HTML(\"<style>.container { width:95% !important; }</style>\"))\n",
    "# Ignore some warnings\n",
    "import warnings\n",
    "warnings.filterwarnings(\"ignore\", category=DeprecationWarning);\n",
    "\n",
    "# General Packages\n",
    "import pandas as pd\n",
    "import numpy as np\n",
    "import matplotlib.pyplot as plt\n",
    "import re as re\n",
    "import pickle as pkl\n",
    "import copy\n",
    "\n",
    "import sys  \n",
    "sys.path.insert(0, '..')\n",
    "from scripts.lda_model import *"
   ]
  },
  {
   "cell_type": "markdown",
   "metadata": {},
   "source": [
    "## II. Data Import and Restructuring"
   ]
  },
  {
   "cell_type": "code",
   "execution_count": 2,
   "metadata": {},
   "outputs": [
    {
     "data": {
      "text/html": [
       "<div>\n",
       "<style scoped>\n",
       "    .dataframe tbody tr th:only-of-type {\n",
       "        vertical-align: middle;\n",
       "    }\n",
       "\n",
       "    .dataframe tbody tr th {\n",
       "        vertical-align: top;\n",
       "    }\n",
       "\n",
       "    .dataframe thead th {\n",
       "        text-align: right;\n",
       "    }\n",
       "</style>\n",
       "<table border=\"1\" class=\"dataframe\">\n",
       "  <thead>\n",
       "    <tr style=\"text-align: right;\">\n",
       "      <th></th>\n",
       "      <th>resp</th>\n",
       "    </tr>\n",
       "  </thead>\n",
       "  <tbody>\n",
       "    <tr>\n",
       "      <th>0</th>\n",
       "      <td>A less massive block changes its temperature m...</td>\n",
       "    </tr>\n",
       "    <tr>\n",
       "      <th>1</th>\n",
       "      <td>The more massive block has more molecules movi...</td>\n",
       "    </tr>\n",
       "    <tr>\n",
       "      <th>2</th>\n",
       "      <td>There are fewer molecules that need to have th...</td>\n",
       "    </tr>\n",
       "    <tr>\n",
       "      <th>3</th>\n",
       "      <td>This makes sense to me because the more mass o...</td>\n",
       "    </tr>\n",
       "    <tr>\n",
       "      <th>4</th>\n",
       "      <td>Thermal energy is stored in the vibrations of ...</td>\n",
       "    </tr>\n",
       "  </tbody>\n",
       "</table>\n",
       "</div>"
      ],
      "text/plain": [
       "                                                resp\n",
       "0  A less massive block changes its temperature m...\n",
       "1  The more massive block has more molecules movi...\n",
       "2  There are fewer molecules that need to have th...\n",
       "3  This makes sense to me because the more mass o...\n",
       "4  Thermal energy is stored in the vibrations of ..."
      ]
     },
     "execution_count": 2,
     "metadata": {},
     "output_type": "execute_result"
    }
   ],
   "source": [
    "df = pd.read_csv('../data/heat_and_temperature.csv', names = ['num', 'ID', 'resp', 'drop'])\n",
    "df.drop(columns = ['num', 'ID', 'drop'], inplace = True)\n",
    "df.head(5)"
   ]
  },
  {
   "cell_type": "markdown",
   "metadata": {},
   "source": [
    "## III. LDA Modeling\n",
    "\n",
    "The following code will take the data processed above and convert it into a usable format for the LDA model. Before we start modeling, though, we need to set some parameters for our particular data. "
   ]
  },
  {
   "cell_type": "code",
   "execution_count": 3,
   "metadata": {},
   "outputs": [],
   "source": [
    "bigrams =               text_to_bigrams(df)\n",
    "corpus =                bigrams_to_corpus(bigrams)"
   ]
  },
  {
   "cell_type": "markdown",
   "metadata": {},
   "source": [
    "Let's take a look at some plots of the words used in the collection of student responses. "
   ]
  },
  {
   "cell_type": "code",
   "execution_count": 4,
   "metadata": {},
   "outputs": [
    {
     "name": "stdout",
     "output_type": "stream",
     "text": [
      "Total words: \u001b[1m3540\u001b[0m, unique words: \u001b[1m447\u001b[0m\n"
     ]
    },
    {
     "data": {
      "image/png": "[encoded data removed]",
      "text/plain": [
       "<Figure size 1080x360 with 1 Axes>"
      ]
     },
     "metadata": {
      "needs_background": "light"
     },
     "output_type": "display_data"
    },
    {
     "data": {
      "image/png": "[encoded data removed]",
      "text/plain": [
       "<Figure size 576x360 with 1 Axes>"
      ]
     },
     "metadata": {
      "needs_background": "light"
     },
     "output_type": "display_data"
    }
   ],
   "source": [
    "plot_words(corpus)"
   ]
  },
  {
   "cell_type": "markdown",
   "metadata": {},
   "source": [
    "Let's now figure out the best thresholds for removing the most and least common words. A `no_above` threshold of 70% would remove words used in at least 70% of documents, and a `no_below` threshold of 3 would remove words used in only two or fewer documents. "
   ]
  },
  {
   "cell_type": "code",
   "execution_count": 5,
   "metadata": {},
   "outputs": [
    {
     "name": "stdout",
     "output_type": "stream",
     "text": [
      "\n",
      "NO ABOVE THRESHOLDS\n",
      "\n",
      "\n",
      "Dictionary with \u001b[1mno_above=1\u001b[0m contains \u001b[1m447\u001b[0m unique words\n",
      "\n",
      "Dictionary filtered with \u001b[1mno_above=1.00\u001b[0m contains \u001b[1m447\u001b[0m unique words. \u001b[1m0 words\u001b[0m removed:\n",
      " [] \n",
      "\n",
      "Dictionary filtered with \u001b[1mno_above=0.90\u001b[0m contains \u001b[1m447\u001b[0m unique words. \u001b[1m0 words\u001b[0m removed:\n",
      " [] \n",
      "\n",
      "Dictionary filtered with \u001b[1mno_above=0.80\u001b[0m contains \u001b[1m447\u001b[0m unique words. \u001b[1m0 words\u001b[0m removed:\n",
      " [] \n",
      "\n",
      "Dictionary filtered with \u001b[1mno_above=0.70\u001b[0m contains \u001b[1m447\u001b[0m unique words. \u001b[1m0 words\u001b[0m removed:\n",
      " [] \n",
      "\n",
      "Dictionary filtered with \u001b[1mno_above=0.60\u001b[0m contains \u001b[1m445\u001b[0m unique words. \u001b[1m2 words\u001b[0m removed:\n",
      " ['block', 'temperature'] \n",
      "\n",
      "Dictionary filtered with \u001b[1mno_above=0.50\u001b[0m contains \u001b[1m444\u001b[0m unique words. \u001b[1m1 words\u001b[0m removed:\n",
      " ['change'] \n",
      "\n",
      "Dictionary filtered with \u001b[1mno_above=0.40\u001b[0m contains \u001b[1m441\u001b[0m unique words. \u001b[1m3 words\u001b[0m removed:\n",
      " ['energy', 'mass', 'massive'] \n",
      "\n",
      "Dictionary filtered with \u001b[1mno_above=0.30\u001b[0m contains \u001b[1m441\u001b[0m unique words. \u001b[1m0 words\u001b[0m removed:\n",
      " [] \n",
      "\n",
      "Dictionary filtered with \u001b[1mno_above=0.20\u001b[0m contains \u001b[1m436\u001b[0m unique words. \u001b[1m5 words\u001b[0m removed:\n",
      " ['heat', 'large', 'material', 'object', 'small'] \n",
      "\n",
      "Dictionary filtered with \u001b[1mno_above=0.10\u001b[0m contains \u001b[1m422\u001b[0m unique words. \u001b[1m14 words\u001b[0m removed:\n",
      " ['cool', 'faster', 'great', 'make_sense', 'need', 'particle', 'require', 'surface_area', 'take', 'thermal', 'time', 'transfer', 'volume', 'water'] \n",
      "\n",
      "\n",
      "\n",
      "NO BELOW THRESHOLDS\n",
      "\n",
      "\n",
      "Dictionary with \u001b[1mno_below=1\u001b[0m contains \u001b[1m422\u001b[0m unique words\n",
      "\n",
      "Dictionary filtered with \u001b[1mno_below=1.00\u001b[0m contains \u001b[1m422\u001b[0m unique words. \u001b[1m0 words\u001b[0m removed:\n",
      " [] \n",
      "\n",
      "Dictionary filtered with \u001b[1mno_below=2.00\u001b[0m contains \u001b[1m178\u001b[0m unique words. \u001b[1m244 words\u001b[0m removed:\n",
      " ['abouts', 'absorbed', 'absorbs', 'account', 'achieve', 'actuality', 'additionally', 'adjust', 'agree', 'allows', 'alter', 'ambient', 'apart', 'appear', 'aside', 'associate', 'attract', 'away', 'basic', 'becuase', 'bock', 'body', 'boil', 'boltzmann', 'bond', 'box', 'bread', 'breast', 'bring', 'butter', 'cahnge', 'call', 'cap', 'capcities', 'car', 'celsius', 'center', 'chang', 'chemical', 'chicken', 'come', 'compensate', 'complete', 'completely', 'compose', 'composition', 'concentrate', 'conceptually', 'conclude', 'condition', 'conduct', 'connect', 'constant', 'contact', 'contain', 'cook', 'core', 'crash', 'deal', 'deeper', 'define', 'defines', 'definition', 'dense', 'denser', 'determines', 'dictate', 'differ', 'dimension', 'discover', 'dissipate', 'distributes', 'doesnt', 'domino', 'double', 'draw', 'duality', 'dunked', 'effort', 'enable', 'end', 'entirely', 'equally', 'equiibrium', 'equipartition', 'escape', 'evenly', 'eventually', 'evidence', 'example', 'exert', 'experience', 'explain', 'explanation', 'external', 'fact', 'factor', 'far', 'fast', 'figure', 'fluid', 'food', 'fully', 'get', 'glass', 'gradient', 'harbor', 'have', 'hit', 'huge', 'illustrates', 'incoherent', 'indicate', 'information', 'initially', 'input', 'instead', 'insulates', 'intensity', 'intensive', 'interaction', 'interior', 'intrinsically', 'involves', 'kept', 'lake', 'largely', 'leave', 'life', 'light', 'likely', 'likewise', 'logic', 'logically', 'macroscopic', 'macrostate', 'macrostates', 'main', 'male', 'math', 'mde', 'medium', 'mental', 'microwave', 'mind', 'momentum', 'nc', 'normally', 'notice', 'observe', 'occur', 'opposite', 'output', 'outside', 'oven', 'packed', 'part', 'particular', 'pas', 'peanut', 'penetrate', 'people', 'perception', 'permeability', 'physical', 'play', 'possible', 'possibly', 'pot', 'power', 'primarily', 'probably', 'process', 'prompt', 'propagate', 'proper', 'proportionally', 'quantity', 'question', 'radiates', 'rae', 'ration', 'readily', 'reading', 'reduce', 'reduces', 'reflect', 'relate', 'relates', 'relationship', 'remain', 'reside', 'resistance', 'retains', 'right', 'rise', 'role', 'roughly', 'say', 'separate', 'set', 'severe', 'shape', 'share', 'side', 'significantly', 'simple', 'situation', 'smash', 'solid', 'sorry', 'space', 'square', 'stability', 'statement', 'steel', 'stefan', 'stop', 'subject', 'subsequently', 'surely', 'temperatre', 'tempreture', 'tend', 'theorem', 'therefor', 'therfore', 'thermodynamic', 'tightly', 'translate', 'truck', 'try', 'underlie', 'v', 'value', 'varies', 'versus', 'vibrational', 'warmer', 'weighs', 'whichever', 'window', 'won', 'word'] \n",
      "\n",
      "Dictionary filtered with \u001b[1mno_below=3.00\u001b[0m contains \u001b[1m125\u001b[0m unique words. \u001b[1m53 words\u001b[0m removed:\n",
      " ['allow', 'apply', 'assume', 'balance', 'believe', 'carry', 'clearly', 'collision', 'concept', 'consider', 'cooler', 'deltat', 'divide', 'effect', 'enter', 'entire', 'equivalent', 'extensive', 'inertia', 'initial', 'interact', 'interacts', 'inversely', 'lead', 'leaf', 'left', 'long', 'loose', 'loses', 'lot', 'mcdeltat', 'measurement', 'motion', 'observation', 'permeate', 'piece', 'point', 'property', 'rapidly', 'remove', 'resistant', 'retain', 'simply', 'slowly', 'speed', 'thermally', 'thinner', 'variable', 'vibrate', 'vibration', 'weight', 'work', 'yes'] \n",
      "\n",
      "Dictionary filtered with \u001b[1mno_below=4.00\u001b[0m contains \u001b[1m86\u001b[0m unique words. \u001b[1m39 words\u001b[0m removed:\n",
      " ['accord', 'affected', 'aka', 'begin', 'convert', 'dependent', 'directly', 'entropy', 'environment', 'expose', 'feel', 'go', 'guess', 'happens', 'heavier', 'idea', 'imagine', 'impact', 'inside', 'ke', 'law', 'lesser', 'lighter', 'move', 'number', 'occurs', 'percentage', 'period', 'reason', 'similar', 'substance', 'sure', 'surface', 'surround', 'surroundings', 'term', 'travel', 'understand', 'well'] \n",
      "\n",
      "Dictionary filtered with \u001b[1mno_below=5.00\u001b[0m contains \u001b[1m63\u001b[0m unique words. \u001b[1m23 words\u001b[0m removed:\n",
      " ['affect', 'case', 'cause', 'cube', 'decrease', 'degree', 'delta', 'density', 'depends', 'equal', 'exchange', 'harder', 'internal', 'loss', 'order', 'place', 'quickly', 'related', 'release', 'size', 'state', 'submerge', 'way'] \n",
      "\n",
      "Dictionary filtered with \u001b[1mno_below=6.00\u001b[0m contains \u001b[1m54\u001b[0m unique words. \u001b[1m9 words\u001b[0m removed:\n",
      " ['base', 'equation', 'equilibrium', 'hold', 'mc', 'meaning', 'relative', 'result', 'room'] \n",
      "\n",
      "Dictionary filtered with \u001b[1mno_below=7.00\u001b[0m contains \u001b[1m42\u001b[0m unique words. \u001b[1m12 words\u001b[0m removed:\n",
      " ['absorb', 'certain', 'difference', 'distribute', 'drop', 'easily', 'like', 'measure', 'ratio', 'second', 'thing', 'unit'] \n",
      "\n",
      "Dictionary filtered with \u001b[1mno_below=8.00\u001b[0m contains \u001b[1m34\u001b[0m unique words. \u001b[1m8 words\u001b[0m removed:\n",
      " ['able', 'area', 'cold', 'know', 'make', 'raise', 'spread', 'store'] \n",
      "\n",
      "Dictionary filtered with \u001b[1mno_below=9.00\u001b[0m contains \u001b[1m30\u001b[0m unique words. \u001b[1m4 words\u001b[0m removed:\n",
      " ['contains', 'increase', 'quicker', 'temp'] \n",
      "\n"
     ]
    }
   ],
   "source": [
    "display_words_removed_at_thresholds(bigrams)"
   ]
  },
  {
   "cell_type": "markdown",
   "metadata": {},
   "source": [
    "You can now set the desired threshold values based on this particular data set. "
   ]
  },
  {
   "cell_type": "code",
   "execution_count": 6,
   "metadata": {},
   "outputs": [],
   "source": [
    "no_above = 0.4\n",
    "no_below = 2"
   ]
  },
  {
   "cell_type": "code",
   "execution_count": 7,
   "metadata": {},
   "outputs": [],
   "source": [
    "bow, id2word= create_bow(corpus, bigrams, no_above, no_below, \n",
    "                         display_removed_words = False)"
   ]
  },
  {
   "cell_type": "markdown",
   "metadata": {},
   "source": [
    "We can now proceed with the actual modeling process. Here, you can set a number of topics desired for the model, as well as the number of responses to display for each topic. By default, the number of responses displayed is three, but that can be overridden by setting a value. "
   ]
  },
  {
   "cell_type": "code",
   "execution_count": 8,
   "metadata": {},
   "outputs": [],
   "source": [
    "num_topics = 5\n",
    "num_responses_displayed = 5"
   ]
  },
  {
   "cell_type": "code",
   "execution_count": 9,
   "metadata": {
    "scrolled": false
   },
   "outputs": [
    {
     "name": "stdout",
     "output_type": "stream",
     "text": [
      "Coherence of model with 5 topics: 0.31122471225864334\n",
      "\n",
      "\n"
     ]
    },
    {
     "data": {
      "text/plain": [
       "[(0,\n",
       "  '0.077*\"material\" + 0.064*\"heat\" + 0.049*\"faster\" + 0.035*\"need\" + 0.032*\"absorb\" + 0.031*\"mean\" + 0.030*\"low\" + 0.029*\"transfer\" + 0.026*\"make_sense\" + 0.023*\"rate\"'),\n",
       " (1,\n",
       "  '0.124*\"object\" + 0.050*\"small\" + 0.037*\"heat\" + 0.037*\"surface_area\" + 0.037*\"material\" + 0.033*\"large\" + 0.033*\"volume\" + 0.027*\"atom\" + 0.027*\"great\" + 0.026*\"make_sense\"'),\n",
       " (2,\n",
       "  '0.101*\"small\" + 0.055*\"heat\" + 0.046*\"large\" + 0.032*\"water\" + 0.030*\"material\" + 0.030*\"lose\" + 0.029*\"make_sense\" + 0.028*\"surface_area\" + 0.026*\"specific_heat\" + 0.026*\"cool\"'),\n",
       " (3,\n",
       "  '0.101*\"particle\" + 0.039*\"heat\" + 0.035*\"molecule\" + 0.032*\"average\" + 0.027*\"time\" + 0.026*\"object\" + 0.026*\"require\" + 0.025*\"kinetic\" + 0.022*\"mean\" + 0.021*\"atom\"'),\n",
       " (4,\n",
       "  '0.097*\"thermal\" + 0.050*\"take\" + 0.044*\"great\" + 0.042*\"large\" + 0.039*\"material\" + 0.039*\"heat_capacity\" + 0.038*\"specific_heat\" + 0.033*\"require\" + 0.033*\"capacity\" + 0.027*\"water\"')]"
      ]
     },
     "execution_count": 9,
     "metadata": {},
     "output_type": "execute_result"
    }
   ],
   "source": [
    "model = LDA_model(bow, id2word, bigrams, \n",
    "                  num_topics = num_topics)\n",
    "model.show_topics(num_words = 10, \n",
    "                  num_topics = num_topics)"
   ]
  },
  {
   "cell_type": "code",
   "execution_count": 10,
   "metadata": {},
   "outputs": [
    {
     "name": "stdout",
     "output_type": "stream",
     "text": [
      "Topic 0: 0.077*\"material\" + 0.064*\"heat\" + 0.049*\"faster\" + 0.035*\"need\" + 0.032*\"absorb\" + 0.031*\"mean\" + 0.030*\"low\" + 0.029*\"transfer\" + 0.026*\"make_sense\" + 0.023*\"rate\"\n"
     ]
    },
    {
     "data": {
      "text/html": [
       "<table border=\"1\" class=\"dataframe\">\n",
       "  <thead>\n",
       "    <tr style=\"text-align: right;\">\n",
       "      <th></th>\n",
       "      <th>resp</th>\n",
       "      <th>0</th>\n",
       "      <th>1</th>\n",
       "      <th>2</th>\n",
       "      <th>3</th>\n",
       "      <th>4</th>\n",
       "    </tr>\n",
       "  </thead>\n",
       "  <tbody>\n",
       "    <tr>\n",
       "      <th>207</th>\n",
       "      <td>A less massive block changes its temperature more than a more massive block made of the same material at the same starting temperature because there's more room in the more massive block to spread out its temperature. In other words, there are more bonds within the more massive block that can absorb heat. Because there are more bonds to absorb this heat, the average thermal energy in each bond/interaction (the temperature), is lower than the block with less bonds.</td>\n",
       "      <td>0.979365</td>\n",
       "      <td>0.0</td>\n",
       "      <td>0.0</td>\n",
       "      <td>0.0</td>\n",
       "      <td>0.0</td>\n",
       "    </tr>\n",
       "    <tr>\n",
       "      <th>144</th>\n",
       "      <td>YES, the heat transfer energy for same material is same during same time. So with greater mass, the delta t would be less due to the heat transfer law.</td>\n",
       "      <td>0.977354</td>\n",
       "      <td>0.0</td>\n",
       "      <td>0.0</td>\n",
       "      <td>0.0</td>\n",
       "      <td>0.0</td>\n",
       "    </tr>\n",
       "    <tr>\n",
       "      <th>145</th>\n",
       "      <td>There is more material or thermal mass that needs to be cooled for the average temperature of the material to lower. So less mass means the temp changes more.</td>\n",
       "      <td>0.974910</td>\n",
       "      <td>0.0</td>\n",
       "      <td>0.0</td>\n",
       "      <td>0.0</td>\n",
       "      <td>0.0</td>\n",
       "    </tr>\n",
       "    <tr>\n",
       "      <th>31</th>\n",
       "      <td>More mass means that there is more material to \"convert\" to lower temperature, so it will take more time for the temperature of the higher mass block to lower compared to the lower mass block.</td>\n",
       "      <td>0.974910</td>\n",
       "      <td>0.0</td>\n",
       "      <td>0.0</td>\n",
       "      <td>0.0</td>\n",
       "      <td>0.0</td>\n",
       "    </tr>\n",
       "    <tr>\n",
       "      <th>51</th>\n",
       "      <td>There are more particles in the one with greater mass. Since there are more particles, more work has to be done in order to make the more massive one reach the same temperature as the less massive one. Since the same amount of work is being applied to both, the more massive one will be less cold.</td>\n",
       "      <td>0.974910</td>\n",
       "      <td>0.0</td>\n",
       "      <td>0.0</td>\n",
       "      <td>0.0</td>\n",
       "      <td>0.0</td>\n",
       "    </tr>\n",
       "  </tbody>\n",
       "</table>"
      ],
      "text/plain": [
       "<IPython.core.display.HTML object>"
      ]
     },
     "metadata": {},
     "output_type": "display_data"
    },
    {
     "name": "stdout",
     "output_type": "stream",
     "text": [
      "\n",
      "\n",
      "\n",
      "Topic 1: 0.124*\"object\" + 0.050*\"small\" + 0.037*\"heat\" + 0.037*\"surface_area\" + 0.037*\"material\" + 0.033*\"large\" + 0.033*\"volume\" + 0.027*\"atom\" + 0.027*\"great\" + 0.026*\"make_sense\"\n"
     ]
    },
    {
     "data": {
      "text/html": [
       "<table border=\"1\" class=\"dataframe\">\n",
       "  <thead>\n",
       "    <tr style=\"text-align: right;\">\n",
       "      <th></th>\n",
       "      <th>resp</th>\n",
       "      <th>0</th>\n",
       "      <th>1</th>\n",
       "      <th>2</th>\n",
       "      <th>3</th>\n",
       "      <th>4</th>\n",
       "    </tr>\n",
       "  </thead>\n",
       "  <tbody>\n",
       "    <tr>\n",
       "      <th>232</th>\n",
       "      <td>Mass is the measurement of how much matter an object is composed of, intrinsically an object with a lower mass than another object made of the same material will have fewer atoms. Temperature is simply the perception of how fast an objects atoms are moving, or vibrating, with a higher temperature object's atoms vibrating or moving faster than a cooler object's. To change the temperature of these objects energy must be applied to slow the vibrations of these atoms. The more atoms the more energy is needed to change an objects temperature, in a system that can only exert or draw a set amount of energy over a given period of time, the more time it will take to cool or heat a more massive object than a less massive object of the same material. That is why the above example makes sense.</td>\n",
       "      <td>0.0</td>\n",
       "      <td>0.995452</td>\n",
       "      <td>0.0</td>\n",
       "      <td>0.0</td>\n",
       "      <td>0.0</td>\n",
       "    </tr>\n",
       "    <tr>\n",
       "      <th>163</th>\n",
       "      <td>This occurs because we need to understand the ratio of surface area of the two objects to their mass. The object with less mass has a ratio of surface area that is more relative to its mass then the object with more mass. This causes more thermal energy to transfer through the surface relative to its total mass compared to the larger mass object. This causes the less massive block to change its temperature much faster.</td>\n",
       "      <td>0.0</td>\n",
       "      <td>0.991776</td>\n",
       "      <td>0.0</td>\n",
       "      <td>0.0</td>\n",
       "      <td>0.0</td>\n",
       "    </tr>\n",
       "    <tr>\n",
       "      <th>201</th>\n",
       "      <td>I believe the statement \"the less massive block changes its temperature more than a more massive block made of the same material (and with the same starting temperature)\" makes sense because objects with more mass tend to attract the ambient temperature much better than the same object with less mass. Additionally, the greater the mass, the greater amount of heat or energy is transferred. Therefore, it would make sense that the more mass metal is cooler taken out of the water compared to the metal with less mass.</td>\n",
       "      <td>0.0</td>\n",
       "      <td>0.989974</td>\n",
       "      <td>0.0</td>\n",
       "      <td>0.0</td>\n",
       "      <td>0.0</td>\n",
       "    </tr>\n",
       "    <tr>\n",
       "      <th>231</th>\n",
       "      <td>Heavier metals take longer to change temperature. I have noticed this myself in my life. A larger piece of steel will take longer to cool down compared to a smaller piece. I think this is because heavier metals have a greater amount to change in temperature and require more thermal energy to complete.</td>\n",
       "      <td>0.0</td>\n",
       "      <td>0.988741</td>\n",
       "      <td>0.0</td>\n",
       "      <td>0.0</td>\n",
       "      <td>0.0</td>\n",
       "    </tr>\n",
       "    <tr>\n",
       "      <th>218</th>\n",
       "      <td>Both objects are made of the same material, but different in size. This means that the reason that smaller mass block changed temperature more easily is because there is less material to heat up, versus the bigger block which needs longer time to heat up.</td>\n",
       "      <td>0.0</td>\n",
       "      <td>0.988004</td>\n",
       "      <td>0.0</td>\n",
       "      <td>0.0</td>\n",
       "      <td>0.0</td>\n",
       "    </tr>\n",
       "  </tbody>\n",
       "</table>"
      ],
      "text/plain": [
       "<IPython.core.display.HTML object>"
      ]
     },
     "metadata": {},
     "output_type": "display_data"
    },
    {
     "name": "stdout",
     "output_type": "stream",
     "text": [
      "\n",
      "\n",
      "\n",
      "Topic 2: 0.101*\"small\" + 0.055*\"heat\" + 0.046*\"large\" + 0.032*\"water\" + 0.030*\"material\" + 0.030*\"lose\" + 0.029*\"make_sense\" + 0.028*\"surface_area\" + 0.026*\"specific_heat\" + 0.026*\"cool\"\n"
     ]
    },
    {
     "data": {
      "text/html": [
       "<table border=\"1\" class=\"dataframe\">\n",
       "  <thead>\n",
       "    <tr style=\"text-align: right;\">\n",
       "      <th></th>\n",
       "      <th>resp</th>\n",
       "      <th>0</th>\n",
       "      <th>1</th>\n",
       "      <th>2</th>\n",
       "      <th>3</th>\n",
       "      <th>4</th>\n",
       "    </tr>\n",
       "  </thead>\n",
       "  <tbody>\n",
       "    <tr>\n",
       "      <th>205</th>\n",
       "      <td>This makes sense only because I know the equation Q=mcdeltaT where if a metal has the same specific heat cap. but a different mass than that would affect the change in temperature. Based off the equation alone, if everything were the same except one mass is smaller than the other you could imagine that the change in temperature would also be smaller for the smaller mass, it would take longer to heat up something with a bigger mass than something with a smaller mass. If I put a chicken breast in the oven its going to have to cook longer than if I cook a chicken breast that I smashed to make thinner. In my mind it's the same idea but with mass being the variable instead of size.</td>\n",
       "      <td>0.0</td>\n",
       "      <td>0.0</td>\n",
       "      <td>0.991161</td>\n",
       "      <td>0.0</td>\n",
       "      <td>0.0</td>\n",
       "    </tr>\n",
       "    <tr>\n",
       "      <th>73</th>\n",
       "      <td>The amount of energy that a material can store as temperature, otherwise known as specific heat, is a measure of the thermal energy stored per unit mass. Therefore, a more massive block is able to store more energy within it, and therefore less subject to losing this heat when placed into water.</td>\n",
       "      <td>0.0</td>\n",
       "      <td>0.0</td>\n",
       "      <td>0.984965</td>\n",
       "      <td>0.0</td>\n",
       "      <td>0.0</td>\n",
       "    </tr>\n",
       "    <tr>\n",
       "      <th>96</th>\n",
       "      <td>I know heat is Q= m*C*Delta T. The two blocks have the same specific heat capacity. They lost the same amount of heat so it makes sense that the smaller block has a larger change in temperature since Delta T = Q/m/c. Its m is smaller so its delta T is larger.</td>\n",
       "      <td>0.0</td>\n",
       "      <td>0.0</td>\n",
       "      <td>0.984965</td>\n",
       "      <td>0.0</td>\n",
       "      <td>0.0</td>\n",
       "    </tr>\n",
       "    <tr>\n",
       "      <th>72</th>\n",
       "      <td>It makes sense to me because the smaller cube has a much larger area to volume ratio than the larger cube which means it can lose heat more readily.</td>\n",
       "      <td>0.0</td>\n",
       "      <td>0.0</td>\n",
       "      <td>0.982513</td>\n",
       "      <td>0.0</td>\n",
       "      <td>0.0</td>\n",
       "    </tr>\n",
       "    <tr>\n",
       "      <th>80</th>\n",
       "      <td>The smaller block has both a lower volume to surface area ratio and less total thermal energy to lose. The energy doesn't have as far to travel and more surface area to escape from for the smaller block.</td>\n",
       "      <td>0.0</td>\n",
       "      <td>0.0</td>\n",
       "      <td>0.980961</td>\n",
       "      <td>0.0</td>\n",
       "      <td>0.0</td>\n",
       "    </tr>\n",
       "  </tbody>\n",
       "</table>"
      ],
      "text/plain": [
       "<IPython.core.display.HTML object>"
      ]
     },
     "metadata": {},
     "output_type": "display_data"
    },
    {
     "name": "stdout",
     "output_type": "stream",
     "text": [
      "\n",
      "\n",
      "\n",
      "Topic 3: 0.101*\"particle\" + 0.039*\"heat\" + 0.035*\"molecule\" + 0.032*\"average\" + 0.027*\"time\" + 0.026*\"object\" + 0.026*\"require\" + 0.025*\"kinetic\" + 0.022*\"mean\" + 0.021*\"atom\"\n"
     ]
    },
    {
     "data": {
      "text/html": [
       "<table border=\"1\" class=\"dataframe\">\n",
       "  <thead>\n",
       "    <tr style=\"text-align: right;\">\n",
       "      <th></th>\n",
       "      <th>resp</th>\n",
       "      <th>0</th>\n",
       "      <th>1</th>\n",
       "      <th>2</th>\n",
       "      <th>3</th>\n",
       "      <th>4</th>\n",
       "    </tr>\n",
       "  </thead>\n",
       "  <tbody>\n",
       "    <tr>\n",
       "      <th>242</th>\n",
       "      <td>It make sense because the one with the more massive block has more molecules. it takes more time to heat more molecules and it takes more time as well when it gets cold comparing to the one with the less massive block. Imagine you have a room you have 20 people to enter the room, and you have another room and you have 10 people to enter that second room. it will take more time to get the 20 people in the first room than to get the 10 people in the second room. The room is the blocks, the people are the molecules, and to get then inside the room is the temperature.</td>\n",
       "      <td>0.0</td>\n",
       "      <td>0.0</td>\n",
       "      <td>0.0</td>\n",
       "      <td>0.991859</td>\n",
       "      <td>0.0</td>\n",
       "    </tr>\n",
       "    <tr>\n",
       "      <th>210</th>\n",
       "      <td>It's easier to understand how mass affects heat transfer if you think about temperature, a measure of internal energy, as a physical thing. If you think of other physical things, like peanut butter, it makes sense that peanut butter is spread thinner over a larger piece of bread. In the same way, the internal energy of the system is shared evenly with the whole mass of the submerged object. Therefore, the larger the object, the less temperature to go around.</td>\n",
       "      <td>0.0</td>\n",
       "      <td>0.0</td>\n",
       "      <td>0.0</td>\n",
       "      <td>0.990809</td>\n",
       "      <td>0.0</td>\n",
       "    </tr>\n",
       "    <tr>\n",
       "      <th>55</th>\n",
       "      <td>This idea does make sense to me, although I'm not sure I have the proper reasoning for it. Based off the definition of temperature, in terms of measuring the KE of the particles, a more massive block has more particles that need to cool down in order for the average KE of the particles to be lower. This is why a block with less mass can cool down faster.</td>\n",
       "      <td>0.0</td>\n",
       "      <td>0.0</td>\n",
       "      <td>0.0</td>\n",
       "      <td>0.988901</td>\n",
       "      <td>0.0</td>\n",
       "    </tr>\n",
       "    <tr>\n",
       "      <th>21</th>\n",
       "      <td>A less massive block has a faster rate of temperature change because there is an equal amount of total kinetic energy for the particles in both blocks, but in the less massive block, there are fewer particles, so each particle has more energy compared to a particle in the more massive block. More energy means that in collisions with the water molecules, more energy is transferred at a faster rate.</td>\n",
       "      <td>0.0</td>\n",
       "      <td>0.0</td>\n",
       "      <td>0.0</td>\n",
       "      <td>0.988293</td>\n",
       "      <td>0.0</td>\n",
       "    </tr>\n",
       "    <tr>\n",
       "      <th>120</th>\n",
       "      <td>Each particle/atom within the block requires the same amount of energy to change its temperature, and if the blocks are both mde of the same material, then it would make sense that if there rae more particles/atoms, it would require more energy to raise the energy (aka temperature) of the whole block by some amount as compared to a different block with fewer particles or atoms.</td>\n",
       "      <td>0.0</td>\n",
       "      <td>0.0</td>\n",
       "      <td>0.0</td>\n",
       "      <td>0.985992</td>\n",
       "      <td>0.0</td>\n",
       "    </tr>\n",
       "  </tbody>\n",
       "</table>"
      ],
      "text/plain": [
       "<IPython.core.display.HTML object>"
      ]
     },
     "metadata": {},
     "output_type": "display_data"
    },
    {
     "name": "stdout",
     "output_type": "stream",
     "text": [
      "\n",
      "\n",
      "\n",
      "Topic 4: 0.097*\"thermal\" + 0.050*\"take\" + 0.044*\"great\" + 0.042*\"large\" + 0.039*\"material\" + 0.039*\"heat_capacity\" + 0.038*\"specific_heat\" + 0.033*\"require\" + 0.033*\"capacity\" + 0.027*\"water\"\n"
     ]
    },
    {
     "data": {
      "text/html": [
       "<table border=\"1\" class=\"dataframe\">\n",
       "  <thead>\n",
       "    <tr style=\"text-align: right;\">\n",
       "      <th></th>\n",
       "      <th>resp</th>\n",
       "      <th>0</th>\n",
       "      <th>1</th>\n",
       "      <th>2</th>\n",
       "      <th>3</th>\n",
       "      <th>4</th>\n",
       "    </tr>\n",
       "  </thead>\n",
       "  <tbody>\n",
       "    <tr>\n",
       "      <th>111</th>\n",
       "      <td>If the two blocks are of the same material, they must be of the same density. If one is more massive this requires that it be larger in volume. Since the block is placed in a colder environment, its energy will be \"taken\" slowly. The larger block loses less energy in the same time because of its larger volume.</td>\n",
       "      <td>0.0</td>\n",
       "      <td>0.0</td>\n",
       "      <td>0.0</td>\n",
       "      <td>0.0</td>\n",
       "      <td>0.986095</td>\n",
       "    </tr>\n",
       "    <tr>\n",
       "      <th>98</th>\n",
       "      <td>The total thermal energy of the more massive block is larger since it contains more material that has a certain temperature. Since water can only transfer so much entropy in a certain amount of time, the larger changes its temperature less in the same amount of time.</td>\n",
       "      <td>0.0</td>\n",
       "      <td>0.0</td>\n",
       "      <td>0.0</td>\n",
       "      <td>0.0</td>\n",
       "      <td>0.983999</td>\n",
       "    </tr>\n",
       "    <tr>\n",
       "      <th>89</th>\n",
       "      <td>The more massive block has more tightly packed molecules and a greater density energy state. This means that the entropy of the more massive molecule is greater, and so the exchange of energy between the block and water for the more massive block will be slower than the less massive block.</td>\n",
       "      <td>0.0</td>\n",
       "      <td>0.0</td>\n",
       "      <td>0.0</td>\n",
       "      <td>0.0</td>\n",
       "      <td>0.981158</td>\n",
       "    </tr>\n",
       "    <tr>\n",
       "      <th>11</th>\n",
       "      <td>The specific heat capacity of both blocks is the same, so the more massive one has more thermal energy. Since the surface area is not proportional to the increased mass, the rate of energy loss in the cold water is not enough to compensate for the larger amount of energy.</td>\n",
       "      <td>0.0</td>\n",
       "      <td>0.0</td>\n",
       "      <td>0.0</td>\n",
       "      <td>0.0</td>\n",
       "      <td>0.981157</td>\n",
       "    </tr>\n",
       "    <tr>\n",
       "      <th>165</th>\n",
       "      <td>The specific heat of a material says that it takes a certain amount of energy to change the temperature of 1kg of a material by 1K. Since the larger block has a greater mass, the amount of energy required to change the blocks temperature by 1K is greater than that of the smaller block.</td>\n",
       "      <td>0.0</td>\n",
       "      <td>0.0</td>\n",
       "      <td>0.0</td>\n",
       "      <td>0.0</td>\n",
       "      <td>0.979322</td>\n",
       "    </tr>\n",
       "  </tbody>\n",
       "</table>"
      ],
      "text/plain": [
       "<IPython.core.display.HTML object>"
      ]
     },
     "metadata": {},
     "output_type": "display_data"
    },
    {
     "name": "stdout",
     "output_type": "stream",
     "text": [
      "\n",
      "\n",
      "\n"
     ]
    }
   ],
   "source": [
    "display_n_responses(df, num_responses_displayed, model, corpus, bow)"
   ]
  },
  {
   "cell_type": "markdown",
   "metadata": {},
   "source": [
    "Potential Ideas from LDA: \n",
    "\n",
    "0. More matter/mass ---> more energy, more resistant to change (thermal inertia?)\n",
    "1. Something about the kinetic energy of the particles\n",
    "2. Higher heat capacity / specific heat means longer time to cool down\n",
    "3. Energy is \"spread out\" across more material in the larger block\n",
    "4. Temperature is \"stored\" in mass or volume"
   ]
  },
  {
   "cell_type": "code",
   "execution_count": null,
   "metadata": {},
   "outputs": [],
   "source": []
  }
 ],
 "metadata": {
  "interpreter": {
   "hash": "b1387b5b854ca26737d2f7e25194acc64b4eb89730b66cdda8ec7b69c06b90e6"
  },
  "kernelspec": {
   "display_name": "Python [conda env:.conda-LDA]",
   "language": "python",
   "name": "python3"
  },
  "language_info": {
   "codemirror_mode": {
    "name": "ipython",
    "version": 3
   },
   "file_extension": ".py",
   "mimetype": "text/x-python",
   "name": "python",
   "nbconvert_exporter": "python",
   "pygments_lexer": "ipython3",
   "version": "3.9.7"
  }
 },
 "nbformat": 4,
 "nbformat_minor": 2
}
