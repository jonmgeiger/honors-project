{
 "cells": [
  {
   "cell_type": "markdown",
   "metadata": {},
   "source": [
    "# LDA Analysis, Case Study 4: Waves\n",
    "\n",
    "We will be exploring an LDA analysis of the \"Wave Speed I / Pulse Flick v3\" question, which asks : \n",
    "\n",
    "> *Consider the following two scenarios: In scenario 1, your Teaching Assistant (TA) creates a pulse by flicking the end of a spring, as in the figure at right. In scenario 2, your TA pulls the spring so that it is more taut (i.e., increases the tension in the spring) and then creates a pulse by flicking the end of the spring in the same way. The pulse in scenario 2 travels down the spring **faster** (i.e., has a larger speed) than the pulse in scenario 1.*\n",
    "> \n",
    "> *Why would it make sense for a pulse to move faster on a higher-tension spring? (We're trying to understand your intuition, not not whether or not you can remember particular equations. In other words, we want to know how you make sense of this phenomenon.)*\n"
   ]
  },
  {
   "cell_type": "markdown",
   "metadata": {},
   "source": [
    "## I. Imports"
   ]
  },
  {
   "cell_type": "code",
   "execution_count": 1,
   "metadata": {},
   "outputs": [
    {
     "data": {
      "text/html": [
       "<style>.container { width:95% !important; }</style>"
      ],
      "text/plain": [
       "<IPython.core.display.HTML object>"
      ]
     },
     "metadata": {},
     "output_type": "display_data"
    },
    {
     "data": {
      "text/html": [
       "<style>.container { width:95% !important; }</style>"
      ],
      "text/plain": [
       "<IPython.core.display.HTML object>"
      ]
     },
     "metadata": {},
     "output_type": "display_data"
    }
   ],
   "source": [
    "# Print out all expressions\n",
    "from IPython.core.interactiveshell import InteractiveShell\n",
    "InteractiveShell.ast_node_interactivity = \"all\"\n",
    "# Wider Cells\n",
    "from IPython.display import display, HTML\n",
    "display(HTML(\"<style>.container { width:95% !important; }</style>\"))\n",
    "# Ignore some warnings\n",
    "import warnings\n",
    "warnings.filterwarnings(\"ignore\", category=DeprecationWarning);\n",
    "\n",
    "# General Packages\n",
    "import pandas as pd\n",
    "import numpy as np\n",
    "import matplotlib.pyplot as plt\n",
    "import re as re\n",
    "import pickle as pkl\n",
    "import copy\n",
    "\n",
    "# NLP Packages\n",
    "import gensim\n",
    "from gensim.parsing.preprocessing import STOPWORDS\n",
    "from gensim.corpora import Dictionary\n",
    "from gensim.models import LdaModel\n",
    "from gensim.models import CoherenceModel\n",
    "\n",
    "import sys  \n",
    "sys.path.insert(0, '..')\n",
    "from scripts.lda_model import *"
   ]
  },
  {
   "cell_type": "markdown",
   "metadata": {},
   "source": [
    "## II. Data Import and Restructuring"
   ]
  },
  {
   "cell_type": "code",
   "execution_count": 2,
   "metadata": {},
   "outputs": [
    {
     "data": {
      "text/html": [
       "<div>\n",
       "<style scoped>\n",
       "    .dataframe tbody tr th:only-of-type {\n",
       "        vertical-align: middle;\n",
       "    }\n",
       "\n",
       "    .dataframe tbody tr th {\n",
       "        vertical-align: top;\n",
       "    }\n",
       "\n",
       "    .dataframe thead th {\n",
       "        text-align: right;\n",
       "    }\n",
       "</style>\n",
       "<table border=\"1\" class=\"dataframe\">\n",
       "  <thead>\n",
       "    <tr style=\"text-align: right;\">\n",
       "      <th></th>\n",
       "      <th>resp</th>\n",
       "    </tr>\n",
       "  </thead>\n",
       "  <tbody>\n",
       "    <tr>\n",
       "      <th>0</th>\n",
       "      <td>Due to the high pulling force, there will be a...</td>\n",
       "    </tr>\n",
       "    <tr>\n",
       "      <th>1</th>\n",
       "      <td>The string can be thought of as a system of a ...</td>\n",
       "    </tr>\n",
       "    <tr>\n",
       "      <th>2</th>\n",
       "      <td>The velocity of a wave(pulse) on a string is e...</td>\n",
       "    </tr>\n",
       "    <tr>\n",
       "      <th>3</th>\n",
       "      <td>Velocity and Tension are proportional, so as t...</td>\n",
       "    </tr>\n",
       "    <tr>\n",
       "      <th>4</th>\n",
       "      <td>Higher tension results in a lower mass per uni...</td>\n",
       "    </tr>\n",
       "  </tbody>\n",
       "</table>\n",
       "</div>"
      ],
      "text/plain": [
       "                                                resp\n",
       "0  Due to the high pulling force, there will be a...\n",
       "1  The string can be thought of as a system of a ...\n",
       "2  The velocity of a wave(pulse) on a string is e...\n",
       "3  Velocity and Tension are proportional, so as t...\n",
       "4  Higher tension results in a lower mass per uni..."
      ]
     },
     "execution_count": 2,
     "metadata": {},
     "output_type": "execute_result"
    }
   ],
   "source": [
    "df = pd.read_csv('../data/waves.csv', names = ['ID', 'resp'])\n",
    "df.drop(columns = ['ID'], inplace = True)\n",
    "df.head(5)"
   ]
  },
  {
   "cell_type": "markdown",
   "metadata": {},
   "source": [
    "## III. LDA Modeling\n",
    "\n",
    "The following code will take the data processed above and convert it into a usable format for the LDA model. Before we start modeling, though, we need to set some parameters for our particular data. "
   ]
  },
  {
   "cell_type": "code",
   "execution_count": 3,
   "metadata": {},
   "outputs": [],
   "source": [
    "bigrams =               text_to_bigrams(df)\n",
    "corpus =                bigrams_to_corpus(bigrams)"
   ]
  },
  {
   "cell_type": "markdown",
   "metadata": {},
   "source": [
    "Let's take a look at some plots of the words used in the collection of student responses. "
   ]
  },
  {
   "cell_type": "code",
   "execution_count": 4,
   "metadata": {},
   "outputs": [
    {
     "name": "stdout",
     "output_type": "stream",
     "text": [
      "Total words: \u001b[1m5024\u001b[0m, unique words: \u001b[1m644\u001b[0m\n"
     ]
    },
    {
     "data": {
      "image/png": "[encoded data removed]",
      "text/plain": [
       "<Figure size 1080x360 with 1 Axes>"
      ]
     },
     "metadata": {
      "needs_background": "light"
     },
     "output_type": "display_data"
    },
    {
     "data": {
      "image/png": "[encoded data removed]",
      "text/plain": [
       "<Figure size 576x360 with 1 Axes>"
      ]
     },
     "metadata": {
      "needs_background": "light"
     },
     "output_type": "display_data"
    }
   ],
   "source": [
    "plot_words(corpus)"
   ]
  },
  {
   "cell_type": "markdown",
   "metadata": {},
   "source": [
    "Let's now figure out the best thresholds for removing the most and least common words. A `no_above` threshold of 70% would remove words used in at least 70% of documents, and a `no_below` threshold of 3 would remove words used in only two or fewer documents. "
   ]
  },
  {
   "cell_type": "code",
   "execution_count": 5,
   "metadata": {},
   "outputs": [
    {
     "name": "stdout",
     "output_type": "stream",
     "text": [
      "\n",
      "NO ABOVE THRESHOLDS\n",
      "\n",
      "\n",
      "Dictionary with \u001b[1mno_above=1\u001b[0m contains \u001b[1m644\u001b[0m unique words\n",
      "\n",
      "Dictionary filtered with \u001b[1mno_above=1.00\u001b[0m contains \u001b[1m644\u001b[0m unique words. \u001b[1m0 words\u001b[0m removed:\n",
      " [] \n",
      "\n",
      "Dictionary filtered with \u001b[1mno_above=0.90\u001b[0m contains \u001b[1m644\u001b[0m unique words. \u001b[1m0 words\u001b[0m removed:\n",
      " [] \n",
      "\n",
      "Dictionary filtered with \u001b[1mno_above=0.80\u001b[0m contains \u001b[1m644\u001b[0m unique words. \u001b[1m0 words\u001b[0m removed:\n",
      " [] \n",
      "\n",
      "Dictionary filtered with \u001b[1mno_above=0.70\u001b[0m contains \u001b[1m643\u001b[0m unique words. \u001b[1m1 words\u001b[0m removed:\n",
      " ['tension'] \n",
      "\n",
      "Dictionary filtered with \u001b[1mno_above=0.60\u001b[0m contains \u001b[1m643\u001b[0m unique words. \u001b[1m0 words\u001b[0m removed:\n",
      " [] \n",
      "\n",
      "Dictionary filtered with \u001b[1mno_above=0.50\u001b[0m contains \u001b[1m641\u001b[0m unique words. \u001b[1m2 words\u001b[0m removed:\n",
      " ['faster', 'string'] \n",
      "\n",
      "Dictionary filtered with \u001b[1mno_above=0.40\u001b[0m contains \u001b[1m640\u001b[0m unique words. \u001b[1m1 words\u001b[0m removed:\n",
      " ['wave'] \n",
      "\n",
      "Dictionary filtered with \u001b[1mno_above=0.30\u001b[0m contains \u001b[1m638\u001b[0m unique words. \u001b[1m2 words\u001b[0m removed:\n",
      " ['high', 'increase'] \n",
      "\n",
      "Dictionary filtered with \u001b[1mno_above=0.20\u001b[0m contains \u001b[1m632\u001b[0m unique words. \u001b[1m6 words\u001b[0m removed:\n",
      " ['force', 'pulse', 'speed', 'spring', 'travel', 'velocity'] \n",
      "\n",
      "Dictionary filtered with \u001b[1mno_above=0.10\u001b[0m contains \u001b[1m619\u001b[0m unique words. \u001b[1m13 words\u001b[0m removed:\n",
      " ['amplitude', 'cause', 'energy', 'equilibrium', 'great', 'mean', 'medium', 'move', 'particle', 'pull', 'rope', 'tighter', 'time'] \n",
      "\n",
      "\n",
      "\n",
      "NO BELOW THRESHOLDS\n",
      "\n",
      "\n",
      "Dictionary with \u001b[1mno_below=1\u001b[0m contains \u001b[1m619\u001b[0m unique words\n",
      "\n",
      "Dictionary filtered with \u001b[1mno_below=1.00\u001b[0m contains \u001b[1m619\u001b[0m unique words. \u001b[1m0 words\u001b[0m removed:\n",
      " [] \n",
      "\n",
      "Dictionary filtered with \u001b[1mno_below=2.00\u001b[0m contains \u001b[1m273\u001b[0m unique words. \u001b[1m346 words\u001b[0m removed:\n",
      " ['accecelration', 'accel', 'accounting', 'achieve', 'active', 'activity', 'actual', 'addition', 'adjacent', 'age', 'agrees', 'ahead', 'air', 'align', 'angle', 'applyed', 'apt', 'assume', 'attract', 'ball', 'basically', 'battling', 'bearing', 'becasue', 'behaves', 'bellow', 'bond', 'bowling', 'brings', 'build', 'built', 'bunch', 'calculate', 'call', 'capacity', 'childhood', 'circular', 'class', 'close', 'coil', 'collision', 'communicate', 'communication', 'compact', 'comparatively', 'completely', 'compose', 'compress', 'conceptually', 'conditioning', 'conductive', 'conflict', 'consequence', 'consider', 'constrain', 'consume', 'correctly', 'count', 'counter', 'counteracts', 'crow', 'day', 'define', 'degree', 'deliver', 'demonstrate', 'denominator', 'derive', 'destination', 'destroyed', 'determines', 'difference', 'differential', 'differently', 'difficult', 'dip', 'disperse', 'disregard', 'disrupt', 'doesnt', 'drag', 'draw', 'droop', 'dur', 'effect', 'efficiently', 'elastic', 'enjoy', 'entire', 'equillibrium', 'evenly', 'everybody', 'everyday', 'example', 'exercise', 'exerts', 'expand', 'explanation', 'express', 'fascinate', 'fascination', 'fasters', 'felt', 'fix', 'flig', 'fly', 'focus', 'forcefully', 'forth', 'frequncey', 'fully', 'gain', 'handset', 'hang', 'harmonic', 'have', 'height', 'hello', 'helpful', 'henceforth', 'hertz', 'hight', 'hold', 'homogeneous', 'hz', 'idea', 'identical', 'impossible', 'impulse', 'impuse', 'indicates', 'inertia', 'initially', 'inside', 'intend', 'intensity', 'intuitive', 'intuitively', 'inward', 'ir', 'kid', 'kind', 'kinda', 'kitchen', 'knowledge', 'kx', 'laterally', 'law', 'leg', 'let', 'level', 'limit', 'logistics', 'loosens', 'lose', 'ma', 'magnitude', 'master', 'mathematically', 'matter', 'meant', 'mechanical', 'memorization', 'message', 'mg', 'middle', 'mitigate', 'molecular', 'moment', 'mue', 'multiple', 'musical', 'naturally', 'navigate', 'nay', 'near', 'nearly', 'neck', 'neutral', 'new', 'newton', 'normal', 'note', 'noteworthy', 'noticeable', 'nut', 'object', 'observe', 'obviously', 'one', 'oops', 'open', 'opposite', 'origin', 'oscillates', 'oscillation', 'outside', 'part', 'partially', 'particular', 'percentage', 'periodic', 'perturbation', 'perturbed', 'phone', 'play', 'pluck', 'plucked', 'power', 'precede', 'present', 'presumably', 'pretend', 'prevents', 'previous', 'process', 'prof', 'professor', 'propel', 'propotional', 'purely', 'quest', 'question', 'rad', 'random', 'range', 'rapidly', 'ratio', 'reacts', 'readily', 'real', 'realize', 'recognize', 'reduce', 'reduces', 'regurgitate', 'relaxed', 'release', 'relies', 'remove', 'replicate', 'represent', 'require', 'response', 'restoration', 'reverts', 'rid', 'rigid', 'rise', 'roll', 'round', 'save', 'scenrio', 'section', 'see', 'segment', 'send', 'sends', 'series', 'shake', 'shoot', 'short', 'shorten', 'shortens', 'show', 'signifies', 'similarly', 'simple', 'sincw', 'sinusoidal', 'situation', 'slacken', 'slackline', 'slightly', 'slinky', 'slowly', 'solve', 'soul', 'space', 'spead', 'specific', 'speedier', 'spend', 'spending', 'spends', 'sqroot', 'squ', 'squareroot', 'squish', 'stayed', 'stiffer', 'sting', 'store', 'straightens', 'straighter', 'strain', 'stress', 'strum', 'subsequent', 'successive', 'sure', 'swing', 'taunt', 'tauter', 'tautness', 'tell', 'tend', 'tensioned', 'tention', 'term', 'thats', 'therefor', 'thickness', 'thought', 'throuhg', 'tightly', 'transversal', 'trough', 'type', 'ultimately', 'underneath', 'understand', 'unevenness', 'unnecessary', 'upward', 'urge', 'us', 'usual', 'variable', 'variety', 'velocit', 'verify', 'versa', 'verse', 'vibrates', 'vibration', 'vice', 'waste', 'watch', 'water', 'wavespeed', 'whilst', 'whip', 'willing', 'worry', 'young'] \n",
      "\n",
      "Dictionary filtered with \u001b[1mno_below=3.00\u001b[0m contains \u001b[1m186\u001b[0m unique words. \u001b[1m87 words\u001b[0m removed:\n",
      " ['accelerate', 'accord', 'account', 'additionally', 'affected', 'alter', 'area', 'attach', 'attractive', 'band', 'begin', 'believe', 'body', 'certain', 'clear', 'closely', 'compare', 'compensate', 'convert', 'correlate', 'course', 'cover', 'deform', 'demo', 'dense', 'diagram', 'downward', 'element', 'exactly', 'exert', 'experiment', 'finger', 'form', 'forward', 'good', 'guess', 'happens', 'infinitesimal', 'influence', 'instrument', 'inversely', 'ke', 'lack', 'linear', 'll', 'location', 'look', 'manipulate', 'manner', 'oppose', 'peak', 'perpendicular', 'portion', 'potential', 'probably', 'produce', 'propagates', 'provide', 'read', 'relate', 'relative', 'remember', 'resistant', 'responsive', 'rest', 'restore', 'rubber', 'say', 'sent', 'sharper', 'shm', 'similar', 'solely', 'sort', 'spot', 'substance', 'suppose', 'there', 'thing', 'thinner', 'tiny', 'traverse', 'use', 'vertically', 'wall', 'won', 'wrist'] \n",
      "\n",
      "Dictionary filtered with \u001b[1mno_below=4.00\u001b[0m contains \u001b[1m146\u001b[0m unique words. \u001b[1m40 words\u001b[0m removed:\n",
      " ['ability', 'add', 'bounce', 'bring', 'connect', 'determine', 'disturbed', 'easily', 'fact', 'fast', 'finish', 'follow', 'freedom', 'gravity', 'hard', 'horizontal', 'horizontally', 'imagine', 'instead', 'kinetic', 'life', 'little', 'longer', 'looser', 'lot', 'number', 'phenomenon', 'problem', 'propagation', 'related', 'remain', 'restrict', 'right', 'shape', 'strength', 'tends', 'tense', 'vertical', 'weight', 'work'] \n",
      "\n",
      "Dictionary filtered with \u001b[1mno_below=5.00\u001b[0m contains \u001b[1m114\u001b[0m unique words. \u001b[1m32 words\u001b[0m removed:\n",
      " ['affect', 'attraction', 'away', 'constant', 'different', 'disturbance', 'divide', 'essentially', 'experience', 'explain', 'far', 'formula', 'initial', 'lead', 'net', 'numerator', 'oscillate', 'outward', 'pas', 'pass', 'propagate', 'reason', 'remains', 'restrain', 'spread', 'straight', 'strong', 'tune', 'turn', 'vibrate', 'wire', 'word'] \n",
      "\n",
      "Dictionary filtered with \u001b[1mno_below=6.00\u001b[0m contains \u001b[1m99\u001b[0m unique words. \u001b[1m15 words\u001b[0m removed:\n",
      " ['atom', 'base', 'bit', 'closer', 'come', 'complete', 'hand', 'order', 'piece', 'pitch', 'reach', 'resist', 'translate', 'transverse', 'value'] \n",
      "\n",
      "Dictionary filtered with \u001b[1mno_below=7.00\u001b[0m contains \u001b[1m85\u001b[0m unique words. \u001b[1m14 words\u001b[0m removed:\n",
      " ['able', 'displacement', 'flow', 'give', 'individual', 'need', 'neighbor', 'original', 'place', 'rate', 'slow', 'stay', 'ta', 'tighten'] \n",
      "\n",
      "Dictionary filtered with \u001b[1mno_below=8.00\u001b[0m contains \u001b[1m77\u001b[0m unique words. \u001b[1m8 words\u001b[0m removed:\n",
      " ['extra', 'isn', 'meaning', 'push', 'second', 'state', 'transfer', 'yes'] \n",
      "\n",
      "Dictionary filtered with \u001b[1mno_below=9.00\u001b[0m contains \u001b[1m69\u001b[0m unique words. \u001b[1m8 words\u001b[0m removed:\n",
      " ['allow', 'dependent', 'easy', 'end', 'get', 'intuition', 'line', 'overall'] \n",
      "\n"
     ]
    }
   ],
   "source": [
    "display_words_removed_at_thresholds(bigrams)"
   ]
  },
  {
   "cell_type": "markdown",
   "metadata": {},
   "source": [
    "You can now set the desired threshold values based on this particular data set. "
   ]
  },
  {
   "cell_type": "code",
   "execution_count": 6,
   "metadata": {},
   "outputs": [],
   "source": [
    "no_above = 0.2\n",
    "no_below = 3"
   ]
  },
  {
   "cell_type": "code",
   "execution_count": 7,
   "metadata": {},
   "outputs": [],
   "source": [
    "bow, id2word= create_bow(corpus, bigrams, no_above, no_below, \n",
    "                         display_removed_words = False)"
   ]
  },
  {
   "cell_type": "markdown",
   "metadata": {},
   "source": [
    "We can now proceed with the actual modeling process. Here, you can set a number of topics desired for the model, as well as the number of responses to display for each topic. By default, the number of responses displayed is three, but that can be overridden by setting a value. "
   ]
  },
  {
   "cell_type": "code",
   "execution_count": 22,
   "metadata": {},
   "outputs": [],
   "source": [
    "num_topics = 8\n",
    "num_responses_displayed = 4"
   ]
  },
  {
   "cell_type": "code",
   "execution_count": 23,
   "metadata": {
    "scrolled": false
   },
   "outputs": [
    {
     "name": "stdout",
     "output_type": "stream",
     "text": [
      "Coherence of model with 8 topics: 0.3966163186067419\n",
      "\n",
      "\n"
     ]
    },
    {
     "data": {
      "text/plain": [
       "[(0,\n",
       "  '0.127*\"frequency\" + 0.123*\"change\" + 0.066*\"wavelength\" + 0.062*\"property\" + 0.044*\"material\" + 0.034*\"pitch\" + 0.033*\"end\" + 0.027*\"guitar\" + 0.027*\"depends\" + 0.025*\"large\"'),\n",
       " (1,\n",
       "  '0.060*\"length\" + 0.053*\"equation\" + 0.051*\"sqrt\" + 0.047*\"mass\" + 0.043*\"density\" + 0.038*\"root\" + 0.038*\"mu\" + 0.032*\"decrease\" + 0.029*\"unit\" + 0.027*\"square\"'),\n",
       " (2,\n",
       "  '0.056*\"move\" + 0.053*\"pull\" + 0.041*\"cause\" + 0.033*\"amplitude\" + 0.031*\"tighter\" + 0.029*\"flick\" + 0.027*\"small\" + 0.027*\"medium\" + 0.027*\"scenario\" + 0.023*\"molecule\"'),\n",
       " (3,\n",
       "  '0.099*\"energy\" + 0.081*\"large\" + 0.080*\"amplitude\" + 0.033*\"pull\" + 0.032*\"taut\" + 0.030*\"molecule\" + 0.026*\"transfer\" + 0.026*\"sense\" + 0.022*\"medium\" + 0.020*\"scenario\"'),\n",
       " (4,\n",
       "  '0.091*\"rope\" + 0.047*\"point\" + 0.045*\"slack\" + 0.044*\"time\" + 0.038*\"distance\" + 0.029*\"low\" + 0.027*\"pull\" + 0.025*\"take\" + 0.024*\"tight\" + 0.023*\"scenario\"'),\n",
       " (5,\n",
       "  '0.211*\"particle\" + 0.094*\"pull\" + 0.062*\"time\" + 0.051*\"shorter\" + 0.047*\"mean\" + 0.037*\"motion\" + 0.032*\"energy\" + 0.027*\"period\" + 0.025*\"position\" + 0.022*\"great\"'),\n",
       " (6,\n",
       "  '0.073*\"equilibrium\" + 0.056*\"restore_force\" + 0.040*\"cause\" + 0.032*\"medium\" + 0.031*\"position\" + 0.030*\"quicker\" + 0.030*\"return\" + 0.029*\"quickly\" + 0.028*\"move\" + 0.028*\"want\"'),\n",
       " (7,\n",
       "  '0.106*\"medium\" + 0.093*\"great\" + 0.033*\"scenario\" + 0.026*\"act\" + 0.025*\"second\" + 0.023*\"like\" + 0.022*\"move\" + 0.022*\"result\" + 0.021*\"pull\" + 0.019*\"displace\"')]"
      ]
     },
     "execution_count": 23,
     "metadata": {},
     "output_type": "execute_result"
    }
   ],
   "source": [
    "model = LDA_model(bow, id2word, bigrams, \n",
    "                  num_topics = num_topics)\n",
    "model.show_topics(num_words = 10, \n",
    "                  num_topics = num_topics)"
   ]
  },
  {
   "cell_type": "code",
   "execution_count": 24,
   "metadata": {
    "scrolled": false
   },
   "outputs": [
    {
     "name": "stdout",
     "output_type": "stream",
     "text": [
      "Topic 0: 0.127*\"frequency\" + 0.123*\"change\" + 0.066*\"wavelength\" + 0.062*\"property\" + 0.044*\"material\" + 0.034*\"pitch\" + 0.033*\"end\" + 0.027*\"guitar\" + 0.027*\"depends\" + 0.025*\"large\"\n"
     ]
    },
    {
     "data": {
      "text/html": [
       "<table border=\"1\" class=\"dataframe\">\n",
       "  <thead>\n",
       "    <tr style=\"text-align: right;\">\n",
       "      <th></th>\n",
       "      <th>resp</th>\n",
       "      <th>0</th>\n",
       "      <th>1</th>\n",
       "      <th>2</th>\n",
       "      <th>3</th>\n",
       "      <th>4</th>\n",
       "      <th>5</th>\n",
       "      <th>6</th>\n",
       "      <th>7</th>\n",
       "    </tr>\n",
       "  </thead>\n",
       "  <tbody>\n",
       "    <tr>\n",
       "      <th>77</th>\n",
       "      <td>With my intuition, I know strings with higher tension have a higher pitch because I play the guitar. Pitch is determined by frequency (Hz). The length of string is not changed (wavelength), so to change the frequency, the speed must be changed since wave speed is frequency times wavelength.</td>\n",
       "      <td>0.978310</td>\n",
       "      <td>0.0</td>\n",
       "      <td>0.0</td>\n",
       "      <td>0.0</td>\n",
       "      <td>0.0</td>\n",
       "      <td>0.0</td>\n",
       "      <td>0.0</td>\n",
       "      <td>0.0</td>\n",
       "    </tr>\n",
       "    <tr>\n",
       "      <th>224</th>\n",
       "      <td>Changing the tension of the string changes the properties of the string in a way. It is as though the string is composed of a stiffer material, and waves travel faster in stiffer materials. This is because energy can travel faster through more compressed materials.</td>\n",
       "      <td>0.957662</td>\n",
       "      <td>0.0</td>\n",
       "      <td>0.0</td>\n",
       "      <td>0.0</td>\n",
       "      <td>0.0</td>\n",
       "      <td>0.0</td>\n",
       "      <td>0.0</td>\n",
       "      <td>0.0</td>\n",
       "    </tr>\n",
       "    <tr>\n",
       "      <th>76</th>\n",
       "      <td>Since the length of the string is essentially increased when tension is applied at one end, the wavelength would also increase. In other words, this would mean that the pulse travels down the spring quicker.</td>\n",
       "      <td>0.957661</td>\n",
       "      <td>0.0</td>\n",
       "      <td>0.0</td>\n",
       "      <td>0.0</td>\n",
       "      <td>0.0</td>\n",
       "      <td>0.0</td>\n",
       "      <td>0.0</td>\n",
       "      <td>0.0</td>\n",
       "    </tr>\n",
       "    <tr>\n",
       "      <th>188</th>\n",
       "      <td>The tension in the string will act as a restoring force against any disturbances in it and propel the wave forward. Therefore the more tension, the more force there will be to \"push\" the wave along, similar to how a tight rubber band will bounce back faster than a loose one.</td>\n",
       "      <td>0.951942</td>\n",
       "      <td>0.0</td>\n",
       "      <td>0.0</td>\n",
       "      <td>0.0</td>\n",
       "      <td>0.0</td>\n",
       "      <td>0.0</td>\n",
       "      <td>0.0</td>\n",
       "      <td>0.0</td>\n",
       "    </tr>\n",
       "  </tbody>\n",
       "</table>"
      ],
      "text/plain": [
       "<IPython.core.display.HTML object>"
      ]
     },
     "metadata": {},
     "output_type": "display_data"
    },
    {
     "name": "stdout",
     "output_type": "stream",
     "text": [
      "\n",
      "\n",
      "\n",
      "Topic 1: 0.060*\"length\" + 0.053*\"equation\" + 0.051*\"sqrt\" + 0.047*\"mass\" + 0.043*\"density\" + 0.038*\"root\" + 0.038*\"mu\" + 0.032*\"decrease\" + 0.029*\"unit\" + 0.027*\"square\"\n"
     ]
    },
    {
     "data": {
      "text/html": [
       "<table border=\"1\" class=\"dataframe\">\n",
       "  <thead>\n",
       "    <tr style=\"text-align: right;\">\n",
       "      <th></th>\n",
       "      <th>resp</th>\n",
       "      <th>0</th>\n",
       "      <th>1</th>\n",
       "      <th>2</th>\n",
       "      <th>3</th>\n",
       "      <th>4</th>\n",
       "      <th>5</th>\n",
       "      <th>6</th>\n",
       "      <th>7</th>\n",
       "    </tr>\n",
       "  </thead>\n",
       "  <tbody>\n",
       "    <tr>\n",
       "      <th>136</th>\n",
       "      <td>If you increase the tension ultimately you tend to increase the length of the wire by a small amount. Now the no. of molecules inside the wire remains constant, When the wire length was not increased the molecule was spread in that particular length but as we increase the length the amount of molecules in the same unit length tend to decrease so the density tend to decrease ultimately. Now from the equation the tension tends to increase and mu tend to decrease, so the velocity overall tend to increase.</td>\n",
       "      <td>0.0</td>\n",
       "      <td>0.985767</td>\n",
       "      <td>0.0</td>\n",
       "      <td>0.0</td>\n",
       "      <td>0.0</td>\n",
       "      <td>0.0</td>\n",
       "      <td>0.0</td>\n",
       "      <td>0.0</td>\n",
       "    </tr>\n",
       "    <tr>\n",
       "      <th>189</th>\n",
       "      <td>This is because the speed equals the square root of tension/mu. When you increase the tension you increase the speed. This makes sense conceptually because when the tension increases the rope gains a little bit of length, enough to spread the molecules in the rope across a greater area decreasing the overall density in any given spot in the rope.</td>\n",
       "      <td>0.0</td>\n",
       "      <td>0.981127</td>\n",
       "      <td>0.0</td>\n",
       "      <td>0.0</td>\n",
       "      <td>0.0</td>\n",
       "      <td>0.0</td>\n",
       "      <td>0.0</td>\n",
       "      <td>0.0</td>\n",
       "    </tr>\n",
       "    <tr>\n",
       "      <th>2</th>\n",
       "      <td>The velocity of a wave(pulse) on a string is equal to the square root of Tension over the mass-density of the string. so V(wave)=sqrt(T/u)/ Therefore, if you increase the Tension, which is in the numerator, then it follows that you increase the calculated number underneath the root and as numbers increase, so do there square roots, so it follows the the velocity of the wave dur to the higher tension must be higher.</td>\n",
       "      <td>0.0</td>\n",
       "      <td>0.975886</td>\n",
       "      <td>0.0</td>\n",
       "      <td>0.0</td>\n",
       "      <td>0.0</td>\n",
       "      <td>0.0</td>\n",
       "      <td>0.0</td>\n",
       "      <td>0.0</td>\n",
       "    </tr>\n",
       "    <tr>\n",
       "      <th>181</th>\n",
       "      <td>The pulse moves faster in the higher tension string because there is a smaller mass per unit length in the spring. When the spring is pulled and further stretched out, it not only has a higher tension but also a smaller mass per unit length. This means any given pulse will travel down the spring faster than if the spring were not pulled to a higher tension.</td>\n",
       "      <td>0.0</td>\n",
       "      <td>0.975886</td>\n",
       "      <td>0.0</td>\n",
       "      <td>0.0</td>\n",
       "      <td>0.0</td>\n",
       "      <td>0.0</td>\n",
       "      <td>0.0</td>\n",
       "      <td>0.0</td>\n",
       "    </tr>\n",
       "  </tbody>\n",
       "</table>"
      ],
      "text/plain": [
       "<IPython.core.display.HTML object>"
      ]
     },
     "metadata": {},
     "output_type": "display_data"
    },
    {
     "name": "stdout",
     "output_type": "stream",
     "text": [
      "\n",
      "\n",
      "\n",
      "Topic 2: 0.056*\"move\" + 0.053*\"pull\" + 0.041*\"cause\" + 0.033*\"amplitude\" + 0.031*\"tighter\" + 0.029*\"flick\" + 0.027*\"small\" + 0.027*\"medium\" + 0.027*\"scenario\" + 0.023*\"molecule\"\n"
     ]
    },
    {
     "data": {
      "text/html": [
       "<table border=\"1\" class=\"dataframe\">\n",
       "  <thead>\n",
       "    <tr style=\"text-align: right;\">\n",
       "      <th></th>\n",
       "      <th>resp</th>\n",
       "      <th>0</th>\n",
       "      <th>1</th>\n",
       "      <th>2</th>\n",
       "      <th>3</th>\n",
       "      <th>4</th>\n",
       "      <th>5</th>\n",
       "      <th>6</th>\n",
       "      <th>7</th>\n",
       "    </tr>\n",
       "  </thead>\n",
       "  <tbody>\n",
       "    <tr>\n",
       "      <th>179</th>\n",
       "      <td>The reason why the pulse moves faster when the tension of the spring is increased is because the speed of the wave is dependent on the property of the medium. The reason why the speed of the wave is dependent on the property of the medium is because, in this case, when we pull on the spring we bring the atoms within the spring closer to each other. This means that when a wave is sent through a taut spring, and since the atoms are much closer to each other, they experience less time to move, increasing the speed of the atoms moving in a wave (increasing the velocity of the wave).</td>\n",
       "      <td>0.0</td>\n",
       "      <td>0.0</td>\n",
       "      <td>0.984296</td>\n",
       "      <td>0.0</td>\n",
       "      <td>0.0</td>\n",
       "      <td>0.0</td>\n",
       "      <td>0.0</td>\n",
       "      <td>0.0</td>\n",
       "    </tr>\n",
       "    <tr>\n",
       "      <th>6</th>\n",
       "      <td>When there is more slack in the string, the weight force MG drags the string downward, causing you to flick the string harder to make a bigger wave and a stronger flick to propagate it. When the string is tighter, there is a stronger tension force and MG isn't dragging the string down as hard. The string is being stretched so the flick causes a faster wave speed, but a smaller wavelength because the net force is in the direction of the hand, not downward due to gravity.</td>\n",
       "      <td>0.0</td>\n",
       "      <td>0.0</td>\n",
       "      <td>0.984296</td>\n",
       "      <td>0.0</td>\n",
       "      <td>0.0</td>\n",
       "      <td>0.0</td>\n",
       "      <td>0.0</td>\n",
       "      <td>0.0</td>\n",
       "    </tr>\n",
       "    <tr>\n",
       "      <th>209</th>\n",
       "      <td>I think the wave moves faster because it takes more force to make the amplitude high in a tense rope, meaning that the tense rope pulls forces in the horizontal direction, making the wave move faster on that direction, rather than making the amplitude higher.</td>\n",
       "      <td>0.0</td>\n",
       "      <td>0.0</td>\n",
       "      <td>0.978552</td>\n",
       "      <td>0.0</td>\n",
       "      <td>0.0</td>\n",
       "      <td>0.0</td>\n",
       "      <td>0.0</td>\n",
       "      <td>0.0</td>\n",
       "    </tr>\n",
       "    <tr>\n",
       "      <th>158</th>\n",
       "      <td>The pulse would move faster because it was pulled tighter. When I was younger, I would pull a rubber band tight, and pretend like it was a musical instrument. The tighter you pulled it, the higher note it would make, which was because the frequency increased. If it is pulled tighter, the string can resist the movement less, so it moves faster.</td>\n",
       "      <td>0.0</td>\n",
       "      <td>0.0</td>\n",
       "      <td>0.973752</td>\n",
       "      <td>0.0</td>\n",
       "      <td>0.0</td>\n",
       "      <td>0.0</td>\n",
       "      <td>0.0</td>\n",
       "      <td>0.0</td>\n",
       "    </tr>\n",
       "  </tbody>\n",
       "</table>"
      ],
      "text/plain": [
       "<IPython.core.display.HTML object>"
      ]
     },
     "metadata": {},
     "output_type": "display_data"
    },
    {
     "name": "stdout",
     "output_type": "stream",
     "text": [
      "\n",
      "\n",
      "\n",
      "Topic 3: 0.099*\"energy\" + 0.081*\"large\" + 0.080*\"amplitude\" + 0.033*\"pull\" + 0.032*\"taut\" + 0.030*\"molecule\" + 0.026*\"transfer\" + 0.026*\"sense\" + 0.022*\"medium\" + 0.020*\"scenario\"\n"
     ]
    },
    {
     "data": {
      "text/html": [
       "<table border=\"1\" class=\"dataframe\">\n",
       "  <thead>\n",
       "    <tr style=\"text-align: right;\">\n",
       "      <th></th>\n",
       "      <th>resp</th>\n",
       "      <th>0</th>\n",
       "      <th>1</th>\n",
       "      <th>2</th>\n",
       "      <th>3</th>\n",
       "      <th>4</th>\n",
       "      <th>5</th>\n",
       "      <th>6</th>\n",
       "      <th>7</th>\n",
       "    </tr>\n",
       "  </thead>\n",
       "  <tbody>\n",
       "    <tr>\n",
       "      <th>30</th>\n",
       "      <td>It takes less energy to move each \"part\" of the string laterally if it is already almost at an equilibrium, (being straight) or at least closer to it, which is exactly what increasing the tension on it does. A wave travels in this medium by \"replicating the motion of the initial disturbance\" down the length of the string, and to do so, they must move each part of the string in a direction perpendicular to the transversal of the wave. If the string is not taught, and thus \"droops\" due to gravity, there is more distance which must be accounted for, and a resistance due to conflicting angles (the string not being straight). More energy is consumed accounting for the unevenness of the string, and thus the wave cannot transverse the length of the string as fast.</td>\n",
       "      <td>0.0</td>\n",
       "      <td>0.0</td>\n",
       "      <td>0.0</td>\n",
       "      <td>0.982111</td>\n",
       "      <td>0.0</td>\n",
       "      <td>0.0</td>\n",
       "      <td>0.0</td>\n",
       "      <td>0.0</td>\n",
       "    </tr>\n",
       "    <tr>\n",
       "      <th>11</th>\n",
       "      <td>It would make sense for a spring to travel faster when there is a larger tension force because energy is transferred quicker through a tighter medium . A larger tension provides a medium that allows energy to pass through it faster. I believe that on a spring with a larger tension, more energy is transferred horizontally rather than vertically as amplitude.</td>\n",
       "      <td>0.0</td>\n",
       "      <td>0.0</td>\n",
       "      <td>0.0</td>\n",
       "      <td>0.979028</td>\n",
       "      <td>0.0</td>\n",
       "      <td>0.0</td>\n",
       "      <td>0.0</td>\n",
       "      <td>0.0</td>\n",
       "    </tr>\n",
       "    <tr>\n",
       "      <th>134</th>\n",
       "      <td>The way I imagine this is by using a guitar string as an example.  As you tune a guitar string, if you have the string very lose and you strum, you can watch the wave shoot up from your finger and to the nut at the top.  As you tighten the string/ adding tension, it becomes harder and harder to follow the wave up the string because it begins to move faster and faster.</td>\n",
       "      <td>0.0</td>\n",
       "      <td>0.0</td>\n",
       "      <td>0.0</td>\n",
       "      <td>0.964916</td>\n",
       "      <td>0.0</td>\n",
       "      <td>0.0</td>\n",
       "      <td>0.0</td>\n",
       "      <td>0.0</td>\n",
       "    </tr>\n",
       "    <tr>\n",
       "      <th>172</th>\n",
       "      <td>Less tension in the string would mean less force on each infinitesimal piece of string. Since scenario 2 has more tension, there would be more force on the string. Thus, each infinitesimal piece of string is being pulled on harder during the wave which in turn allows the wave to move faster.</td>\n",
       "      <td>0.0</td>\n",
       "      <td>0.0</td>\n",
       "      <td>0.0</td>\n",
       "      <td>0.956566</td>\n",
       "      <td>0.0</td>\n",
       "      <td>0.0</td>\n",
       "      <td>0.0</td>\n",
       "      <td>0.0</td>\n",
       "    </tr>\n",
       "  </tbody>\n",
       "</table>"
      ],
      "text/plain": [
       "<IPython.core.display.HTML object>"
      ]
     },
     "metadata": {},
     "output_type": "display_data"
    },
    {
     "name": "stdout",
     "output_type": "stream",
     "text": [
      "\n",
      "\n",
      "\n",
      "Topic 4: 0.091*\"rope\" + 0.047*\"point\" + 0.045*\"slack\" + 0.044*\"time\" + 0.038*\"distance\" + 0.029*\"low\" + 0.027*\"pull\" + 0.025*\"take\" + 0.024*\"tight\" + 0.023*\"scenario\"\n"
     ]
    },
    {
     "data": {
      "text/html": [
       "<table border=\"1\" class=\"dataframe\">\n",
       "  <thead>\n",
       "    <tr style=\"text-align: right;\">\n",
       "      <th></th>\n",
       "      <th>resp</th>\n",
       "      <th>0</th>\n",
       "      <th>1</th>\n",
       "      <th>2</th>\n",
       "      <th>3</th>\n",
       "      <th>4</th>\n",
       "      <th>5</th>\n",
       "      <th>6</th>\n",
       "      <th>7</th>\n",
       "    </tr>\n",
       "  </thead>\n",
       "  <tbody>\n",
       "    <tr>\n",
       "      <th>70</th>\n",
       "      <td>When you pull the string tight, the mass gets more evenly spread out all throughout the string. This makes the pulse go faster because you don't have to move the mass of the string at any point higher or lower than when the string was loose. When the string is loose, the mass of the string will hang low at one point and in order to make a pulse, you have to flick the string a lot harder to make the string go up from its low point. When the string is tight, it creates a straight line so you don't have to worry about any point where it will hang lower and so when you flick it, the pulse will oscillate up and down between the middle line. When the string is loose, there will be a low point and you have to put in extra force to make it so the low point also reaches a high point which creates a pulse.</td>\n",
       "      <td>0.0</td>\n",
       "      <td>0.0</td>\n",
       "      <td>0.0</td>\n",
       "      <td>0.0</td>\n",
       "      <td>0.990918</td>\n",
       "      <td>0.0</td>\n",
       "      <td>0.0</td>\n",
       "      <td>0.0</td>\n",
       "    </tr>\n",
       "    <tr>\n",
       "      <th>17</th>\n",
       "      <td>The speed of the wave is the time taken for a point or multiple points in the string to return to it's original position. The faster the string returns to the initial position, the higher the speed of the wave is. This can be expressed in the equation v=(T*l/m)^0.5. T is the tension of the string, l is the length and m is the mass. As the tension increases, there is a larger magnitude of force \"pulling\" the string to return to it's original position, thus reducing the time taken to do so. The time is found through the equation distance=speed*time. As the speed increases, the time decreases since distance is supposed to remain the same.</td>\n",
       "      <td>0.0</td>\n",
       "      <td>0.0</td>\n",
       "      <td>0.0</td>\n",
       "      <td>0.0</td>\n",
       "      <td>0.987721</td>\n",
       "      <td>0.0</td>\n",
       "      <td>0.0</td>\n",
       "      <td>0.0</td>\n",
       "    </tr>\n",
       "    <tr>\n",
       "      <th>230</th>\n",
       "      <td>Without using any equations just intuition, i would say: the more tension means each small unit of the spring can communicate the movement to the next small unit of spring quicker. Kind of like if I had a line of bowling balls and I rolled one into the beginning one, the distance between each subsequent ball will need to be traversed for each initial ball to 'communicate' its movement to the next. So the smaller that distance the faster the message gets across and with a tight spring those 'bowling balls' are close together. And this extra distance in the spring is the 'slack' thats created from lack of tension.</td>\n",
       "      <td>0.0</td>\n",
       "      <td>0.0</td>\n",
       "      <td>0.0</td>\n",
       "      <td>0.0</td>\n",
       "      <td>0.985098</td>\n",
       "      <td>0.0</td>\n",
       "      <td>0.0</td>\n",
       "      <td>0.0</td>\n",
       "    </tr>\n",
       "    <tr>\n",
       "      <th>253</th>\n",
       "      <td>When you pull something tighter you are taking the slack out of it. So by removing slack you make it easier to manipulate the actual string. When you pulse the string while it has slack it has more to it, more of it has to travel over the distance. When you remove this slack it takes the extra string out allowing it to move faster over the same distance.</td>\n",
       "      <td>0.0</td>\n",
       "      <td>0.0</td>\n",
       "      <td>0.0</td>\n",
       "      <td>0.0</td>\n",
       "      <td>0.973980</td>\n",
       "      <td>0.0</td>\n",
       "      <td>0.0</td>\n",
       "      <td>0.0</td>\n",
       "    </tr>\n",
       "  </tbody>\n",
       "</table>"
      ],
      "text/plain": [
       "<IPython.core.display.HTML object>"
      ]
     },
     "metadata": {},
     "output_type": "display_data"
    },
    {
     "name": "stdout",
     "output_type": "stream",
     "text": [
      "\n",
      "\n",
      "\n",
      "Topic 5: 0.211*\"particle\" + 0.094*\"pull\" + 0.062*\"time\" + 0.051*\"shorter\" + 0.047*\"mean\" + 0.037*\"motion\" + 0.032*\"energy\" + 0.027*\"period\" + 0.025*\"position\" + 0.022*\"great\"\n"
     ]
    },
    {
     "data": {
      "text/html": [
       "<table border=\"1\" class=\"dataframe\">\n",
       "  <thead>\n",
       "    <tr style=\"text-align: right;\">\n",
       "      <th></th>\n",
       "      <th>resp</th>\n",
       "      <th>0</th>\n",
       "      <th>1</th>\n",
       "      <th>2</th>\n",
       "      <th>3</th>\n",
       "      <th>4</th>\n",
       "      <th>5</th>\n",
       "      <th>6</th>\n",
       "      <th>7</th>\n",
       "    </tr>\n",
       "  </thead>\n",
       "  <tbody>\n",
       "    <tr>\n",
       "      <th>55</th>\n",
       "      <td>When we pull the string in the outward direction we are pulling the particles away from each other and this will increase the ability of a particle to pull its neighbor particle. As we all know that due to high pulling force we will have high tension force in the string/body. So, due to high attraction or restraining force particle will complete its motion about its mean position in shorter time. Thus increasing the rate of flow of energy and that is also known as the velocity of the wave. Greater the forces between particle, shorter will the time period of the particles hence wave will move faster under high tension.</td>\n",
       "      <td>0.0</td>\n",
       "      <td>0.0</td>\n",
       "      <td>0.0</td>\n",
       "      <td>0.0</td>\n",
       "      <td>0.0</td>\n",
       "      <td>0.988945</td>\n",
       "      <td>0.0</td>\n",
       "      <td>0.0</td>\n",
       "    </tr>\n",
       "    <tr>\n",
       "      <th>39</th>\n",
       "      <td>When we pull the string in the outward bearing we are pulling the particles far from each other and this will build the capacity of a particle to draw its neighbor particle. As we as a whole we realize that because of the high pulling force we will have high tension force in the string/body. Along these lines, because of high fascination or limiting power particle will finish its movement about its mean position in shorter time. Expanding the rate of flow of energy and that is otherwise called the velocity of the wave. More noteworthy the strengths between molecule, shorter will the day and age of the particles henceforth wave will move speedier under high strain.</td>\n",
       "      <td>0.0</td>\n",
       "      <td>0.0</td>\n",
       "      <td>0.0</td>\n",
       "      <td>0.0</td>\n",
       "      <td>0.0</td>\n",
       "      <td>0.985321</td>\n",
       "      <td>0.0</td>\n",
       "      <td>0.0</td>\n",
       "    </tr>\n",
       "    <tr>\n",
       "      <th>40</th>\n",
       "      <td>This is because with a more taut string, the restraining force is much higher than a loose string. Since the particles in the string are more taut, the force particle will complete its motion about it mean position in a shorter period of time. So, with greater forces between the particles, the shorter the time for the particle to complete its motion, which means the higher tension string will move faster.</td>\n",
       "      <td>0.0</td>\n",
       "      <td>0.0</td>\n",
       "      <td>0.0</td>\n",
       "      <td>0.0</td>\n",
       "      <td>0.0</td>\n",
       "      <td>0.983264</td>\n",
       "      <td>0.0</td>\n",
       "      <td>0.0</td>\n",
       "    </tr>\n",
       "    <tr>\n",
       "      <th>180</th>\n",
       "      <td>When the string is pulled outward, you pull the particles away and increase the pull between particles. Due to high pull forces, the particle will move fully in a shorter time. The more energy flowing through the more forces between particles I.e. it moves faster under more tension.</td>\n",
       "      <td>0.0</td>\n",
       "      <td>0.0</td>\n",
       "      <td>0.0</td>\n",
       "      <td>0.0</td>\n",
       "      <td>0.0</td>\n",
       "      <td>0.976745</td>\n",
       "      <td>0.0</td>\n",
       "      <td>0.0</td>\n",
       "    </tr>\n",
       "  </tbody>\n",
       "</table>"
      ],
      "text/plain": [
       "<IPython.core.display.HTML object>"
      ]
     },
     "metadata": {},
     "output_type": "display_data"
    },
    {
     "name": "stdout",
     "output_type": "stream",
     "text": [
      "\n",
      "\n",
      "\n",
      "Topic 6: 0.073*\"equilibrium\" + 0.056*\"restore_force\" + 0.040*\"cause\" + 0.032*\"medium\" + 0.031*\"position\" + 0.030*\"quicker\" + 0.030*\"return\" + 0.029*\"quickly\" + 0.028*\"move\" + 0.028*\"want\"\n"
     ]
    },
    {
     "data": {
      "text/html": [
       "<table border=\"1\" class=\"dataframe\">\n",
       "  <thead>\n",
       "    <tr style=\"text-align: right;\">\n",
       "      <th></th>\n",
       "      <th>resp</th>\n",
       "      <th>0</th>\n",
       "      <th>1</th>\n",
       "      <th>2</th>\n",
       "      <th>3</th>\n",
       "      <th>4</th>\n",
       "      <th>5</th>\n",
       "      <th>6</th>\n",
       "      <th>7</th>\n",
       "    </tr>\n",
       "  </thead>\n",
       "  <tbody>\n",
       "    <tr>\n",
       "      <th>232</th>\n",
       "      <td>The speed at which a mechanical wave propagates through a medium has to do with how quickly the medium reverts back to its equilibrium position after being disturbed. The faster the medium snaps back, the faster the wave can move through it. Thus if the string is tighter, it is going to want to come back to its original position more than if it was loose, therefore tension will increase the pulse.</td>\n",
       "      <td>0.0</td>\n",
       "      <td>0.0</td>\n",
       "      <td>0.0</td>\n",
       "      <td>0.0</td>\n",
       "      <td>0.0</td>\n",
       "      <td>0.0</td>\n",
       "      <td>0.977922</td>\n",
       "      <td>0.0</td>\n",
       "    </tr>\n",
       "    <tr>\n",
       "      <th>193</th>\n",
       "      <td>The higher tension in the string results in a larger restoring forces which means that there is a larger acceleration for the string to return to its equilibrium position.  The larger acceleration means the displacement will return to equilibrium faster.</td>\n",
       "      <td>0.0</td>\n",
       "      <td>0.0</td>\n",
       "      <td>0.0</td>\n",
       "      <td>0.0</td>\n",
       "      <td>0.0</td>\n",
       "      <td>0.0</td>\n",
       "      <td>0.977922</td>\n",
       "      <td>0.0</td>\n",
       "    </tr>\n",
       "    <tr>\n",
       "      <th>197</th>\n",
       "      <td>With a higher a tension, the spring has a higher resistance to being disturbed or displaced. When a point on the spring moves out of place due to the wave, there is more force trying to bring it back to its original position. Because the spring isn't as displaced, the wave moves the spring at a higher speed.</td>\n",
       "      <td>0.0</td>\n",
       "      <td>0.0</td>\n",
       "      <td>0.0</td>\n",
       "      <td>0.0</td>\n",
       "      <td>0.0</td>\n",
       "      <td>0.0</td>\n",
       "      <td>0.974628</td>\n",
       "      <td>0.0</td>\n",
       "    </tr>\n",
       "    <tr>\n",
       "      <th>78</th>\n",
       "      <td>If the tension of the string is higher, then the k value of the string will increase because the tension affects the restoring force of the string. If the tension is higher, the string will have a higher restoring force, causing the individual pieces of the rope to \"want\" to return to the equilibrium point faster than if the string was loose.</td>\n",
       "      <td>0.0</td>\n",
       "      <td>0.0</td>\n",
       "      <td>0.0</td>\n",
       "      <td>0.0</td>\n",
       "      <td>0.0</td>\n",
       "      <td>0.0</td>\n",
       "      <td>0.974628</td>\n",
       "      <td>0.0</td>\n",
       "    </tr>\n",
       "  </tbody>\n",
       "</table>"
      ],
      "text/plain": [
       "<IPython.core.display.HTML object>"
      ]
     },
     "metadata": {},
     "output_type": "display_data"
    },
    {
     "name": "stdout",
     "output_type": "stream",
     "text": [
      "\n",
      "\n",
      "\n",
      "Topic 7: 0.106*\"medium\" + 0.093*\"great\" + 0.033*\"scenario\" + 0.026*\"act\" + 0.025*\"second\" + 0.023*\"like\" + 0.022*\"move\" + 0.022*\"result\" + 0.021*\"pull\" + 0.019*\"displace\"\n"
     ]
    },
    {
     "data": {
      "text/html": [
       "<table border=\"1\" class=\"dataframe\">\n",
       "  <thead>\n",
       "    <tr style=\"text-align: right;\">\n",
       "      <th></th>\n",
       "      <th>resp</th>\n",
       "      <th>0</th>\n",
       "      <th>1</th>\n",
       "      <th>2</th>\n",
       "      <th>3</th>\n",
       "      <th>4</th>\n",
       "      <th>5</th>\n",
       "      <th>6</th>\n",
       "      <th>7</th>\n",
       "    </tr>\n",
       "  </thead>\n",
       "  <tbody>\n",
       "    <tr>\n",
       "      <th>144</th>\n",
       "      <td>If you think about a wave moving through the string on a molecular level, the molecules of the medium become displaced as it passes through. The more tension in the string, the more resistance the string has to snap back to the equilibrium faster. Just like tighter strings on a guitar vibrate faster than looser strings.</td>\n",
       "      <td>0.0</td>\n",
       "      <td>0.0</td>\n",
       "      <td>0.0</td>\n",
       "      <td>0.0</td>\n",
       "      <td>0.0</td>\n",
       "      <td>0.0</td>\n",
       "      <td>0.0</td>\n",
       "      <td>0.975086</td>\n",
       "    </tr>\n",
       "    <tr>\n",
       "      <th>155</th>\n",
       "      <td>The second time, each individual piece of the string is more tightly connected to its' neighbors. Therefore, When it is displaced, it will pull more on the pieces next to it rather than stretching them out. This means that it transfers it's displacement to the pieces next to it more rapidly.</td>\n",
       "      <td>0.0</td>\n",
       "      <td>0.0</td>\n",
       "      <td>0.0</td>\n",
       "      <td>0.0</td>\n",
       "      <td>0.0</td>\n",
       "      <td>0.0</td>\n",
       "      <td>0.0</td>\n",
       "      <td>0.975086</td>\n",
       "    </tr>\n",
       "    <tr>\n",
       "      <th>138</th>\n",
       "      <td>Based on my own knowledge and intuition, I would say that it makes sense for a pulse to move faster on a higher tension string because of \"the way the crow flies\". Everybody knows that if you are trying to get from destination A to destination B it's fastest if you can follow a B line there rather than going round about ways. If the spring is more taught, then a pulse will be able to travel through it faster, like a crow.</td>\n",
       "      <td>0.0</td>\n",
       "      <td>0.0</td>\n",
       "      <td>0.0</td>\n",
       "      <td>0.0</td>\n",
       "      <td>0.0</td>\n",
       "      <td>0.0</td>\n",
       "      <td>0.0</td>\n",
       "      <td>0.975086</td>\n",
       "    </tr>\n",
       "    <tr>\n",
       "      <th>238</th>\n",
       "      <td>A greater pulling force causes greater tension between the differential elements of the spring.  This causes greater acceleration of these elements, and hence greater velocity. (By the way, did you mean string rather than spring?  The diagram looks like a string.)</td>\n",
       "      <td>0.0</td>\n",
       "      <td>0.0</td>\n",
       "      <td>0.0</td>\n",
       "      <td>0.0</td>\n",
       "      <td>0.0</td>\n",
       "      <td>0.0</td>\n",
       "      <td>0.0</td>\n",
       "      <td>0.968533</td>\n",
       "    </tr>\n",
       "  </tbody>\n",
       "</table>"
      ],
      "text/plain": [
       "<IPython.core.display.HTML object>"
      ]
     },
     "metadata": {},
     "output_type": "display_data"
    },
    {
     "name": "stdout",
     "output_type": "stream",
     "text": [
      "\n",
      "\n",
      "\n"
     ]
    }
   ],
   "source": [
    "display_n_responses(df, num_responses_displayed, model, corpus, bow)"
   ]
  },
  {
   "cell_type": "markdown",
   "metadata": {},
   "source": [
    "Potential Ideas from LDA: "
   ]
  },
  {
   "cell_type": "code",
   "execution_count": null,
   "metadata": {},
   "outputs": [],
   "source": []
  }
 ],
 "metadata": {
  "interpreter": {
   "hash": "b1387b5b854ca26737d2f7e25194acc64b4eb89730b66cdda8ec7b69c06b90e6"
  },
  "kernelspec": {
   "display_name": "Python [conda env:.conda-LDA]",
   "language": "python",
   "name": "conda-env-.conda-LDA-py"
  },
  "language_info": {
   "codemirror_mode": {
    "name": "ipython",
    "version": 3
   },
   "file_extension": ".py",
   "mimetype": "text/x-python",
   "name": "python",
   "nbconvert_exporter": "python",
   "pygments_lexer": "ipython3",
   "version": "3.9.7"
  }
 },
 "nbformat": 4,
 "nbformat_minor": 2
}
