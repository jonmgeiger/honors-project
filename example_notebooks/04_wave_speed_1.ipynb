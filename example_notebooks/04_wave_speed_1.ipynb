{
 "cells": [
  {
   "cell_type": "markdown",
   "metadata": {},
   "source": [
    "# LDA Analysis, Case Study 4: Waves\n",
    "\n",
    "We will be exploring an LDA analysis of the \"Wave Speed I / Pulse Flick v3\" question, which asks : \n",
    "\n",
    "> *Consider the following two scenarios: In scenario 1, your Teaching Assistant (TA) creates a pulse by flicking the end of a spring, as in the figure at right. In scenario 2, your TA pulls the spring so that it is more taut (i.e., increases the tension in the spring) and then creates a pulse by flicking the end of the spring in the same way. The pulse in scenario 2 travels down the spring **faster** (i.e., has a larger speed) than the pulse in scenario 1.*\n",
    "> \n",
    "> *Why would it make sense for a pulse to move faster on a higher-tension spring? (We're trying to understand your intuition, not not whether or not you can remember particular equations. In other words, we want to know how you make sense of this phenomenon.)*\n"
   ]
  },
  {
   "cell_type": "markdown",
   "metadata": {},
   "source": [
    "## I. Imports"
   ]
  },
  {
   "cell_type": "code",
   "execution_count": 1,
   "metadata": {},
   "outputs": [
    {
     "data": {
      "text/html": [
       "<style>.container { width:95% !important; }</style>"
      ],
      "text/plain": [
       "<IPython.core.display.HTML object>"
      ]
     },
     "metadata": {},
     "output_type": "display_data"
    },
    {
     "data": {
      "text/html": [
       "<style>.container { width:95% !important; }</style>"
      ],
      "text/plain": [
       "<IPython.core.display.HTML object>"
      ]
     },
     "metadata": {},
     "output_type": "display_data"
    }
   ],
   "source": [
    "# Print out all expressions\n",
    "from IPython.core.interactiveshell import InteractiveShell\n",
    "InteractiveShell.ast_node_interactivity = \"all\"\n",
    "# Wider Cells\n",
    "from IPython.display import display, HTML\n",
    "display(HTML(\"<style>.container { width:95% !important; }</style>\"))\n",
    "# Ignore some warnings\n",
    "import warnings\n",
    "warnings.filterwarnings(\"ignore\", category=DeprecationWarning);\n",
    "\n",
    "# General Packages\n",
    "import pandas as pd\n",
    "import numpy as np\n",
    "import matplotlib.pyplot as plt\n",
    "import re as re\n",
    "import pickle as pkl\n",
    "import copy\n",
    "\n",
    "import sys  \n",
    "sys.path.insert(0, '..')\n",
    "from scripts.lda_model import *"
   ]
  },
  {
   "cell_type": "markdown",
   "metadata": {},
   "source": [
    "## II. Data Import and Restructuring"
   ]
  },
  {
   "cell_type": "code",
   "execution_count": 2,
   "metadata": {},
   "outputs": [
    {
     "data": {
      "text/html": [
       "<div>\n",
       "<style scoped>\n",
       "    .dataframe tbody tr th:only-of-type {\n",
       "        vertical-align: middle;\n",
       "    }\n",
       "\n",
       "    .dataframe tbody tr th {\n",
       "        vertical-align: top;\n",
       "    }\n",
       "\n",
       "    .dataframe thead th {\n",
       "        text-align: right;\n",
       "    }\n",
       "</style>\n",
       "<table border=\"1\" class=\"dataframe\">\n",
       "  <thead>\n",
       "    <tr style=\"text-align: right;\">\n",
       "      <th></th>\n",
       "      <th>resp</th>\n",
       "    </tr>\n",
       "  </thead>\n",
       "  <tbody>\n",
       "    <tr>\n",
       "      <th>0</th>\n",
       "      <td>Due to the high pulling force, there will be a...</td>\n",
       "    </tr>\n",
       "    <tr>\n",
       "      <th>1</th>\n",
       "      <td>The string can be thought of as a system of a ...</td>\n",
       "    </tr>\n",
       "    <tr>\n",
       "      <th>2</th>\n",
       "      <td>The velocity of a wave(pulse) on a string is e...</td>\n",
       "    </tr>\n",
       "    <tr>\n",
       "      <th>3</th>\n",
       "      <td>Velocity and Tension are proportional, so as t...</td>\n",
       "    </tr>\n",
       "    <tr>\n",
       "      <th>4</th>\n",
       "      <td>Higher tension results in a lower mass per uni...</td>\n",
       "    </tr>\n",
       "  </tbody>\n",
       "</table>\n",
       "</div>"
      ],
      "text/plain": [
       "                                                resp\n",
       "0  Due to the high pulling force, there will be a...\n",
       "1  The string can be thought of as a system of a ...\n",
       "2  The velocity of a wave(pulse) on a string is e...\n",
       "3  Velocity and Tension are proportional, so as t...\n",
       "4  Higher tension results in a lower mass per uni..."
      ]
     },
     "execution_count": 2,
     "metadata": {},
     "output_type": "execute_result"
    }
   ],
   "source": [
    "df = pd.read_csv('../data/waves.csv', names = ['ID', 'resp'])\n",
    "df.drop(columns = ['ID'], inplace = True)\n",
    "df.head(5)"
   ]
  },
  {
   "cell_type": "markdown",
   "metadata": {},
   "source": [
    "## III. LDA Modeling\n",
    "\n",
    "The following code will take the data processed above and convert it into a usable format for the LDA model. Before we start modeling, though, we need to set some parameters for our particular data. "
   ]
  },
  {
   "cell_type": "code",
   "execution_count": 3,
   "metadata": {},
   "outputs": [],
   "source": [
    "bigrams =               text_to_bigrams(df)\n",
    "corpus =                bigrams_to_corpus(bigrams)"
   ]
  },
  {
   "cell_type": "markdown",
   "metadata": {},
   "source": [
    "Let's take a look at some plots of the words used in the collection of student responses. "
   ]
  },
  {
   "cell_type": "code",
   "execution_count": 4,
   "metadata": {},
   "outputs": [
    {
     "name": "stdout",
     "output_type": "stream",
     "text": [
      "Total words: \u001b[1m5720\u001b[0m, unique words: \u001b[1m657\u001b[0m\n"
     ]
    },
    {
     "data": {
      "image/png": "[encoded data removed]",
      "text/plain": [
       "<Figure size 1080x360 with 1 Axes>"
      ]
     },
     "metadata": {
      "needs_background": "light"
     },
     "output_type": "display_data"
    },
    {
     "data": {
      "image/png": "[encoded data removed]",
      "text/plain": [
       "<Figure size 576x360 with 1 Axes>"
      ]
     },
     "metadata": {
      "needs_background": "light"
     },
     "output_type": "display_data"
    }
   ],
   "source": [
    "plot_words(corpus)"
   ]
  },
  {
   "cell_type": "markdown",
   "metadata": {},
   "source": [
    "Let's now figure out the best thresholds for removing the most and least common words. A `no_above` threshold of 70% would remove words used in at least 70% of documents, and a `no_below` threshold of 3 would remove words used in only two or fewer documents. "
   ]
  },
  {
   "cell_type": "code",
   "execution_count": 5,
   "metadata": {},
   "outputs": [
    {
     "name": "stdout",
     "output_type": "stream",
     "text": [
      "\n",
      "NO ABOVE THRESHOLDS\n",
      "\n",
      "\n",
      "Dictionary with \u001b[1mno_above=1\u001b[0m contains \u001b[1m657\u001b[0m unique words\n",
      "\n",
      "Dictionary filtered with \u001b[1mno_above=1.00\u001b[0m contains \u001b[1m657\u001b[0m unique words. \u001b[1m0 words\u001b[0m removed:\n",
      " [] \n",
      "\n",
      "Dictionary filtered with \u001b[1mno_above=0.90\u001b[0m contains \u001b[1m657\u001b[0m unique words. \u001b[1m0 words\u001b[0m removed:\n",
      " [] \n",
      "\n",
      "Dictionary filtered with \u001b[1mno_above=0.80\u001b[0m contains \u001b[1m657\u001b[0m unique words. \u001b[1m0 words\u001b[0m removed:\n",
      " [] \n",
      "\n",
      "Dictionary filtered with \u001b[1mno_above=0.70\u001b[0m contains \u001b[1m657\u001b[0m unique words. \u001b[1m0 words\u001b[0m removed:\n",
      " [] \n",
      "\n",
      "Dictionary filtered with \u001b[1mno_above=0.60\u001b[0m contains \u001b[1m656\u001b[0m unique words. \u001b[1m1 words\u001b[0m removed:\n",
      " ['tension'] \n",
      "\n",
      "Dictionary filtered with \u001b[1mno_above=0.50\u001b[0m contains \u001b[1m656\u001b[0m unique words. \u001b[1m0 words\u001b[0m removed:\n",
      " [] \n",
      "\n",
      "Dictionary filtered with \u001b[1mno_above=0.40\u001b[0m contains \u001b[1m653\u001b[0m unique words. \u001b[1m3 words\u001b[0m removed:\n",
      " ['faster', 'string', 'wave'] \n",
      "\n",
      "Dictionary filtered with \u001b[1mno_above=0.30\u001b[0m contains \u001b[1m651\u001b[0m unique words. \u001b[1m2 words\u001b[0m removed:\n",
      " ['high', 'increase'] \n",
      "\n",
      "Dictionary filtered with \u001b[1mno_above=0.20\u001b[0m contains \u001b[1m645\u001b[0m unique words. \u001b[1m6 words\u001b[0m removed:\n",
      " ['force', 'pulse', 'speed', 'spring', 'travel', 'velocity'] \n",
      "\n",
      "Dictionary filtered with \u001b[1mno_above=0.10\u001b[0m contains \u001b[1m634\u001b[0m unique words. \u001b[1m11 words\u001b[0m removed:\n",
      " ['energy', 'equilibrium', 'great', 'length', 'mass', 'mean', 'medium', 'move', 'particle', 'pull', 'rope'] \n",
      "\n",
      "\n",
      "\n",
      "NO BELOW THRESHOLDS\n",
      "\n",
      "\n",
      "Dictionary with \u001b[1mno_below=1\u001b[0m contains \u001b[1m634\u001b[0m unique words\n",
      "\n",
      "Dictionary filtered with \u001b[1mno_below=1.00\u001b[0m contains \u001b[1m634\u001b[0m unique words. \u001b[1m0 words\u001b[0m removed:\n",
      " [] \n",
      "\n",
      "Dictionary filtered with \u001b[1mno_below=2.00\u001b[0m contains \u001b[1m284\u001b[0m unique words. \u001b[1m350 words\u001b[0m removed:\n",
      " ['accecelration', 'accel', 'accounting', 'achieve', 'active', 'activity', 'actual', 'addition', 'adjacent', 'age', 'agrees', 'ahead', 'air', 'align', 'angle', 'applyed', 'apt', 'assume', 'attract', 'ball', 'basically', 'battling', 'bearing', 'becasue', 'behaves', 'bellow', 'bob', 'bond', 'bowling', 'brings', 'build', 'built', 'bunch', 'calculate', 'call', 'capacity', 'childhood', 'circular', 'class', 'close', 'coil', 'collision', 'communicate', 'communication', 'compact', 'comparatively', 'completely', 'compose', 'compress', 'conceptually', 'conditioning', 'conductive', 'conflict', 'consequence', 'consider', 'consume', 'correctly', 'count', 'counter', 'counteracts', 'crow', 'day', 'define', 'deliver', 'demonstrate', 'denominator', 'derive', 'destination', 'destroyed', 'determines', 'difference', 'differential', 'differently', 'difficult', 'dip', 'disperse', 'disregard', 'disrupt', 'doesnt', 'drag', 'draw', 'droop', 'dur', 'effect', 'efficiently', 'elastic', 'enjoy', 'entire', 'equillibrium', 'evenly', 'everybody', 'everyday', 'example', 'exercise', 'exerts', 'expand', 'explanation', 'express', 'fascinate', 'fascination', 'fasters', 'felt', 'finally', 'fix', 'flig', 'fly', 'focus', 'forcefully', 'forth', 'frequncey', 'fully', 'gain', 'gay', 'handset', 'hang', 'harmonic', 'have', 'height', 'hello', 'helpful', 'henceforth', 'hertz', 'hight', 'hold', 'homogeneous', 'hz', 'idea', 'identical', 'impossible', 'impulse', 'impuse', 'indicates', 'inertia', 'inevitably', 'initially', 'intend', 'intensity', 'intuitive', 'intuitively', 'inward', 'ir', 'kid', 'kind', 'kinda', 'kitchen', 'knowledge', 'kx', 'laterally', 'law', 'leg', 'let', 'level', 'limit', 'limited', 'logistics', 'loosens', 'lose', 'ma', 'magnitude', 'master', 'mathematically', 'matter', 'meant', 'mechanical', 'memorization', 'message', 'mg', 'middle', 'military', 'mitigate', 'molecular', 'moment', 'mue', 'multiple', 'musical', 'nah', 'naturally', 'navigate', 'nay', 'near', 'nearly', 'neck', 'neutral', 'new', 'newton', 'normal', 'note', 'noteworthy', 'noticeable', 'nut', 'observe', 'obviously', 'one', 'oops', 'open', 'opposite', 'origin', 'oscillates', 'oscillation', 'outside', 'part', 'partially', 'percentage', 'periodic', 'perturbation', 'perturbed', 'phone', 'play', 'pluck', 'plucked', 'power', 'precede', 'present', 'presumably', 'pretend', 'prevents', 'previous', 'process', 'prof', 'professor', 'propel', 'propotional', 'purely', 'quest', 'question', 'rad', 'random', 'range', 'rapidly', 'ratio', 'reacts', 'readily', 'real', 'realize', 'recognize', 'reduce', 'reduces', 'regurgitate', 'relaxed', 'release', 'relies', 'remove', 'replicate', 'represent', 'require', 'response', 'restoration', 'reverts', 'rid', 'rigid', 'rise', 'roll', 'ross', 'round', 'save', 'scenrio', 'section', 'see', 'segment', 'send', 'sends', 'series', 'shake', 'shift', 'shoot', 'short', 'shorten', 'shortens', 'show', 'signifies', 'similarly', 'simple', 'sincw', 'sinusoidal', 'situation', 'slacken', 'slackline', 'slightly', 'slinky', 'slowly', 'solve', 'soul', 'space', 'spead', 'specific', 'speedier', 'spend', 'spending', 'spends', 'sqroot', 'sqrtt', 'squ', 'squareroot', 'squish', 'stayed', 'stiffer', 'sting', 'store', 'straightens', 'straighter', 'strain', 'stress', 'strum', 'subsequent', 'successive', 'sure', 'swing', 'taunt', 'tauter', 'tautness', 'tell', 'tensioned', 'tention', 'term', 'thats', 'therefor', 'thickness', 'thought', 'throuhg', 'tightly', 'transversal', 'trough', 'type', 'underneath', 'understand', 'unevenness', 'unnecessary', 'upward', 'urge', 'us', 'usual', 'variable', 'variety', 'velocit', 'verify', 'versa', 'verse', 'vibrates', 'vibration', 'vice', 'volume', 'waste', 'watch', 'water', 'wavespeed', 'whilst', 'whip', 'willing', 'worry', 'young'] \n",
      "\n",
      "Dictionary filtered with \u001b[1mno_below=3.00\u001b[0m contains \u001b[1m196\u001b[0m unique words. \u001b[1m88 words\u001b[0m removed:\n",
      " ['accelerate', 'accord', 'account', 'additionally', 'affected', 'alter', 'area', 'attach', 'attractive', 'band', 'begin', 'believe', 'certain', 'clear', 'closely', 'compare', 'compensate', 'convert', 'correlate', 'course', 'cover', 'deform', 'degree', 'demo', 'dense', 'diagram', 'downward', 'element', 'exactly', 'exert', 'experiment', 'finger', 'form', 'forward', 'good', 'guess', 'happens', 'infinitesimal', 'influence', 'instrument', 'inversely', 'ke', 'lack', 'linear', 'll', 'location', 'look', 'manipulate', 'manner', 'object', 'oppose', 'peak', 'perpendicular', 'portion', 'potential', 'probably', 'produce', 'propagates', 'provide', 'read', 'relate', 'relative', 'remember', 'resistant', 'responsive', 'rest', 'restore', 'rubber', 'say', 'sent', 'sharper', 'shm', 'similar', 'solely', 'sort', 'spot', 'substance', 'suppose', 'there', 'thing', 'thinner', 'tiny', 'traverse', 'use', 'vertically', 'wall', 'won', 'wrist'] \n",
      "\n",
      "Dictionary filtered with \u001b[1mno_below=4.00\u001b[0m contains \u001b[1m160\u001b[0m unique words. \u001b[1m36 words\u001b[0m removed:\n",
      " ['add', 'bounce', 'bring', 'connect', 'determine', 'disturbed', 'easily', 'fact', 'fast', 'finish', 'follow', 'freedom', 'gravity', 'hard', 'horizontal', 'horizontally', 'imagine', 'instead', 'kinetic', 'life', 'looser', 'lot', 'phenomenon', 'problem', 'propagation', 'related', 'remain', 'restrict', 'right', 'root', 'shape', 'strength', 'tense', 'vertical', 'weight', 'work'] \n",
      "\n",
      "Dictionary filtered with \u001b[1mno_below=5.00\u001b[0m contains \u001b[1m134\u001b[0m unique words. \u001b[1m26 words\u001b[0m removed:\n",
      " ['affect', 'different', 'disturbance', 'divide', 'essentially', 'experience', 'explain', 'far', 'formula', 'initial', 'lead', 'little', 'longer', 'net', 'numerator', 'oscillate', 'pas', 'pass', 'propagate', 'reason', 'straight', 'strong', 'tune', 'turn', 'vibrate', 'word'] \n",
      "\n",
      "Dictionary filtered with \u001b[1mno_below=6.00\u001b[0m contains \u001b[1m118\u001b[0m unique words. \u001b[1m16 words\u001b[0m removed:\n",
      " ['atom', 'base', 'bit', 'body', 'closer', 'come', 'hand', 'order', 'piece', 'pitch', 'reach', 'resist', 'shorter', 'translate', 'transverse', 'value'] \n",
      "\n",
      "Dictionary filtered with \u001b[1mno_below=7.00\u001b[0m contains \u001b[1m107\u001b[0m unique words. \u001b[1m11 words\u001b[0m removed:\n",
      " ['able', 'displacement', 'give', 'individual', 'need', 'original', 'place', 'slow', 'stay', 'ta', 'tighten'] \n",
      "\n",
      "Dictionary filtered with \u001b[1mno_below=8.00\u001b[0m contains \u001b[1m96\u001b[0m unique words. \u001b[1m11 words\u001b[0m removed:\n",
      " ['ability', 'extra', 'isn', 'meaning', 'number', 'outward', 'push', 'second', 'state', 'transfer', 'yes'] \n",
      "\n",
      "Dictionary filtered with \u001b[1mno_below=9.00\u001b[0m contains \u001b[1m87\u001b[0m unique words. \u001b[1m9 words\u001b[0m removed:\n",
      " ['allow', 'attraction', 'away', 'dependent', 'easy', 'end', 'intuition', 'line', 'restrain'] \n",
      "\n"
     ]
    }
   ],
   "source": [
    "display_words_removed_at_thresholds(bigrams)"
   ]
  },
  {
   "cell_type": "markdown",
   "metadata": {},
   "source": [
    "You can now set the desired threshold values based on this particular data set. "
   ]
  },
  {
   "cell_type": "code",
   "execution_count": 6,
   "metadata": {},
   "outputs": [],
   "source": [
    "no_above = 0.2\n",
    "no_below = 3"
   ]
  },
  {
   "cell_type": "code",
   "execution_count": 7,
   "metadata": {},
   "outputs": [],
   "source": [
    "bow, id2word= create_bow(corpus, bigrams, no_above, no_below, \n",
    "                         display_removed_words = False)"
   ]
  },
  {
   "cell_type": "markdown",
   "metadata": {},
   "source": [
    "We can now proceed with the actual modeling process. Here, you can set a number of topics desired for the model, as well as the number of responses to display for each topic. By default, the number of responses displayed is three, but that can be overridden by setting a value. "
   ]
  },
  {
   "cell_type": "code",
   "execution_count": 22,
   "metadata": {},
   "outputs": [],
   "source": [
    "num_topics = 6\n",
    "num_responses_displayed = 5"
   ]
  },
  {
   "cell_type": "code",
   "execution_count": 23,
   "metadata": {
    "scrolled": false
   },
   "outputs": [
    {
     "name": "stdout",
     "output_type": "stream",
     "text": [
      "Coherence of model with 6 topics: 0.5040878198546351\n",
      "\n",
      "\n"
     ]
    },
    {
     "data": {
      "text/plain": [
       "[(0,\n",
       "  '0.051*\"mass\" + 0.042*\"point\" + 0.041*\"scenario\" + 0.038*\"second\" + 0.037*\"result\" + 0.034*\"creates\" + 0.033*\"big\" + 0.032*\"low\" + 0.030*\"square_root\" + 0.029*\"get\"'),\n",
       " (1,\n",
       "  '0.191*\"particle\" + 0.111*\"pull\" + 0.041*\"shorter_time\" + 0.038*\"mean\" + 0.035*\"motion\" + 0.030*\"period\" + 0.028*\"energy\" + 0.027*\"position\" + 0.024*\"piece\" + 0.024*\"know\"'),\n",
       " (2,\n",
       "  '0.063*\"great\" + 0.049*\"move\" + 0.040*\"rope\" + 0.039*\"medium\" + 0.032*\"molecule\" + 0.031*\"restore_force\" + 0.025*\"pull\" + 0.024*\"mean\" + 0.023*\"equilibrium\" + 0.021*\"material\"'),\n",
       " (3,\n",
       "  '0.044*\"equilibrium\" + 0.041*\"pull\" + 0.033*\"return\" + 0.031*\"tighter\" + 0.031*\"scenario\" + 0.028*\"position\" + 0.025*\"quickly\" + 0.024*\"time\" + 0.024*\"distance\" + 0.024*\"quicker\"'),\n",
       " (4,\n",
       "  '0.148*\"length\" + 0.093*\"wire\" + 0.061*\"molecule\" + 0.045*\"mu\" + 0.045*\"tend_decrease\" + 0.042*\"equation\" + 0.042*\"density\" + 0.034*\"decrease\" + 0.032*\"ultimately\" + 0.032*\"tend\"'),\n",
       " (5,\n",
       "  '0.063*\"medium\" + 0.054*\"change\" + 0.052*\"energy\" + 0.051*\"frequency\" + 0.048*\"rope\" + 0.035*\"sense\" + 0.035*\"large\" + 0.033*\"amplitude\" + 0.030*\"nan\" + 0.028*\"wavelength\"')]"
      ]
     },
     "execution_count": 23,
     "metadata": {},
     "output_type": "execute_result"
    }
   ],
   "source": [
    "model = LDA_model(bow, id2word, bigrams, \n",
    "                  num_topics = num_topics)\n",
    "model.show_topics(num_words = 10, \n",
    "                  num_topics = num_topics)"
   ]
  },
  {
   "cell_type": "code",
   "execution_count": 24,
   "metadata": {
    "scrolled": false
   },
   "outputs": [
    {
     "name": "stdout",
     "output_type": "stream",
     "text": [
      "Topic 0: 0.051*\"mass\" + 0.042*\"point\" + 0.041*\"scenario\" + 0.038*\"second\" + 0.037*\"result\" + 0.034*\"creates\" + 0.033*\"big\" + 0.032*\"low\" + 0.030*\"square_root\" + 0.029*\"get\"\n"
     ]
    },
    {
     "data": {
      "text/html": [
       "<table border=\"1\" class=\"dataframe\">\n",
       "  <thead>\n",
       "    <tr style=\"text-align: right;\">\n",
       "      <th></th>\n",
       "      <th>resp</th>\n",
       "      <th>0</th>\n",
       "      <th>1</th>\n",
       "      <th>2</th>\n",
       "      <th>3</th>\n",
       "      <th>4</th>\n",
       "      <th>5</th>\n",
       "    </tr>\n",
       "  </thead>\n",
       "  <tbody>\n",
       "    <tr>\n",
       "      <th>224</th>\n",
       "      <td>Scenario 2 creates a faster pulse because the Kinetic energy increases in the second scenario since tightening the spring increases the K constant of the spring. If you solved for velocity in either scenario, it would be larger in the second scenario because Kinetic energy is larger overall.</td>\n",
       "      <td>0.978386</td>\n",
       "      <td>0.0</td>\n",
       "      <td>0.000000</td>\n",
       "      <td>0.0</td>\n",
       "      <td>0.0</td>\n",
       "      <td>0.000000</td>\n",
       "    </tr>\n",
       "    <tr>\n",
       "      <th>249</th>\n",
       "      <td>This phenomenon makes sense because the equation for velocity is the square root of tension over mu.  If the tension is greater, then the speed will be greater as a result because it will be a bigger number divided by the same value of mu.</td>\n",
       "      <td>0.973545</td>\n",
       "      <td>0.0</td>\n",
       "      <td>0.000000</td>\n",
       "      <td>0.0</td>\n",
       "      <td>0.0</td>\n",
       "      <td>0.000000</td>\n",
       "    </tr>\n",
       "    <tr>\n",
       "      <th>2</th>\n",
       "      <td>The velocity of a wave(pulse) on a string is equal to the square root of Tension over the mass-density of the string. so V(wave)=sqrt(T/u)/ Therefore, if you increase the Tension, which is in the numerator, then it follows that you increase the calculated number underneath the root and as numbers increase, so do there square roots, so it follows the the velocity of the wave dur to the higher tension must be higher.</td>\n",
       "      <td>0.971411</td>\n",
       "      <td>0.0</td>\n",
       "      <td>0.000000</td>\n",
       "      <td>0.0</td>\n",
       "      <td>0.0</td>\n",
       "      <td>0.000000</td>\n",
       "    </tr>\n",
       "    <tr>\n",
       "      <th>118</th>\n",
       "      <td>You have to put more energy into the system of a more tense string causing it to have a greater kinetic energy that results in a greater velocity.</td>\n",
       "      <td>0.957782</td>\n",
       "      <td>0.0</td>\n",
       "      <td>0.011327</td>\n",
       "      <td>0.0</td>\n",
       "      <td>0.0</td>\n",
       "      <td>0.011338</td>\n",
       "    </tr>\n",
       "    <tr>\n",
       "      <th>140</th>\n",
       "      <td>If the string isn't taut (low tension) then the weight of the string will make it \"dip\". If you then flick your wrist to create a pulse, part of it becomes \"destroyed\" due to the dip being on the opposite side of the horizontal of the pulse.</td>\n",
       "      <td>0.952072</td>\n",
       "      <td>0.0</td>\n",
       "      <td>0.012858</td>\n",
       "      <td>0.0</td>\n",
       "      <td>0.0</td>\n",
       "      <td>0.012872</td>\n",
       "    </tr>\n",
       "  </tbody>\n",
       "</table>"
      ],
      "text/plain": [
       "<IPython.core.display.HTML object>"
      ]
     },
     "metadata": {},
     "output_type": "display_data"
    },
    {
     "name": "stdout",
     "output_type": "stream",
     "text": [
      "\n",
      "\n",
      "\n",
      "Topic 1: 0.191*\"particle\" + 0.111*\"pull\" + 0.041*\"shorter_time\" + 0.038*\"mean\" + 0.035*\"motion\" + 0.030*\"period\" + 0.028*\"energy\" + 0.027*\"position\" + 0.024*\"piece\" + 0.024*\"know\"\n"
     ]
    },
    {
     "data": {
      "text/html": [
       "<table border=\"1\" class=\"dataframe\">\n",
       "  <thead>\n",
       "    <tr style=\"text-align: right;\">\n",
       "      <th></th>\n",
       "      <th>resp</th>\n",
       "      <th>0</th>\n",
       "      <th>1</th>\n",
       "      <th>2</th>\n",
       "      <th>3</th>\n",
       "      <th>4</th>\n",
       "      <th>5</th>\n",
       "    </tr>\n",
       "  </thead>\n",
       "  <tbody>\n",
       "    <tr>\n",
       "      <th>241</th>\n",
       "      <td>When we pull the string in the outward direction we are pulling the particles away from each other and this will increase the ability of a particle to pull its neighbor particle. As we all know that due to high pulling force we will have high tension force in the string/body. So, due to high attraction or restraining force particle will complete its motion about its mean position in shorter time. Thus increasing the rate of flow of energy and that is also known as the velocity of the wave. Greater the forces between particle, shorter will the time period of the particles hence wave will move faster under high tension.</td>\n",
       "      <td>0.0</td>\n",
       "      <td>0.988963</td>\n",
       "      <td>0.0</td>\n",
       "      <td>0.0</td>\n",
       "      <td>0.0</td>\n",
       "      <td>0.0</td>\n",
       "    </tr>\n",
       "    <tr>\n",
       "      <th>64</th>\n",
       "      <td>When we pull the string in the outward direction we are pulling the particles away from each other and this will increase the ability of a particle to pull its neighbor particle. As we all know that due to high pulling force we will have high tension force in the string/body. So, due to high attraction or restraining force particle will complete its motion about its mean position in shorter time. Thus increasing the rate of flow of energy and that is also known as the velocity of the wave. Greater the forces between particle, shorter will the time period of the particles hence wave will move faster under high tension.</td>\n",
       "      <td>0.0</td>\n",
       "      <td>0.988963</td>\n",
       "      <td>0.0</td>\n",
       "      <td>0.0</td>\n",
       "      <td>0.0</td>\n",
       "      <td>0.0</td>\n",
       "    </tr>\n",
       "    <tr>\n",
       "      <th>61</th>\n",
       "      <td>When we pull the string in the outward direction we are pulling the particles away from each other and this will increase the ability of a particle to pull its neighbor particle. As we all know that due to high pulling force we will have high tension force in the string/body. So, due to high attraction or restraining force particle will complete its motion about its mean position in shorter time. Thus increasing the rate of flow of energy and that is also known as the velocity of the wave. Greater the forces between particle, shorter will the time period of the particles hence wave will move faster under high tension.</td>\n",
       "      <td>0.0</td>\n",
       "      <td>0.988963</td>\n",
       "      <td>0.0</td>\n",
       "      <td>0.0</td>\n",
       "      <td>0.0</td>\n",
       "      <td>0.0</td>\n",
       "    </tr>\n",
       "    <tr>\n",
       "      <th>207</th>\n",
       "      <td>When we pull the string in the outward direction we are pulling the particles away from each other and this will increase the ability of a particle to pull its neighbor particle. As we all know that due to high pulling force we will have high tension force in the string/body. So, due to high attraction or restraining force particle will complete its motion about its mean position in shorter time. Thus increasing the rate of flow of energy and that is also known as the velocity of the wave. Greater the forces between particle, shorter will the time period of the particles hence wave will move faster under high tension.</td>\n",
       "      <td>0.0</td>\n",
       "      <td>0.988963</td>\n",
       "      <td>0.0</td>\n",
       "      <td>0.0</td>\n",
       "      <td>0.0</td>\n",
       "      <td>0.0</td>\n",
       "    </tr>\n",
       "    <tr>\n",
       "      <th>160</th>\n",
       "      <td>When the string is pulled, the particles move away from each other and this will increase the ability of a particle to pull its neighbor particle. If we pull the rope, there will be high tension in the rope. So, due to high attraction or restraining force particle will complete its motion about its mean position in shorter time. Thus increasing the rate of flow of energy and that is also known as the velocity of the wave. Greater the forces between particle, shorter will the time period of the particles hence wave will move faster under high tension.</td>\n",
       "      <td>0.0</td>\n",
       "      <td>0.987796</td>\n",
       "      <td>0.0</td>\n",
       "      <td>0.0</td>\n",
       "      <td>0.0</td>\n",
       "      <td>0.0</td>\n",
       "    </tr>\n",
       "  </tbody>\n",
       "</table>"
      ],
      "text/plain": [
       "<IPython.core.display.HTML object>"
      ]
     },
     "metadata": {},
     "output_type": "display_data"
    },
    {
     "name": "stdout",
     "output_type": "stream",
     "text": [
      "\n",
      "\n",
      "\n",
      "Topic 2: 0.063*\"great\" + 0.049*\"move\" + 0.040*\"rope\" + 0.039*\"medium\" + 0.032*\"molecule\" + 0.031*\"restore_force\" + 0.025*\"pull\" + 0.024*\"mean\" + 0.023*\"equilibrium\" + 0.021*\"material\"\n"
     ]
    },
    {
     "data": {
      "text/html": [
       "<table border=\"1\" class=\"dataframe\">\n",
       "  <thead>\n",
       "    <tr style=\"text-align: right;\">\n",
       "      <th></th>\n",
       "      <th>resp</th>\n",
       "      <th>0</th>\n",
       "      <th>1</th>\n",
       "      <th>2</th>\n",
       "      <th>3</th>\n",
       "      <th>4</th>\n",
       "      <th>5</th>\n",
       "    </tr>\n",
       "  </thead>\n",
       "  <tbody>\n",
       "    <tr>\n",
       "      <th>42</th>\n",
       "      <td>The tighter the string the less time it takes for a pulse to reach the end of the string. My intuition says that since one is pulling the string, one is causing the string to slightly decrease in thickness due to the stretch of the rope. This causes the rope to have less weight per unit. This allows for the wave to travel faster since the wave only moves smaller units of mass than it did when it was loose.</td>\n",
       "      <td>0.0</td>\n",
       "      <td>0.0</td>\n",
       "      <td>0.986044</td>\n",
       "      <td>0.0</td>\n",
       "      <td>0.0</td>\n",
       "      <td>0.0</td>\n",
       "    </tr>\n",
       "    <tr>\n",
       "      <th>220</th>\n",
       "      <td>from the formula v = sqrt(T/mue) T is tension, v is directly proportional to tension and inversely proportional to the linear mass density so when we increase the tension of the string then the speed should increase as well. I always think of a slinky and how when it is stretched out far the transverse wave travels to the other end faster than when it doesn't have as much tension. One explanation for this that I read is the molecules are more dispersed with more tension and they want to get back to equilibrium faster so they snap back into place faster which pushes the energy throuhg the medium faster...essentially increasing the speed of the wave</td>\n",
       "      <td>0.0</td>\n",
       "      <td>0.0</td>\n",
       "      <td>0.986043</td>\n",
       "      <td>0.0</td>\n",
       "      <td>0.0</td>\n",
       "      <td>0.0</td>\n",
       "    </tr>\n",
       "    <tr>\n",
       "      <th>243</th>\n",
       "      <td>I think the wave moves faster because it takes more force to make the amplitude high in a tense rope, meaning that the tense rope pulls forces in the horizontal direction, making the wave move faster on that direction, rather than making the amplitude higher.</td>\n",
       "      <td>0.0</td>\n",
       "      <td>0.0</td>\n",
       "      <td>0.981786</td>\n",
       "      <td>0.0</td>\n",
       "      <td>0.0</td>\n",
       "      <td>0.0</td>\n",
       "    </tr>\n",
       "    <tr>\n",
       "      <th>31</th>\n",
       "      <td>The pulse moves faster in scenario 2 because when taut, the string is more resistant to moving, so the wave travels faster so the string can go to equilibrium again. In scenario 1, the string isn't as resistant, so the velocity is more and the wave takes its time moving along the string because it doesn't have as much force pushing it back to equilibrium.</td>\n",
       "      <td>0.0</td>\n",
       "      <td>0.0</td>\n",
       "      <td>0.975910</td>\n",
       "      <td>0.0</td>\n",
       "      <td>0.0</td>\n",
       "      <td>0.0</td>\n",
       "    </tr>\n",
       "    <tr>\n",
       "      <th>290</th>\n",
       "      <td>by applying tension, the length of the rope changes and distance needed to be traveled changes, so in order to take the same amount of time to reach the end, the rope with more tension has to have a faster pulse.</td>\n",
       "      <td>0.0</td>\n",
       "      <td>0.0</td>\n",
       "      <td>0.975908</td>\n",
       "      <td>0.0</td>\n",
       "      <td>0.0</td>\n",
       "      <td>0.0</td>\n",
       "    </tr>\n",
       "  </tbody>\n",
       "</table>"
      ],
      "text/plain": [
       "<IPython.core.display.HTML object>"
      ]
     },
     "metadata": {},
     "output_type": "display_data"
    },
    {
     "name": "stdout",
     "output_type": "stream",
     "text": [
      "\n",
      "\n",
      "\n",
      "Topic 3: 0.044*\"equilibrium\" + 0.041*\"pull\" + 0.033*\"return\" + 0.031*\"tighter\" + 0.031*\"scenario\" + 0.028*\"position\" + 0.025*\"quickly\" + 0.024*\"time\" + 0.024*\"distance\" + 0.024*\"quicker\"\n"
     ]
    },
    {
     "data": {
      "text/html": [
       "<table border=\"1\" class=\"dataframe\">\n",
       "  <thead>\n",
       "    <tr style=\"text-align: right;\">\n",
       "      <th></th>\n",
       "      <th>resp</th>\n",
       "      <th>0</th>\n",
       "      <th>1</th>\n",
       "      <th>2</th>\n",
       "      <th>3</th>\n",
       "      <th>4</th>\n",
       "      <th>5</th>\n",
       "    </tr>\n",
       "  </thead>\n",
       "  <tbody>\n",
       "    <tr>\n",
       "      <th>264</th>\n",
       "      <td>Without using any equations just intuition, i would say: the more tension means each small unit of the spring can communicate the movement to the next small unit of spring quicker. Kind of like if I had a line of bowling balls and I rolled one into the beginning one, the distance between each subsequent ball will need to be traversed for each initial ball to 'communicate' its movement to the next. So the smaller that distance the faster the message gets across and with a tight spring those 'bowling balls' are close together. And this extra distance in the spring is the 'slack' thats created from lack of tension.</td>\n",
       "      <td>0.0</td>\n",
       "      <td>0.0</td>\n",
       "      <td>0.0</td>\n",
       "      <td>0.985971</td>\n",
       "      <td>0.0</td>\n",
       "      <td>0.0</td>\n",
       "    </tr>\n",
       "    <tr>\n",
       "      <th>25</th>\n",
       "      <td>This is something that's so intuitive it's hard to explain it.  I used to take the kitchen phone handset, pull it really far from the base, and send waves down it.  I would do experiments pulling it different tensions and sending waves down.  I guess when it's tighter, a string or a spring tries harder to return to its equilibrium position because each atom pulls harder on its neighbor, over to where it's attached.  So in the quest to return to equilibrium, it sends the wave faster.</td>\n",
       "      <td>0.0</td>\n",
       "      <td>0.0</td>\n",
       "      <td>0.0</td>\n",
       "      <td>0.983078</td>\n",
       "      <td>0.0</td>\n",
       "      <td>0.0</td>\n",
       "    </tr>\n",
       "    <tr>\n",
       "      <th>222</th>\n",
       "      <td>The higher tension in the string results in a larger restoring forces which means that there is a larger acceleration for the string to return to its equilibrium position.  The larger acceleration means the displacement will return to equilibrium faster.</td>\n",
       "      <td>0.0</td>\n",
       "      <td>0.0</td>\n",
       "      <td>0.0</td>\n",
       "      <td>0.978679</td>\n",
       "      <td>0.0</td>\n",
       "      <td>0.0</td>\n",
       "    </tr>\n",
       "    <tr>\n",
       "      <th>267</th>\n",
       "      <td>The speed at which a mechanical wave propagates through a medium has to do with how quickly the medium reverts back to its equilibrium position after being disturbed. The faster the medium snaps back, the faster the wave can move through it. Thus if the string is tighter, it is going to want to come back to its original position more than if it was loose, therefore tension will increase the pulse.</td>\n",
       "      <td>0.0</td>\n",
       "      <td>0.0</td>\n",
       "      <td>0.0</td>\n",
       "      <td>0.978679</td>\n",
       "      <td>0.0</td>\n",
       "      <td>0.0</td>\n",
       "    </tr>\n",
       "    <tr>\n",
       "      <th>173</th>\n",
       "      <td>Since there is more slack in the spring in scenario 1, there is more extra or unnecessary movement, but when the spring is pulled taut in scenario 2, there isn't really any extra movement, so the pulse moves from point A to point B much faster.</td>\n",
       "      <td>0.0</td>\n",
       "      <td>0.0</td>\n",
       "      <td>0.0</td>\n",
       "      <td>0.975498</td>\n",
       "      <td>0.0</td>\n",
       "      <td>0.0</td>\n",
       "    </tr>\n",
       "  </tbody>\n",
       "</table>"
      ],
      "text/plain": [
       "<IPython.core.display.HTML object>"
      ]
     },
     "metadata": {},
     "output_type": "display_data"
    },
    {
     "name": "stdout",
     "output_type": "stream",
     "text": [
      "\n",
      "\n",
      "\n",
      "Topic 4: 0.148*\"length\" + 0.093*\"wire\" + 0.061*\"molecule\" + 0.045*\"mu\" + 0.045*\"tend_decrease\" + 0.042*\"equation\" + 0.042*\"density\" + 0.034*\"decrease\" + 0.032*\"ultimately\" + 0.032*\"tend\"\n"
     ]
    },
    {
     "data": {
      "text/html": [
       "<table border=\"1\" class=\"dataframe\">\n",
       "  <thead>\n",
       "    <tr style=\"text-align: right;\">\n",
       "      <th></th>\n",
       "      <th>resp</th>\n",
       "      <th>0</th>\n",
       "      <th>1</th>\n",
       "      <th>2</th>\n",
       "      <th>3</th>\n",
       "      <th>4</th>\n",
       "      <th>5</th>\n",
       "    </tr>\n",
       "  </thead>\n",
       "  <tbody>\n",
       "    <tr>\n",
       "      <th>313</th>\n",
       "      <td>\\sqrt{T/\\mu } =The speed in a wire constrained with a tension T. Now if you increase the tension ultimately you tend to increase the length of the wire by a small amount. Now the no. of molecules inside the wire remains constant, When the wire length was not increased the molecule was spread in that particular length but as we increase the length the amount of molecules in the same unit length tend to decrease so the density tend to decrease ultimately. Now from the equation the tension tends to increase and mu tend to decrease, so the velocity overall tend to increase.</td>\n",
       "      <td>0.0</td>\n",
       "      <td>0.0</td>\n",
       "      <td>0.0</td>\n",
       "      <td>0.0</td>\n",
       "      <td>0.990055</td>\n",
       "      <td>0.0</td>\n",
       "    </tr>\n",
       "    <tr>\n",
       "      <th>101</th>\n",
       "      <td>The speed in a wire constrained with a tension T. Now if you increase the tension ultimately you tend to increase the length of the wire by a small amount. Now the no. of molecules inside the wire remains constant, When the wire length was not increased the molecule was spread in that particular length but as we increase the length a number of molecules in the same unit length tend to decrease so the density tend to decrease ultimately. Now from the equation the tension tends to increase and mu tend to decrease, so the velocity overall tend to increase.</td>\n",
       "      <td>0.0</td>\n",
       "      <td>0.0</td>\n",
       "      <td>0.0</td>\n",
       "      <td>0.0</td>\n",
       "      <td>0.989757</td>\n",
       "      <td>0.0</td>\n",
       "    </tr>\n",
       "    <tr>\n",
       "      <th>24</th>\n",
       "      <td>The speed in a wire constrained with a tension T. Now if you increase the tension ultimately you tend to increase the length of the wire by a small amount. Now the no. of molecules inside the wire remains constant, When the wire length was not increased the molecule was spread in that particular length but as we increase the length the amount of molecules in the same unit length tend to decrease so the density tend to decrease ultimately. Now from the equation the tension tends to increase and mu tend to decrease, so the velocity overall tend to increase.</td>\n",
       "      <td>0.0</td>\n",
       "      <td>0.0</td>\n",
       "      <td>0.0</td>\n",
       "      <td>0.0</td>\n",
       "      <td>0.989441</td>\n",
       "      <td>0.0</td>\n",
       "    </tr>\n",
       "    <tr>\n",
       "      <th>167</th>\n",
       "      <td>The speed in a wire constrained with a tension T. Now if you increase the tension ultimately you tend to increase the length of the wire by a small amount. Now the no. of molecules inside the wire remains constant, When the wire length was not increased the molecule was spread in that particular length but as we increase the length the amount of molecules in the same unit length tend to decrease so the density tend to decrease ultimately. Now from the equation the tension tends to increase and mu tend to decrease, so the velocity overall tend to increase.</td>\n",
       "      <td>0.0</td>\n",
       "      <td>0.0</td>\n",
       "      <td>0.0</td>\n",
       "      <td>0.0</td>\n",
       "      <td>0.989441</td>\n",
       "      <td>0.0</td>\n",
       "    </tr>\n",
       "    <tr>\n",
       "      <th>235</th>\n",
       "      <td>The speed in a wire constrained with a tension T. Now if you increase the tension ultimately you tend to increase the length of the wire by a small amount. Now the no. of molecules inside the wire remains constant, When the wire length was not increased the molecule was spread in that particular length but as we increase the length the amount of molecules in the same unit length tend to decrease so the density tend to decrease ultimately. Now from the equation the tension tends to increase and mu tend to decrease, so the velocity overall tend to increase.</td>\n",
       "      <td>0.0</td>\n",
       "      <td>0.0</td>\n",
       "      <td>0.0</td>\n",
       "      <td>0.0</td>\n",
       "      <td>0.989441</td>\n",
       "      <td>0.0</td>\n",
       "    </tr>\n",
       "  </tbody>\n",
       "</table>"
      ],
      "text/plain": [
       "<IPython.core.display.HTML object>"
      ]
     },
     "metadata": {},
     "output_type": "display_data"
    },
    {
     "name": "stdout",
     "output_type": "stream",
     "text": [
      "\n",
      "\n",
      "\n",
      "Topic 5: 0.063*\"medium\" + 0.054*\"change\" + 0.052*\"energy\" + 0.051*\"frequency\" + 0.048*\"rope\" + 0.035*\"sense\" + 0.035*\"large\" + 0.033*\"amplitude\" + 0.030*\"nan\" + 0.028*\"wavelength\"\n"
     ]
    },
    {
     "data": {
      "text/html": [
       "<table border=\"1\" class=\"dataframe\">\n",
       "  <thead>\n",
       "    <tr style=\"text-align: right;\">\n",
       "      <th></th>\n",
       "      <th>resp</th>\n",
       "      <th>0</th>\n",
       "      <th>1</th>\n",
       "      <th>2</th>\n",
       "      <th>3</th>\n",
       "      <th>4</th>\n",
       "      <th>5</th>\n",
       "    </tr>\n",
       "  </thead>\n",
       "  <tbody>\n",
       "    <tr>\n",
       "      <th>310</th>\n",
       "      <td>I would say that when there is a greater tension in the rope, its much more difficult to deform the rope. its a lot easier to make a wave shape in the rope when its loose than when its tight, just like its easy to coil a rope when its loose and almost impossible when its under tension. This means that when the wave is created, it is forced to travel faster by the medium. Of course the wave cant just create more energy from nothing, so its properties are altered in response to the medium.</td>\n",
       "      <td>0.0</td>\n",
       "      <td>0.0</td>\n",
       "      <td>0.0</td>\n",
       "      <td>0.0</td>\n",
       "      <td>0.0</td>\n",
       "      <td>0.985364</td>\n",
       "    </tr>\n",
       "    <tr>\n",
       "      <th>219</th>\n",
       "      <td>So from the equation velocity=wavelength * frequency, the wavelength stayed the same. However, the frequency changed (making it higher) causing the velocity to increase. I relate this to a guitar. When an open string is plucked, theres a specific wavelength and frequency. When I pluck with the same intensity and same string but placing my finger higher up on the neck, the wavelength doesn't change, but the frequency does. I can verify that, because the frequency is related to pitch, and when a string is plucked higher up the neck, the pitch becomes higher.</td>\n",
       "      <td>0.0</td>\n",
       "      <td>0.0</td>\n",
       "      <td>0.0</td>\n",
       "      <td>0.0</td>\n",
       "      <td>0.0</td>\n",
       "      <td>0.984610</td>\n",
       "    </tr>\n",
       "    <tr>\n",
       "      <th>11</th>\n",
       "      <td>It would make sense for a spring to travel faster when there is a larger tension force because energy is transferred quicker through a tighter medium . A larger tension provides a medium that allows energy to pass through it faster. I believe that on a spring with a larger tension, more energy is transferred horizontally rather than vertically as amplitude.</td>\n",
       "      <td>0.0</td>\n",
       "      <td>0.0</td>\n",
       "      <td>0.0</td>\n",
       "      <td>0.0</td>\n",
       "      <td>0.0</td>\n",
       "      <td>0.982840</td>\n",
       "    </tr>\n",
       "    <tr>\n",
       "      <th>285</th>\n",
       "      <td>The pulse moves faster on the higher tension ropes because the higher tension causes the rope to have a larger wavelength and a larger frequency. The less taught rope has a smaller wavelength and a smaller frequency. V= (wavelength)(f)</td>\n",
       "      <td>0.0</td>\n",
       "      <td>0.0</td>\n",
       "      <td>0.0</td>\n",
       "      <td>0.0</td>\n",
       "      <td>0.0</td>\n",
       "      <td>0.980611</td>\n",
       "    </tr>\n",
       "    <tr>\n",
       "      <th>130</th>\n",
       "      <td>When the tension is bigger, the amplitude of the wave is not as large as the less taught rope, which means the rope does not displace the medium as much as much as the first rope. With less displacement of the medium that the string is in, the wave is allowed to move faster through the air or water or whatever it is traveling through.</td>\n",
       "      <td>0.0</td>\n",
       "      <td>0.0</td>\n",
       "      <td>0.0</td>\n",
       "      <td>0.0</td>\n",
       "      <td>0.0</td>\n",
       "      <td>0.977714</td>\n",
       "    </tr>\n",
       "  </tbody>\n",
       "</table>"
      ],
      "text/plain": [
       "<IPython.core.display.HTML object>"
      ]
     },
     "metadata": {},
     "output_type": "display_data"
    },
    {
     "name": "stdout",
     "output_type": "stream",
     "text": [
      "\n",
      "\n",
      "\n"
     ]
    }
   ],
   "source": [
    "display_n_responses(df, num_responses_displayed, model, corpus, bow)"
   ]
  },
  {
   "cell_type": "markdown",
   "metadata": {},
   "source": [
    "Potential Ideas from LDA: \n",
    "\n",
    "0. \n",
    "1. (repeated response)\n",
    "2. \n",
    "3. \n",
    "4. (repeated response)\n",
    "5. \n",
    "6. "
   ]
  },
  {
   "cell_type": "code",
   "execution_count": null,
   "metadata": {},
   "outputs": [],
   "source": []
  }
 ],
 "metadata": {
  "interpreter": {
   "hash": "b1387b5b854ca26737d2f7e25194acc64b4eb89730b66cdda8ec7b69c06b90e6"
  },
  "kernelspec": {
   "display_name": "Python [conda env:.conda-LDA]",
   "language": "python",
   "name": "conda-env-.conda-LDA-py"
  },
  "language_info": {
   "codemirror_mode": {
    "name": "ipython",
    "version": 3
   },
   "file_extension": ".py",
   "mimetype": "text/x-python",
   "name": "python",
   "nbconvert_exporter": "python",
   "pygments_lexer": "ipython3",
   "version": "3.9.7"
  }
 },
 "nbformat": 4,
 "nbformat_minor": 2
}
